{
 "cells": [
  {
   "cell_type": "markdown",
   "id": "354e0ce9",
   "metadata": {},
   "source": [
    "# Task I"
   ]
  },
  {
   "cell_type": "code",
   "execution_count": 1,
   "id": "27151333",
   "metadata": {},
   "outputs": [
    {
     "name": "stdout",
     "output_type": "stream",
     "text": [
      "22/11/29 02:38:39 WARN SparkSession: Using an existing Spark session; only runtime SQL configurations will take effect.\n",
      "APP Name :PySparkShell\n",
      "Master :local[*]\n"
     ]
    }
   ],
   "source": [
    "# Creating the Spark Session\n",
    "import pyspark\n",
    "from pyspark import SparkContext, SparkConf, SQLContext\n",
    "from pyspark.sql import SparkSession\n",
    "\n",
    "\n",
    "spark = SparkSession.builder \\\n",
    "    .master(\"local[*]\") \\\n",
    "    .appName(\"GenericAppName\") \\\n",
    "    .getOrCreate()\n",
    "\n",
    "#Access SparkContext from your SparkSession\n",
    "print(\"APP Name :\"+ spark.sparkContext.appName);\n",
    "print(\"Master :\"+ spark.sparkContext.master);"
   ]
  },
  {
   "cell_type": "markdown",
   "id": "6120750b",
   "metadata": {},
   "source": [
    "This loads the data from all the files into one spark dataframe"
   ]
  },
  {
   "cell_type": "code",
   "execution_count": 2,
   "id": "c828e8bf",
   "metadata": {},
   "outputs": [],
   "source": [
    "from pyspark.sql.functions import *\n",
    "from pyspark.sql.types import *\n",
    "# These are all the databases per year we will analyze.\n",
    "files = [\"players_15\", \"players_16\", \"players_17\", \"players_18\",\n",
    "         \"players_19\", \"players_20\", \"players_21\", \"players_22\"]\n",
    "\"dataproc-staging-us-east1-358350887320-z748jysx/archive\"\n",
    "# Reading the .csv files and adding year column for each corresponding database year.\n",
    "df = spark.read.csv(\"./archive/\"+files[0]+\".csv\", header=True, inferSchema= True).withColumn(\"year\", lit(2015))\n",
    "for i in range(1,len(files)):\n",
    "    df = df.union(spark.read.csv(\"./archive/\"+files[i]+\".csv\", header=True, inferSchema= True).withColumn(\"year\", lit(2015+i)))\n",
    "\n",
    "# Adding id column with unique id for every entry. \n",
    "# This makes it so the dataframe has only one partition, added to avoid very large numbers for the ids.\n",
    "df = df.coalesce(1) \n",
    "df = df.withColumn(\"id\", monotonically_increasing_id())\n",
    "\n",
    "# I decided to add the columns before ingesting into postgres so they algo get ingested."
   ]
  },
  {
   "cell_type": "markdown",
   "id": "f3296e1d",
   "metadata": {},
   "source": [
    "The dataframe is ingested into postgres and then read back to spark in the next cell"
   ]
  },
  {
   "cell_type": "code",
   "execution_count": 3,
   "id": "ff372276",
   "metadata": {},
   "outputs": [
    {
     "name": "stdout",
     "output_type": "stream",
     "text": [
      "22/11/29 02:38:45 WARN package: Truncated the string representation of a plan since it was too large. This behavior can be adjusted by setting 'spark.sql.debug.maxToStringFields'.\n"
     ]
    },
    {
     "name": "stderr",
     "output_type": "stream",
     "text": [
      "                                                                                \r"
     ]
    }
   ],
   "source": [
    "db_properties={}\n",
    "#update your db username\n",
    "db_properties['username']=\"postgres\"\n",
    "#update your db password\n",
    "db_properties['password']=\"bigdata\"\n",
    "#make sure you got the right port number here\n",
    "db_properties['url']= \"jdbc:postgresql://localhost:5432/postgres\"\n",
    "#make sure you had the Postgres JAR file in the right location\n",
    "db_properties['driver']=\"org.postgresql.Driver\"\n",
    "# Using table in fifa schema.\n",
    "db_properties['table']= \"fifa.Players\"\n",
    "\n",
    "# Data ingestion into postgres table\n",
    "df.write.format(\"jdbc\")\\\n",
    ".mode(\"overwrite\")\\\n",
    ".option(\"url\", db_properties['url'])\\\n",
    ".option(\"dbtable\", db_properties['table'])\\\n",
    ".option(\"user\", db_properties['username'])\\\n",
    ".option(\"password\", db_properties['password'])\\\n",
    ".option(\"Driver\", db_properties['driver'])\\\n",
    ".save()\n"
   ]
  },
  {
   "cell_type": "code",
   "execution_count": 4,
   "id": "17992127",
   "metadata": {},
   "outputs": [],
   "source": [
    "# Reading database back from postgres.\n",
    "df_read = sqlContext.read.format(\"jdbc\")\\\n",
    "    .option(\"url\", db_properties['url'])\\\n",
    "    .option(\"dbtable\", db_properties['table'])\\\n",
    "    .option(\"user\", db_properties['username'])\\\n",
    "    .option(\"password\", db_properties['password'])\\\n",
    "    .option(\"Driver\", db_properties['driver'])\\\n",
    "    .load()\n"
   ]
  },
  {
   "cell_type": "markdown",
   "id": "81c21eb9",
   "metadata": {},
   "source": [
    "Checking the table schema and looking at the id to make sure it is unique "
   ]
  },
  {
   "cell_type": "code",
   "execution_count": 5,
   "id": "fab5019e",
   "metadata": {},
   "outputs": [
    {
     "name": "stdout",
     "output_type": "stream",
     "text": [
      "root\n",
      " |-- sofifa_id: integer (nullable = true)\n",
      " |-- player_url: string (nullable = true)\n",
      " |-- short_name: string (nullable = true)\n",
      " |-- long_name: string (nullable = true)\n",
      " |-- player_positions: string (nullable = true)\n",
      " |-- overall: integer (nullable = true)\n",
      " |-- potential: integer (nullable = true)\n",
      " |-- value_eur: double (nullable = true)\n",
      " |-- wage_eur: double (nullable = true)\n",
      " |-- age: integer (nullable = true)\n",
      " |-- dob: timestamp (nullable = true)\n",
      " |-- height_cm: integer (nullable = true)\n",
      " |-- weight_kg: integer (nullable = true)\n",
      " |-- club_team_id: double (nullable = true)\n",
      " |-- club_name: string (nullable = true)\n",
      " |-- league_name: string (nullable = true)\n",
      " |-- league_level: integer (nullable = true)\n",
      " |-- club_position: string (nullable = true)\n",
      " |-- club_jersey_number: integer (nullable = true)\n",
      " |-- club_loaned_from: string (nullable = true)\n",
      " |-- club_joined: timestamp (nullable = true)\n",
      " |-- club_contract_valid_until: integer (nullable = true)\n",
      " |-- nationality_id: integer (nullable = true)\n",
      " |-- nationality_name: string (nullable = true)\n",
      " |-- nation_team_id: double (nullable = true)\n",
      " |-- nation_position: string (nullable = true)\n",
      " |-- nation_jersey_number: integer (nullable = true)\n",
      " |-- preferred_foot: string (nullable = true)\n",
      " |-- weak_foot: integer (nullable = true)\n",
      " |-- skill_moves: integer (nullable = true)\n",
      " |-- international_reputation: integer (nullable = true)\n",
      " |-- work_rate: string (nullable = true)\n",
      " |-- body_type: string (nullable = true)\n",
      " |-- real_face: string (nullable = true)\n",
      " |-- release_clause_eur: string (nullable = true)\n",
      " |-- player_tags: string (nullable = true)\n",
      " |-- player_traits: string (nullable = true)\n",
      " |-- pace: integer (nullable = true)\n",
      " |-- shooting: integer (nullable = true)\n",
      " |-- passing: integer (nullable = true)\n",
      " |-- dribbling: integer (nullable = true)\n",
      " |-- defending: integer (nullable = true)\n",
      " |-- physic: integer (nullable = true)\n",
      " |-- attacking_crossing: integer (nullable = true)\n",
      " |-- attacking_finishing: integer (nullable = true)\n",
      " |-- attacking_heading_accuracy: integer (nullable = true)\n",
      " |-- attacking_short_passing: integer (nullable = true)\n",
      " |-- attacking_volleys: integer (nullable = true)\n",
      " |-- skill_dribbling: integer (nullable = true)\n",
      " |-- skill_curve: integer (nullable = true)\n",
      " |-- skill_fk_accuracy: integer (nullable = true)\n",
      " |-- skill_long_passing: integer (nullable = true)\n",
      " |-- skill_ball_control: integer (nullable = true)\n",
      " |-- movement_acceleration: integer (nullable = true)\n",
      " |-- movement_sprint_speed: integer (nullable = true)\n",
      " |-- movement_agility: integer (nullable = true)\n",
      " |-- movement_reactions: integer (nullable = true)\n",
      " |-- movement_balance: integer (nullable = true)\n",
      " |-- power_shot_power: integer (nullable = true)\n",
      " |-- power_jumping: integer (nullable = true)\n",
      " |-- power_stamina: integer (nullable = true)\n",
      " |-- power_strength: integer (nullable = true)\n",
      " |-- power_long_shots: integer (nullable = true)\n",
      " |-- mentality_aggression: integer (nullable = true)\n",
      " |-- mentality_interceptions: integer (nullable = true)\n",
      " |-- mentality_positioning: integer (nullable = true)\n",
      " |-- mentality_vision: integer (nullable = true)\n",
      " |-- mentality_penalties: integer (nullable = true)\n",
      " |-- mentality_composure: string (nullable = true)\n",
      " |-- defending_marking_awareness: integer (nullable = true)\n",
      " |-- defending_standing_tackle: integer (nullable = true)\n",
      " |-- defending_sliding_tackle: integer (nullable = true)\n",
      " |-- goalkeeping_diving: integer (nullable = true)\n",
      " |-- goalkeeping_handling: integer (nullable = true)\n",
      " |-- goalkeeping_kicking: integer (nullable = true)\n",
      " |-- goalkeeping_positioning: integer (nullable = true)\n",
      " |-- goalkeeping_reflexes: integer (nullable = true)\n",
      " |-- goalkeeping_speed: integer (nullable = true)\n",
      " |-- ls: string (nullable = true)\n",
      " |-- st: string (nullable = true)\n",
      " |-- rs: string (nullable = true)\n",
      " |-- lw: string (nullable = true)\n",
      " |-- lf: string (nullable = true)\n",
      " |-- cf: string (nullable = true)\n",
      " |-- rf: string (nullable = true)\n",
      " |-- rw: string (nullable = true)\n",
      " |-- lam: string (nullable = true)\n",
      " |-- cam: string (nullable = true)\n",
      " |-- ram: string (nullable = true)\n",
      " |-- lm: string (nullable = true)\n",
      " |-- lcm: string (nullable = true)\n",
      " |-- cm: string (nullable = true)\n",
      " |-- rcm: string (nullable = true)\n",
      " |-- rm: string (nullable = true)\n",
      " |-- lwb: string (nullable = true)\n",
      " |-- ldm: string (nullable = true)\n",
      " |-- cdm: string (nullable = true)\n",
      " |-- rdm: string (nullable = true)\n",
      " |-- rwb: string (nullable = true)\n",
      " |-- lb: string (nullable = true)\n",
      " |-- lcb: string (nullable = true)\n",
      " |-- cb: string (nullable = true)\n",
      " |-- rcb: string (nullable = true)\n",
      " |-- rb: string (nullable = true)\n",
      " |-- gk: string (nullable = true)\n",
      " |-- player_face_url: string (nullable = true)\n",
      " |-- club_logo_url: string (nullable = true)\n",
      " |-- club_flag_url: string (nullable = true)\n",
      " |-- nation_logo_url: string (nullable = true)\n",
      " |-- nation_flag_url: string (nullable = true)\n",
      " |-- year: integer (nullable = true)\n",
      " |-- id: long (nullable = true)\n",
      "\n"
     ]
    }
   ],
   "source": [
    "# Table schema\n",
    "df_read.printSchema()"
   ]
  },
  {
   "cell_type": "code",
   "execution_count": 6,
   "id": "3fa4485d",
   "metadata": {},
   "outputs": [
    {
     "name": "stdout",
     "output_type": "stream",
     "text": [
      "142079\n",
      "142079\n"
     ]
    }
   ],
   "source": [
    "# Shows id column has unique values.\n",
    "print(df_read.count())\n",
    "print(df_read.select('id').distinct().count())"
   ]
  },
  {
   "cell_type": "code",
   "execution_count": 7,
   "id": "fb5ad467",
   "metadata": {
    "scrolled": true
   },
   "outputs": [
    {
     "name": "stderr",
     "output_type": "stream",
     "text": [
      "\r",
      "[Stage 26:>                                                         (0 + 1) / 1]\r"
     ]
    },
    {
     "name": "stdout",
     "output_type": "stream",
     "text": [
      "-RECORD 0-------------------------------------------\n",
      " sofifa_id                   | 158023               \n",
      " player_url                  | https://sofifa.co... \n",
      " short_name                  | L. Messi             \n",
      " long_name                   | Lionel Andrés Mes... \n",
      " player_positions            | CF                   \n",
      " overall                     | 93                   \n",
      " potential                   | 95                   \n",
      " value_eur                   | 1.005E8              \n",
      " wage_eur                    | 550000.0             \n",
      " age                         | 27                   \n",
      " dob                         | 1987-06-24 00:00:00  \n",
      " height_cm                   | 169                  \n",
      " weight_kg                   | 67                   \n",
      " club_team_id                | 241.0                \n",
      " club_name                   | FC Barcelona         \n",
      " league_name                 | Spain Primera Div... \n",
      " league_level                | 1                    \n",
      " club_position               | CF                   \n",
      " club_jersey_number          | 10                   \n",
      " club_loaned_from            | null                 \n",
      " club_joined                 | 2004-07-01 00:00:00  \n",
      " club_contract_valid_until   | 2018                 \n",
      " nationality_id              | 52                   \n",
      " nationality_name            | Argentina            \n",
      " nation_team_id              | 1369.0               \n",
      " nation_position             | CF                   \n",
      " nation_jersey_number        | 10                   \n",
      " preferred_foot              | Left                 \n",
      " weak_foot                   | 3                    \n",
      " skill_moves                 | 4                    \n",
      " international_reputation    | 5                    \n",
      " work_rate                   | Medium/Low           \n",
      " body_type                   | Normal (170-)        \n",
      " real_face                   | Yes                  \n",
      " release_clause_eur          | null                 \n",
      " player_tags                 | #Speedster, #Drib... \n",
      " player_traits               | Finesse Shot, Spe... \n",
      " pace                        | 93                   \n",
      " shooting                    | 89                   \n",
      " passing                     | 86                   \n",
      " dribbling                   | 96                   \n",
      " defending                   | 27                   \n",
      " physic                      | 63                   \n",
      " attacking_crossing          | 84                   \n",
      " attacking_finishing         | 94                   \n",
      " attacking_heading_accuracy  | 71                   \n",
      " attacking_short_passing     | 89                   \n",
      " attacking_volleys           | 85                   \n",
      " skill_dribbling             | 96                   \n",
      " skill_curve                 | 89                   \n",
      " skill_fk_accuracy           | 90                   \n",
      " skill_long_passing          | 76                   \n",
      " skill_ball_control          | 96                   \n",
      " movement_acceleration       | 96                   \n",
      " movement_sprint_speed       | 90                   \n",
      " movement_agility            | 94                   \n",
      " movement_reactions          | 94                   \n",
      " movement_balance            | 95                   \n",
      " power_shot_power            | 80                   \n",
      " power_jumping               | 73                   \n",
      " power_stamina               | 77                   \n",
      " power_strength              | 60                   \n",
      " power_long_shots            | 88                   \n",
      " mentality_aggression        | 48                   \n",
      " mentality_interceptions     | 22                   \n",
      " mentality_positioning       | 92                   \n",
      " mentality_vision            | 90                   \n",
      " mentality_penalties         | 76                   \n",
      " mentality_composure         | null                 \n",
      " defending_marking_awareness | 25                   \n",
      " defending_standing_tackle   | 21                   \n",
      " defending_sliding_tackle    | 20                   \n",
      " goalkeeping_diving          | 6                    \n",
      " goalkeeping_handling        | 11                   \n",
      " goalkeeping_kicking         | 15                   \n",
      " goalkeeping_positioning     | 14                   \n",
      " goalkeeping_reflexes        | 8                    \n",
      " goalkeeping_speed           | null                 \n",
      " ls                          | 89+3                 \n",
      " st                          | 89+3                 \n",
      " rs                          | 89+3                 \n",
      " lw                          | 92+3                 \n",
      " lf                          | 90+3                 \n",
      " cf                          | 90+3                 \n",
      " rf                          | 90+3                 \n",
      " rw                          | 92+3                 \n",
      " lam                         | 92+3                 \n",
      " cam                         | 92+3                 \n",
      " ram                         | 92+3                 \n",
      " lm                          | 90+3                 \n",
      " lcm                         | 79+3                 \n",
      " cm                          | 79+3                 \n",
      " rcm                         | 79+3                 \n",
      " rm                          | 90+3                 \n",
      " lwb                         | 62+3                 \n",
      " ldm                         | 62+3                 \n",
      " cdm                         | 62+3                 \n",
      " rdm                         | 62+3                 \n",
      " rwb                         | 62+3                 \n",
      " lb                          | 54+3                 \n",
      " lcb                         | 45+3                 \n",
      " cb                          | 45+3                 \n",
      " rcb                         | 45+3                 \n",
      " rb                          | 54+3                 \n",
      " gk                          | 15+3                 \n",
      " player_face_url             | https://cdn.sofif... \n",
      " club_logo_url               | https://cdn.sofif... \n",
      " club_flag_url               | https://cdn.sofif... \n",
      " nation_logo_url             | https://cdn.sofif... \n",
      " nation_flag_url             | https://cdn.sofif... \n",
      " year                        | 2015                 \n",
      " id                          | 0                    \n",
      "-RECORD 1-------------------------------------------\n",
      " sofifa_id                   | 20801                \n",
      " player_url                  | https://sofifa.co... \n",
      " short_name                  | Cristiano Ronaldo    \n",
      " long_name                   | Cristiano Ronaldo... \n",
      " player_positions            | LW, LM               \n",
      " overall                     | 92                   \n",
      " potential                   | 92                   \n",
      " value_eur                   | 7.9E7                \n",
      " wage_eur                    | 375000.0             \n",
      " age                         | 29                   \n",
      " dob                         | 1985-02-05 00:00:00  \n",
      " height_cm                   | 185                  \n",
      " weight_kg                   | 80                   \n",
      " club_team_id                | 243.0                \n",
      " club_name                   | Real Madrid CF       \n",
      " league_name                 | Spain Primera Div... \n",
      " league_level                | 1                    \n",
      " club_position               | LW                   \n",
      " club_jersey_number          | 7                    \n",
      " club_loaned_from            | null                 \n",
      " club_joined                 | 2009-07-01 00:00:00  \n",
      " club_contract_valid_until   | 2018                 \n",
      " nationality_id              | 38                   \n",
      " nationality_name            | Portugal             \n",
      " nation_team_id              | 1354.0               \n",
      " nation_position             | LW                   \n",
      " nation_jersey_number        | 7                    \n",
      " preferred_foot              | Right                \n",
      " weak_foot                   | 4                    \n",
      " skill_moves                 | 5                    \n",
      " international_reputation    | 5                    \n",
      " work_rate                   | High/Low             \n",
      " body_type                   | Normal (185+)        \n",
      " real_face                   | Yes                  \n",
      " release_clause_eur          | null                 \n",
      " player_tags                 | #Speedster, #Drib... \n",
      " player_traits               | Power Free-Kick, ... \n",
      " pace                        | 93                   \n",
      " shooting                    | 93                   \n",
      " passing                     | 81                   \n",
      " dribbling                   | 91                   \n",
      " defending                   | 32                   \n",
      " physic                      | 79                   \n",
      " attacking_crossing          | 83                   \n",
      " attacking_finishing         | 95                   \n",
      " attacking_heading_accuracy  | 86                   \n",
      " attacking_short_passing     | 82                   \n",
      " attacking_volleys           | 87                   \n",
      " skill_dribbling             | 93                   \n",
      " skill_curve                 | 88                   \n",
      " skill_fk_accuracy           | 79                   \n",
      " skill_long_passing          | 72                   \n",
      " skill_ball_control          | 92                   \n",
      " movement_acceleration       | 91                   \n",
      " movement_sprint_speed       | 94                   \n",
      " movement_agility            | 93                   \n",
      " movement_reactions          | 90                   \n",
      " movement_balance            | 63                   \n",
      " power_shot_power            | 94                   \n",
      " power_jumping               | 94                   \n",
      " power_stamina               | 89                   \n",
      " power_strength              | 79                   \n",
      " power_long_shots            | 93                   \n",
      " mentality_aggression        | 63                   \n",
      " mentality_interceptions     | 24                   \n",
      " mentality_positioning       | 91                   \n",
      " mentality_vision            | 81                   \n",
      " mentality_penalties         | 85                   \n",
      " mentality_composure         | null                 \n",
      " defending_marking_awareness | 22                   \n",
      " defending_standing_tackle   | 31                   \n",
      " defending_sliding_tackle    | 23                   \n",
      " goalkeeping_diving          | 7                    \n",
      " goalkeeping_handling        | 11                   \n",
      " goalkeeping_kicking         | 15                   \n",
      " goalkeeping_positioning     | 14                   \n",
      " goalkeeping_reflexes        | 11                   \n",
      " goalkeeping_speed           | null                 \n",
      " ls                          | 91+1                 \n",
      " st                          | 91+1                 \n",
      " rs                          | 91+1                 \n",
      " lw                          | 89+3                 \n",
      " lf                          | 91+1                 \n",
      " cf                          | 91+1                 \n",
      " rf                          | 91+1                 \n",
      " rw                          | 89+3                 \n",
      " lam                         | 89+3                 \n",
      " cam                         | 89+3                 \n",
      " ram                         | 89+3                 \n",
      " lm                          | 87+3                 \n",
      " lcm                         | 77+3                 \n",
      " cm                          | 77+3                 \n",
      " rcm                         | 77+3                 \n",
      " rm                          | 87+3                 \n",
      " lwb                         | 63+3                 \n",
      " ldm                         | 63+3                 \n",
      " cdm                         | 63+3                 \n",
      " rdm                         | 63+3                 \n",
      " rwb                         | 63+3                 \n",
      " lb                          | 57+3                 \n",
      " lcb                         | 52+3                 \n",
      " cb                          | 52+3                 \n",
      " rcb                         | 52+3                 \n",
      " rb                          | 57+3                 \n",
      " gk                          | 16+3                 \n",
      " player_face_url             | https://cdn.sofif... \n",
      " club_logo_url               | https://cdn.sofif... \n",
      " club_flag_url               | https://cdn.sofif... \n",
      " nation_logo_url             | https://cdn.sofif... \n",
      " nation_flag_url             | https://cdn.sofif... \n",
      " year                        | 2015                 \n",
      " id                          | 1                    \n",
      "-RECORD 2-------------------------------------------\n",
      " sofifa_id                   | 9014                 \n",
      " player_url                  | https://sofifa.co... \n",
      " short_name                  | A. Robben            \n",
      " long_name                   | Arjen Robben         \n",
      " player_positions            | RM, LM, RW           \n",
      " overall                     | 90                   \n",
      " potential                   | 90                   \n",
      " value_eur                   | 5.45E7               \n",
      " wage_eur                    | 275000.0             \n",
      " age                         | 30                   \n",
      " dob                         | 1984-01-23 00:00:00  \n",
      " height_cm                   | 180                  \n",
      " weight_kg                   | 80                   \n",
      " club_team_id                | 21.0                 \n",
      " club_name                   | FC Bayern München    \n",
      " league_name                 | German 1. Bundesliga \n",
      " league_level                | 1                    \n",
      " club_position               | SUB                  \n",
      " club_jersey_number          | 10                   \n",
      " club_loaned_from            | null                 \n",
      " club_joined                 | 2009-08-28 00:00:00  \n",
      " club_contract_valid_until   | 2017                 \n",
      " nationality_id              | 34                   \n",
      " nationality_name            | Netherlands          \n",
      " nation_team_id              | 105035.0             \n",
      " nation_position             | RS                   \n",
      " nation_jersey_number        | 11                   \n",
      " preferred_foot              | Left                 \n",
      " weak_foot                   | 2                    \n",
      " skill_moves                 | 4                    \n",
      " international_reputation    | 5                    \n",
      " work_rate                   | High/Low             \n",
      " body_type                   | Normal (170-185)     \n",
      " real_face                   | Yes                  \n",
      " release_clause_eur          | null                 \n",
      " player_tags                 | #Speedster, #Drib... \n",
      " player_traits               | Diver, Injury Pro... \n",
      " pace                        | 93                   \n",
      " shooting                    | 86                   \n",
      " passing                     | 83                   \n",
      " dribbling                   | 92                   \n",
      " defending                   | 32                   \n",
      " physic                      | 64                   \n",
      " attacking_crossing          | 80                   \n",
      " attacking_finishing         | 85                   \n",
      " attacking_heading_accuracy  | 50                   \n",
      " attacking_short_passing     | 86                   \n",
      " attacking_volleys           | 86                   \n",
      " skill_dribbling             | 93                   \n",
      " skill_curve                 | 85                   \n",
      " skill_fk_accuracy           | 83                   \n",
      " skill_long_passing          | 76                   \n",
      " skill_ball_control          | 90                   \n",
      " movement_acceleration       | 93                   \n",
      " movement_sprint_speed       | 93                   \n",
      " movement_agility            | 93                   \n",
      " movement_reactions          | 89                   \n",
      " movement_balance            | 91                   \n",
      " power_shot_power            | 86                   \n",
      " power_jumping               | 61                   \n",
      " power_stamina               | 78                   \n",
      " power_strength              | 65                   \n",
      " power_long_shots            | 90                   \n",
      " mentality_aggression        | 47                   \n",
      " mentality_interceptions     | 39                   \n",
      " mentality_positioning       | 89                   \n",
      " mentality_vision            | 84                   \n",
      " mentality_penalties         | 80                   \n",
      " mentality_composure         | null                 \n",
      " defending_marking_awareness | 29                   \n",
      " defending_standing_tackle   | 26                   \n",
      " defending_sliding_tackle    | 26                   \n",
      " goalkeeping_diving          | 10                   \n",
      " goalkeeping_handling        | 8                    \n",
      " goalkeeping_kicking         | 11                   \n",
      " goalkeeping_positioning     | 5                    \n",
      " goalkeeping_reflexes        | 15                   \n",
      " goalkeeping_speed           | null                 \n",
      " ls                          | 84+3                 \n",
      " st                          | 84+3                 \n",
      " rs                          | 84+3                 \n",
      " lw                          | 88+2                 \n",
      " lf                          | 87+3                 \n",
      " cf                          | 87+3                 \n",
      " rf                          | 87+3                 \n",
      " rw                          | 88+2                 \n",
      " lam                         | 88+2                 \n",
      " cam                         | 88+2                 \n",
      " ram                         | 88+2                 \n",
      " lm                          | 87+3                 \n",
      " lcm                         | 78+3                 \n",
      " cm                          | 78+3                 \n",
      " rcm                         | 78+3                 \n",
      " rm                          | 87+3                 \n",
      " lwb                         | 64+3                 \n",
      " ldm                         | 64+3                 \n",
      " cdm                         | 64+3                 \n",
      " rdm                         | 64+3                 \n",
      " rwb                         | 64+3                 \n",
      " lb                          | 55+3                 \n",
      " lcb                         | 46+3                 \n",
      " cb                          | 46+3                 \n",
      " rcb                         | 46+3                 \n",
      " rb                          | 55+3                 \n",
      " gk                          | 14+3                 \n",
      " player_face_url             | https://cdn.sofif... \n",
      " club_logo_url               | https://cdn.sofif... \n",
      " club_flag_url               | https://cdn.sofif... \n",
      " nation_logo_url             | https://cdn.sofif... \n",
      " nation_flag_url             | https://cdn.sofif... \n",
      " year                        | 2015                 \n",
      " id                          | 2                    \n",
      "-RECORD 3-------------------------------------------\n",
      " sofifa_id                   | 41236                \n",
      " player_url                  | https://sofifa.co... \n",
      " short_name                  | Z. Ibrahimović       \n",
      " long_name                   | Zlatan Ibrahimović   \n",
      " player_positions            | ST                   \n",
      " overall                     | 90                   \n",
      " potential                   | 90                   \n",
      " value_eur                   | 5.25E7               \n",
      " wage_eur                    | 275000.0             \n",
      " age                         | 32                   \n",
      " dob                         | 1981-10-03 00:00:00  \n",
      " height_cm                   | 195                  \n",
      " weight_kg                   | 95                   \n",
      " club_team_id                | 73.0                 \n",
      " club_name                   | Paris Saint-Germain  \n",
      " league_name                 | French Ligue 1       \n",
      " league_level                | 1                    \n",
      " club_position               | ST                   \n",
      " club_jersey_number          | 10                   \n",
      " club_loaned_from            | null                 \n",
      " club_joined                 | 2012-07-01 00:00:00  \n",
      " club_contract_valid_until   | 2016                 \n",
      " nationality_id              | 46                   \n",
      " nationality_name            | Sweden               \n",
      " nation_team_id              | 1363.0               \n",
      " nation_position             | ST                   \n",
      " nation_jersey_number        | 10                   \n",
      " preferred_foot              | Right                \n",
      " weak_foot                   | 4                    \n",
      " skill_moves                 | 4                    \n",
      " international_reputation    | 5                    \n",
      " work_rate                   | Medium/Low           \n",
      " body_type                   | Normal (185+)        \n",
      " real_face                   | Yes                  \n",
      " release_clause_eur          | null                 \n",
      " player_tags                 | #Poacher, #Aerial... \n",
      " player_traits               | Power Free-Kick, ... \n",
      " pace                        | 76                   \n",
      " shooting                    | 91                   \n",
      " passing                     | 81                   \n",
      " dribbling                   | 86                   \n",
      " defending                   | 34                   \n",
      " physic                      | 86                   \n",
      " attacking_crossing          | 76                   \n",
      " attacking_finishing         | 91                   \n",
      " attacking_heading_accuracy  | 76                   \n",
      " attacking_short_passing     | 84                   \n",
      " attacking_volleys           | 92                   \n",
      " skill_dribbling             | 88                   \n",
      " skill_curve                 | 80                   \n",
      " skill_fk_accuracy           | 80                   \n",
      " skill_long_passing          | 76                   \n",
      " skill_ball_control          | 90                   \n",
      " movement_acceleration       | 74                   \n",
      " movement_sprint_speed       | 77                   \n",
      " movement_agility            | 86                   \n",
      " movement_reactions          | 85                   \n",
      " movement_balance            | 41                   \n",
      " power_shot_power            | 93                   \n",
      " power_jumping               | 72                   \n",
      " power_stamina               | 78                   \n",
      " power_strength              | 93                   \n",
      " power_long_shots            | 88                   \n",
      " mentality_aggression        | 84                   \n",
      " mentality_interceptions     | 20                   \n",
      " mentality_positioning       | 86                   \n",
      " mentality_vision            | 83                   \n",
      " mentality_penalties         | 91                   \n",
      " mentality_composure         | null                 \n",
      " defending_marking_awareness | 25                   \n",
      " defending_standing_tackle   | 41                   \n",
      " defending_sliding_tackle    | 27                   \n",
      " goalkeeping_diving          | 13                   \n",
      " goalkeeping_handling        | 15                   \n",
      " goalkeeping_kicking         | 10                   \n",
      " goalkeeping_positioning     | 9                    \n",
      " goalkeeping_reflexes        | 12                   \n",
      " goalkeeping_speed           | null                 \n",
      " ls                          | 87+3                 \n",
      " st                          | 87+3                 \n",
      " rs                          | 87+3                 \n",
      " lw                          | 84+3                 \n",
      " lf                          | 86+3                 \n",
      " cf                          | 86+3                 \n",
      " rf                          | 86+3                 \n",
      " rw                          | 84+3                 \n",
      " lam                         | 86+3                 \n",
      " cam                         | 86+3                 \n",
      " ram                         | 86+3                 \n",
      " lm                          | 83+3                 \n",
      " lcm                         | 76+3                 \n",
      " cm                          | 76+3                 \n",
      " rcm                         | 76+3                 \n",
      " rm                          | 83+3                 \n",
      " lwb                         | 61+3                 \n",
      " ldm                         | 65+3                 \n",
      " cdm                         | 65+3                 \n",
      " rdm                         | 65+3                 \n",
      " rwb                         | 61+3                 \n",
      " lb                          | 56+3                 \n",
      " lcb                         | 55+3                 \n",
      " cb                          | 55+3                 \n",
      " rcb                         | 55+3                 \n",
      " rb                          | 56+3                 \n",
      " gk                          | 17+3                 \n",
      " player_face_url             | https://cdn.sofif... \n",
      " club_logo_url               | https://cdn.sofif... \n",
      " club_flag_url               | https://cdn.sofif... \n",
      " nation_logo_url             | https://cdn.sofif... \n",
      " nation_flag_url             | https://cdn.sofif... \n",
      " year                        | 2015                 \n",
      " id                          | 3                    \n",
      "-RECORD 4-------------------------------------------\n",
      " sofifa_id                   | 167495               \n",
      " player_url                  | https://sofifa.co... \n",
      " short_name                  | M. Neuer             \n",
      " long_name                   | Manuel Peter Neuer   \n",
      " player_positions            | GK                   \n",
      " overall                     | 90                   \n",
      " potential                   | 90                   \n",
      " value_eur                   | 6.35E7               \n",
      " wage_eur                    | 300000.0             \n",
      " age                         | 28                   \n",
      " dob                         | 1986-03-27 00:00:00  \n",
      " height_cm                   | 193                  \n",
      " weight_kg                   | 92                   \n",
      " club_team_id                | 21.0                 \n",
      " club_name                   | FC Bayern München    \n",
      " league_name                 | German 1. Bundesliga \n",
      " league_level                | 1                    \n",
      " club_position               | GK                   \n",
      " club_jersey_number          | 1                    \n",
      " club_loaned_from            | null                 \n",
      " club_joined                 | 2011-07-01 00:00:00  \n",
      " club_contract_valid_until   | 2019                 \n",
      " nationality_id              | 21                   \n",
      " nationality_name            | Germany              \n",
      " nation_team_id              | 1337.0               \n",
      " nation_position             | GK                   \n",
      " nation_jersey_number        | 1                    \n",
      " preferred_foot              | Right                \n",
      " weak_foot                   | 4                    \n",
      " skill_moves                 | 1                    \n",
      " international_reputation    | 5                    \n",
      " work_rate                   | Medium/Medium        \n",
      " body_type                   | Normal (185+)        \n",
      " real_face                   | Yes                  \n",
      " release_clause_eur          | null                 \n",
      " player_tags                 | null                 \n",
      " player_traits               | GK Up for Corners... \n",
      " pace                        | null                 \n",
      " shooting                    | null                 \n",
      " passing                     | null                 \n",
      " dribbling                   | null                 \n",
      " defending                   | null                 \n",
      " physic                      | null                 \n",
      " attacking_crossing          | 25                   \n",
      " attacking_finishing         | 25                   \n",
      " attacking_heading_accuracy  | 25                   \n",
      " attacking_short_passing     | 42                   \n",
      " attacking_volleys           | 25                   \n",
      " skill_dribbling             | 25                   \n",
      " skill_curve                 | 25                   \n",
      " skill_fk_accuracy           | 25                   \n",
      " skill_long_passing          | 41                   \n",
      " skill_ball_control          | 31                   \n",
      " movement_acceleration       | 58                   \n",
      " movement_sprint_speed       | 61                   \n",
      " movement_agility            | 43                   \n",
      " movement_reactions          | 89                   \n",
      " movement_balance            | 35                   \n",
      " power_shot_power            | 42                   \n",
      " power_jumping               | 78                   \n",
      " power_stamina               | 44                   \n",
      " power_strength              | 83                   \n",
      " power_long_shots            | 25                   \n",
      " mentality_aggression        | 29                   \n",
      " mentality_interceptions     | 30                   \n",
      " mentality_positioning       | 25                   \n",
      " mentality_vision            | 20                   \n",
      " mentality_penalties         | 37                   \n",
      " mentality_composure         | null                 \n",
      " defending_marking_awareness | 25                   \n",
      " defending_standing_tackle   | 25                   \n",
      " defending_sliding_tackle    | 25                   \n",
      " goalkeeping_diving          | 87                   \n",
      " goalkeeping_handling        | 85                   \n",
      " goalkeeping_kicking         | 92                   \n",
      " goalkeeping_positioning     | 90                   \n",
      " goalkeeping_reflexes        | 86                   \n",
      " goalkeeping_speed           | 60                   \n",
      " ls                          | 38+3                 \n",
      " st                          | 38+3                 \n",
      " rs                          | 38+3                 \n",
      " lw                          | 36+3                 \n",
      " lf                          | 37+3                 \n",
      " cf                          | 37+3                 \n",
      " rf                          | 37+3                 \n",
      " rw                          | 36+3                 \n",
      " lam                         | 36+3                 \n",
      " cam                         | 36+3                 \n",
      " ram                         | 36+3                 \n",
      " lm                          | 38+3                 \n",
      " lcm                         | 36+3                 \n",
      " cm                          | 36+3                 \n",
      " rcm                         | 36+3                 \n",
      " rm                          | 38+3                 \n",
      " lwb                         | 36+3                 \n",
      " ldm                         | 40+3                 \n",
      " cdm                         | 40+3                 \n",
      " rdm                         | 40+3                 \n",
      " rwb                         | 36+3                 \n",
      " lb                          | 36+3                 \n",
      " lcb                         | 38+3                 \n",
      " cb                          | 38+3                 \n",
      " rcb                         | 38+3                 \n",
      " rb                          | 36+3                 \n",
      " gk                          | 87+3                 \n",
      " player_face_url             | https://cdn.sofif... \n",
      " club_logo_url               | https://cdn.sofif... \n",
      " club_flag_url               | https://cdn.sofif... \n",
      " nation_logo_url             | https://cdn.sofif... \n",
      " nation_flag_url             | https://cdn.sofif... \n",
      " year                        | 2015                 \n",
      " id                          | 4                    \n",
      "only showing top 5 rows\n",
      "\n"
     ]
    },
    {
     "name": "stderr",
     "output_type": "stream",
     "text": [
      "\r",
      "                                                                                \r"
     ]
    }
   ],
   "source": [
    "# Shows 5 entries.\n",
    "df_read.show(5, vertical=True)"
   ]
  },
  {
   "cell_type": "markdown",
   "id": "e0ce0cbd",
   "metadata": {},
   "source": [
    "# Task II"
   ]
  },
  {
   "cell_type": "code",
   "execution_count": 8,
   "id": "60ebcc04",
   "metadata": {},
   "outputs": [],
   "source": [
    "def player_contracts(df, x):\n",
    "    # Function prints the x clubs that have the most players with contracts ending in 2023\n",
    "    df = df.filter((col(\"year\") == 2022) & (col(\"club_contract_valid_until\") == 2023))\\\n",
    "    .groupBy('club_name').count().sort(col('count').desc())\n",
    "    df.withColumnRenamed('club_name', 'club').withColumnRenamed('count', 'contracts ending 2023').show(x)\n"
   ]
  },
  {
   "cell_type": "code",
   "execution_count": 9,
   "id": "c818ac9d",
   "metadata": {},
   "outputs": [
    {
     "name": "stdout",
     "output_type": "stream",
     "text": [
      "+--------------------+---------------------+\n",
      "|                club|contracts ending 2023|\n",
      "+--------------------+---------------------+\n",
      "|En Avant de Guingamp|                   19|\n",
      "| Club Atlético Lanús|                   17|\n",
      "|       Lechia Gdańsk|                   17|\n",
      "|            Barnsley|                   16|\n",
      "|        Kasimpaşa SK|                   16|\n",
      "|        Bengaluru FC|                   16|\n",
      "|              Al Tai|                   15|\n",
      "+--------------------+---------------------+\n",
      "only showing top 7 rows\n",
      "\n"
     ]
    }
   ],
   "source": [
    "player_contracts(df_read, 7)"
   ]
  },
  {
   "cell_type": "code",
   "execution_count": 10,
   "id": "9dc62a88",
   "metadata": {},
   "outputs": [],
   "source": [
    "def players_over_27(df, y):\n",
    "    # Function prints the y clubs that have the most players aged over 27 averaged over the years.\n",
    "    df = df.filter((col(\"age\") > 27) & (col('club_name') != \"\")).groupBy('club_name', 'year').count()\\\n",
    "        .groupBy('club_name').avg('count').sort(col('avg(count)').desc()) # Calculates the average over the years.\n",
    "    df.withColumnRenamed('club_name', 'club').withColumnRenamed('avg(count)', 'average players over 27') \\\n",
    "    .show(y)"
   ]
  },
  {
   "cell_type": "code",
   "execution_count": 11,
   "id": "50d059c2",
   "metadata": {},
   "outputs": [
    {
     "name": "stdout",
     "output_type": "stream",
     "text": [
      "+--------------------+-----------------------+\n",
      "|                club|average players over 27|\n",
      "+--------------------+-----------------------+\n",
      "| Matsumoto Yamaga FC|                   19.0|\n",
      "|  Dorados de Sinaloa|                   19.0|\n",
      "| Shanghai Shenhua FC|                   18.5|\n",
      "|          Qingdao FC|                   18.0|\n",
      "|Club Deportivo Jo...|                   17.5|\n",
      "|         Guaireña FC|                   17.0|\n",
      "+--------------------+-----------------------+\n",
      "only showing top 6 rows\n",
      "\n"
     ]
    }
   ],
   "source": [
    "players_over_27(df_read, 6)"
   ]
  },
  {
   "cell_type": "code",
   "execution_count": 12,
   "id": "7c7f52f3",
   "metadata": {},
   "outputs": [],
   "source": [
    "def most_frequent_position(df):\n",
    "    # Function prints the most frequent position across national teams every year.\n",
    "    years = df.select('year').distinct().collect()\n",
    "    position = []\n",
    "    for i in range(len(years)):\n",
    "        position_count = df.groupBy('nation_position','year').count().filter(col(\"year\") == years[i][0]).sort(col('count').desc())\n",
    "        position.append(position_count.head(2)[1]) # Got the second result as the most common value is null for every year.\n",
    "    out = spark.createDataFrame(position, schema=position_count.schema)\n",
    "    out.show()"
   ]
  },
  {
   "cell_type": "code",
   "execution_count": 13,
   "id": "14ec7dfb",
   "metadata": {},
   "outputs": [
    {
     "name": "stdout",
     "output_type": "stream",
     "text": [
      "+---------------+----+-----+\n",
      "|nation_position|year|count|\n",
      "+---------------+----+-----+\n",
      "|            SUB|2018|  600|\n",
      "|            SUB|2015|  564|\n",
      "|            SUB|2022|  396|\n",
      "|            SUB|2019|  576|\n",
      "|            SUB|2020|  588|\n",
      "|            SUB|2016|  511|\n",
      "|            SUB|2017|  564|\n",
      "|            SUB|2021|  588|\n",
      "+---------------+----+-----+\n",
      "\n"
     ]
    }
   ],
   "source": [
    "most_frequent_position(df_read)"
   ]
  },
  {
   "cell_type": "markdown",
   "id": "9d2ac536",
   "metadata": {},
   "source": [
    "## Task III"
   ]
  },
  {
   "cell_type": "markdown",
   "id": "cd52d425",
   "metadata": {},
   "source": [
    "Before doing feature engineering, we look at the data and determine what needs to be done"
   ]
  },
  {
   "cell_type": "code",
   "execution_count": 14,
   "id": "70d63b06",
   "metadata": {},
   "outputs": [
    {
     "name": "stdout",
     "output_type": "stream",
     "text": [
      "root\n",
      " |-- sofifa_id: integer (nullable = true)\n",
      " |-- player_url: string (nullable = true)\n",
      " |-- short_name: string (nullable = true)\n",
      " |-- long_name: string (nullable = true)\n",
      " |-- player_positions: string (nullable = true)\n",
      " |-- overall: integer (nullable = true)\n",
      " |-- potential: integer (nullable = true)\n",
      " |-- value_eur: double (nullable = true)\n",
      " |-- wage_eur: double (nullable = true)\n",
      " |-- age: integer (nullable = true)\n",
      " |-- dob: timestamp (nullable = true)\n",
      " |-- height_cm: integer (nullable = true)\n",
      " |-- weight_kg: integer (nullable = true)\n",
      " |-- club_team_id: double (nullable = true)\n",
      " |-- club_name: string (nullable = true)\n",
      " |-- league_name: string (nullable = true)\n",
      " |-- league_level: integer (nullable = true)\n",
      " |-- club_position: string (nullable = true)\n",
      " |-- club_jersey_number: integer (nullable = true)\n",
      " |-- club_loaned_from: string (nullable = true)\n",
      " |-- club_joined: timestamp (nullable = true)\n",
      " |-- club_contract_valid_until: integer (nullable = true)\n",
      " |-- nationality_id: integer (nullable = true)\n",
      " |-- nationality_name: string (nullable = true)\n",
      " |-- nation_team_id: double (nullable = true)\n",
      " |-- nation_position: string (nullable = true)\n",
      " |-- nation_jersey_number: integer (nullable = true)\n",
      " |-- preferred_foot: string (nullable = true)\n",
      " |-- weak_foot: integer (nullable = true)\n",
      " |-- skill_moves: integer (nullable = true)\n",
      " |-- international_reputation: integer (nullable = true)\n",
      " |-- work_rate: string (nullable = true)\n",
      " |-- body_type: string (nullable = true)\n",
      " |-- real_face: string (nullable = true)\n",
      " |-- release_clause_eur: string (nullable = true)\n",
      " |-- player_tags: string (nullable = true)\n",
      " |-- player_traits: string (nullable = true)\n",
      " |-- pace: integer (nullable = true)\n",
      " |-- shooting: integer (nullable = true)\n",
      " |-- passing: integer (nullable = true)\n",
      " |-- dribbling: integer (nullable = true)\n",
      " |-- defending: integer (nullable = true)\n",
      " |-- physic: integer (nullable = true)\n",
      " |-- attacking_crossing: integer (nullable = true)\n",
      " |-- attacking_finishing: integer (nullable = true)\n",
      " |-- attacking_heading_accuracy: integer (nullable = true)\n",
      " |-- attacking_short_passing: integer (nullable = true)\n",
      " |-- attacking_volleys: integer (nullable = true)\n",
      " |-- skill_dribbling: integer (nullable = true)\n",
      " |-- skill_curve: integer (nullable = true)\n",
      " |-- skill_fk_accuracy: integer (nullable = true)\n",
      " |-- skill_long_passing: integer (nullable = true)\n",
      " |-- skill_ball_control: integer (nullable = true)\n",
      " |-- movement_acceleration: integer (nullable = true)\n",
      " |-- movement_sprint_speed: integer (nullable = true)\n",
      " |-- movement_agility: integer (nullable = true)\n",
      " |-- movement_reactions: integer (nullable = true)\n",
      " |-- movement_balance: integer (nullable = true)\n",
      " |-- power_shot_power: integer (nullable = true)\n",
      " |-- power_jumping: integer (nullable = true)\n",
      " |-- power_stamina: integer (nullable = true)\n",
      " |-- power_strength: integer (nullable = true)\n",
      " |-- power_long_shots: integer (nullable = true)\n",
      " |-- mentality_aggression: integer (nullable = true)\n",
      " |-- mentality_interceptions: integer (nullable = true)\n",
      " |-- mentality_positioning: integer (nullable = true)\n",
      " |-- mentality_vision: integer (nullable = true)\n",
      " |-- mentality_penalties: integer (nullable = true)\n",
      " |-- mentality_composure: string (nullable = true)\n",
      " |-- defending_marking_awareness: integer (nullable = true)\n",
      " |-- defending_standing_tackle: integer (nullable = true)\n",
      " |-- defending_sliding_tackle: integer (nullable = true)\n",
      " |-- goalkeeping_diving: integer (nullable = true)\n",
      " |-- goalkeeping_handling: integer (nullable = true)\n",
      " |-- goalkeeping_kicking: integer (nullable = true)\n",
      " |-- goalkeeping_positioning: integer (nullable = true)\n",
      " |-- goalkeeping_reflexes: integer (nullable = true)\n",
      " |-- goalkeeping_speed: integer (nullable = true)\n",
      " |-- ls: string (nullable = true)\n",
      " |-- st: string (nullable = true)\n",
      " |-- rs: string (nullable = true)\n",
      " |-- lw: string (nullable = true)\n",
      " |-- lf: string (nullable = true)\n",
      " |-- cf: string (nullable = true)\n",
      " |-- rf: string (nullable = true)\n",
      " |-- rw: string (nullable = true)\n",
      " |-- lam: string (nullable = true)\n",
      " |-- cam: string (nullable = true)\n",
      " |-- ram: string (nullable = true)\n",
      " |-- lm: string (nullable = true)\n",
      " |-- lcm: string (nullable = true)\n",
      " |-- cm: string (nullable = true)\n",
      " |-- rcm: string (nullable = true)\n",
      " |-- rm: string (nullable = true)\n",
      " |-- lwb: string (nullable = true)\n",
      " |-- ldm: string (nullable = true)\n",
      " |-- cdm: string (nullable = true)\n",
      " |-- rdm: string (nullable = true)\n",
      " |-- rwb: string (nullable = true)\n",
      " |-- lb: string (nullable = true)\n",
      " |-- lcb: string (nullable = true)\n",
      " |-- cb: string (nullable = true)\n",
      " |-- rcb: string (nullable = true)\n",
      " |-- rb: string (nullable = true)\n",
      " |-- gk: string (nullable = true)\n",
      " |-- player_face_url: string (nullable = true)\n",
      " |-- club_logo_url: string (nullable = true)\n",
      " |-- club_flag_url: string (nullable = true)\n",
      " |-- nation_logo_url: string (nullable = true)\n",
      " |-- nation_flag_url: string (nullable = true)\n",
      " |-- year: integer (nullable = true)\n",
      " |-- id: long (nullable = true)\n",
      "\n"
     ]
    }
   ],
   "source": [
    "df_read.printSchema() # checking that the schema is correct for each column comparing to the data in it."
   ]
  },
  {
   "cell_type": "code",
   "execution_count": 15,
   "id": "6e4175ae",
   "metadata": {},
   "outputs": [
    {
     "name": "stdout",
     "output_type": "stream",
     "text": [
      "-RECORD 0-------------------------------------------\n",
      " sofifa_id                   | 158023               \n",
      " player_url                  | https://sofifa.co... \n",
      " short_name                  | L. Messi             \n",
      " long_name                   | Lionel Andrés Mes... \n",
      " player_positions            | CF                   \n",
      " overall                     | 93                   \n",
      " potential                   | 95                   \n",
      " value_eur                   | 1.005E8              \n",
      " wage_eur                    | 550000.0             \n",
      " age                         | 27                   \n",
      " dob                         | 1987-06-24 00:00:00  \n",
      " height_cm                   | 169                  \n",
      " weight_kg                   | 67                   \n",
      " club_team_id                | 241.0                \n",
      " club_name                   | FC Barcelona         \n",
      " league_name                 | Spain Primera Div... \n",
      " league_level                | 1                    \n",
      " club_position               | CF                   \n",
      " club_jersey_number          | 10                   \n",
      " club_loaned_from            | null                 \n",
      " club_joined                 | 2004-07-01 00:00:00  \n",
      " club_contract_valid_until   | 2018                 \n",
      " nationality_id              | 52                   \n",
      " nationality_name            | Argentina            \n",
      " nation_team_id              | 1369.0               \n",
      " nation_position             | CF                   \n",
      " nation_jersey_number        | 10                   \n",
      " preferred_foot              | Left                 \n",
      " weak_foot                   | 3                    \n",
      " skill_moves                 | 4                    \n",
      " international_reputation    | 5                    \n",
      " work_rate                   | Medium/Low           \n",
      " body_type                   | Normal (170-)        \n",
      " real_face                   | Yes                  \n",
      " release_clause_eur          | null                 \n",
      " player_tags                 | #Speedster, #Drib... \n",
      " player_traits               | Finesse Shot, Spe... \n",
      " pace                        | 93                   \n",
      " shooting                    | 89                   \n",
      " passing                     | 86                   \n",
      " dribbling                   | 96                   \n",
      " defending                   | 27                   \n",
      " physic                      | 63                   \n",
      " attacking_crossing          | 84                   \n",
      " attacking_finishing         | 94                   \n",
      " attacking_heading_accuracy  | 71                   \n",
      " attacking_short_passing     | 89                   \n",
      " attacking_volleys           | 85                   \n",
      " skill_dribbling             | 96                   \n",
      " skill_curve                 | 89                   \n",
      " skill_fk_accuracy           | 90                   \n",
      " skill_long_passing          | 76                   \n",
      " skill_ball_control          | 96                   \n",
      " movement_acceleration       | 96                   \n",
      " movement_sprint_speed       | 90                   \n",
      " movement_agility            | 94                   \n",
      " movement_reactions          | 94                   \n",
      " movement_balance            | 95                   \n",
      " power_shot_power            | 80                   \n",
      " power_jumping               | 73                   \n",
      " power_stamina               | 77                   \n",
      " power_strength              | 60                   \n",
      " power_long_shots            | 88                   \n",
      " mentality_aggression        | 48                   \n",
      " mentality_interceptions     | 22                   \n",
      " mentality_positioning       | 92                   \n",
      " mentality_vision            | 90                   \n",
      " mentality_penalties         | 76                   \n",
      " mentality_composure         | null                 \n",
      " defending_marking_awareness | 25                   \n",
      " defending_standing_tackle   | 21                   \n",
      " defending_sliding_tackle    | 20                   \n",
      " goalkeeping_diving          | 6                    \n",
      " goalkeeping_handling        | 11                   \n",
      " goalkeeping_kicking         | 15                   \n",
      " goalkeeping_positioning     | 14                   \n",
      " goalkeeping_reflexes        | 8                    \n",
      " goalkeeping_speed           | null                 \n",
      " ls                          | 89+3                 \n",
      " st                          | 89+3                 \n",
      " rs                          | 89+3                 \n",
      " lw                          | 92+3                 \n",
      " lf                          | 90+3                 \n",
      " cf                          | 90+3                 \n",
      " rf                          | 90+3                 \n",
      " rw                          | 92+3                 \n",
      " lam                         | 92+3                 \n",
      " cam                         | 92+3                 \n",
      " ram                         | 92+3                 \n",
      " lm                          | 90+3                 \n",
      " lcm                         | 79+3                 \n",
      " cm                          | 79+3                 \n",
      " rcm                         | 79+3                 \n",
      " rm                          | 90+3                 \n",
      " lwb                         | 62+3                 \n",
      " ldm                         | 62+3                 \n",
      " cdm                         | 62+3                 \n",
      " rdm                         | 62+3                 \n",
      " rwb                         | 62+3                 \n",
      " lb                          | 54+3                 \n",
      " lcb                         | 45+3                 \n",
      " cb                          | 45+3                 \n",
      " rcb                         | 45+3                 \n",
      " rb                          | 54+3                 \n",
      " gk                          | 15+3                 \n",
      " player_face_url             | https://cdn.sofif... \n",
      " club_logo_url               | https://cdn.sofif... \n",
      " club_flag_url               | https://cdn.sofif... \n",
      " nation_logo_url             | https://cdn.sofif... \n",
      " nation_flag_url             | https://cdn.sofif... \n",
      " year                        | 2015                 \n",
      " id                          | 0                    \n",
      "-RECORD 1-------------------------------------------\n",
      " sofifa_id                   | 20801                \n",
      " player_url                  | https://sofifa.co... \n",
      " short_name                  | Cristiano Ronaldo    \n",
      " long_name                   | Cristiano Ronaldo... \n",
      " player_positions            | LW, LM               \n",
      " overall                     | 92                   \n",
      " potential                   | 92                   \n",
      " value_eur                   | 7.9E7                \n",
      " wage_eur                    | 375000.0             \n",
      " age                         | 29                   \n",
      " dob                         | 1985-02-05 00:00:00  \n",
      " height_cm                   | 185                  \n",
      " weight_kg                   | 80                   \n",
      " club_team_id                | 243.0                \n",
      " club_name                   | Real Madrid CF       \n",
      " league_name                 | Spain Primera Div... \n",
      " league_level                | 1                    \n",
      " club_position               | LW                   \n",
      " club_jersey_number          | 7                    \n",
      " club_loaned_from            | null                 \n",
      " club_joined                 | 2009-07-01 00:00:00  \n",
      " club_contract_valid_until   | 2018                 \n",
      " nationality_id              | 38                   \n",
      " nationality_name            | Portugal             \n",
      " nation_team_id              | 1354.0               \n",
      " nation_position             | LW                   \n",
      " nation_jersey_number        | 7                    \n",
      " preferred_foot              | Right                \n",
      " weak_foot                   | 4                    \n",
      " skill_moves                 | 5                    \n",
      " international_reputation    | 5                    \n",
      " work_rate                   | High/Low             \n",
      " body_type                   | Normal (185+)        \n",
      " real_face                   | Yes                  \n",
      " release_clause_eur          | null                 \n",
      " player_tags                 | #Speedster, #Drib... \n",
      " player_traits               | Power Free-Kick, ... \n",
      " pace                        | 93                   \n",
      " shooting                    | 93                   \n",
      " passing                     | 81                   \n",
      " dribbling                   | 91                   \n",
      " defending                   | 32                   \n",
      " physic                      | 79                   \n",
      " attacking_crossing          | 83                   \n",
      " attacking_finishing         | 95                   \n",
      " attacking_heading_accuracy  | 86                   \n",
      " attacking_short_passing     | 82                   \n",
      " attacking_volleys           | 87                   \n",
      " skill_dribbling             | 93                   \n",
      " skill_curve                 | 88                   \n",
      " skill_fk_accuracy           | 79                   \n",
      " skill_long_passing          | 72                   \n",
      " skill_ball_control          | 92                   \n",
      " movement_acceleration       | 91                   \n",
      " movement_sprint_speed       | 94                   \n",
      " movement_agility            | 93                   \n",
      " movement_reactions          | 90                   \n",
      " movement_balance            | 63                   \n",
      " power_shot_power            | 94                   \n",
      " power_jumping               | 94                   \n",
      " power_stamina               | 89                   \n",
      " power_strength              | 79                   \n",
      " power_long_shots            | 93                   \n",
      " mentality_aggression        | 63                   \n",
      " mentality_interceptions     | 24                   \n",
      " mentality_positioning       | 91                   \n",
      " mentality_vision            | 81                   \n",
      " mentality_penalties         | 85                   \n",
      " mentality_composure         | null                 \n",
      " defending_marking_awareness | 22                   \n",
      " defending_standing_tackle   | 31                   \n",
      " defending_sliding_tackle    | 23                   \n",
      " goalkeeping_diving          | 7                    \n",
      " goalkeeping_handling        | 11                   \n",
      " goalkeeping_kicking         | 15                   \n",
      " goalkeeping_positioning     | 14                   \n",
      " goalkeeping_reflexes        | 11                   \n",
      " goalkeeping_speed           | null                 \n",
      " ls                          | 91+1                 \n",
      " st                          | 91+1                 \n",
      " rs                          | 91+1                 \n",
      " lw                          | 89+3                 \n",
      " lf                          | 91+1                 \n",
      " cf                          | 91+1                 \n",
      " rf                          | 91+1                 \n",
      " rw                          | 89+3                 \n",
      " lam                         | 89+3                 \n",
      " cam                         | 89+3                 \n",
      " ram                         | 89+3                 \n",
      " lm                          | 87+3                 \n",
      " lcm                         | 77+3                 \n",
      " cm                          | 77+3                 \n",
      " rcm                         | 77+3                 \n",
      " rm                          | 87+3                 \n",
      " lwb                         | 63+3                 \n",
      " ldm                         | 63+3                 \n",
      " cdm                         | 63+3                 \n",
      " rdm                         | 63+3                 \n",
      " rwb                         | 63+3                 \n",
      " lb                          | 57+3                 \n",
      " lcb                         | 52+3                 \n",
      " cb                          | 52+3                 \n",
      " rcb                         | 52+3                 \n",
      " rb                          | 57+3                 \n",
      " gk                          | 16+3                 \n",
      " player_face_url             | https://cdn.sofif... \n",
      " club_logo_url               | https://cdn.sofif... \n",
      " club_flag_url               | https://cdn.sofif... \n",
      " nation_logo_url             | https://cdn.sofif... \n",
      " nation_flag_url             | https://cdn.sofif... \n",
      " year                        | 2015                 \n",
      " id                          | 1                    \n",
      "-RECORD 2-------------------------------------------\n",
      " sofifa_id                   | 9014                 \n",
      " player_url                  | https://sofifa.co... \n",
      " short_name                  | A. Robben            \n",
      " long_name                   | Arjen Robben         \n",
      " player_positions            | RM, LM, RW           \n",
      " overall                     | 90                   \n",
      " potential                   | 90                   \n",
      " value_eur                   | 5.45E7               \n",
      " wage_eur                    | 275000.0             \n",
      " age                         | 30                   \n",
      " dob                         | 1984-01-23 00:00:00  \n",
      " height_cm                   | 180                  \n",
      " weight_kg                   | 80                   \n",
      " club_team_id                | 21.0                 \n",
      " club_name                   | FC Bayern München    \n",
      " league_name                 | German 1. Bundesliga \n",
      " league_level                | 1                    \n",
      " club_position               | SUB                  \n",
      " club_jersey_number          | 10                   \n",
      " club_loaned_from            | null                 \n",
      " club_joined                 | 2009-08-28 00:00:00  \n",
      " club_contract_valid_until   | 2017                 \n",
      " nationality_id              | 34                   \n",
      " nationality_name            | Netherlands          \n",
      " nation_team_id              | 105035.0             \n",
      " nation_position             | RS                   \n",
      " nation_jersey_number        | 11                   \n",
      " preferred_foot              | Left                 \n",
      " weak_foot                   | 2                    \n",
      " skill_moves                 | 4                    \n",
      " international_reputation    | 5                    \n",
      " work_rate                   | High/Low             \n",
      " body_type                   | Normal (170-185)     \n",
      " real_face                   | Yes                  \n",
      " release_clause_eur          | null                 \n",
      " player_tags                 | #Speedster, #Drib... \n",
      " player_traits               | Diver, Injury Pro... \n",
      " pace                        | 93                   \n",
      " shooting                    | 86                   \n",
      " passing                     | 83                   \n",
      " dribbling                   | 92                   \n",
      " defending                   | 32                   \n",
      " physic                      | 64                   \n",
      " attacking_crossing          | 80                   \n",
      " attacking_finishing         | 85                   \n",
      " attacking_heading_accuracy  | 50                   \n",
      " attacking_short_passing     | 86                   \n",
      " attacking_volleys           | 86                   \n",
      " skill_dribbling             | 93                   \n",
      " skill_curve                 | 85                   \n",
      " skill_fk_accuracy           | 83                   \n",
      " skill_long_passing          | 76                   \n",
      " skill_ball_control          | 90                   \n",
      " movement_acceleration       | 93                   \n",
      " movement_sprint_speed       | 93                   \n",
      " movement_agility            | 93                   \n",
      " movement_reactions          | 89                   \n",
      " movement_balance            | 91                   \n",
      " power_shot_power            | 86                   \n",
      " power_jumping               | 61                   \n",
      " power_stamina               | 78                   \n",
      " power_strength              | 65                   \n",
      " power_long_shots            | 90                   \n",
      " mentality_aggression        | 47                   \n",
      " mentality_interceptions     | 39                   \n",
      " mentality_positioning       | 89                   \n",
      " mentality_vision            | 84                   \n",
      " mentality_penalties         | 80                   \n",
      " mentality_composure         | null                 \n",
      " defending_marking_awareness | 29                   \n",
      " defending_standing_tackle   | 26                   \n",
      " defending_sliding_tackle    | 26                   \n",
      " goalkeeping_diving          | 10                   \n",
      " goalkeeping_handling        | 8                    \n",
      " goalkeeping_kicking         | 11                   \n",
      " goalkeeping_positioning     | 5                    \n",
      " goalkeeping_reflexes        | 15                   \n",
      " goalkeeping_speed           | null                 \n",
      " ls                          | 84+3                 \n",
      " st                          | 84+3                 \n",
      " rs                          | 84+3                 \n",
      " lw                          | 88+2                 \n",
      " lf                          | 87+3                 \n",
      " cf                          | 87+3                 \n",
      " rf                          | 87+3                 \n",
      " rw                          | 88+2                 \n",
      " lam                         | 88+2                 \n",
      " cam                         | 88+2                 \n",
      " ram                         | 88+2                 \n",
      " lm                          | 87+3                 \n",
      " lcm                         | 78+3                 \n",
      " cm                          | 78+3                 \n",
      " rcm                         | 78+3                 \n",
      " rm                          | 87+3                 \n",
      " lwb                         | 64+3                 \n",
      " ldm                         | 64+3                 \n",
      " cdm                         | 64+3                 \n",
      " rdm                         | 64+3                 \n",
      " rwb                         | 64+3                 \n",
      " lb                          | 55+3                 \n",
      " lcb                         | 46+3                 \n",
      " cb                          | 46+3                 \n",
      " rcb                         | 46+3                 \n",
      " rb                          | 55+3                 \n",
      " gk                          | 14+3                 \n",
      " player_face_url             | https://cdn.sofif... \n",
      " club_logo_url               | https://cdn.sofif... \n",
      " club_flag_url               | https://cdn.sofif... \n",
      " nation_logo_url             | https://cdn.sofif... \n",
      " nation_flag_url             | https://cdn.sofif... \n",
      " year                        | 2015                 \n",
      " id                          | 2                    \n",
      "-RECORD 3-------------------------------------------\n",
      " sofifa_id                   | 41236                \n",
      " player_url                  | https://sofifa.co... \n",
      " short_name                  | Z. Ibrahimović       \n",
      " long_name                   | Zlatan Ibrahimović   \n",
      " player_positions            | ST                   \n",
      " overall                     | 90                   \n",
      " potential                   | 90                   \n",
      " value_eur                   | 5.25E7               \n",
      " wage_eur                    | 275000.0             \n",
      " age                         | 32                   \n",
      " dob                         | 1981-10-03 00:00:00  \n",
      " height_cm                   | 195                  \n",
      " weight_kg                   | 95                   \n",
      " club_team_id                | 73.0                 \n",
      " club_name                   | Paris Saint-Germain  \n",
      " league_name                 | French Ligue 1       \n",
      " league_level                | 1                    \n",
      " club_position               | ST                   \n",
      " club_jersey_number          | 10                   \n",
      " club_loaned_from            | null                 \n",
      " club_joined                 | 2012-07-01 00:00:00  \n",
      " club_contract_valid_until   | 2016                 \n",
      " nationality_id              | 46                   \n",
      " nationality_name            | Sweden               \n",
      " nation_team_id              | 1363.0               \n",
      " nation_position             | ST                   \n",
      " nation_jersey_number        | 10                   \n",
      " preferred_foot              | Right                \n",
      " weak_foot                   | 4                    \n",
      " skill_moves                 | 4                    \n",
      " international_reputation    | 5                    \n",
      " work_rate                   | Medium/Low           \n",
      " body_type                   | Normal (185+)        \n",
      " real_face                   | Yes                  \n",
      " release_clause_eur          | null                 \n",
      " player_tags                 | #Poacher, #Aerial... \n",
      " player_traits               | Power Free-Kick, ... \n",
      " pace                        | 76                   \n",
      " shooting                    | 91                   \n",
      " passing                     | 81                   \n",
      " dribbling                   | 86                   \n",
      " defending                   | 34                   \n",
      " physic                      | 86                   \n",
      " attacking_crossing          | 76                   \n",
      " attacking_finishing         | 91                   \n",
      " attacking_heading_accuracy  | 76                   \n",
      " attacking_short_passing     | 84                   \n",
      " attacking_volleys           | 92                   \n",
      " skill_dribbling             | 88                   \n",
      " skill_curve                 | 80                   \n",
      " skill_fk_accuracy           | 80                   \n",
      " skill_long_passing          | 76                   \n",
      " skill_ball_control          | 90                   \n",
      " movement_acceleration       | 74                   \n",
      " movement_sprint_speed       | 77                   \n",
      " movement_agility            | 86                   \n",
      " movement_reactions          | 85                   \n",
      " movement_balance            | 41                   \n",
      " power_shot_power            | 93                   \n",
      " power_jumping               | 72                   \n",
      " power_stamina               | 78                   \n",
      " power_strength              | 93                   \n",
      " power_long_shots            | 88                   \n",
      " mentality_aggression        | 84                   \n",
      " mentality_interceptions     | 20                   \n",
      " mentality_positioning       | 86                   \n",
      " mentality_vision            | 83                   \n",
      " mentality_penalties         | 91                   \n",
      " mentality_composure         | null                 \n",
      " defending_marking_awareness | 25                   \n",
      " defending_standing_tackle   | 41                   \n",
      " defending_sliding_tackle    | 27                   \n",
      " goalkeeping_diving          | 13                   \n",
      " goalkeeping_handling        | 15                   \n",
      " goalkeeping_kicking         | 10                   \n",
      " goalkeeping_positioning     | 9                    \n",
      " goalkeeping_reflexes        | 12                   \n",
      " goalkeeping_speed           | null                 \n",
      " ls                          | 87+3                 \n",
      " st                          | 87+3                 \n",
      " rs                          | 87+3                 \n",
      " lw                          | 84+3                 \n",
      " lf                          | 86+3                 \n",
      " cf                          | 86+3                 \n",
      " rf                          | 86+3                 \n",
      " rw                          | 84+3                 \n",
      " lam                         | 86+3                 \n",
      " cam                         | 86+3                 \n",
      " ram                         | 86+3                 \n",
      " lm                          | 83+3                 \n",
      " lcm                         | 76+3                 \n",
      " cm                          | 76+3                 \n",
      " rcm                         | 76+3                 \n",
      " rm                          | 83+3                 \n",
      " lwb                         | 61+3                 \n",
      " ldm                         | 65+3                 \n",
      " cdm                         | 65+3                 \n",
      " rdm                         | 65+3                 \n",
      " rwb                         | 61+3                 \n",
      " lb                          | 56+3                 \n",
      " lcb                         | 55+3                 \n",
      " cb                          | 55+3                 \n",
      " rcb                         | 55+3                 \n",
      " rb                          | 56+3                 \n",
      " gk                          | 17+3                 \n",
      " player_face_url             | https://cdn.sofif... \n",
      " club_logo_url               | https://cdn.sofif... \n",
      " club_flag_url               | https://cdn.sofif... \n",
      " nation_logo_url             | https://cdn.sofif... \n",
      " nation_flag_url             | https://cdn.sofif... \n",
      " year                        | 2015                 \n",
      " id                          | 3                    \n",
      "only showing top 4 rows\n",
      "\n"
     ]
    },
    {
     "name": "stderr",
     "output_type": "stream",
     "text": [
      "\r",
      "[Stage 66:>                                                         (0 + 1) / 1]\r",
      "\r",
      "                                                                                \r"
     ]
    }
   ],
   "source": [
    "df_read.show(4, vertical=True)"
   ]
  },
  {
   "cell_type": "markdown",
   "id": "67c62e08",
   "metadata": {},
   "source": [
    "Columns that need casting:\n",
    "\n",
    "dob - string\n",
    "\n",
    "club_team_id - integer\n",
    "\n",
    "club_joined - string\n",
    "\n",
    "nation_team_id - integer\n",
    "\n",
    "mentality_composure - number\n",
    "\n",
    "release_clause_eur - number\n",
    "\n",
    "ls, st, rs, lw, lf, cf, rf, rw, lam, cam, ram, lm, lcm, cm, rcm, rm, lwb, ldm, cdm, rdm, rwb, lb, lcb, cb, rcb, rb, gk - number"
   ]
  },
  {
   "cell_type": "code",
   "execution_count": 16,
   "id": "74a6a481",
   "metadata": {},
   "outputs": [],
   "source": [
    "# Did some initial casting before the actual pipeline\n",
    "# in order to be able to see correlation between columns properly and look for null values\n",
    "\n",
    "casted_types_df = (df_read.withColumn(\"dob\", df_read.dob.cast(\"String\")) \\\n",
    "                    .withColumn(\"club_team_id\", df_read.club_team_id.cast(\"Integer\")) \\\n",
    "                    .withColumn(\"club_joined\", df_read.club_joined.cast(\"String\")) \\\n",
    "                    .withColumn(\"nation_team_id\", df_read.nation_team_id.cast(\"Integer\")) \\\n",
    "                    .withColumn(\"mentality_composure\", df_read.mentality_composure.cast(\"Integer\"))\n",
    "                  )\n"
   ]
  },
  {
   "cell_type": "code",
   "execution_count": 17,
   "id": "4ffa445e",
   "metadata": {},
   "outputs": [
    {
     "name": "stderr",
     "output_type": "stream",
     "text": [
      "                                                                                \r"
     ]
    },
    {
     "name": "stdout",
     "output_type": "stream",
     "text": [
      "-RECORD 0-------------------------------------------\n",
      " summary                     | count                \n",
      " sofifa_id                   | 142079               \n",
      " player_url                  | 142079               \n",
      " short_name                  | 142079               \n",
      " long_name                   | 142079               \n",
      " player_positions            | 142079               \n",
      " overall                     | 142079               \n",
      " potential                   | 142079               \n",
      " value_eur                   | 140182               \n",
      " wage_eur                    | 140457               \n",
      " age                         | 142079               \n",
      " dob                         | 142079               \n",
      " height_cm                   | 142079               \n",
      " weight_kg                   | 142079               \n",
      " club_team_id                | 140449               \n",
      " club_name                   | 140449               \n",
      " league_name                 | 140449               \n",
      " league_level                | 140064               \n",
      " club_position               | 140449               \n",
      " club_jersey_number          | 140449               \n",
      " club_loaned_from            | 8305                 \n",
      " club_joined                 | 132144               \n",
      " club_contract_valid_until   | 140449               \n",
      " nationality_id              | 142079               \n",
      " nationality_name            | 142079               \n",
      " nation_team_id              | 8444                 \n",
      " nation_position             | 8444                 \n",
      " nation_jersey_number        | 8444                 \n",
      " preferred_foot              | 142079               \n",
      " weak_foot                   | 142079               \n",
      " skill_moves                 | 142079               \n",
      " international_reputation    | 142079               \n",
      " work_rate                   | 142079               \n",
      " body_type                   | 142079               \n",
      " real_face                   | 142079               \n",
      " release_clause_eur          | 86497                \n",
      " player_tags                 | 11314                \n",
      " player_traits               | 63308                \n",
      " pace                        | 126288               \n",
      " shooting                    | 126288               \n",
      " passing                     | 126288               \n",
      " dribbling                   | 126288               \n",
      " defending                   | 126288               \n",
      " physic                      | 126288               \n",
      " attacking_crossing          | 142079               \n",
      " attacking_finishing         | 142079               \n",
      " attacking_heading_accuracy  | 142079               \n",
      " attacking_short_passing     | 142079               \n",
      " attacking_volleys           | 142079               \n",
      " skill_dribbling             | 142079               \n",
      " skill_curve                 | 142079               \n",
      " skill_fk_accuracy           | 142079               \n",
      " skill_long_passing          | 142079               \n",
      " skill_ball_control          | 142079               \n",
      " movement_acceleration       | 142079               \n",
      " movement_sprint_speed       | 142079               \n",
      " movement_agility            | 142079               \n",
      " movement_reactions          | 142079               \n",
      " movement_balance            | 142079               \n",
      " power_shot_power            | 142079               \n",
      " power_jumping               | 142079               \n",
      " power_stamina               | 142079               \n",
      " power_strength              | 142079               \n",
      " power_long_shots            | 142079               \n",
      " mentality_aggression        | 142079               \n",
      " mentality_interceptions     | 142079               \n",
      " mentality_positioning       | 142079               \n",
      " mentality_vision            | 142079               \n",
      " mentality_penalties         | 142079               \n",
      " mentality_composure         | 110301               \n",
      " defending_marking_awareness | 142079               \n",
      " defending_standing_tackle   | 142079               \n",
      " defending_sliding_tackle    | 142079               \n",
      " goalkeeping_diving          | 142079               \n",
      " goalkeeping_handling        | 142079               \n",
      " goalkeeping_kicking         | 142079               \n",
      " goalkeeping_positioning     | 142079               \n",
      " goalkeeping_reflexes        | 142079               \n",
      " goalkeeping_speed           | 15791                \n",
      " ls                          | 142079               \n",
      " st                          | 142079               \n",
      " rs                          | 142079               \n",
      " lw                          | 142079               \n",
      " lf                          | 142079               \n",
      " cf                          | 142079               \n",
      " rf                          | 142079               \n",
      " rw                          | 142079               \n",
      " lam                         | 142079               \n",
      " cam                         | 142079               \n",
      " ram                         | 142079               \n",
      " lm                          | 142079               \n",
      " lcm                         | 142079               \n",
      " cm                          | 142079               \n",
      " rcm                         | 142079               \n",
      " rm                          | 142079               \n",
      " lwb                         | 142079               \n",
      " ldm                         | 142079               \n",
      " cdm                         | 142079               \n",
      " rdm                         | 142079               \n",
      " rwb                         | 142079               \n",
      " lb                          | 142079               \n",
      " lcb                         | 142079               \n",
      " cb                          | 142079               \n",
      " rcb                         | 142079               \n",
      " rb                          | 142079               \n",
      " gk                          | 142079               \n",
      " player_face_url             | 142079               \n",
      " club_logo_url               | 140449               \n",
      " club_flag_url               | 140449               \n",
      " nation_logo_url             | 8444                 \n",
      " nation_flag_url             | 142079               \n",
      " year                        | 142079               \n",
      " id                          | 142079               \n",
      "-RECORD 1-------------------------------------------\n",
      " summary                     | mean                 \n",
      " sofifa_id                   | 211625.23509456008   \n",
      " player_url                  | null                 \n",
      " short_name                  | null                 \n",
      " long_name                   | null                 \n",
      " player_positions            | null                 \n",
      " overall                     | 65.70612124240739    \n",
      " potential                   | 70.72633534864407    \n",
      " value_eur                   | 2268819.556005764    \n",
      " wage_eur                    | 11113.728044882064   \n",
      " age                         | 25.117124979764778   \n",
      " dob                         | null                 \n",
      " height_cm                   | 181.2064696401298    \n",
      " weight_kg                   | 75.24791137325009    \n",
      " club_team_id                | 44486.178762397736   \n",
      " club_name                   | null                 \n",
      " league_name                 | null                 \n",
      " league_level                | 1.3785840758510395   \n",
      " club_position               | null                 \n",
      " club_jersey_number          | 19.99129933285392    \n",
      " club_loaned_from            | null                 \n",
      " club_joined                 | null                 \n",
      " club_contract_valid_until   | 2019.9270838525017   \n",
      " nationality_id              | 55.45034100746768    \n",
      " nationality_name            | null                 \n",
      " nation_team_id              | 30932.4521553766     \n",
      " nation_position             | null                 \n",
      " nation_jersey_number        | 12.082306963524395   \n",
      " preferred_foot              | null                 \n",
      " weak_foot                   | 2.9398785182891207   \n",
      " skill_moves                 | 2.325614622850668    \n",
      " international_reputation    | 1.1100725652629875   \n",
      " work_rate                   | null                 \n",
      " body_type                   | null                 \n",
      " real_face                   | null                 \n",
      " release_clause_eur          | 4683635.074048811    \n",
      " player_tags                 | null                 \n",
      " player_traits               | null                 \n",
      " pace                        | 67.98236570378816    \n",
      " shooting                    | 52.18947960217915    \n",
      " passing                     | 56.887740719624986   \n",
      " dribbling                   | 62.0139443177499     \n",
      " defending                   | 51.05112124667427    \n",
      " physic                      | 64.82793297858862    \n",
      " attacking_crossing          | 49.70754298664827    \n",
      " attacking_finishing         | 45.54516149466142    \n",
      " attacking_heading_accuracy  | 52.3168448539193     \n",
      " attacking_short_passing     | 58.297031932938715   \n",
      " attacking_volleys           | 43.109966990195595   \n",
      " skill_dribbling             | 55.149923634034586   \n",
      " skill_curve                 | 47.27830995432119    \n",
      " skill_fk_accuracy           | 43.07621112198143    \n",
      " skill_long_passing          | 52.50667586342809    \n",
      " skill_ball_control          | 58.19167505401924    \n",
      " movement_acceleration       | 64.70860577566002    \n",
      " movement_sprint_speed       | 64.89272165485399    \n",
      " movement_agility            | 63.37842327156019    \n",
      " movement_reactions          | 61.606662490586224   \n",
      " movement_balance            | 63.92747696703946    \n",
      " power_shot_power            | 56.60058136670444    \n",
      " power_jumping               | 64.98070087768073    \n",
      " power_stamina               | 63.13221517606402    \n",
      " power_strength              | 65.17909050598611    \n",
      " power_long_shots            | 47.214092159995495   \n",
      " mentality_aggression        | 55.74305843931897    \n",
      " mentality_interceptions     | 46.58742671330739    \n",
      " mentality_positioning       | 49.944629396321766   \n",
      " mentality_vision            | 52.94940842770571    \n",
      " mentality_penalties         | 48.748879144701185   \n",
      " mentality_composure         | 57.78757218882875    \n",
      " defending_marking_awareness | 45.664278324030995   \n",
      " defending_standing_tackle   | 47.60740151605797    \n",
      " defending_sliding_tackle    | 45.649913076527845   \n",
      " goalkeeping_diving          | 16.542874034867925   \n",
      " goalkeeping_handling        | 16.28934606803257    \n",
      " goalkeeping_kicking         | 16.14918460856284    \n",
      " goalkeeping_positioning     | 16.297946916856116   \n",
      " goalkeeping_reflexes        | 16.654220539277443   \n",
      " goalkeeping_speed           | 39.53150528782218    \n",
      " ls                          | 54.81334807818758    \n",
      " st                          | 54.81334807818758    \n",
      " rs                          | 54.81334807818758    \n",
      " lw                          | 55.12806260196642    \n",
      " lf                          | 54.88522402834967    \n",
      " cf                          | 54.88522402834967    \n",
      " rf                          | 54.88522402834967    \n",
      " rw                          | 55.12806260196642    \n",
      " lam                         | 55.738903944595      \n",
      " cam                         | 55.738903944595      \n",
      " ram                         | 55.738903944595      \n",
      " lm                          | 56.37554464559681    \n",
      " lcm                         | 54.70401633349586    \n",
      " cm                          | 54.70401633349586    \n",
      " rcm                         | 54.70401633349586    \n",
      " rm                          | 56.37554464559681    \n",
      " lwb                         | 54.04317858688261    \n",
      " ldm                         | 53.622280380904336   \n",
      " cdm                         | 53.622280380904336   \n",
      " rdm                         | 53.622280380904336   \n",
      " rwb                         | 54.04317858688261    \n",
      " lb                          | 52.914347508030914   \n",
      " lcb                         | 53.325146997683674   \n",
      " cb                          | 53.325146997683674   \n",
      " rcb                         | 53.325146997683674   \n",
      " rb                          | 52.914347508030914   \n",
      " gk                          | 19.96679155858712    \n",
      " player_face_url             | null                 \n",
      " club_logo_url               | null                 \n",
      " club_flag_url               | null                 \n",
      " nation_logo_url             | null                 \n",
      " nation_flag_url             | null                 \n",
      " year                        | 2018.6442331379021   \n",
      " id                          | 71039.0              \n",
      "-RECORD 2-------------------------------------------\n",
      " summary                     | stddev               \n",
      " sofifa_id                   | 34846.47349016436    \n",
      " player_url                  | null                 \n",
      " short_name                  | null                 \n",
      " long_name                   | null                 \n",
      " player_positions            | null                 \n",
      " overall                     | 7.064665320890787    \n",
      " potential                   | 6.271695474776942    \n",
      " value_eur                   | 5779822.713381268    \n",
      " wage_eur                    | 22251.563020006663   \n",
      " age                         | 4.659230325339695    \n",
      " dob                         | null                 \n",
      " height_cm                   | 6.734544430878054    \n",
      " weight_kg                   | 6.997584822093159    \n",
      " club_team_id                | 53281.055198274255   \n",
      " club_name                   | null                 \n",
      " league_name                 | null                 \n",
      " league_level                | 0.7484169613886619   \n",
      " club_position               | null                 \n",
      " club_jersey_number          | 16.662096242167486   \n",
      " club_loaned_from            | null                 \n",
      " club_joined                 | null                 \n",
      " club_contract_valid_until   | 2.4605717809534657   \n",
      " nationality_id              | 47.76957048219519    \n",
      " nationality_name            | null                 \n",
      " nation_team_id              | 48574.23148355167    \n",
      " nation_position             | null                 \n",
      " nation_jersey_number        | 6.7138762038045625   \n",
      " preferred_foot              | null                 \n",
      " weak_foot                   | 0.661498038972168    \n",
      " skill_moves                 | 0.7490243878738736   \n",
      " international_reputation    | 0.38724267707238186  \n",
      " work_rate                   | null                 \n",
      " body_type                   | null                 \n",
      " real_face                   | null                 \n",
      " release_clause_eur          | 1.1693326982104983E7 \n",
      " player_tags                 | null                 \n",
      " player_traits               | null                 \n",
      " pace                        | 11.124564473428455   \n",
      " shooting                    | 13.936205680733913   \n",
      " passing                     | 10.553367508445175   \n",
      " dribbling                   | 10.397918346862173   \n",
      " defending                   | 16.694916831666887   \n",
      " physic                      | 9.730786306345866    \n",
      " attacking_crossing          | 18.019113116951935   \n",
      " attacking_finishing         | 19.176532441169275   \n",
      " attacking_heading_accuracy  | 17.102345889019503   \n",
      " attacking_short_passing     | 14.729020177103113   \n",
      " attacking_volleys           | 17.407455977597643   \n",
      " skill_dribbling             | 18.570378972637215   \n",
      " skill_curve                 | 18.102362466763932   \n",
      " skill_fk_accuracy           | 17.26259144757966    \n",
      " skill_long_passing          | 15.288448635437067   \n",
      " skill_ball_control          | 16.560188643954138   \n",
      " movement_acceleration       | 14.659117623469461   \n",
      " movement_sprint_speed       | 14.400646340026158   \n",
      " movement_agility            | 14.669301806108088   \n",
      " movement_reactions          | 9.199194916049304    \n",
      " movement_balance            | 13.972586978072824   \n",
      " power_shot_power            | 15.803619559880124   \n",
      " power_jumping               | 11.852180549204165   \n",
      " power_stamina               | 15.768198456377451   \n",
      " power_strength              | 12.601346372149086   \n",
      " power_long_shots            | 18.9727262598856     \n",
      " mentality_aggression        | 17.251997810412174   \n",
      " mentality_interceptions     | 20.347776167287556   \n",
      " mentality_positioning       | 19.111930250350493   \n",
      " mentality_vision            | 14.358682643371083   \n",
      " mentality_penalties         | 15.6383925437264     \n",
      " mentality_composure         | 12.375479368887417   \n",
      " defending_marking_awareness | 20.456693222747546   \n",
      " defending_standing_tackle   | 21.35237737580635    \n",
      " defending_sliding_tackle    | 20.963372243153717   \n",
      " goalkeeping_diving          | 17.679879844529406   \n",
      " goalkeeping_handling        | 16.82911333407999    \n",
      " goalkeeping_kicking         | 16.45417113578094    \n",
      " goalkeeping_positioning     | 16.991869403720745   \n",
      " goalkeeping_reflexes        | 17.98585638505069    \n",
      " goalkeeping_speed           | 10.434839814686033   \n",
      " ls                          | 12.74252881072756    \n",
      " st                          | 12.74252881072756    \n",
      " rs                          | 12.74252881072756    \n",
      " lw                          | 14.292553220582827   \n",
      " lf                          | 14.02827151379126    \n",
      " cf                          | 14.02827151379126    \n",
      " rf                          | 14.02827151379126    \n",
      " rw                          | 14.292553220582827   \n",
      " lam                         | 13.442923325774144   \n",
      " cam                         | 13.442923325774144   \n",
      " ram                         | 13.442923325774144   \n",
      " lm                          | 13.030542759947345   \n",
      " lcm                         | 12.597124862305039   \n",
      " cm                          | 12.597124862305039   \n",
      " rcm                         | 12.597124862305039   \n",
      " rm                          | 13.030542759947345   \n",
      " lwb                         | 12.517882833940835   \n",
      " ldm                         | 12.613857327271003   \n",
      " cdm                         | 12.613857327271003   \n",
      " rdm                         | 12.613857327271003   \n",
      " rwb                         | 12.517882833940835   \n",
      " lb                          | 12.918156367151603   \n",
      " lcb                         | 13.95208928655254    \n",
      " cb                          | 13.95208928655254    \n",
      " rcb                         | 13.95208928655254    \n",
      " rb                          | 12.918156367151603   \n",
      " gk                          | 15.524511523486249   \n",
      " player_face_url             | null                 \n",
      " club_logo_url               | null                 \n",
      " club_flag_url               | null                 \n",
      " nation_logo_url             | null                 \n",
      " nation_flag_url             | null                 \n",
      " year                        | 2.2773340061176137   \n",
      " id                          | 41014.8187854099     \n",
      "-RECORD 3-------------------------------------------\n",
      " summary                     | min                  \n",
      " sofifa_id                   | 2                    \n",
      " player_url                  | https://sofifa.co... \n",
      " short_name                  | A Lan                \n",
      " long_name                   | A. Benjamin Chiam... \n",
      " player_positions            | CAM                  \n",
      " overall                     | 40                   \n",
      " potential                   | 40                   \n",
      " value_eur                   | 1000.0               \n",
      " wage_eur                    | 500.0                \n",
      " age                         | 16                   \n",
      " dob                         | 1967-02-26 00:00:00  \n",
      " height_cm                   | 154                  \n",
      " weight_kg                   | 49                   \n",
      " club_team_id                | 1                    \n",
      " club_name                   | 1. FC Heidenheim ... \n",
      " league_name                 | Argentina Primera... \n",
      " league_level                | 1                    \n",
      " club_position               | CAM                  \n",
      " club_jersey_number          | 1                    \n",
      " club_loaned_from            | 1. FC Heidenheim ... \n",
      " club_joined                 | 1991-06-01 00:00:00  \n",
      " club_contract_valid_until   | 2014                 \n",
      " nationality_id              | 1                    \n",
      " nationality_name            | Afghanistan          \n",
      " nation_team_id              | 974                  \n",
      " nation_position             | CAM                  \n",
      " nation_jersey_number        | 1                    \n",
      " preferred_foot              | Left                 \n",
      " weak_foot                   | 1                    \n",
      " skill_moves                 | 1                    \n",
      " international_reputation    | 1                    \n",
      " work_rate                   | High/High            \n",
      " body_type                   | Lean (170-)          \n",
      " real_face                   | No                   \n",
      " release_clause_eur          | 100000               \n",
      " player_tags                 | #Acrobat             \n",
      " player_traits               | Avoids Using Weak... \n",
      " pace                        | 21                   \n",
      " shooting                    | 14                   \n",
      " passing                     | 20                   \n",
      " dribbling                   | 22                   \n",
      " defending                   | 14                   \n",
      " physic                      | 27                   \n",
      " attacking_crossing          | 5                    \n",
      " attacking_finishing         | 2                    \n",
      " attacking_heading_accuracy  | 4                    \n",
      " attacking_short_passing     | 7                    \n",
      " attacking_volleys           | 3                    \n",
      " skill_dribbling             | 2                    \n",
      " skill_curve                 | 4                    \n",
      " skill_fk_accuracy           | 3                    \n",
      " skill_long_passing          | 5                    \n",
      " skill_ball_control          | 5                    \n",
      " movement_acceleration       | 11                   \n",
      " movement_sprint_speed       | 11                   \n",
      " movement_agility            | 11                   \n",
      " movement_reactions          | 20                   \n",
      " movement_balance            | 10                   \n",
      " power_shot_power            | 2                    \n",
      " power_jumping               | 13                   \n",
      " power_stamina               | 10                   \n",
      " power_strength              | 12                   \n",
      " power_long_shots            | 3                    \n",
      " mentality_aggression        | 2                    \n",
      " mentality_interceptions     | 3                    \n",
      " mentality_positioning       | 2                    \n",
      " mentality_vision            | 5                    \n",
      " mentality_penalties         | 5                    \n",
      " mentality_composure         | 3                    \n",
      " defending_marking_awareness | 1                    \n",
      " defending_standing_tackle   | 2                    \n",
      " defending_sliding_tackle    | 3                    \n",
      " goalkeeping_diving          | 1                    \n",
      " goalkeeping_handling        | 1                    \n",
      " goalkeeping_kicking         | 1                    \n",
      " goalkeeping_positioning     | 1                    \n",
      " goalkeeping_reflexes        | 1                    \n",
      " goalkeeping_speed           | 12                   \n",
      " ls                          | 14+1                 \n",
      " st                          | 14+1                 \n",
      " rs                          | 14+1                 \n",
      " lw                          | 13                   \n",
      " lf                          | 14                   \n",
      " cf                          | 14                   \n",
      " rf                          | 14                   \n",
      " rw                          | 13                   \n",
      " lam                         | 14+2                 \n",
      " cam                         | 14+2                 \n",
      " ram                         | 14+2                 \n",
      " lm                          | 15+1                 \n",
      " lcm                         | 15+1                 \n",
      " cm                          | 15+1                 \n",
      " rcm                         | 15+1                 \n",
      " rm                          | 15+1                 \n",
      " lwb                         | 14+1                 \n",
      " ldm                         | 15+1                 \n",
      " cdm                         | 15+1                 \n",
      " rdm                         | 15+1                 \n",
      " rwb                         | 14+1                 \n",
      " lb                          | 14+1                 \n",
      " lcb                         | 15+2                 \n",
      " cb                          | 15+2                 \n",
      " rcb                         | 15+2                 \n",
      " rb                          | 14+1                 \n",
      " gk                          | 10                   \n",
      " player_face_url             | https://cdn.sofif... \n",
      " club_logo_url               | https://cdn.sofif... \n",
      " club_flag_url               | https://cdn.sofif... \n",
      " nation_logo_url             | https://cdn.sofif... \n",
      " nation_flag_url             | https://cdn.sofif... \n",
      " year                        | 2015                 \n",
      " id                          | 0                    \n",
      "-RECORD 4-------------------------------------------\n",
      " summary                     | max                  \n",
      " sofifa_id                   | 264640               \n",
      " player_url                  | https://sofifa.co... \n",
      " short_name                  | Ș. Vlădoiu           \n",
      " long_name                   | 李相旭               \n",
      " player_positions            | ST, RWB, RM          \n",
      " overall                     | 94                   \n",
      " potential                   | 95                   \n",
      " value_eur                   | 1.94E8               \n",
      " wage_eur                    | 575000.0             \n",
      " age                         | 54                   \n",
      " dob                         | 2004-09-14 00:00:00  \n",
      " height_cm                   | 208                  \n",
      " weight_kg                   | 110                  \n",
      " club_team_id                | 115820               \n",
      " club_name                   | Śląsk Wrocław        \n",
      " league_name                 | Venezuelan Primer... \n",
      " league_level                | 5                    \n",
      " club_position               | SUB                  \n",
      " club_jersey_number          | 99                   \n",
      " club_loaned_from            | Śląsk Wrocław        \n",
      " club_joined                 | 2021-09-15 00:00:00  \n",
      " club_contract_valid_until   | 2031                 \n",
      " nationality_id              | 219                  \n",
      " nationality_name            | Zimbabwe             \n",
      " nation_team_id              | 111487               \n",
      " nation_position             | SUB                  \n",
      " nation_jersey_number        | 30                   \n",
      " preferred_foot              | Right                \n",
      " weak_foot                   | 5                    \n",
      " skill_moves                 | 5                    \n",
      " international_reputation    | 5                    \n",
      " work_rate                   | Medium/Medium        \n",
      " body_type                   | Unique               \n",
      " real_face                   | Yes                  \n",
      " release_clause_eur          | 99900000             \n",
      " player_tags                 | #Tactician           \n",
      " player_traits               | Through Ball         \n",
      " pace                        | 97                   \n",
      " shooting                    | 94                   \n",
      " passing                     | 93                   \n",
      " dribbling                   | 96                   \n",
      " defending                   | 91                   \n",
      " physic                      | 92                   \n",
      " attacking_crossing          | 94                   \n",
      " attacking_finishing         | 95                   \n",
      " attacking_heading_accuracy  | 95                   \n",
      " attacking_short_passing     | 95                   \n",
      " attacking_volleys           | 93                   \n",
      " skill_dribbling             | 97                   \n",
      " skill_curve                 | 94                   \n",
      " skill_fk_accuracy           | 95                   \n",
      " skill_long_passing          | 95                   \n",
      " skill_ball_control          | 96                   \n",
      " movement_acceleration       | 97                   \n",
      " movement_sprint_speed       | 97                   \n",
      " movement_agility            | 96                   \n",
      " movement_reactions          | 96                   \n",
      " movement_balance            | 97                   \n",
      " power_shot_power            | 96                   \n",
      " power_jumping               | 97                   \n",
      " power_stamina               | 97                   \n",
      " power_strength              | 98                   \n",
      " power_long_shots            | 94                   \n",
      " mentality_aggression        | 96                   \n",
      " mentality_interceptions     | 93                   \n",
      " mentality_positioning       | 96                   \n",
      " mentality_vision            | 96                   \n",
      " mentality_penalties         | 96                   \n",
      " mentality_composure         | 96                   \n",
      " defending_marking_awareness | 94                   \n",
      " defending_standing_tackle   | 94                   \n",
      " defending_sliding_tackle    | 95                   \n",
      " goalkeeping_diving          | 91                   \n",
      " goalkeeping_handling        | 92                   \n",
      " goalkeeping_kicking         | 95                   \n",
      " goalkeeping_positioning     | 92                   \n",
      " goalkeeping_reflexes        | 94                   \n",
      " goalkeeping_speed           | 68                   \n",
      " ls                          | 92+2                 \n",
      " st                          | 92+2                 \n",
      " rs                          | 92+2                 \n",
      " lw                          | 93+1                 \n",
      " lf                          | 93+1                 \n",
      " cf                          | 93+1                 \n",
      " rf                          | 93+1                 \n",
      " rw                          | 93+1                 \n",
      " lam                         | 94                   \n",
      " cam                         | 94                   \n",
      " ram                         | 94                   \n",
      " lm                          | 92+2                 \n",
      " lcm                         | 89+2                 \n",
      " cm                          | 89+2                 \n",
      " rcm                         | 89+2                 \n",
      " rm                          | 92+2                 \n",
      " lwb                         | 88-1                 \n",
      " ldm                         | 87+3                 \n",
      " cdm                         | 87+3                 \n",
      " rdm                         | 87+3                 \n",
      " rwb                         | 88-1                 \n",
      " lb                          | 86+1                 \n",
      " lcb                         | 89+2                 \n",
      " cb                          | 89+2                 \n",
      " rcb                         | 89+2                 \n",
      " rb                          | 86+1                 \n",
      " gk                          | 90+2                 \n",
      " player_face_url             | https://cdn.sofif... \n",
      " club_logo_url               | https://cdn.sofif... \n",
      " club_flag_url               | https://cdn.sofif... \n",
      " nation_logo_url             | https://cdn.sofif... \n",
      " nation_flag_url             | https://cdn.sofif... \n",
      " year                        | 2022                 \n",
      " id                          | 142078               \n",
      "\n"
     ]
    }
   ],
   "source": [
    "casted_types_df.describe().show(vertical=True)"
   ]
  },
  {
   "cell_type": "markdown",
   "id": "50610a1b",
   "metadata": {},
   "source": [
    "Create a correlation matrix and check for columns with more than 80% correlation between them"
   ]
  },
  {
   "cell_type": "code",
   "execution_count": 18,
   "id": "79a223f1",
   "metadata": {},
   "outputs": [
    {
     "name": "stderr",
     "output_type": "stream",
     "text": [
      "                                                                                \r"
     ]
    }
   ],
   "source": [
    "correlation_matrix = casted_types_df.toPandas().corr()"
   ]
  },
  {
   "cell_type": "code",
   "execution_count": 19,
   "id": "1398012b",
   "metadata": {},
   "outputs": [
    {
     "data": {
      "text/html": [
       "<div>\n",
       "<style scoped>\n",
       "    .dataframe tbody tr th:only-of-type {\n",
       "        vertical-align: middle;\n",
       "    }\n",
       "\n",
       "    .dataframe tbody tr th {\n",
       "        vertical-align: top;\n",
       "    }\n",
       "\n",
       "    .dataframe thead th {\n",
       "        text-align: right;\n",
       "    }\n",
       "</style>\n",
       "<table border=\"1\" class=\"dataframe\">\n",
       "  <thead>\n",
       "    <tr style=\"text-align: right;\">\n",
       "      <th></th>\n",
       "      <th>sofifa_id</th>\n",
       "      <th>overall</th>\n",
       "      <th>potential</th>\n",
       "      <th>value_eur</th>\n",
       "      <th>wage_eur</th>\n",
       "      <th>age</th>\n",
       "      <th>height_cm</th>\n",
       "      <th>weight_kg</th>\n",
       "      <th>club_team_id</th>\n",
       "      <th>league_level</th>\n",
       "      <th>...</th>\n",
       "      <th>defending_standing_tackle</th>\n",
       "      <th>defending_sliding_tackle</th>\n",
       "      <th>goalkeeping_diving</th>\n",
       "      <th>goalkeeping_handling</th>\n",
       "      <th>goalkeeping_kicking</th>\n",
       "      <th>goalkeeping_positioning</th>\n",
       "      <th>goalkeeping_reflexes</th>\n",
       "      <th>goalkeeping_speed</th>\n",
       "      <th>year</th>\n",
       "      <th>id</th>\n",
       "    </tr>\n",
       "  </thead>\n",
       "  <tbody>\n",
       "    <tr>\n",
       "      <th>passing</th>\n",
       "      <td>-0.307851</td>\n",
       "      <td>0.677281</td>\n",
       "      <td>0.456374</td>\n",
       "      <td>0.401130</td>\n",
       "      <td>0.424744</td>\n",
       "      <td>0.330951</td>\n",
       "      <td>-0.272348</td>\n",
       "      <td>-0.180681</td>\n",
       "      <td>-0.127026</td>\n",
       "      <td>-0.174327</td>\n",
       "      <td>...</td>\n",
       "      <td>0.120986</td>\n",
       "      <td>0.093444</td>\n",
       "      <td>0.023720</td>\n",
       "      <td>0.032269</td>\n",
       "      <td>0.029677</td>\n",
       "      <td>0.023152</td>\n",
       "      <td>0.026857</td>\n",
       "      <td>NaN</td>\n",
       "      <td>0.036093</td>\n",
       "      <td>-0.047691</td>\n",
       "    </tr>\n",
       "    <tr>\n",
       "      <th>dribbling</th>\n",
       "      <td>-0.166620</td>\n",
       "      <td>0.600410</td>\n",
       "      <td>0.487096</td>\n",
       "      <td>0.389402</td>\n",
       "      <td>0.389674</td>\n",
       "      <td>0.159526</td>\n",
       "      <td>-0.394867</td>\n",
       "      <td>-0.298686</td>\n",
       "      <td>-0.125699</td>\n",
       "      <td>-0.157314</td>\n",
       "      <td>...</td>\n",
       "      <td>-0.204077</td>\n",
       "      <td>-0.219788</td>\n",
       "      <td>0.010061</td>\n",
       "      <td>0.017674</td>\n",
       "      <td>0.021164</td>\n",
       "      <td>0.008366</td>\n",
       "      <td>0.014209</td>\n",
       "      <td>NaN</td>\n",
       "      <td>0.051217</td>\n",
       "      <td>-0.022019</td>\n",
       "    </tr>\n",
       "    <tr>\n",
       "      <th>attacking_crossing</th>\n",
       "      <td>-0.132488</td>\n",
       "      <td>0.396761</td>\n",
       "      <td>0.266526</td>\n",
       "      <td>0.227232</td>\n",
       "      <td>0.253765</td>\n",
       "      <td>0.131272</td>\n",
       "      <td>-0.478272</td>\n",
       "      <td>-0.393012</td>\n",
       "      <td>-0.067020</td>\n",
       "      <td>-0.081738</td>\n",
       "      <td>...</td>\n",
       "      <td>0.413222</td>\n",
       "      <td>0.397107</td>\n",
       "      <td>-0.651215</td>\n",
       "      <td>-0.649375</td>\n",
       "      <td>-0.648342</td>\n",
       "      <td>-0.648888</td>\n",
       "      <td>-0.650954</td>\n",
       "      <td>0.278580</td>\n",
       "      <td>-0.006102</td>\n",
       "      <td>-0.055601</td>\n",
       "    </tr>\n",
       "    <tr>\n",
       "      <th>attacking_short_passing</th>\n",
       "      <td>-0.122802</td>\n",
       "      <td>0.497018</td>\n",
       "      <td>0.383729</td>\n",
       "      <td>0.296031</td>\n",
       "      <td>0.314753</td>\n",
       "      <td>0.134887</td>\n",
       "      <td>-0.356334</td>\n",
       "      <td>-0.291827</td>\n",
       "      <td>-0.085158</td>\n",
       "      <td>-0.116210</td>\n",
       "      <td>...</td>\n",
       "      <td>0.522544</td>\n",
       "      <td>0.489599</td>\n",
       "      <td>-0.719706</td>\n",
       "      <td>-0.717546</td>\n",
       "      <td>-0.714398</td>\n",
       "      <td>-0.715072</td>\n",
       "      <td>-0.718967</td>\n",
       "      <td>0.290380</td>\n",
       "      <td>0.034201</td>\n",
       "      <td>-0.027380</td>\n",
       "    </tr>\n",
       "    <tr>\n",
       "      <th>skill_long_passing</th>\n",
       "      <td>-0.169145</td>\n",
       "      <td>0.480906</td>\n",
       "      <td>0.341384</td>\n",
       "      <td>0.275719</td>\n",
       "      <td>0.301308</td>\n",
       "      <td>0.181861</td>\n",
       "      <td>-0.322111</td>\n",
       "      <td>-0.260164</td>\n",
       "      <td>-0.082233</td>\n",
       "      <td>-0.113195</td>\n",
       "      <td>...</td>\n",
       "      <td>0.572509</td>\n",
       "      <td>0.547333</td>\n",
       "      <td>-0.589799</td>\n",
       "      <td>-0.587297</td>\n",
       "      <td>-0.584105</td>\n",
       "      <td>-0.585223</td>\n",
       "      <td>-0.588864</td>\n",
       "      <td>0.245466</td>\n",
       "      <td>0.021389</td>\n",
       "      <td>-0.038811</td>\n",
       "    </tr>\n",
       "    <tr>\n",
       "      <th>skill_ball_control</th>\n",
       "      <td>-0.097512</td>\n",
       "      <td>0.456417</td>\n",
       "      <td>0.369219</td>\n",
       "      <td>0.275703</td>\n",
       "      <td>0.293757</td>\n",
       "      <td>0.085460</td>\n",
       "      <td>-0.409164</td>\n",
       "      <td>-0.339398</td>\n",
       "      <td>-0.089144</td>\n",
       "      <td>-0.095546</td>\n",
       "      <td>...</td>\n",
       "      <td>0.399255</td>\n",
       "      <td>0.366503</td>\n",
       "      <td>-0.780761</td>\n",
       "      <td>-0.778650</td>\n",
       "      <td>-0.775539</td>\n",
       "      <td>-0.776170</td>\n",
       "      <td>-0.779829</td>\n",
       "      <td>0.370070</td>\n",
       "      <td>0.014349</td>\n",
       "      <td>-0.041757</td>\n",
       "    </tr>\n",
       "    <tr>\n",
       "      <th>mentality_vision</th>\n",
       "      <td>-0.171180</td>\n",
       "      <td>0.489190</td>\n",
       "      <td>0.358897</td>\n",
       "      <td>0.321083</td>\n",
       "      <td>0.326438</td>\n",
       "      <td>0.186315</td>\n",
       "      <td>-0.366693</td>\n",
       "      <td>-0.290833</td>\n",
       "      <td>-0.097182</td>\n",
       "      <td>-0.111277</td>\n",
       "      <td>...</td>\n",
       "      <td>0.151052</td>\n",
       "      <td>0.116723</td>\n",
       "      <td>-0.411272</td>\n",
       "      <td>-0.405395</td>\n",
       "      <td>-0.403184</td>\n",
       "      <td>-0.404067</td>\n",
       "      <td>-0.409367</td>\n",
       "      <td>0.045656</td>\n",
       "      <td>0.062335</td>\n",
       "      <td>0.001023</td>\n",
       "    </tr>\n",
       "  </tbody>\n",
       "</table>\n",
       "<p>7 rows × 61 columns</p>\n",
       "</div>"
      ],
      "text/plain": [
       "                         sofifa_id   overall  potential  value_eur  wage_eur  \\\n",
       "passing                  -0.307851  0.677281   0.456374   0.401130  0.424744   \n",
       "dribbling                -0.166620  0.600410   0.487096   0.389402  0.389674   \n",
       "attacking_crossing       -0.132488  0.396761   0.266526   0.227232  0.253765   \n",
       "attacking_short_passing  -0.122802  0.497018   0.383729   0.296031  0.314753   \n",
       "skill_long_passing       -0.169145  0.480906   0.341384   0.275719  0.301308   \n",
       "skill_ball_control       -0.097512  0.456417   0.369219   0.275703  0.293757   \n",
       "mentality_vision         -0.171180  0.489190   0.358897   0.321083  0.326438   \n",
       "\n",
       "                              age  height_cm  weight_kg  club_team_id  \\\n",
       "passing                  0.330951  -0.272348  -0.180681     -0.127026   \n",
       "dribbling                0.159526  -0.394867  -0.298686     -0.125699   \n",
       "attacking_crossing       0.131272  -0.478272  -0.393012     -0.067020   \n",
       "attacking_short_passing  0.134887  -0.356334  -0.291827     -0.085158   \n",
       "skill_long_passing       0.181861  -0.322111  -0.260164     -0.082233   \n",
       "skill_ball_control       0.085460  -0.409164  -0.339398     -0.089144   \n",
       "mentality_vision         0.186315  -0.366693  -0.290833     -0.097182   \n",
       "\n",
       "                         league_level  ...  defending_standing_tackle  \\\n",
       "passing                     -0.174327  ...                   0.120986   \n",
       "dribbling                   -0.157314  ...                  -0.204077   \n",
       "attacking_crossing          -0.081738  ...                   0.413222   \n",
       "attacking_short_passing     -0.116210  ...                   0.522544   \n",
       "skill_long_passing          -0.113195  ...                   0.572509   \n",
       "skill_ball_control          -0.095546  ...                   0.399255   \n",
       "mentality_vision            -0.111277  ...                   0.151052   \n",
       "\n",
       "                         defending_sliding_tackle  goalkeeping_diving  \\\n",
       "passing                                  0.093444            0.023720   \n",
       "dribbling                               -0.219788            0.010061   \n",
       "attacking_crossing                       0.397107           -0.651215   \n",
       "attacking_short_passing                  0.489599           -0.719706   \n",
       "skill_long_passing                       0.547333           -0.589799   \n",
       "skill_ball_control                       0.366503           -0.780761   \n",
       "mentality_vision                         0.116723           -0.411272   \n",
       "\n",
       "                         goalkeeping_handling  goalkeeping_kicking  \\\n",
       "passing                              0.032269             0.029677   \n",
       "dribbling                            0.017674             0.021164   \n",
       "attacking_crossing                  -0.649375            -0.648342   \n",
       "attacking_short_passing             -0.717546            -0.714398   \n",
       "skill_long_passing                  -0.587297            -0.584105   \n",
       "skill_ball_control                  -0.778650            -0.775539   \n",
       "mentality_vision                    -0.405395            -0.403184   \n",
       "\n",
       "                         goalkeeping_positioning  goalkeeping_reflexes  \\\n",
       "passing                                 0.023152              0.026857   \n",
       "dribbling                               0.008366              0.014209   \n",
       "attacking_crossing                     -0.648888             -0.650954   \n",
       "attacking_short_passing                -0.715072             -0.718967   \n",
       "skill_long_passing                     -0.585223             -0.588864   \n",
       "skill_ball_control                     -0.776170             -0.779829   \n",
       "mentality_vision                       -0.404067             -0.409367   \n",
       "\n",
       "                         goalkeeping_speed      year        id  \n",
       "passing                                NaN  0.036093 -0.047691  \n",
       "dribbling                              NaN  0.051217 -0.022019  \n",
       "attacking_crossing                0.278580 -0.006102 -0.055601  \n",
       "attacking_short_passing           0.290380  0.034201 -0.027380  \n",
       "skill_long_passing                0.245466  0.021389 -0.038811  \n",
       "skill_ball_control                0.370070  0.014349 -0.041757  \n",
       "mentality_vision                  0.045656  0.062335  0.001023  \n",
       "\n",
       "[7 rows x 61 columns]"
      ]
     },
     "execution_count": 19,
     "metadata": {},
     "output_type": "execute_result"
    }
   ],
   "source": [
    "correlation_matrix[correlation_matrix.iloc[20].abs() >= 0.8]"
   ]
  },
  {
   "cell_type": "code",
   "execution_count": 20,
   "id": "4e6178a1",
   "metadata": {},
   "outputs": [
    {
     "data": {
      "text/plain": [
       "sofifa_id                 -0.166620\n",
       "overall                    0.600410\n",
       "potential                  0.487096\n",
       "value_eur                  0.389402\n",
       "wage_eur                   0.389674\n",
       "                             ...   \n",
       "goalkeeping_positioning    0.008366\n",
       "goalkeeping_reflexes       0.014209\n",
       "goalkeeping_speed               NaN\n",
       "year                       0.051217\n",
       "id                        -0.022019\n",
       "Name: dribbling, Length: 61, dtype: float64"
      ]
     },
     "execution_count": 20,
     "metadata": {},
     "output_type": "execute_result"
    }
   ],
   "source": [
    "correlation_matrix.iloc[21]"
   ]
  },
  {
   "cell_type": "code",
   "execution_count": 21,
   "id": "e59e20a3",
   "metadata": {},
   "outputs": [],
   "source": [
    "# List of columns with correlation greater than 80% to another, these will be dropped.\n",
    "\n",
    "correlated_columns = ['defending_marking_awareness', 'defending_standing_tackle', 'defending_sliding_tackle', \n",
    " 'mentality_interceptions', 'movement_acceleration', 'movement_sprint_speed', \n",
    " 'attacking_finishing', 'attacking_volleys', 'power_shot_power', 'power_long_shots', \n",
    " 'mentality_positioning', 'dribbling', 'attacking_crossing', 'attacking_short_passing', \n",
    " 'skill_long_passing', 'skill_ball_control', 'power_strength', 'skill_curve', 'goalkeeping_diving', \n",
    " 'goalkeeping_handling', 'goalkeping_kicking', 'goalkeeping_positioning', 'ls', 'st', 'rs', 'lam', 'cam', \n",
    " 'ram', 'lm', 'cm', 'rcm', 'rm', 'lwb', 'ldm', 'cdm', 'rdm', 'rwb', 'lb', 'lcb', 'cb', 'rcb', 'rb', 'lw', \n",
    " 'lf', 'rf', 'rw']"
   ]
  },
  {
   "cell_type": "code",
   "execution_count": 22,
   "id": "8abd773d",
   "metadata": {},
   "outputs": [
    {
     "name": "stderr",
     "output_type": "stream",
     "text": [
      "\r",
      "[Stage 71:>                                                         (0 + 1) / 1]\r"
     ]
    },
    {
     "name": "stdout",
     "output_type": "stream",
     "text": [
      "-RECORD 0-----------------------------\n",
      " sofifa_id                   | 0      \n",
      " player_url                  | 0      \n",
      " short_name                  | 0      \n",
      " long_name                   | 0      \n",
      " player_positions            | 0      \n",
      " overall                     | 0      \n",
      " potential                   | 0      \n",
      " value_eur                   | 1897   \n",
      " wage_eur                    | 1622   \n",
      " age                         | 0      \n",
      " dob                         | 0      \n",
      " height_cm                   | 0      \n",
      " weight_kg                   | 0      \n",
      " club_team_id                | 1630   \n",
      " club_name                   | 1630   \n",
      " league_name                 | 1630   \n",
      " league_level                | 2015   \n",
      " club_position               | 1630   \n",
      " club_jersey_number          | 1630   \n",
      " club_loaned_from            | 133774 \n",
      " club_joined                 | 9935   \n",
      " club_contract_valid_until   | 1630   \n",
      " nationality_id              | 0      \n",
      " nationality_name            | 0      \n",
      " nation_team_id              | 133635 \n",
      " nation_position             | 133635 \n",
      " nation_jersey_number        | 133635 \n",
      " preferred_foot              | 0      \n",
      " weak_foot                   | 0      \n",
      " skill_moves                 | 0      \n",
      " international_reputation    | 0      \n",
      " work_rate                   | 0      \n",
      " body_type                   | 0      \n",
      " real_face                   | 0      \n",
      " release_clause_eur          | 55582  \n",
      " player_tags                 | 130765 \n",
      " player_traits               | 78771  \n",
      " pace                        | 15791  \n",
      " shooting                    | 15791  \n",
      " passing                     | 15791  \n",
      " dribbling                   | 15791  \n",
      " defending                   | 15791  \n",
      " physic                      | 15791  \n",
      " attacking_crossing          | 0      \n",
      " attacking_finishing         | 0      \n",
      " attacking_heading_accuracy  | 0      \n",
      " attacking_short_passing     | 0      \n",
      " attacking_volleys           | 0      \n",
      " skill_dribbling             | 0      \n",
      " skill_curve                 | 0      \n",
      " skill_fk_accuracy           | 0      \n",
      " skill_long_passing          | 0      \n",
      " skill_ball_control          | 0      \n",
      " movement_acceleration       | 0      \n",
      " movement_sprint_speed       | 0      \n",
      " movement_agility            | 0      \n",
      " movement_reactions          | 0      \n",
      " movement_balance            | 0      \n",
      " power_shot_power            | 0      \n",
      " power_jumping               | 0      \n",
      " power_stamina               | 0      \n",
      " power_strength              | 0      \n",
      " power_long_shots            | 0      \n",
      " mentality_aggression        | 0      \n",
      " mentality_interceptions     | 0      \n",
      " mentality_positioning       | 0      \n",
      " mentality_vision            | 0      \n",
      " mentality_penalties         | 0      \n",
      " mentality_composure         | 31778  \n",
      " defending_marking_awareness | 0      \n",
      " defending_standing_tackle   | 0      \n",
      " defending_sliding_tackle    | 0      \n",
      " goalkeeping_diving          | 0      \n",
      " goalkeeping_handling        | 0      \n",
      " goalkeeping_kicking         | 0      \n",
      " goalkeeping_positioning     | 0      \n",
      " goalkeeping_reflexes        | 0      \n",
      " goalkeeping_speed           | 126288 \n",
      " ls                          | 0      \n",
      " st                          | 0      \n",
      " rs                          | 0      \n",
      " lw                          | 0      \n",
      " lf                          | 0      \n",
      " cf                          | 0      \n",
      " rf                          | 0      \n",
      " rw                          | 0      \n",
      " lam                         | 0      \n",
      " cam                         | 0      \n",
      " ram                         | 0      \n",
      " lm                          | 0      \n",
      " lcm                         | 0      \n",
      " cm                          | 0      \n",
      " rcm                         | 0      \n",
      " rm                          | 0      \n",
      " lwb                         | 0      \n",
      " ldm                         | 0      \n",
      " cdm                         | 0      \n",
      " rdm                         | 0      \n",
      " rwb                         | 0      \n",
      " lb                          | 0      \n",
      " lcb                         | 0      \n",
      " cb                          | 0      \n",
      " rcb                         | 0      \n",
      " rb                          | 0      \n",
      " gk                          | 0      \n",
      " player_face_url             | 0      \n",
      " club_logo_url               | 1630   \n",
      " club_flag_url               | 1630   \n",
      " nation_logo_url             | 133635 \n",
      " nation_flag_url             | 0      \n",
      " year                        | 0      \n",
      " id                          | 0      \n",
      "\n"
     ]
    },
    {
     "name": "stderr",
     "output_type": "stream",
     "text": [
      "\r",
      "                                                                                \r"
     ]
    }
   ],
   "source": [
    "# Count number of null values in each column. Columns with over 50% of null rows will be dropped.\n",
    "from pyspark.sql.functions import *\n",
    "\n",
    "null_counts_df = casted_types_df.select([count(when(isnan(c) | col(c).isNull(), c)).alias(c) \\\n",
    "                        for c in casted_types_df.columns])\n",
    "\n",
    "null_counts_df.show(truncate=False, vertical=True)"
   ]
  },
  {
   "cell_type": "code",
   "execution_count": 23,
   "id": "737f41eb",
   "metadata": {},
   "outputs": [
    {
     "data": {
      "text/plain": [
       "71039"
      ]
     },
     "execution_count": 23,
     "metadata": {},
     "output_type": "execute_result"
    }
   ],
   "source": [
    "casted_types_df.count()//2"
   ]
  },
  {
   "cell_type": "markdown",
   "id": "4f9b9bad",
   "metadata": {},
   "source": [
    "### Columns that will be dropped:\n",
    "\n",
    "Columns that have over 50% null values (71039) will be dropped:\n",
    "\n",
    "    - club_loaned_from\n",
    "    - nation_team_id\n",
    "    - nation_position\n",
    "    - nation_jersey_number\n",
    "    - player_tags\n",
    "    - player_traits\n",
    "    - goalkeeping_speed\n",
    "    - nation_logo_url\n",
    "\n",
    "Columns with url will be dropped, as they aren't relevant for the player's overall score:\n",
    "\n",
    "    - player_url\n",
    "    - player_face_url\n",
    "    - club_logo_url\n",
    "    - club_flag_url\n",
    "    - nation_flag_url\n",
    "\n",
    "\n",
    "Other columns to be dropped due to not being relevant for the target outcome:\n",
    "\n",
    "    - sofifa_id\n",
    "    - short_name\n",
    "    - long_name\n",
    "    - dob (age column contains similar information)\n",
    "    - real_face\n",
    "    - club_jersey_number\n",
    "    - player_positions (conversion to one hot encoded is difficult)\n",
    "\n",
    "Columns to be dropped because an id/encoded column for that feature already exists:\n",
    "\n",
    "    - club_name\n",
    "    - nationality_name"
   ]
  },
  {
   "cell_type": "markdown",
   "id": "d389b536",
   "metadata": {},
   "source": [
    "# Task 3"
   ]
  },
  {
   "cell_type": "markdown",
   "id": "e9496c34",
   "metadata": {},
   "source": [
    "First, the data and feature engineering pipeline is defined according to the previous data exploration."
   ]
  },
  {
   "cell_type": "code",
   "execution_count": 24,
   "id": "5ddd751c",
   "metadata": {},
   "outputs": [],
   "source": [
    "from pyspark.ml import Pipeline,Transformer\n",
    "from pyspark.ml.feature import Imputer,StandardScaler,StringIndexer,OneHotEncoder, VectorAssembler\n",
    "\n",
    "import numpy as np\n",
    "\n",
    "col_names = ['sofifa_id', 'player_url', 'short_name', 'long_name', 'player_positions',\n",
    "             'overall', 'potential', 'value_eur', 'wage_eur', 'age', 'dob', 'height_cm',\n",
    "             'weight_kg', 'club_team_id', 'club_name', 'league_name', 'league_level',\n",
    "             'club_position', 'club_jersey_number', 'club_loaned_from', 'club_joined',\n",
    "             'club_contract_valid_until', 'nationality_id', 'nationality_name', 'nation_team_id',\n",
    "             'nation_position', 'nation_jersey_number', 'preferred_foot', 'weak_foot',\n",
    "             'skill_moves', 'international_reputation', 'work_rate', 'body_type', 'real_face',\n",
    "             'release_clause_eur', 'player_tags', 'player_traits', 'pace', 'shooting', 'passing',\n",
    "             'dribbling', 'defending', 'physic', 'attacking_crossing', 'attacking_finishing',\n",
    "             'attacking_heading_accuracy', 'attacking_short_passing', 'attacking_volleys',\n",
    "             'skill_dribbling', 'skill_curve', 'skill_fk_accuracy', 'skill_long_passing',\n",
    "             'skill_ball_control', 'movement_acceleration', 'movement_sprint_speed',\n",
    "             'movement_agility', 'movement_reactions', 'movement_balance', 'power_shot_power',\n",
    "             'power_jumping', 'power_stamina', 'power_strength', 'power_long_shots',\n",
    "             'mentality_aggression', 'mentality_interceptions', 'mentality_positioning',\n",
    "             'mentality_vision', 'mentality_penalties', 'mentality_composure',\n",
    "             'defending_marking_awareness', 'defending_standing_tackle', 'defending_sliding_tackle',\n",
    "             'goalkeeping_diving', 'goalkeeping_handling', 'goalkeeping_kicking',\n",
    "             'goalkeeping_positioning', 'goalkeeping_reflexes', 'goalkeeping_speed', 'ls',\n",
    "             'st', 'rs', 'lw', 'lf', 'cf', 'rf', 'rw', 'lam', 'cam', 'ram', 'lm', 'lcm', 'cm',\n",
    "             'rcm', 'rm', 'lwb', 'ldm', 'cdm', 'rdm', 'rwb', 'lb', 'lcb', 'cb', 'rcb', 'rb',\n",
    "             'gk', 'player_face_url', 'club_logo_url', 'club_flag_url', 'nation_logo_url',\n",
    "             'nation_flag_url', 'year', 'id']\n",
    "\n",
    "nominal_cols = ['league_name', 'club_position','preferred_foot',\n",
    "                'work_rate', 'body_type', 'nationality_name']\n",
    "\n",
    "continuous_cols = ['potential', 'value_eur', 'wage_eur', 'age',\n",
    "       'height_cm', 'weight_kg', 'league_level', \n",
    "       'club_contract_valid_until', 'weak_foot', 'skill_moves',\n",
    "       'international_reputation', 'pace', 'shooting', 'passing', 'dribbling',\n",
    "       'defending', 'physic', 'attacking_crossing', 'attacking_finishing',\n",
    "       'attacking_heading_accuracy', 'attacking_short_passing',\n",
    "       'attacking_volleys', 'skill_dribbling', 'skill_curve',\n",
    "       'skill_fk_accuracy', 'skill_long_passing', 'skill_ball_control',\n",
    "       'movement_acceleration', 'movement_sprint_speed', 'movement_agility',\n",
    "       'movement_reactions', 'movement_balance', 'power_shot_power',\n",
    "       'power_jumping', 'power_stamina', 'power_strength', 'power_long_shots',\n",
    "       'mentality_aggression', 'mentality_interceptions',\n",
    "       'mentality_positioning', 'mentality_vision', 'mentality_penalties',\n",
    "       'mentality_composure', 'defending_marking_awareness',\n",
    "       'defending_standing_tackle', 'defending_sliding_tackle',\n",
    "       'goalkeeping_diving', 'goalkeeping_handling', 'goalkeeping_kicking',\n",
    "       'goalkeeping_positioning', 'goalkeeping_reflexes',\n",
    "       'cf', 'lcm', 'gk']\n",
    "\n",
    "sum_cols = ['cf', 'lcm', 'gk']\n",
    "\n",
    "string_cols = ['ls', 'st', 'rs', 'lw', 'lf', 'rf', 'rw', 'lam', 'cam', 'ram', 'lm', 'cm',\n",
    "             'rcm', 'rm', 'lwb', 'ldm', 'cdm', 'rdm', 'rwb', 'lb', 'lcb', 'cb', 'rcb', 'rb']\n",
    "\n",
    "cols_to_remove = ['dob', 'player_positions', 'club_joined', 'club_loaned_from', 'nation_team_id',\n",
    "                  'nation_position', 'nation_jersey_number', 'player_tags', 'player_traits',\n",
    "                  'goalkeeping_speed', 'nation_logo_url', 'player_url', 'player_face_url',\n",
    "                  'club_logo_url', 'club_flag_url', 'nation_flag_url', 'sofifa_id', 'short_name',\n",
    "                  'long_name', 'real_face', 'club_jersey_number', 'club_team_id', 'nationality_id',\n",
    "                  'club_name', 'release_clause_eur']\n",
    "\n",
    "class OutcomeCreater(Transformer): # this defines a transformer that creates the outcome column\n",
    "    \n",
    "    def __init__(self):\n",
    "        super().__init__()\n",
    "\n",
    "    def _transform(self, dataset):\n",
    "        output_df = dataset.withColumn('outcome', col('overall')).drop(\"overall\")  \n",
    "        # output_df = output_df.withColumn('outcome', col('outcome').cast(DoubleType()))\n",
    "        return output_df\n",
    "\n",
    "def sum_to_int(str):\n",
    "    out=0\n",
    "    for i,c in enumerate(str):\n",
    "        if c == '+':\n",
    "            out = int(str[:i]) + int(str[i+1:])\n",
    "    return out\n",
    "\n",
    "\n",
    "class FeatureTypeCaster(Transformer): # this transformer will cast the columns as appropriate types  \n",
    "    def __init__(self):\n",
    "        super().__init__()\n",
    "\n",
    "    def _transform(self, dataset):\n",
    "        output_df = dataset\n",
    "\n",
    "        to_int = udf(lambda x: sum_to_int(x),IntegerType())\n",
    "        for col_name in sum_cols:\n",
    "            output_df = output_df.withColumn(col_name,to_int(col(col_name)))\n",
    "        for col_name in (continuous_cols):\n",
    "            output_df = output_df.withColumn(col_name,col(col_name).cast(DoubleType()))\n",
    "        \n",
    "        # This simplifies the body_type feature to only the 4 body type labels (unique, stocky, lean, normal)\n",
    "        output_df = output_df.withColumn(\"body_type\", split(output_df.body_type, ' ').getItem(0))\n",
    "        return output_df\n",
    "\n",
    "    \n",
    "class FillNa(Transformer): # this defines a transformer that fills null values with number for imputing\n",
    "    \n",
    "    def __init__(self, columns_to_be_imputed = None):\n",
    "        super().__init__()\n",
    "        self.columns_to_be_imputed=columns_to_be_imputed\n",
    "    def _transform(self, dataset):\n",
    "        output_df = dataset.fillna(-200, self.columns_to_be_imputed)\n",
    "        return output_df\n",
    "    \n",
    "\n",
    "class NaDropper(Transformer): # this defines a transformer that drops rows with null values\n",
    "    \n",
    "    def __init__(self, cols):\n",
    "        self.cols = cols\n",
    "        super().__init__()\n",
    "    def _transform(self, dataset):\n",
    "        output_df = dataset.na.drop(subset = self.cols)\n",
    "        return output_df\n",
    "    \n",
    "    \n",
    "class ColumnDropper(Transformer): # this transformer drops unnecessary columns\n",
    "    def __init__(self, columns_to_drop = None):\n",
    "        super().__init__()\n",
    "        self.columns_to_drop=columns_to_drop\n",
    "    def _transform(self, dataset):\n",
    "        output_df = dataset\n",
    "        for col_name in self.columns_to_drop:\n",
    "            output_df = output_df.drop(col_name)\n",
    "        return output_df\n",
    "\n",
    "def get_preprocess_pipeline():\n",
    "    # Stage where columns are casted as appropriate types\n",
    "    stage_typecaster = FeatureTypeCaster()\n",
    "\n",
    "    cols_to_be_imputed = ['value_eur', 'wage_eur',\n",
    "       'club_contract_valid_until', 'pace', 'shooting', 'passing', 'dribbling',\n",
    "       'defending', 'physic', 'mentality_composure']\n",
    "#     imputed_cols = [x+\"_imputed\" for x in cols_to_be_imputed]\n",
    "    \n",
    "#     value_not_in_dataset = -200\n",
    "#     stage_fillna = FillNa(columns_to_be_imputed = cols_to_be_imputed)\n",
    "#     stage_imputer = Imputer (\n",
    "#             inputCols=cols_to_be_imputed,\n",
    "#             outputCols=imputed_cols,\n",
    "#             strategy = \"median\",\n",
    "#             missingValue = value_not_in_dataset)\n",
    "    \n",
    "#     stage_column_dropper_1 = ColumnDropper(columns_to_drop = cols_to_remove)\n",
    "    stage_na_handler1 = NaDropper(nominal_cols)\n",
    "    \n",
    "    # Stage where nominal columns are transformed to index columns using StringIndexer\n",
    "    nominal_id_cols = [x+\"_index\" for x in nominal_cols]\n",
    "    nominal_onehot_cols = [x+\"_encoded\" for x in nominal_cols]\n",
    "    stage_nominal_indexer = StringIndexer(inputCols = nominal_cols, outputCols = nominal_id_cols )\n",
    "\n",
    "    # Stage where the index columns are further transformed using OneHotEncoder\n",
    "    stage_nominal_onehot_encoder = OneHotEncoder(inputCols=nominal_id_cols, outputCols=nominal_onehot_cols)\n",
    "    \n",
    "\n",
    "    # Stage where all relevant features are assembled into a vector (and dropping a few)\n",
    "    feature_cols = (continuous_cols +cols_to_be_imputed + nominal_onehot_cols)\n",
    "    \n",
    "    correlated_cols_to_remove = ['defending_marking_awareness', 'defending_standing_tackle', \n",
    "                    'defending_sliding_tackle', 'mentality_interceptions', 'movement_acceleration', \n",
    "                    'movement_sprint_speed', 'attacking_finishing', 'attacking_volleys', \n",
    "                    'power_shot_power', 'power_long_shots', 'mentality_positioning', \n",
    "                    'attacking_crossing', 'attacking_short_passing', 'skill_long_passing', \n",
    "                    'skill_ball_control', 'power_strength', 'skill_curve', 'goalkeeping_diving', \n",
    "                    'goalkeeping_handling', 'goalkeeping_kicking', 'goalkeeping_positioning']\n",
    "    for col_name in (correlated_cols_to_remove+cols_to_be_imputed):\n",
    "        feature_cols.remove(col_name)\n",
    "    \n",
    "    stage_na_handler2 = NaDropper(feature_cols)\n",
    "\n",
    "    stage_vector_assembler = VectorAssembler(inputCols=feature_cols, outputCol=\"vectorized_features\")\n",
    "\n",
    "    # Stage where we scale the columns\n",
    "    stage_scaler = StandardScaler(inputCol= 'vectorized_features', outputCol= 'features')\n",
    "    \n",
    "\n",
    "    # Stage for creating the outcome column representing whether there is attack \n",
    "    stage_outcome = OutcomeCreater()\n",
    "\n",
    "    # Removing all unnecessary columns, only keeping the 'features' and 'outcome' columns\n",
    "    stage_column_dropper = ColumnDropper(columns_to_drop = cols_to_remove+nominal_cols+nominal_id_cols+\n",
    "        nominal_onehot_cols + cols_to_be_imputed+continuous_cols+string_cols+\n",
    "        ['vectorized_features', 'year', 'id'])\n",
    "    # Connect the columns into a pipeline\n",
    "    pipeline = Pipeline(stages=[stage_typecaster, stage_na_handler1,\n",
    "                                stage_nominal_indexer,stage_nominal_onehot_encoder,\n",
    "        stage_na_handler2, stage_vector_assembler,stage_scaler,stage_outcome,stage_column_dropper])\n",
    "    return pipeline "
   ]
  },
  {
   "cell_type": "markdown",
   "id": "0bb78d84",
   "metadata": {},
   "source": [
    "Run the data through the pipeline to obtain the feature vectors and target columns."
   ]
  },
  {
   "cell_type": "code",
   "execution_count": 25,
   "id": "da72e8d3",
   "metadata": {},
   "outputs": [
    {
     "name": "stderr",
     "output_type": "stream",
     "text": [
      "                                                                                \r"
     ]
    }
   ],
   "source": [
    "preprocess_pipeline = get_preprocess_pipeline()\n",
    "preprocess_pipeline_model = preprocess_pipeline.fit(df_read)\n",
    "\n",
    "fifa_df = preprocess_pipeline_model.transform(df_read)\n",
    "# fifa_df = fifa_df.repartition(30)\n",
    "\n",
    "# Creating the training, validation and test data sets, 60% training data\n",
    "# The remaining 40% split between validation and test data\n",
    "fifa_df_train, fifa_df_validate, fifa_df_test = fifa_df.randomSplit([0.6, 0.2, 0.2], 14813)\n",
    "\n",
    "# Convert the dataframes to pandas in order to be used later on with Tensorflow\n",
    "to_array = udf(lambda v: v.toArray().tolist(), ArrayType(FloatType()))\n",
    "\n",
    "fifa_df_train_pandas = fifa_df_train.withColumn('features', to_array('features')).toPandas()\n",
    "fifa_df_validate_pandas = fifa_df_validate.withColumn('features', to_array('features')).toPandas()\n",
    "fifa_df_test_pandas = fifa_df_test.withColumn('features', to_array('features')).toPandas()"
   ]
  },
  {
   "cell_type": "markdown",
   "id": "e09d9516",
   "metadata": {},
   "source": [
    "## Spark ML: Linear Regression and Random Forest Regression"
   ]
  },
  {
   "cell_type": "code",
   "execution_count": 26,
   "id": "5e4ff90c",
   "metadata": {},
   "outputs": [],
   "source": [
    "from pyspark.ml.evaluation import RegressionEvaluator\n",
    "from pyspark.ml.tuning import ParamGridBuilder, CrossValidator\n",
    "\n",
    "# The evaluator to be used with both Spark ML models.\n",
    "evaluator = RegressionEvaluator(\n",
    "    labelCol=\"outcome\", predictionCol=\"prediction\", metricName=\"mse\")"
   ]
  },
  {
   "cell_type": "markdown",
   "id": "14dbe8a7",
   "metadata": {},
   "source": [
    "Create the linear regression model and train it before doing cross validation"
   ]
  },
  {
   "cell_type": "code",
   "execution_count": 27,
   "id": "f94c978c",
   "metadata": {},
   "outputs": [
    {
     "name": "stderr",
     "output_type": "stream",
     "text": [
      "\r",
      "[Stage 86:>                                                         (0 + 1) / 1]\r"
     ]
    },
    {
     "name": "stdout",
     "output_type": "stream",
     "text": [
      "22/11/29 02:41:19 WARN InstanceBuilder$NativeBLAS: Failed to load implementation from:dev.ludovic.netlib.blas.JNIBLAS\n",
      "22/11/29 02:41:19 WARN InstanceBuilder$NativeBLAS: Failed to load implementation from:dev.ludovic.netlib.blas.ForeignLinkerBLAS\n",
      "22/11/29 02:41:19 WARN InstanceBuilder$JavaBLAS: Failed to load implementation from:dev.ludovic.netlib.blas.VectorBLAS\n",
      "22/11/29 02:41:19 WARN InstanceBuilder$NativeLAPACK: Failed to load implementation from:dev.ludovic.netlib.lapack.JNILAPACK\n"
     ]
    },
    {
     "name": "stderr",
     "output_type": "stream",
     "text": [
      "                                                                                \r"
     ]
    }
   ],
   "source": [
    "from pyspark.ml.regression import LinearRegression\n",
    "\n",
    "lr = LinearRegression(featuresCol = 'features', labelCol = 'outcome', predictionCol = 'prediction',\n",
    "                      maxIter = 100, regParam = 0.05)\n",
    "lr_model = lr.fit(fifa_df_train)\n",
    "\n"
   ]
  },
  {
   "cell_type": "code",
   "execution_count": 28,
   "id": "5835a075",
   "metadata": {},
   "outputs": [
    {
     "name": "stderr",
     "output_type": "stream",
     "text": [
      "[Stage 89:>                                                         (0 + 1) / 1]\r"
     ]
    },
    {
     "name": "stdout",
     "output_type": "stream",
     "text": [
      "Train MSE = 2.73777, test MSE = 2.83255\n"
     ]
    },
    {
     "name": "stderr",
     "output_type": "stream",
     "text": [
      "\r",
      "                                                                                \r"
     ]
    }
   ],
   "source": [
    "lr_prediction_train = lr_model.transform(fifa_df_train)\n",
    "lr_prediction_test = lr_model.transform(fifa_df_test)\n",
    "\n",
    "lr_mse_train = evaluator.evaluate(lr_prediction_train)\n",
    "lr_mse_test = evaluator.evaluate(lr_prediction_test)\n",
    "\n",
    "\n",
    "print(f\"Train MSE = {np.round(lr_mse_train,5)}, test MSE = {np.round(lr_mse_test,5)}\")\n"
   ]
  },
  {
   "cell_type": "markdown",
   "id": "18b83222",
   "metadata": {},
   "source": [
    "Create the cross validation linear regression model and train it, then compare the loss before and after cross-validation."
   ]
  },
  {
   "cell_type": "code",
   "execution_count": 29,
   "id": "ece57545",
   "metadata": {},
   "outputs": [
    {
     "name": "stderr",
     "output_type": "stream",
     "text": [
      "                                                                                \r"
     ]
    }
   ],
   "source": [
    "lr_paramGrid = (ParamGridBuilder()\n",
    "             .addGrid(lr.maxIter, [100, 200, 500])# maximum number of iterations\n",
    "             .addGrid(lr.regParam,[0.0001 ,0.05, 0.1])# Regularization parameter\n",
    "             .build())\n",
    "\n",
    "lr_cv = CrossValidator(estimator=lr, estimatorParamMaps=lr_paramGrid, \n",
    "                    evaluator=evaluator, numFolds=5, parallelism = 4)\n",
    "\n",
    "lr_cv_model = lr_cv.fit(fifa_df_train)\n",
    "\n",
    "lr_cv_prediction_test = lr_cv_model.transform(fifa_df_test)\n",
    "lr_cv_mse = evaluator.evaluate(lr_cv_prediction_test)\n"
   ]
  },
  {
   "cell_type": "code",
   "execution_count": 30,
   "id": "5977bef7",
   "metadata": {},
   "outputs": [
    {
     "name": "stdout",
     "output_type": "stream",
     "text": [
      "Before cross-validation and parameter tuning, MSE=2.83255\n",
      "After cross-validation and parameter tuning, MSE=2.80868\n"
     ]
    }
   ],
   "source": [
    "print(f\"Before cross-validation and parameter tuning, MSE={np.round(lr_mse_test,5)}\")\n",
    "print(f\"After cross-validation and parameter tuning, MSE={np.round(lr_cv_mse,5)}\")"
   ]
  },
  {
   "cell_type": "markdown",
   "id": "1b7d7765",
   "metadata": {},
   "source": [
    "Repeat process above using random forest regression model."
   ]
  },
  {
   "cell_type": "code",
   "execution_count": 31,
   "id": "251c650d",
   "metadata": {},
   "outputs": [
    {
     "name": "stderr",
     "output_type": "stream",
     "text": [
      "                                                                                \r"
     ]
    }
   ],
   "source": [
    "from pyspark.ml.regression import RandomForestRegressor\n",
    "\n",
    "rf = RandomForestRegressor(featuresCol = 'features', labelCol = 'outcome')\n",
    "rf_model = rf.fit(fifa_df_train)"
   ]
  },
  {
   "cell_type": "code",
   "execution_count": 32,
   "id": "8c47b32c",
   "metadata": {},
   "outputs": [
    {
     "name": "stderr",
     "output_type": "stream",
     "text": [
      "[Stage 243:>                                                        (0 + 1) / 1]\r"
     ]
    },
    {
     "name": "stdout",
     "output_type": "stream",
     "text": [
      "Train MSE = 2.25615, test MSE = 2.31273\n"
     ]
    },
    {
     "name": "stderr",
     "output_type": "stream",
     "text": [
      "\r",
      "                                                                                \r"
     ]
    }
   ],
   "source": [
    "rf_prediction_train = rf_model.transform(fifa_df_train)\n",
    "rf_prediction_test = rf_model.transform(fifa_df_test)\n",
    "\n",
    "rf_mse_train = evaluator.evaluate(rf_prediction_train)\n",
    "rf_mse_test = evaluator.evaluate(rf_prediction_test)\n",
    "\n",
    "\n",
    "print(f\"Train MSE = {np.round(rf_mse_train,5)}, test MSE = {np.round(rf_mse_test,5)}\")\n"
   ]
  },
  {
   "cell_type": "code",
   "execution_count": 33,
   "id": "50182053",
   "metadata": {},
   "outputs": [
    {
     "name": "stderr",
     "output_type": "stream",
     "text": [
      "                                                                                \r"
     ]
    },
    {
     "name": "stdout",
     "output_type": "stream",
     "text": [
      "22/11/29 02:42:36 WARN DAGScheduler: Broadcasting large task binary with size 1139.1 KiB\n"
     ]
    },
    {
     "name": "stderr",
     "output_type": "stream",
     "text": [
      "                                                                                \r"
     ]
    },
    {
     "name": "stdout",
     "output_type": "stream",
     "text": [
      "22/11/29 02:42:38 WARN DAGScheduler: Broadcasting large task binary with size 2019.4 KiB\n"
     ]
    },
    {
     "name": "stderr",
     "output_type": "stream",
     "text": [
      "                                                                                \r"
     ]
    },
    {
     "name": "stdout",
     "output_type": "stream",
     "text": [
      "22/11/29 02:42:41 WARN DAGScheduler: Broadcasting large task binary with size 3.6 MiB\n"
     ]
    },
    {
     "name": "stderr",
     "output_type": "stream",
     "text": [
      "                                                                                \r"
     ]
    },
    {
     "name": "stdout",
     "output_type": "stream",
     "text": [
      "22/11/29 02:42:44 WARN DAGScheduler: Broadcasting large task binary with size 1139.1 KiB\n",
      "22/11/29 02:42:45 WARN DAGScheduler: Broadcasting large task binary with size 6.4 MiB\n",
      "22/11/29 02:42:46 WARN DAGScheduler: Broadcasting large task binary with size 2019.4 KiB\n"
     ]
    },
    {
     "name": "stderr",
     "output_type": "stream",
     "text": [
      "\r",
      "[Stage 373:>                (0 + 1) / 1][Stage 383:>                (0 + 1) / 1]\r",
      "\r",
      "                                                                                \r"
     ]
    },
    {
     "name": "stdout",
     "output_type": "stream",
     "text": [
      "22/11/29 02:42:49 WARN DAGScheduler: Broadcasting large task binary with size 3.6 MiB\n",
      "22/11/29 02:42:52 WARN DAGScheduler: Broadcasting large task binary with size 6.4 MiB\n"
     ]
    },
    {
     "name": "stderr",
     "output_type": "stream",
     "text": [
      "                                                                                \r"
     ]
    },
    {
     "name": "stdout",
     "output_type": "stream",
     "text": [
      "22/11/29 02:42:55 WARN DAGScheduler: Broadcasting large task binary with size 10.7 MiB\n"
     ]
    },
    {
     "name": "stderr",
     "output_type": "stream",
     "text": [
      "\r",
      "[Stage 422:>                                                        (0 + 1) / 1]\r"
     ]
    },
    {
     "name": "stdout",
     "output_type": "stream",
     "text": [
      "22/11/29 02:42:58 WARN DAGScheduler: Broadcasting large task binary with size 1321.2 KiB\n"
     ]
    },
    {
     "name": "stderr",
     "output_type": "stream",
     "text": [
      "                                                                                \r"
     ]
    },
    {
     "name": "stdout",
     "output_type": "stream",
     "text": [
      "22/11/29 02:43:01 WARN DAGScheduler: Broadcasting large task binary with size 16.5 MiB\n"
     ]
    },
    {
     "name": "stderr",
     "output_type": "stream",
     "text": [
      "\r",
      "[Stage 424:>                                                        (0 + 1) / 1]\r"
     ]
    },
    {
     "name": "stdout",
     "output_type": "stream",
     "text": [
      "22/11/29 02:43:04 WARN DAGScheduler: Broadcasting large task binary with size 1876.7 KiB\n"
     ]
    },
    {
     "name": "stderr",
     "output_type": "stream",
     "text": [
      "                                                                                \r"
     ]
    },
    {
     "name": "stdout",
     "output_type": "stream",
     "text": [
      "22/11/29 02:43:08 WARN DAGScheduler: Broadcasting large task binary with size 22.3 MiB\n"
     ]
    },
    {
     "name": "stderr",
     "output_type": "stream",
     "text": [
      "\r",
      "[Stage 426:>                                                        (0 + 1) / 1]\r"
     ]
    },
    {
     "name": "stdout",
     "output_type": "stream",
     "text": [
      "22/11/29 02:43:11 WARN DAGScheduler: Broadcasting large task binary with size 2.2 MiB\n"
     ]
    },
    {
     "name": "stderr",
     "output_type": "stream",
     "text": [
      "                                                                                \r"
     ]
    },
    {
     "name": "stdout",
     "output_type": "stream",
     "text": [
      "22/11/29 02:43:16 WARN DAGScheduler: Broadcasting large task binary with size 26.1 MiB\n"
     ]
    },
    {
     "name": "stderr",
     "output_type": "stream",
     "text": [
      "\r",
      "[Stage 428:>                                                        (0 + 1) / 1]\r"
     ]
    },
    {
     "name": "stdout",
     "output_type": "stream",
     "text": [
      "22/11/29 02:43:19 WARN DAGScheduler: Broadcasting large task binary with size 2.2 MiB\n"
     ]
    },
    {
     "name": "stderr",
     "output_type": "stream",
     "text": [
      "                                                                                \r"
     ]
    },
    {
     "name": "stdout",
     "output_type": "stream",
     "text": [
      "22/11/29 02:43:24 WARN DAGScheduler: Broadcasting large task binary with size 31.9 MiB\n"
     ]
    },
    {
     "name": "stderr",
     "output_type": "stream",
     "text": [
      "\r",
      "[Stage 430:>                                                        (0 + 1) / 1]\r"
     ]
    },
    {
     "name": "stdout",
     "output_type": "stream",
     "text": [
      "22/11/29 02:43:27 WARN DAGScheduler: Broadcasting large task binary with size 2.2 MiB\n"
     ]
    },
    {
     "name": "stderr",
     "output_type": "stream",
     "text": [
      "                                                                                \r"
     ]
    },
    {
     "name": "stdout",
     "output_type": "stream",
     "text": [
      "22/11/29 02:43:32 WARN DAGScheduler: Broadcasting large task binary with size 39.4 MiB\n"
     ]
    },
    {
     "name": "stderr",
     "output_type": "stream",
     "text": [
      "[Stage 432:>                                                        (0 + 1) / 1]\r"
     ]
    },
    {
     "name": "stdout",
     "output_type": "stream",
     "text": [
      "22/11/29 02:43:35 WARN DAGScheduler: Broadcasting large task binary with size 2.2 MiB\n"
     ]
    },
    {
     "name": "stderr",
     "output_type": "stream",
     "text": [
      "[Stage 434:>                                                        (0 + 0) / 1]\r"
     ]
    },
    {
     "name": "stdout",
     "output_type": "stream",
     "text": [
      "22/11/29 02:43:40 WARN DAGScheduler: Broadcasting large task binary with size 45.3 MiB\n"
     ]
    },
    {
     "name": "stderr",
     "output_type": "stream",
     "text": [
      "\r",
      "[Stage 434:>                                                        (0 + 1) / 1]\r"
     ]
    },
    {
     "name": "stdout",
     "output_type": "stream",
     "text": [
      "22/11/29 02:43:43 WARN DAGScheduler: Broadcasting large task binary with size 2.1 MiB\n"
     ]
    },
    {
     "name": "stderr",
     "output_type": "stream",
     "text": [
      "[Stage 436:>                                                        (0 + 0) / 1]\r"
     ]
    },
    {
     "name": "stdout",
     "output_type": "stream",
     "text": [
      "22/11/29 02:43:48 WARN DAGScheduler: Broadcasting large task binary with size 49.0 MiB\n"
     ]
    },
    {
     "name": "stderr",
     "output_type": "stream",
     "text": [
      "\r",
      "[Stage 436:>                                                        (0 + 1) / 1]\r"
     ]
    },
    {
     "name": "stdout",
     "output_type": "stream",
     "text": [
      "22/11/29 02:43:51 WARN DAGScheduler: Broadcasting large task binary with size 1763.5 KiB\n"
     ]
    },
    {
     "name": "stderr",
     "output_type": "stream",
     "text": [
      "[Stage 438:>                                                        (0 + 0) / 1]\r"
     ]
    },
    {
     "name": "stdout",
     "output_type": "stream",
     "text": [
      "22/11/29 02:43:56 WARN DAGScheduler: Broadcasting large task binary with size 51.6 MiB\n"
     ]
    },
    {
     "name": "stderr",
     "output_type": "stream",
     "text": [
      "\r",
      "[Stage 438:>                                                        (0 + 1) / 1]\r"
     ]
    },
    {
     "name": "stdout",
     "output_type": "stream",
     "text": [
      "22/11/29 02:43:59 WARN DAGScheduler: Broadcasting large task binary with size 1347.3 KiB\n"
     ]
    },
    {
     "name": "stderr",
     "output_type": "stream",
     "text": [
      "[Stage 440:>                                                        (0 + 0) / 1]\r"
     ]
    },
    {
     "name": "stdout",
     "output_type": "stream",
     "text": [
      "22/11/29 02:44:03 WARN DAGScheduler: Broadcasting large task binary with size 53.4 MiB\n"
     ]
    },
    {
     "name": "stderr",
     "output_type": "stream",
     "text": [
      "                                                                                \r"
     ]
    },
    {
     "name": "stdout",
     "output_type": "stream",
     "text": [
      "22/11/29 02:44:08 WARN DAGScheduler: Broadcasting large task binary with size 10.6 MiB\n"
     ]
    },
    {
     "name": "stderr",
     "output_type": "stream",
     "text": [
      "                                                                                \r"
     ]
    },
    {
     "name": "stdout",
     "output_type": "stream",
     "text": [
      "22/11/29 02:44:09 WARN DAGScheduler: Broadcasting large task binary with size 10.9 MiB\n",
      "22/11/29 02:44:10 WARN DAGScheduler: Broadcasting large task binary with size 5.5 MiB\n",
      "22/11/29 02:44:11 WARN DAGScheduler: Broadcasting large task binary with size 5.5 MiB\n"
     ]
    },
    {
     "name": "stderr",
     "output_type": "stream",
     "text": [
      "                                                                                \r"
     ]
    },
    {
     "name": "stdout",
     "output_type": "stream",
     "text": [
      "22/11/29 02:44:22 WARN DAGScheduler: Broadcasting large task binary with size 1139.9 KiB\n"
     ]
    },
    {
     "name": "stderr",
     "output_type": "stream",
     "text": [
      "                                                                                \r"
     ]
    },
    {
     "name": "stdout",
     "output_type": "stream",
     "text": [
      "22/11/29 02:44:24 WARN DAGScheduler: Broadcasting large task binary with size 2026.7 KiB\n"
     ]
    },
    {
     "name": "stderr",
     "output_type": "stream",
     "text": [
      "                                                                                \r"
     ]
    },
    {
     "name": "stdout",
     "output_type": "stream",
     "text": [
      "22/11/29 02:44:27 WARN DAGScheduler: Broadcasting large task binary with size 3.6 MiB\n",
      "22/11/29 02:44:28 WARN DAGScheduler: Broadcasting large task binary with size 1139.9 KiB\n",
      "22/11/29 02:44:29 WARN DAGScheduler: Broadcasting large task binary with size 6.4 MiB\n",
      "22/11/29 02:44:29 WARN DAGScheduler: Broadcasting large task binary with size 2026.7 KiB\n",
      "22/11/29 02:44:31 WARN DAGScheduler: Broadcasting large task binary with size 3.6 MiB\n",
      "22/11/29 02:44:33 WARN DAGScheduler: Broadcasting large task binary with size 6.4 MiB\n"
     ]
    },
    {
     "name": "stderr",
     "output_type": "stream",
     "text": [
      "                                                                                \r"
     ]
    },
    {
     "name": "stdout",
     "output_type": "stream",
     "text": [
      "22/11/29 02:44:36 WARN DAGScheduler: Broadcasting large task binary with size 10.6 MiB\n"
     ]
    },
    {
     "name": "stderr",
     "output_type": "stream",
     "text": [
      "\r",
      "[Stage 629:>                                                        (0 + 1) / 1]\r"
     ]
    },
    {
     "name": "stdout",
     "output_type": "stream",
     "text": [
      "22/11/29 02:44:37 WARN DAGScheduler: Broadcasting large task binary with size 1313.4 KiB\n"
     ]
    },
    {
     "name": "stderr",
     "output_type": "stream",
     "text": [
      "                                                                                \r"
     ]
    },
    {
     "name": "stdout",
     "output_type": "stream",
     "text": [
      "22/11/29 02:44:39 WARN DAGScheduler: Broadcasting large task binary with size 16.5 MiB\n"
     ]
    },
    {
     "name": "stderr",
     "output_type": "stream",
     "text": [
      "\r",
      "[Stage 631:>                                                        (0 + 1) / 1]\r"
     ]
    },
    {
     "name": "stdout",
     "output_type": "stream",
     "text": [
      "22/11/29 02:44:41 WARN DAGScheduler: Broadcasting large task binary with size 1876.7 KiB\n"
     ]
    },
    {
     "name": "stderr",
     "output_type": "stream",
     "text": [
      "                                                                                \r"
     ]
    },
    {
     "name": "stdout",
     "output_type": "stream",
     "text": [
      "22/11/29 02:44:43 WARN DAGScheduler: Broadcasting large task binary with size 22.3 MiB\n"
     ]
    },
    {
     "name": "stderr",
     "output_type": "stream",
     "text": [
      "\r",
      "[Stage 633:>                                                        (0 + 1) / 1]\r"
     ]
    },
    {
     "name": "stdout",
     "output_type": "stream",
     "text": [
      "22/11/29 02:44:46 WARN DAGScheduler: Broadcasting large task binary with size 2.2 MiB\n"
     ]
    },
    {
     "name": "stderr",
     "output_type": "stream",
     "text": [
      "                                                                                \r"
     ]
    },
    {
     "name": "stdout",
     "output_type": "stream",
     "text": [
      "22/11/29 02:44:48 WARN DAGScheduler: Broadcasting large task binary with size 26.3 MiB\n"
     ]
    },
    {
     "name": "stderr",
     "output_type": "stream",
     "text": [
      "\r",
      "[Stage 635:>                                                        (0 + 1) / 1]\r"
     ]
    },
    {
     "name": "stdout",
     "output_type": "stream",
     "text": [
      "22/11/29 02:44:50 WARN DAGScheduler: Broadcasting large task binary with size 2.2 MiB\n"
     ]
    },
    {
     "name": "stderr",
     "output_type": "stream",
     "text": [
      "                                                                                \r"
     ]
    },
    {
     "name": "stdout",
     "output_type": "stream",
     "text": [
      "22/11/29 02:44:53 WARN DAGScheduler: Broadcasting large task binary with size 32.0 MiB\n"
     ]
    },
    {
     "name": "stderr",
     "output_type": "stream",
     "text": [
      "\r",
      "[Stage 637:>                                                        (0 + 1) / 1]\r"
     ]
    },
    {
     "name": "stdout",
     "output_type": "stream",
     "text": [
      "22/11/29 02:44:55 WARN DAGScheduler: Broadcasting large task binary with size 2.2 MiB\n"
     ]
    },
    {
     "name": "stderr",
     "output_type": "stream",
     "text": [
      "                                                                                \r"
     ]
    },
    {
     "name": "stdout",
     "output_type": "stream",
     "text": [
      "22/11/29 02:44:58 WARN DAGScheduler: Broadcasting large task binary with size 38.6 MiB\n"
     ]
    },
    {
     "name": "stderr",
     "output_type": "stream",
     "text": [
      "\r",
      "[Stage 639:>                                                        (0 + 1) / 1]\r"
     ]
    },
    {
     "name": "stdout",
     "output_type": "stream",
     "text": [
      "22/11/29 02:45:01 WARN DAGScheduler: Broadcasting large task binary with size 2.2 MiB\n"
     ]
    },
    {
     "name": "stderr",
     "output_type": "stream",
     "text": [
      "                                                                                \r"
     ]
    },
    {
     "name": "stdout",
     "output_type": "stream",
     "text": [
      "22/11/29 02:45:04 WARN DAGScheduler: Broadcasting large task binary with size 45.5 MiB\n"
     ]
    },
    {
     "name": "stderr",
     "output_type": "stream",
     "text": [
      "\r",
      "[Stage 641:>                                                        (0 + 1) / 1]\r"
     ]
    },
    {
     "name": "stdout",
     "output_type": "stream",
     "text": [
      "22/11/29 02:45:07 WARN DAGScheduler: Broadcasting large task binary with size 2.1 MiB\n"
     ]
    },
    {
     "name": "stderr",
     "output_type": "stream",
     "text": [
      "                                                                                \r"
     ]
    },
    {
     "name": "stdout",
     "output_type": "stream",
     "text": [
      "22/11/29 02:45:10 WARN DAGScheduler: Broadcasting large task binary with size 49.2 MiB\n"
     ]
    },
    {
     "name": "stderr",
     "output_type": "stream",
     "text": [
      "\r",
      "[Stage 643:>                                                        (0 + 1) / 1]\r"
     ]
    },
    {
     "name": "stdout",
     "output_type": "stream",
     "text": [
      "22/11/29 02:45:12 WARN DAGScheduler: Broadcasting large task binary with size 1779.0 KiB\n"
     ]
    },
    {
     "name": "stderr",
     "output_type": "stream",
     "text": [
      "[Stage 645:>                                                        (0 + 0) / 1]\r"
     ]
    },
    {
     "name": "stdout",
     "output_type": "stream",
     "text": [
      "22/11/29 02:45:15 WARN DAGScheduler: Broadcasting large task binary with size 51.7 MiB\n"
     ]
    },
    {
     "name": "stderr",
     "output_type": "stream",
     "text": [
      "\r",
      "[Stage 645:>                                                        (0 + 1) / 1]\r"
     ]
    },
    {
     "name": "stdout",
     "output_type": "stream",
     "text": [
      "22/11/29 02:45:17 WARN DAGScheduler: Broadcasting large task binary with size 1334.8 KiB\n"
     ]
    },
    {
     "name": "stderr",
     "output_type": "stream",
     "text": [
      "                                                                                \r"
     ]
    },
    {
     "name": "stdout",
     "output_type": "stream",
     "text": [
      "22/11/29 02:45:20 WARN DAGScheduler: Broadcasting large task binary with size 53.4 MiB\n"
     ]
    },
    {
     "name": "stderr",
     "output_type": "stream",
     "text": [
      "                                                                                \r"
     ]
    },
    {
     "name": "stdout",
     "output_type": "stream",
     "text": [
      "22/11/29 02:45:23 WARN DAGScheduler: Broadcasting large task binary with size 10.7 MiB\n",
      "22/11/29 02:45:23 WARN DAGScheduler: Broadcasting large task binary with size 11.0 MiB\n",
      "22/11/29 02:45:24 WARN DAGScheduler: Broadcasting large task binary with size 8.3 MiB\n",
      "22/11/29 02:45:24 WARN DAGScheduler: Broadcasting large task binary with size 5.5 MiB\n"
     ]
    },
    {
     "name": "stderr",
     "output_type": "stream",
     "text": [
      "                                                                                \r"
     ]
    },
    {
     "name": "stdout",
     "output_type": "stream",
     "text": [
      "22/11/29 02:45:31 WARN DAGScheduler: Broadcasting large task binary with size 1140.1 KiB\n",
      "22/11/29 02:45:32 WARN DAGScheduler: Broadcasting large task binary with size 2023.9 KiB\n",
      "22/11/29 02:45:33 WARN DAGScheduler: Broadcasting large task binary with size 3.6 MiB\n",
      "22/11/29 02:45:34 WARN DAGScheduler: Broadcasting large task binary with size 1140.1 KiB\n",
      "22/11/29 02:45:35 WARN DAGScheduler: Broadcasting large task binary with size 6.4 MiB\n",
      "22/11/29 02:45:35 WARN DAGScheduler: Broadcasting large task binary with size 2023.9 KiB\n",
      "22/11/29 02:45:37 WARN DAGScheduler: Broadcasting large task binary with size 3.6 MiB\n",
      "22/11/29 02:45:39 WARN DAGScheduler: Broadcasting large task binary with size 6.4 MiB\n"
     ]
    },
    {
     "name": "stderr",
     "output_type": "stream",
     "text": [
      "                                                                                \r"
     ]
    },
    {
     "name": "stdout",
     "output_type": "stream",
     "text": [
      "22/11/29 02:45:41 WARN DAGScheduler: Broadcasting large task binary with size 10.7 MiB\n"
     ]
    },
    {
     "name": "stderr",
     "output_type": "stream",
     "text": [
      "\r",
      "[Stage 836:>                                                        (0 + 1) / 1]\r"
     ]
    },
    {
     "name": "stdout",
     "output_type": "stream",
     "text": [
      "22/11/29 02:45:43 WARN DAGScheduler: Broadcasting large task binary with size 1328.0 KiB\n"
     ]
    },
    {
     "name": "stderr",
     "output_type": "stream",
     "text": [
      "                                                                                \r"
     ]
    },
    {
     "name": "stdout",
     "output_type": "stream",
     "text": [
      "22/11/29 02:45:45 WARN DAGScheduler: Broadcasting large task binary with size 16.6 MiB\n"
     ]
    },
    {
     "name": "stderr",
     "output_type": "stream",
     "text": [
      "\r",
      "[Stage 838:>                                                        (0 + 1) / 1]\r"
     ]
    },
    {
     "name": "stdout",
     "output_type": "stream",
     "text": [
      "22/11/29 02:45:47 WARN DAGScheduler: Broadcasting large task binary with size 1906.0 KiB\n"
     ]
    },
    {
     "name": "stderr",
     "output_type": "stream",
     "text": [
      "                                                                                \r"
     ]
    },
    {
     "name": "stdout",
     "output_type": "stream",
     "text": [
      "22/11/29 02:45:49 WARN DAGScheduler: Broadcasting large task binary with size 22.3 MiB\n"
     ]
    },
    {
     "name": "stderr",
     "output_type": "stream",
     "text": [
      "\r",
      "[Stage 840:>                                                        (0 + 1) / 1]\r"
     ]
    },
    {
     "name": "stdout",
     "output_type": "stream",
     "text": [
      "22/11/29 02:45:51 WARN DAGScheduler: Broadcasting large task binary with size 2.2 MiB\n"
     ]
    },
    {
     "name": "stderr",
     "output_type": "stream",
     "text": [
      "                                                                                \r"
     ]
    },
    {
     "name": "stdout",
     "output_type": "stream",
     "text": [
      "22/11/29 02:45:54 WARN DAGScheduler: Broadcasting large task binary with size 26.3 MiB\n"
     ]
    },
    {
     "name": "stderr",
     "output_type": "stream",
     "text": [
      "\r",
      "[Stage 842:>                                                        (0 + 1) / 1]\r"
     ]
    },
    {
     "name": "stdout",
     "output_type": "stream",
     "text": [
      "22/11/29 02:45:56 WARN DAGScheduler: Broadcasting large task binary with size 2.2 MiB\n"
     ]
    },
    {
     "name": "stderr",
     "output_type": "stream",
     "text": [
      "                                                                                \r"
     ]
    },
    {
     "name": "stdout",
     "output_type": "stream",
     "text": [
      "22/11/29 02:45:59 WARN DAGScheduler: Broadcasting large task binary with size 31.9 MiB\n"
     ]
    },
    {
     "name": "stderr",
     "output_type": "stream",
     "text": [
      "\r",
      "[Stage 844:>                                                        (0 + 1) / 1]\r"
     ]
    },
    {
     "name": "stdout",
     "output_type": "stream",
     "text": [
      "22/11/29 02:46:01 WARN DAGScheduler: Broadcasting large task binary with size 2.2 MiB\n"
     ]
    },
    {
     "name": "stderr",
     "output_type": "stream",
     "text": [
      "                                                                                \r"
     ]
    },
    {
     "name": "stdout",
     "output_type": "stream",
     "text": [
      "22/11/29 02:46:04 WARN DAGScheduler: Broadcasting large task binary with size 38.6 MiB\n"
     ]
    },
    {
     "name": "stderr",
     "output_type": "stream",
     "text": [
      "\r",
      "[Stage 846:>                                                        (0 + 1) / 1]\r"
     ]
    },
    {
     "name": "stdout",
     "output_type": "stream",
     "text": [
      "22/11/29 02:46:06 WARN DAGScheduler: Broadcasting large task binary with size 2.2 MiB\n"
     ]
    },
    {
     "name": "stderr",
     "output_type": "stream",
     "text": [
      "                                                                                \r"
     ]
    },
    {
     "name": "stdout",
     "output_type": "stream",
     "text": [
      "22/11/29 02:46:10 WARN DAGScheduler: Broadcasting large task binary with size 45.3 MiB\n"
     ]
    },
    {
     "name": "stderr",
     "output_type": "stream",
     "text": [
      "\r",
      "[Stage 848:>                                                        (0 + 1) / 1]\r"
     ]
    },
    {
     "name": "stdout",
     "output_type": "stream",
     "text": [
      "22/11/29 02:46:12 WARN DAGScheduler: Broadcasting large task binary with size 2.1 MiB\n"
     ]
    },
    {
     "name": "stderr",
     "output_type": "stream",
     "text": [
      "                                                                                \r"
     ]
    },
    {
     "name": "stdout",
     "output_type": "stream",
     "text": [
      "22/11/29 02:46:15 WARN DAGScheduler: Broadcasting large task binary with size 48.9 MiB\n"
     ]
    },
    {
     "name": "stderr",
     "output_type": "stream",
     "text": [
      "[Stage 850:>                                                        (0 + 1) / 1]\r"
     ]
    },
    {
     "name": "stdout",
     "output_type": "stream",
     "text": [
      "22/11/29 02:46:18 WARN DAGScheduler: Broadcasting large task binary with size 1756.8 KiB\n"
     ]
    },
    {
     "name": "stderr",
     "output_type": "stream",
     "text": [
      "                                                                                \r"
     ]
    },
    {
     "name": "stdout",
     "output_type": "stream",
     "text": [
      "22/11/29 02:46:21 WARN DAGScheduler: Broadcasting large task binary with size 51.5 MiB\n"
     ]
    },
    {
     "name": "stderr",
     "output_type": "stream",
     "text": [
      "\r",
      "[Stage 852:>                                                        (0 + 1) / 1]\r"
     ]
    },
    {
     "name": "stdout",
     "output_type": "stream",
     "text": [
      "22/11/29 02:46:23 WARN DAGScheduler: Broadcasting large task binary with size 1335.6 KiB\n"
     ]
    },
    {
     "name": "stderr",
     "output_type": "stream",
     "text": [
      "                                                                                \r"
     ]
    },
    {
     "name": "stdout",
     "output_type": "stream",
     "text": [
      "22/11/29 02:46:26 WARN DAGScheduler: Broadcasting large task binary with size 53.2 MiB\n"
     ]
    },
    {
     "name": "stderr",
     "output_type": "stream",
     "text": [
      "                                                                                \r"
     ]
    },
    {
     "name": "stdout",
     "output_type": "stream",
     "text": [
      "22/11/29 02:46:29 WARN DAGScheduler: Broadcasting large task binary with size 10.6 MiB\n",
      "22/11/29 02:46:30 WARN DAGScheduler: Broadcasting large task binary with size 10.9 MiB\n",
      "22/11/29 02:46:30 WARN DAGScheduler: Broadcasting large task binary with size 8.3 MiB\n",
      "22/11/29 02:46:31 WARN DAGScheduler: Broadcasting large task binary with size 5.6 MiB\n"
     ]
    },
    {
     "name": "stderr",
     "output_type": "stream",
     "text": [
      "                                                                                \r"
     ]
    },
    {
     "name": "stdout",
     "output_type": "stream",
     "text": [
      "22/11/29 02:46:37 WARN DAGScheduler: Broadcasting large task binary with size 1139.0 KiB\n",
      "22/11/29 02:46:38 WARN DAGScheduler: Broadcasting large task binary with size 2017.0 KiB\n",
      "22/11/29 02:46:39 WARN DAGScheduler: Broadcasting large task binary with size 3.6 MiB\n",
      "22/11/29 02:46:40 WARN DAGScheduler: Broadcasting large task binary with size 1139.0 KiB\n",
      "22/11/29 02:46:41 WARN DAGScheduler: Broadcasting large task binary with size 2017.0 KiB\n",
      "22/11/29 02:46:42 WARN DAGScheduler: Broadcasting large task binary with size 6.3 MiB\n",
      "22/11/29 02:46:43 WARN DAGScheduler: Broadcasting large task binary with size 3.6 MiB\n",
      "22/11/29 02:46:45 WARN DAGScheduler: Broadcasting large task binary with size 6.3 MiB\n"
     ]
    },
    {
     "name": "stderr",
     "output_type": "stream",
     "text": [
      "                                                                                \r"
     ]
    },
    {
     "name": "stdout",
     "output_type": "stream",
     "text": [
      "22/11/29 02:46:48 WARN DAGScheduler: Broadcasting large task binary with size 10.6 MiB\n"
     ]
    },
    {
     "name": "stderr",
     "output_type": "stream",
     "text": [
      "\r",
      "[Stage 1043:>                                                       (0 + 1) / 1]\r"
     ]
    },
    {
     "name": "stdout",
     "output_type": "stream",
     "text": [
      "22/11/29 02:46:49 WARN DAGScheduler: Broadcasting large task binary with size 1321.4 KiB\n"
     ]
    },
    {
     "name": "stderr",
     "output_type": "stream",
     "text": [
      "                                                                                \r"
     ]
    },
    {
     "name": "stdout",
     "output_type": "stream",
     "text": [
      "22/11/29 02:46:51 WARN DAGScheduler: Broadcasting large task binary with size 16.5 MiB\n"
     ]
    },
    {
     "name": "stderr",
     "output_type": "stream",
     "text": [
      "\r",
      "[Stage 1045:>                                                       (0 + 1) / 1]\r"
     ]
    },
    {
     "name": "stdout",
     "output_type": "stream",
     "text": [
      "22/11/29 02:46:53 WARN DAGScheduler: Broadcasting large task binary with size 1885.3 KiB\n"
     ]
    },
    {
     "name": "stderr",
     "output_type": "stream",
     "text": [
      "                                                                                \r"
     ]
    },
    {
     "name": "stdout",
     "output_type": "stream",
     "text": [
      "22/11/29 02:46:56 WARN DAGScheduler: Broadcasting large task binary with size 22.2 MiB\n"
     ]
    },
    {
     "name": "stderr",
     "output_type": "stream",
     "text": [
      "\r",
      "[Stage 1047:>                                                       (0 + 1) / 1]\r"
     ]
    },
    {
     "name": "stdout",
     "output_type": "stream",
     "text": [
      "22/11/29 02:46:58 WARN DAGScheduler: Broadcasting large task binary with size 2.2 MiB\n"
     ]
    },
    {
     "name": "stderr",
     "output_type": "stream",
     "text": [
      "                                                                                \r"
     ]
    },
    {
     "name": "stdout",
     "output_type": "stream",
     "text": [
      "22/11/29 02:47:01 WARN DAGScheduler: Broadcasting large task binary with size 26.1 MiB\n"
     ]
    },
    {
     "name": "stderr",
     "output_type": "stream",
     "text": [
      "\r",
      "[Stage 1049:>                                                       (0 + 1) / 1]\r"
     ]
    },
    {
     "name": "stdout",
     "output_type": "stream",
     "text": [
      "22/11/29 02:47:03 WARN DAGScheduler: Broadcasting large task binary with size 2.2 MiB\n"
     ]
    },
    {
     "name": "stderr",
     "output_type": "stream",
     "text": [
      "                                                                                \r"
     ]
    },
    {
     "name": "stdout",
     "output_type": "stream",
     "text": [
      "22/11/29 02:47:06 WARN DAGScheduler: Broadcasting large task binary with size 31.8 MiB\n"
     ]
    },
    {
     "name": "stderr",
     "output_type": "stream",
     "text": [
      "\r",
      "[Stage 1051:>                                                       (0 + 1) / 1]\r"
     ]
    },
    {
     "name": "stdout",
     "output_type": "stream",
     "text": [
      "22/11/29 02:47:08 WARN DAGScheduler: Broadcasting large task binary with size 2.2 MiB\n"
     ]
    },
    {
     "name": "stderr",
     "output_type": "stream",
     "text": [
      "                                                                                \r"
     ]
    },
    {
     "name": "stdout",
     "output_type": "stream",
     "text": [
      "22/11/29 02:47:11 WARN DAGScheduler: Broadcasting large task binary with size 38.4 MiB\n"
     ]
    },
    {
     "name": "stderr",
     "output_type": "stream",
     "text": [
      "\r",
      "[Stage 1053:>                                                       (0 + 1) / 1]\r"
     ]
    },
    {
     "name": "stdout",
     "output_type": "stream",
     "text": [
      "22/11/29 02:47:13 WARN DAGScheduler: Broadcasting large task binary with size 2.2 MiB\n"
     ]
    },
    {
     "name": "stderr",
     "output_type": "stream",
     "text": [
      "                                                                                \r"
     ]
    },
    {
     "name": "stdout",
     "output_type": "stream",
     "text": [
      "22/11/29 02:47:16 WARN DAGScheduler: Broadcasting large task binary with size 45.2 MiB\n"
     ]
    },
    {
     "name": "stderr",
     "output_type": "stream",
     "text": [
      "\r",
      "[Stage 1055:>                                                       (0 + 1) / 1]\r"
     ]
    },
    {
     "name": "stdout",
     "output_type": "stream",
     "text": [
      "22/11/29 02:47:18 WARN DAGScheduler: Broadcasting large task binary with size 2.1 MiB\n"
     ]
    },
    {
     "name": "stderr",
     "output_type": "stream",
     "text": [
      "                                                                                \r"
     ]
    },
    {
     "name": "stdout",
     "output_type": "stream",
     "text": [
      "22/11/29 02:47:22 WARN DAGScheduler: Broadcasting large task binary with size 48.8 MiB\n"
     ]
    },
    {
     "name": "stderr",
     "output_type": "stream",
     "text": [
      "\r",
      "[Stage 1057:>                                                       (0 + 1) / 1]\r"
     ]
    },
    {
     "name": "stdout",
     "output_type": "stream",
     "text": [
      "22/11/29 02:47:24 WARN DAGScheduler: Broadcasting large task binary with size 1739.6 KiB\n"
     ]
    },
    {
     "name": "stderr",
     "output_type": "stream",
     "text": [
      "                                                                                \r"
     ]
    },
    {
     "name": "stdout",
     "output_type": "stream",
     "text": [
      "22/11/29 02:47:27 WARN DAGScheduler: Broadcasting large task binary with size 51.3 MiB\n"
     ]
    },
    {
     "name": "stderr",
     "output_type": "stream",
     "text": [
      "\r",
      "[Stage 1059:>                                                       (0 + 1) / 1]\r"
     ]
    },
    {
     "name": "stdout",
     "output_type": "stream",
     "text": [
      "22/11/29 02:47:29 WARN DAGScheduler: Broadcasting large task binary with size 1318.1 KiB\n"
     ]
    },
    {
     "name": "stderr",
     "output_type": "stream",
     "text": [
      "[Stage 1061:>                                                       (0 + 0) / 1]\r"
     ]
    },
    {
     "name": "stdout",
     "output_type": "stream",
     "text": [
      "22/11/29 02:47:32 WARN DAGScheduler: Broadcasting large task binary with size 53.0 MiB\n"
     ]
    },
    {
     "name": "stderr",
     "output_type": "stream",
     "text": [
      "                                                                                \r"
     ]
    },
    {
     "name": "stdout",
     "output_type": "stream",
     "text": [
      "22/11/29 02:47:34 WARN DAGScheduler: Broadcasting large task binary with size 10.5 MiB\n",
      "22/11/29 02:47:35 WARN DAGScheduler: Broadcasting large task binary with size 10.8 MiB\n",
      "22/11/29 02:47:36 WARN DAGScheduler: Broadcasting large task binary with size 8.1 MiB\n",
      "22/11/29 02:47:36 WARN DAGScheduler: Broadcasting large task binary with size 5.4 MiB\n"
     ]
    },
    {
     "name": "stderr",
     "output_type": "stream",
     "text": [
      "                                                                                \r"
     ]
    },
    {
     "name": "stdout",
     "output_type": "stream",
     "text": [
      "22/11/29 02:47:43 WARN DAGScheduler: Broadcasting large task binary with size 1139.7 KiB\n",
      "22/11/29 02:47:44 WARN DAGScheduler: Broadcasting large task binary with size 2017.4 KiB\n",
      "22/11/29 02:47:45 WARN DAGScheduler: Broadcasting large task binary with size 3.6 MiB\n",
      "22/11/29 02:47:46 WARN DAGScheduler: Broadcasting large task binary with size 1139.7 KiB\n",
      "22/11/29 02:47:47 WARN DAGScheduler: Broadcasting large task binary with size 2017.4 KiB\n",
      "22/11/29 02:47:48 WARN DAGScheduler: Broadcasting large task binary with size 6.4 MiB\n",
      "22/11/29 02:47:49 WARN DAGScheduler: Broadcasting large task binary with size 3.6 MiB\n",
      "22/11/29 02:47:51 WARN DAGScheduler: Broadcasting large task binary with size 6.4 MiB\n"
     ]
    },
    {
     "name": "stderr",
     "output_type": "stream",
     "text": [
      "                                                                                \r"
     ]
    },
    {
     "name": "stdout",
     "output_type": "stream",
     "text": [
      "22/11/29 02:47:53 WARN DAGScheduler: Broadcasting large task binary with size 10.6 MiB\n"
     ]
    },
    {
     "name": "stderr",
     "output_type": "stream",
     "text": [
      "\r",
      "[Stage 1248:>                                                       (0 + 1) / 1]\r"
     ]
    },
    {
     "name": "stdout",
     "output_type": "stream",
     "text": [
      "22/11/29 02:47:55 WARN DAGScheduler: Broadcasting large task binary with size 1320.8 KiB\n"
     ]
    },
    {
     "name": "stderr",
     "output_type": "stream",
     "text": [
      "                                                                                \r"
     ]
    },
    {
     "name": "stdout",
     "output_type": "stream",
     "text": [
      "22/11/29 02:47:57 WARN DAGScheduler: Broadcasting large task binary with size 16.5 MiB\n"
     ]
    },
    {
     "name": "stderr",
     "output_type": "stream",
     "text": [
      "\r",
      "[Stage 1250:>                                                       (0 + 1) / 1]\r"
     ]
    },
    {
     "name": "stdout",
     "output_type": "stream",
     "text": [
      "22/11/29 02:47:59 WARN DAGScheduler: Broadcasting large task binary with size 1875.8 KiB\n"
     ]
    },
    {
     "name": "stderr",
     "output_type": "stream",
     "text": [
      "                                                                                \r"
     ]
    },
    {
     "name": "stdout",
     "output_type": "stream",
     "text": [
      "22/11/29 02:48:01 WARN DAGScheduler: Broadcasting large task binary with size 22.1 MiB\n"
     ]
    },
    {
     "name": "stderr",
     "output_type": "stream",
     "text": [
      "\r",
      "[Stage 1252:>                                                       (0 + 1) / 1]\r"
     ]
    },
    {
     "name": "stdout",
     "output_type": "stream",
     "text": [
      "22/11/29 02:48:04 WARN DAGScheduler: Broadcasting large task binary with size 2.2 MiB\n"
     ]
    },
    {
     "name": "stderr",
     "output_type": "stream",
     "text": [
      "                                                                                \r"
     ]
    },
    {
     "name": "stdout",
     "output_type": "stream",
     "text": [
      "22/11/29 02:48:06 WARN DAGScheduler: Broadcasting large task binary with size 26.0 MiB\n"
     ]
    },
    {
     "name": "stderr",
     "output_type": "stream",
     "text": [
      "\r",
      "[Stage 1254:>                                                       (0 + 1) / 1]\r"
     ]
    },
    {
     "name": "stdout",
     "output_type": "stream",
     "text": [
      "22/11/29 02:48:09 WARN DAGScheduler: Broadcasting large task binary with size 2.2 MiB\n"
     ]
    },
    {
     "name": "stderr",
     "output_type": "stream",
     "text": [
      "                                                                                \r"
     ]
    },
    {
     "name": "stdout",
     "output_type": "stream",
     "text": [
      "22/11/29 02:48:12 WARN DAGScheduler: Broadcasting large task binary with size 31.7 MiB\n"
     ]
    },
    {
     "name": "stderr",
     "output_type": "stream",
     "text": [
      "\r",
      "[Stage 1256:>                                                       (0 + 1) / 1]\r"
     ]
    },
    {
     "name": "stdout",
     "output_type": "stream",
     "text": [
      "22/11/29 02:48:13 WARN DAGScheduler: Broadcasting large task binary with size 2.2 MiB\n"
     ]
    },
    {
     "name": "stderr",
     "output_type": "stream",
     "text": [
      "                                                                                \r"
     ]
    },
    {
     "name": "stdout",
     "output_type": "stream",
     "text": [
      "22/11/29 02:48:17 WARN DAGScheduler: Broadcasting large task binary with size 38.2 MiB\n"
     ]
    },
    {
     "name": "stderr",
     "output_type": "stream",
     "text": [
      "\r",
      "[Stage 1258:>                                                       (0 + 1) / 1]\r"
     ]
    },
    {
     "name": "stdout",
     "output_type": "stream",
     "text": [
      "22/11/29 02:48:19 WARN DAGScheduler: Broadcasting large task binary with size 2.2 MiB\n"
     ]
    },
    {
     "name": "stderr",
     "output_type": "stream",
     "text": [
      "                                                                                \r"
     ]
    },
    {
     "name": "stdout",
     "output_type": "stream",
     "text": [
      "22/11/29 02:48:22 WARN DAGScheduler: Broadcasting large task binary with size 45.1 MiB\n"
     ]
    },
    {
     "name": "stderr",
     "output_type": "stream",
     "text": [
      "\r",
      "[Stage 1260:>                                                       (0 + 1) / 1]\r"
     ]
    },
    {
     "name": "stdout",
     "output_type": "stream",
     "text": [
      "22/11/29 02:48:24 WARN DAGScheduler: Broadcasting large task binary with size 2.1 MiB\n"
     ]
    },
    {
     "name": "stderr",
     "output_type": "stream",
     "text": [
      "                                                                                \r"
     ]
    },
    {
     "name": "stdout",
     "output_type": "stream",
     "text": [
      "22/11/29 02:48:28 WARN DAGScheduler: Broadcasting large task binary with size 48.9 MiB\n"
     ]
    },
    {
     "name": "stderr",
     "output_type": "stream",
     "text": [
      "[Stage 1262:>                                                       (0 + 1) / 1]\r"
     ]
    },
    {
     "name": "stdout",
     "output_type": "stream",
     "text": [
      "22/11/29 02:48:30 WARN DAGScheduler: Broadcasting large task binary with size 1790.2 KiB\n"
     ]
    },
    {
     "name": "stderr",
     "output_type": "stream",
     "text": [
      "                                                                                \r"
     ]
    },
    {
     "name": "stdout",
     "output_type": "stream",
     "text": [
      "22/11/29 02:48:33 WARN DAGScheduler: Broadcasting large task binary with size 51.5 MiB\n"
     ]
    },
    {
     "name": "stderr",
     "output_type": "stream",
     "text": [
      "\r",
      "[Stage 1264:>                                                       (0 + 1) / 1]\r"
     ]
    },
    {
     "name": "stdout",
     "output_type": "stream",
     "text": [
      "22/11/29 02:48:35 WARN DAGScheduler: Broadcasting large task binary with size 1345.6 KiB\n"
     ]
    },
    {
     "name": "stderr",
     "output_type": "stream",
     "text": [
      "                                                                                \r"
     ]
    },
    {
     "name": "stdout",
     "output_type": "stream",
     "text": [
      "22/11/29 02:48:38 WARN DAGScheduler: Broadcasting large task binary with size 53.2 MiB\n"
     ]
    },
    {
     "name": "stderr",
     "output_type": "stream",
     "text": [
      "                                                                                \r"
     ]
    },
    {
     "name": "stdout",
     "output_type": "stream",
     "text": [
      "22/11/29 02:48:41 WARN DAGScheduler: Broadcasting large task binary with size 10.7 MiB\n",
      "22/11/29 02:48:42 WARN DAGScheduler: Broadcasting large task binary with size 11.0 MiB\n",
      "22/11/29 02:48:42 WARN DAGScheduler: Broadcasting large task binary with size 8.3 MiB\n",
      "22/11/29 02:48:43 WARN DAGScheduler: Broadcasting large task binary with size 5.6 MiB\n"
     ]
    },
    {
     "name": "stderr",
     "output_type": "stream",
     "text": [
      "                                                                                \r"
     ]
    },
    {
     "name": "stdout",
     "output_type": "stream",
     "text": [
      "22/11/29 02:48:52 WARN DAGScheduler: Broadcasting large task binary with size 1124.6 KiB\n"
     ]
    },
    {
     "name": "stderr",
     "output_type": "stream",
     "text": [
      "                                                                                \r"
     ]
    },
    {
     "name": "stdout",
     "output_type": "stream",
     "text": [
      "22/11/29 02:48:53 WARN DAGScheduler: Broadcasting large task binary with size 2013.4 KiB\n"
     ]
    },
    {
     "name": "stderr",
     "output_type": "stream",
     "text": [
      "                                                                                \r"
     ]
    },
    {
     "name": "stdout",
     "output_type": "stream",
     "text": [
      "22/11/29 02:48:55 WARN DAGScheduler: Broadcasting large task binary with size 3.6 MiB\n"
     ]
    },
    {
     "name": "stderr",
     "output_type": "stream",
     "text": [
      "                                                                                \r"
     ]
    },
    {
     "name": "stdout",
     "output_type": "stream",
     "text": [
      "22/11/29 02:48:57 WARN DAGScheduler: Broadcasting large task binary with size 6.5 MiB\n"
     ]
    },
    {
     "name": "stderr",
     "output_type": "stream",
     "text": [
      "                                                                                \r"
     ]
    },
    {
     "name": "stdout",
     "output_type": "stream",
     "text": [
      "22/11/29 02:48:59 WARN DAGScheduler: Broadcasting large task binary with size 11.1 MiB\n"
     ]
    },
    {
     "name": "stderr",
     "output_type": "stream",
     "text": [
      "\r",
      "[Stage 1301:>                                                       (0 + 1) / 1]\r"
     ]
    },
    {
     "name": "stdout",
     "output_type": "stream",
     "text": [
      "22/11/29 02:49:01 WARN DAGScheduler: Broadcasting large task binary with size 1406.3 KiB\n"
     ]
    },
    {
     "name": "stderr",
     "output_type": "stream",
     "text": [
      "                                                                                \r"
     ]
    },
    {
     "name": "stdout",
     "output_type": "stream",
     "text": [
      "22/11/29 02:49:03 WARN DAGScheduler: Broadcasting large task binary with size 17.6 MiB\n"
     ]
    },
    {
     "name": "stderr",
     "output_type": "stream",
     "text": [
      "\r",
      "[Stage 1303:>                                                       (0 + 1) / 1]\r"
     ]
    },
    {
     "name": "stdout",
     "output_type": "stream",
     "text": [
      "22/11/29 02:49:05 WARN DAGScheduler: Broadcasting large task binary with size 2.0 MiB\n"
     ]
    },
    {
     "name": "stderr",
     "output_type": "stream",
     "text": [
      "                                                                                \r"
     ]
    },
    {
     "name": "stdout",
     "output_type": "stream",
     "text": [
      "22/11/29 02:49:08 WARN DAGScheduler: Broadcasting large task binary with size 21.6 MiB\n"
     ]
    },
    {
     "name": "stderr",
     "output_type": "stream",
     "text": [
      "\r",
      "[Stage 1305:>                                                       (0 + 1) / 1]\r"
     ]
    },
    {
     "name": "stdout",
     "output_type": "stream",
     "text": [
      "22/11/29 02:49:10 WARN DAGScheduler: Broadcasting large task binary with size 2.2 MiB\n"
     ]
    },
    {
     "name": "stderr",
     "output_type": "stream",
     "text": [
      "                                                                                \r"
     ]
    },
    {
     "name": "stdout",
     "output_type": "stream",
     "text": [
      "22/11/29 02:49:13 WARN DAGScheduler: Broadcasting large task binary with size 24.5 MiB\n"
     ]
    },
    {
     "name": "stderr",
     "output_type": "stream",
     "text": [
      "\r",
      "[Stage 1307:>                                                       (0 + 1) / 1]\r"
     ]
    },
    {
     "name": "stdout",
     "output_type": "stream",
     "text": [
      "22/11/29 02:49:15 WARN DAGScheduler: Broadcasting large task binary with size 2.2 MiB\n"
     ]
    },
    {
     "name": "stderr",
     "output_type": "stream",
     "text": [
      "                                                                                \r"
     ]
    },
    {
     "name": "stdout",
     "output_type": "stream",
     "text": [
      "22/11/29 02:49:18 WARN DAGScheduler: Broadcasting large task binary with size 30.2 MiB\n"
     ]
    },
    {
     "name": "stderr",
     "output_type": "stream",
     "text": [
      "\r",
      "[Stage 1309:>                                                       (0 + 1) / 1]\r"
     ]
    },
    {
     "name": "stdout",
     "output_type": "stream",
     "text": [
      "22/11/29 02:49:20 WARN DAGScheduler: Broadcasting large task binary with size 2.2 MiB\n"
     ]
    },
    {
     "name": "stderr",
     "output_type": "stream",
     "text": [
      "                                                                                \r"
     ]
    },
    {
     "name": "stdout",
     "output_type": "stream",
     "text": [
      "22/11/29 02:49:23 WARN DAGScheduler: Broadcasting large task binary with size 36.8 MiB\n"
     ]
    },
    {
     "name": "stderr",
     "output_type": "stream",
     "text": [
      "\r",
      "[Stage 1311:>                                                       (0 + 1) / 1]\r"
     ]
    },
    {
     "name": "stdout",
     "output_type": "stream",
     "text": [
      "22/11/29 02:49:25 WARN DAGScheduler: Broadcasting large task binary with size 2.2 MiB\n"
     ]
    },
    {
     "name": "stderr",
     "output_type": "stream",
     "text": [
      "                                                                                \r"
     ]
    },
    {
     "name": "stdout",
     "output_type": "stream",
     "text": [
      "22/11/29 02:49:29 WARN DAGScheduler: Broadcasting large task binary with size 44.2 MiB\n"
     ]
    },
    {
     "name": "stderr",
     "output_type": "stream",
     "text": [
      "\r",
      "[Stage 1313:>                                                       (0 + 1) / 1]\r"
     ]
    },
    {
     "name": "stdout",
     "output_type": "stream",
     "text": [
      "22/11/29 02:49:31 WARN DAGScheduler: Broadcasting large task binary with size 2.2 MiB\n"
     ]
    },
    {
     "name": "stderr",
     "output_type": "stream",
     "text": [
      "                                                                                \r"
     ]
    },
    {
     "name": "stdout",
     "output_type": "stream",
     "text": [
      "22/11/29 02:49:35 WARN DAGScheduler: Broadcasting large task binary with size 51.8 MiB\n"
     ]
    },
    {
     "name": "stderr",
     "output_type": "stream",
     "text": [
      "[Stage 1315:>                                                       (0 + 1) / 1]\r"
     ]
    },
    {
     "name": "stdout",
     "output_type": "stream",
     "text": [
      "22/11/29 02:49:37 WARN DAGScheduler: Broadcasting large task binary with size 2.2 MiB\n"
     ]
    },
    {
     "name": "stderr",
     "output_type": "stream",
     "text": [
      "[Stage 1317:>                                                       (0 + 0) / 1]\r"
     ]
    },
    {
     "name": "stdout",
     "output_type": "stream",
     "text": [
      "22/11/29 02:49:41 WARN DAGScheduler: Broadcasting large task binary with size 56.4 MiB\n"
     ]
    },
    {
     "name": "stderr",
     "output_type": "stream",
     "text": [
      "\r",
      "[Stage 1317:>                                                       (0 + 1) / 1]\r"
     ]
    },
    {
     "name": "stdout",
     "output_type": "stream",
     "text": [
      "22/11/29 02:49:43 WARN DAGScheduler: Broadcasting large task binary with size 1997.7 KiB\n"
     ]
    },
    {
     "name": "stderr",
     "output_type": "stream",
     "text": [
      "                                                                                \r"
     ]
    },
    {
     "name": "stdout",
     "output_type": "stream",
     "text": [
      "22/11/29 02:49:47 WARN DAGScheduler: Broadcasting large task binary with size 59.9 MiB\n"
     ]
    },
    {
     "name": "stderr",
     "output_type": "stream",
     "text": [
      "[Stage 1319:>                                                       (0 + 1) / 1]\r"
     ]
    },
    {
     "name": "stdout",
     "output_type": "stream",
     "text": [
      "22/11/29 02:49:49 WARN DAGScheduler: Broadcasting large task binary with size 1654.5 KiB\n"
     ]
    },
    {
     "name": "stderr",
     "output_type": "stream",
     "text": [
      "                                                                                \r"
     ]
    },
    {
     "name": "stdout",
     "output_type": "stream",
     "text": [
      "22/11/29 02:49:51 WARN DAGScheduler: Broadcasting large task binary with size 19.2 MiB\n"
     ]
    },
    {
     "name": "stderr",
     "output_type": "stream",
     "text": [
      "                                                                                \r"
     ]
    },
    {
     "name": "stdout",
     "output_type": "stream",
     "text": [
      "22/11/29 02:49:53 WARN DAGScheduler: Broadcasting large task binary with size 20.5 MiB\n"
     ]
    },
    {
     "name": "stderr",
     "output_type": "stream",
     "text": [
      "                                                                                \r"
     ]
    },
    {
     "name": "stdout",
     "output_type": "stream",
     "text": [
      "22/11/29 02:49:55 WARN DAGScheduler: Broadcasting large task binary with size 18.4 MiB\n"
     ]
    },
    {
     "name": "stderr",
     "output_type": "stream",
     "text": [
      "                                                                                \r"
     ]
    },
    {
     "name": "stdout",
     "output_type": "stream",
     "text": [
      "22/11/29 02:49:57 WARN DAGScheduler: Broadcasting large task binary with size 12.8 MiB\n",
      "22/11/29 02:49:58 WARN DAGScheduler: Broadcasting large task binary with size 13.2 MiB\n",
      "22/11/29 02:49:58 WARN DAGScheduler: Broadcasting large task binary with size 3.4 MiB\n"
     ]
    },
    {
     "name": "stderr",
     "output_type": "stream",
     "text": [
      "                                                                                \r"
     ]
    }
   ],
   "source": [
    "rf_paramGrid = (ParamGridBuilder()\n",
    "             .addGrid(rf.maxDepth, [3, 10, 20])# maximum depth for each tree\n",
    "             .addGrid(rf.minInfoGain,[0.0, 1.0, 5.0])# minimum info gained\n",
    "             .build())\n",
    "\n",
    "rf_cv = CrossValidator(estimator=rf, estimatorParamMaps=rf_paramGrid, \n",
    "                    evaluator=evaluator, numFolds=5, parallelism = 4)\n",
    "\n",
    "rf_cv_model = rf_cv.fit(fifa_df_train)\n",
    "\n",
    "rf_cv_prediction_test = rf_cv_model.transform(fifa_df_test)\n",
    "rf_cv_mse = evaluator.evaluate(rf_cv_prediction_test)\n"
   ]
  },
  {
   "cell_type": "code",
   "execution_count": 34,
   "id": "12f4bd69",
   "metadata": {},
   "outputs": [
    {
     "name": "stdout",
     "output_type": "stream",
     "text": [
      "Before cross-validation and parameter tuning, MSE=2.31273\n",
      "After cross-validation and parameter tuning, MSE=0.58248\n"
     ]
    }
   ],
   "source": [
    "print(f\"Before cross-validation and parameter tuning, MSE={np.round(rf_mse_test,5)}\")\n",
    "print(f\"After cross-validation and parameter tuning, MSE={np.round(rf_cv_mse,5)}\")"
   ]
  },
  {
   "cell_type": "markdown",
   "id": "0e57cbdb",
   "metadata": {},
   "source": [
    "# Tensorflow Shallow and deep neural network regression"
   ]
  },
  {
   "cell_type": "markdown",
   "id": "94d9fca1",
   "metadata": {},
   "source": [
    "First, the pandas dataframes are converted to tensors"
   ]
  },
  {
   "cell_type": "code",
   "execution_count": 35,
   "id": "d41ea981",
   "metadata": {},
   "outputs": [
    {
     "name": "stdout",
     "output_type": "stream",
     "text": [
      "Metal device set to: Apple M1\n"
     ]
    },
    {
     "name": "stderr",
     "output_type": "stream",
     "text": [
      "2022-11-29 02:50:05.267673: I tensorflow/core/common_runtime/pluggable_device/pluggable_device_factory.cc:305] Could not identify NUMA node of platform GPU ID 0, defaulting to 0. Your kernel may not have been built with NUMA support.\n",
      "2022-11-29 02:50:05.267972: I tensorflow/core/common_runtime/pluggable_device/pluggable_device_factory.cc:271] Created TensorFlow device (/job:localhost/replica:0/task:0/device:GPU:0 with 0 MB memory) -> physical PluggableDevice (device: 0, name: METAL, pci bus id: <undefined>)\n"
     ]
    }
   ],
   "source": [
    "import tensorflow as tf\n",
    "from tensorflow import keras \n",
    "\n",
    "# Converting the pandas DataFrame to tensors\n",
    "\n",
    "x_train = tf.constant(np.array(fifa_df_train_pandas['features'].values.tolist()))\n",
    "y_train = tf.constant(np.array(fifa_df_train_pandas['outcome'].values.tolist()))\n",
    "\n",
    "x_validate = tf.constant(np.array(fifa_df_validate_pandas['features'].values.tolist()))\n",
    "y_validate = tf.constant(np.array(fifa_df_validate_pandas['outcome'].values.tolist()))\n",
    "\n",
    "\n",
    "x_test = tf.constant(np.array(fifa_df_test_pandas['features'].values.tolist()))\n",
    "y_test = tf.constant(np.array(fifa_df_test_pandas['outcome'].values.tolist()))\n"
   ]
  },
  {
   "cell_type": "markdown",
   "id": "b2a0da38",
   "metadata": {},
   "source": [
    "First model is a shallow linear regression model, this is the closest to the linear regression in Spark ML."
   ]
  },
  {
   "cell_type": "code",
   "execution_count": 36,
   "id": "e5fde92e",
   "metadata": {
    "scrolled": true
   },
   "outputs": [
    {
     "name": "stdout",
     "output_type": "stream",
     "text": [
      "Model: \"sequential\"\n",
      "_________________________________________________________________\n",
      " Layer (type)                Output Shape              Param #   \n",
      "=================================================================\n",
      " dense (Dense)               (57921, 1)                313       \n",
      "                                                                 \n",
      "=================================================================\n",
      "Total params: 313\n",
      "Trainable params: 313\n",
      "Non-trainable params: 0\n",
      "_________________________________________________________________\n"
     ]
    }
   ],
   "source": [
    "lr_model = keras.Sequential( [\n",
    "                            keras.layers.Dense(1)\n",
    "                            ] )\n",
    "\n",
    "\n",
    "y_pred = lr_model(x_train)\n",
    "lr_model.summary()"
   ]
  },
  {
   "cell_type": "markdown",
   "id": "10b88f4d",
   "metadata": {},
   "source": [
    "Compile and train the model before hyperparameter tuning."
   ]
  },
  {
   "cell_type": "code",
   "execution_count": 37,
   "id": "e7168c0a",
   "metadata": {},
   "outputs": [],
   "source": [
    "# Compile the model\n",
    "lr_model.compile(optimizer = 'adam',\n",
    "    loss=tf.keras.losses.MeanSquaredError(), \n",
    "    metrics=[tf.keras.metrics.MeanSquaredError()])"
   ]
  },
  {
   "cell_type": "code",
   "execution_count": 38,
   "id": "2384bf6d",
   "metadata": {},
   "outputs": [
    {
     "name": "stderr",
     "output_type": "stream",
     "text": [
      "2022-11-29 02:50:05.980821: W tensorflow/core/platform/profile_utils/cpu_utils.cc:128] Failed to get CPU frequency: 0 Hz\n"
     ]
    },
    {
     "name": "stdout",
     "output_type": "stream",
     "text": [
      "Epoch 1/10\n"
     ]
    },
    {
     "name": "stderr",
     "output_type": "stream",
     "text": [
      "2022-11-29 02:50:06.365751: I tensorflow/core/grappler/optimizers/custom_graph_optimizer_registry.cc:113] Plugin optimizer for device_type GPU is enabled.\n",
      "2022-11-29 02:50:11.645479: I tensorflow/core/grappler/optimizers/custom_graph_optimizer_registry.cc:113] Plugin optimizer for device_type GPU is enabled.\n"
     ]
    },
    {
     "name": "stdout",
     "output_type": "stream",
     "text": [
      "1811/1811 - 7s - loss: 56.5972 - mean_squared_error: 56.5972 - val_loss: 13.3480 - val_mean_squared_error: 13.3480 - 7s/epoch - 4ms/step\n",
      "Epoch 2/10\n",
      "1811/1811 - 6s - loss: 9.8283 - mean_squared_error: 9.8283 - val_loss: 8.4778 - val_mean_squared_error: 8.4778 - 6s/epoch - 3ms/step\n",
      "Epoch 3/10\n",
      "1811/1811 - 6s - loss: 6.6885 - mean_squared_error: 6.6885 - val_loss: 6.3918 - val_mean_squared_error: 6.3918 - 6s/epoch - 3ms/step\n",
      "Epoch 4/10\n",
      "1811/1811 - 6s - loss: 5.3980 - mean_squared_error: 5.3980 - val_loss: 4.9601 - val_mean_squared_error: 4.9601 - 6s/epoch - 3ms/step\n",
      "Epoch 5/10\n",
      "1811/1811 - 6s - loss: 4.8241 - mean_squared_error: 4.8241 - val_loss: 4.5157 - val_mean_squared_error: 4.5157 - 6s/epoch - 3ms/step\n",
      "Epoch 6/10\n",
      "1811/1811 - 6s - loss: 4.4702 - mean_squared_error: 4.4702 - val_loss: 4.2919 - val_mean_squared_error: 4.2919 - 6s/epoch - 3ms/step\n",
      "Epoch 7/10\n",
      "1811/1811 - 6s - loss: 4.2250 - mean_squared_error: 4.2250 - val_loss: 4.8437 - val_mean_squared_error: 4.8437 - 6s/epoch - 3ms/step\n",
      "Epoch 8/10\n",
      "1811/1811 - 6s - loss: 4.0561 - mean_squared_error: 4.0561 - val_loss: 4.2742 - val_mean_squared_error: 4.2742 - 6s/epoch - 3ms/step\n",
      "Epoch 9/10\n",
      "1811/1811 - 6s - loss: 3.8949 - mean_squared_error: 3.8949 - val_loss: 4.0523 - val_mean_squared_error: 4.0523 - 6s/epoch - 3ms/step\n",
      "Epoch 10/10\n",
      "1811/1811 - 6s - loss: 3.7886 - mean_squared_error: 3.7886 - val_loss: 3.7289 - val_mean_squared_error: 3.7289 - 6s/epoch - 3ms/step\n"
     ]
    },
    {
     "data": {
      "text/plain": [
       "<keras.callbacks.History at 0x2900a21d0>"
      ]
     },
     "execution_count": 38,
     "metadata": {},
     "output_type": "execute_result"
    }
   ],
   "source": [
    "lr_model.fit(x_train,y_train, epochs = 10,validation_data=(x_validate,y_validate),verbose = 2)"
   ]
  },
  {
   "cell_type": "markdown",
   "id": "6f39e864",
   "metadata": {},
   "source": [
    "Hyperparameter tuning with tensorboard."
   ]
  },
  {
   "cell_type": "code",
   "execution_count": 39,
   "id": "93c40812",
   "metadata": {},
   "outputs": [],
   "source": [
    "from tensorboard.plugins.hparams import api as hp\n",
    "\n",
    "# Defining the hyperparameters that will be compared and tuned using tensorboard\n",
    "\n",
    "HP_LEARNING_RATE = hp.HParam('learning_rate', hp.Discrete([0.001,0.005,0.01, 0.1])) # the learning rate\n",
    "\n",
    "# Creating the logs\n",
    "with tf.summary.create_file_writer('logs/lr_model').as_default():\n",
    "    hp.hparams_config(\n",
    "        hparams=[HP_LEARNING_RATE],\n",
    "        metrics=[hp.Metric('MSE')],\n",
    "    )\n",
    "\n"
   ]
  },
  {
   "cell_type": "code",
   "execution_count": 40,
   "id": "1984a3ef",
   "metadata": {},
   "outputs": [],
   "source": [
    "# Defining the model training function for hyperparameter tuning\n",
    "def train_test_model(hparams,logdir, x, y, i, k):\n",
    "\n",
    "    model = keras.Sequential()\n",
    "    model.add(keras.layers.Dense(1))\n",
    "    model.compile(\n",
    "        optimizer = tf.optimizers.Adam(learning_rate=hparams[HP_LEARNING_RATE]),\n",
    "        loss = tf.keras.losses.MeanSquaredError(),\n",
    "        metrics=[tf.keras.metrics.MeanSquaredError(name = 'MSE_Epochs')])\n",
    "    \n",
    "  # This section is for splitting the data sets into k folds. May be better to do this outside this function\n",
    "    x_train = tf.split(x, k)\n",
    "    y_train = tf.split(y, k)\n",
    "    val_x = x_train.pop(i)\n",
    "    val_y = y_train.pop(i)\n",
    "    x_train = tf.concat([x_train[0], x_train[1]], 0)  \n",
    "    y_train = tf.concat([y_train[0], y_train[1]], 0)  \n",
    "\n",
    "  # Store the output of the model training\n",
    "    history = model.fit(x_train, y_train, epochs=20, verbose = 2,\n",
    "    callbacks=[tf.keras.callbacks.TensorBoard(log_dir=logdir, histogram_freq=1)],\n",
    "    validation_data = (val_x, val_y))\n",
    "\n",
    "    mse = np.min(history.history[\"val_MSE_Epochs\"]) # Returns the lowest Mean Squared Error obtained in training\n",
    "    return mse\n"
   ]
  },
  {
   "cell_type": "code",
   "execution_count": 41,
   "id": "2128767d",
   "metadata": {},
   "outputs": [
    {
     "name": "stdout",
     "output_type": "stream",
     "text": [
      "tf.Tensor([57921   312], shape=(2,), dtype=int32)\n"
     ]
    }
   ],
   "source": [
    "# Combine the original training and validation data sets\n",
    "# x_train = tf.concat([x_train,x_validate], 0)\n",
    "# y_train = tf.concat([y_train,y_validate], 0)\n",
    "\n",
    "# Get randomized indices in order to shuffle data sets\n",
    "indices = tf.range(start=0, limit=tf.shape(x_train)[0], dtype=tf.int32)\n",
    "\n",
    "shuffled_indices = tf.random.shuffle(indices)\n",
    "\n",
    "# Shuffle the data sets with the random indices\n",
    "x_train_shuffled = tf.gather(x_train, shuffled_indices)\n",
    "y_train_shuffled = tf.gather(y_train, shuffled_indices)\n",
    "print(tf.shape(x_train_shuffled))\n",
    "\n",
    "# Number of folds to split the data into\n",
    "k = 3"
   ]
  },
  {
   "cell_type": "code",
   "execution_count": 42,
   "id": "768309f6",
   "metadata": {},
   "outputs": [
    {
     "name": "stdout",
     "output_type": "stream",
     "text": [
      "--- Starting trial: run-LEARNING_RATE 0.001\n",
      "{'learning_rate': 0.001}\n",
      "Epoch 1/20\n"
     ]
    },
    {
     "name": "stderr",
     "output_type": "stream",
     "text": [
      "2022-11-29 02:51:08.346639: I tensorflow/core/grappler/optimizers/custom_graph_optimizer_registry.cc:113] Plugin optimizer for device_type GPU is enabled.\n",
      "2022-11-29 02:51:11.876827: I tensorflow/core/grappler/optimizers/custom_graph_optimizer_registry.cc:113] Plugin optimizer for device_type GPU is enabled.\n"
     ]
    },
    {
     "name": "stdout",
     "output_type": "stream",
     "text": [
      "1207/1207 - 5s - loss: 297.1802 - MSE_Epochs: 297.1802 - val_loss: 22.5944 - val_MSE_Epochs: 22.5944 - 5s/epoch - 4ms/step\n",
      "Epoch 2/20\n",
      "1207/1207 - 5s - loss: 15.8330 - MSE_Epochs: 15.8330 - val_loss: 11.7084 - val_MSE_Epochs: 11.7084 - 5s/epoch - 4ms/step\n",
      "Epoch 3/20\n",
      "1207/1207 - 4s - loss: 9.4497 - MSE_Epochs: 9.4497 - val_loss: 8.5031 - val_MSE_Epochs: 8.5031 - 4s/epoch - 4ms/step\n",
      "Epoch 4/20\n",
      "1207/1207 - 4s - loss: 7.4793 - MSE_Epochs: 7.4793 - val_loss: 7.1913 - val_MSE_Epochs: 7.1913 - 4s/epoch - 4ms/step\n",
      "Epoch 5/20\n",
      "1207/1207 - 4s - loss: 6.4668 - MSE_Epochs: 6.4668 - val_loss: 6.4443 - val_MSE_Epochs: 6.4443 - 4s/epoch - 4ms/step\n",
      "Epoch 6/20\n",
      "1207/1207 - 4s - loss: 5.7016 - MSE_Epochs: 5.7016 - val_loss: 5.9266 - val_MSE_Epochs: 5.9266 - 4s/epoch - 4ms/step\n",
      "Epoch 7/20\n",
      "1207/1207 - 4s - loss: 5.2056 - MSE_Epochs: 5.2056 - val_loss: 5.3059 - val_MSE_Epochs: 5.3059 - 4s/epoch - 4ms/step\n",
      "Epoch 8/20\n",
      "1207/1207 - 4s - loss: 4.8446 - MSE_Epochs: 4.8446 - val_loss: 5.0835 - val_MSE_Epochs: 5.0835 - 4s/epoch - 4ms/step\n",
      "Epoch 9/20\n",
      "1207/1207 - 4s - loss: 4.6075 - MSE_Epochs: 4.6075 - val_loss: 4.6595 - val_MSE_Epochs: 4.6595 - 4s/epoch - 4ms/step\n",
      "Epoch 10/20\n",
      "1207/1207 - 5s - loss: 4.4026 - MSE_Epochs: 4.4026 - val_loss: 5.0143 - val_MSE_Epochs: 5.0143 - 5s/epoch - 4ms/step\n",
      "Epoch 11/20\n",
      "1207/1207 - 4s - loss: 4.2375 - MSE_Epochs: 4.2375 - val_loss: 4.3270 - val_MSE_Epochs: 4.3270 - 4s/epoch - 4ms/step\n",
      "Epoch 12/20\n",
      "1207/1207 - 4s - loss: 4.1173 - MSE_Epochs: 4.1173 - val_loss: 4.5822 - val_MSE_Epochs: 4.5822 - 4s/epoch - 4ms/step\n",
      "Epoch 13/20\n",
      "1207/1207 - 5s - loss: 3.9828 - MSE_Epochs: 3.9828 - val_loss: 4.2455 - val_MSE_Epochs: 4.2455 - 5s/epoch - 4ms/step\n",
      "Epoch 14/20\n",
      "1207/1207 - 4s - loss: 3.9182 - MSE_Epochs: 3.9182 - val_loss: 4.4727 - val_MSE_Epochs: 4.4727 - 4s/epoch - 4ms/step\n",
      "Epoch 15/20\n",
      "1207/1207 - 5s - loss: 3.8121 - MSE_Epochs: 3.8121 - val_loss: 3.9565 - val_MSE_Epochs: 3.9565 - 5s/epoch - 4ms/step\n",
      "Epoch 16/20\n",
      "1207/1207 - 4s - loss: 3.7935 - MSE_Epochs: 3.7935 - val_loss: 3.8637 - val_MSE_Epochs: 3.8637 - 4s/epoch - 4ms/step\n",
      "Epoch 17/20\n",
      "1207/1207 - 4s - loss: 3.6406 - MSE_Epochs: 3.6406 - val_loss: 3.8125 - val_MSE_Epochs: 3.8125 - 4s/epoch - 4ms/step\n",
      "Epoch 18/20\n",
      "1207/1207 - 4s - loss: 3.6239 - MSE_Epochs: 3.6239 - val_loss: 3.7413 - val_MSE_Epochs: 3.7413 - 4s/epoch - 4ms/step\n",
      "Epoch 19/20\n",
      "1207/1207 - 4s - loss: 3.5221 - MSE_Epochs: 3.5221 - val_loss: 3.7680 - val_MSE_Epochs: 3.7680 - 4s/epoch - 4ms/step\n",
      "Epoch 20/20\n",
      "1207/1207 - 4s - loss: 3.5153 - MSE_Epochs: 3.5153 - val_loss: 3.6707 - val_MSE_Epochs: 3.6707 - 4s/epoch - 4ms/step\n",
      "Epoch 1/20\n"
     ]
    },
    {
     "name": "stderr",
     "output_type": "stream",
     "text": [
      "2022-11-29 02:52:37.963035: I tensorflow/core/grappler/optimizers/custom_graph_optimizer_registry.cc:113] Plugin optimizer for device_type GPU is enabled.\n",
      "2022-11-29 02:52:41.368091: I tensorflow/core/grappler/optimizers/custom_graph_optimizer_registry.cc:113] Plugin optimizer for device_type GPU is enabled.\n"
     ]
    },
    {
     "name": "stdout",
     "output_type": "stream",
     "text": [
      "1207/1207 - 5s - loss: 300.1273 - MSE_Epochs: 300.1273 - val_loss: 22.0078 - val_MSE_Epochs: 22.0078 - 5s/epoch - 4ms/step\n",
      "Epoch 2/20\n",
      "1207/1207 - 4s - loss: 16.0259 - MSE_Epochs: 16.0259 - val_loss: 11.4809 - val_MSE_Epochs: 11.4809 - 4s/epoch - 4ms/step\n",
      "Epoch 3/20\n",
      "1207/1207 - 4s - loss: 9.5815 - MSE_Epochs: 9.5815 - val_loss: 8.3225 - val_MSE_Epochs: 8.3225 - 4s/epoch - 4ms/step\n",
      "Epoch 4/20\n",
      "1207/1207 - 4s - loss: 7.5704 - MSE_Epochs: 7.5704 - val_loss: 7.0231 - val_MSE_Epochs: 7.0231 - 4s/epoch - 4ms/step\n",
      "Epoch 5/20\n",
      "1207/1207 - 4s - loss: 6.5384 - MSE_Epochs: 6.5384 - val_loss: 6.1020 - val_MSE_Epochs: 6.1020 - 4s/epoch - 4ms/step\n",
      "Epoch 6/20\n",
      "1207/1207 - 4s - loss: 5.8141 - MSE_Epochs: 5.8141 - val_loss: 5.4988 - val_MSE_Epochs: 5.4988 - 4s/epoch - 4ms/step\n",
      "Epoch 7/20\n",
      "1207/1207 - 4s - loss: 5.2960 - MSE_Epochs: 5.2960 - val_loss: 5.0392 - val_MSE_Epochs: 5.0392 - 4s/epoch - 4ms/step\n",
      "Epoch 8/20\n",
      "1207/1207 - 4s - loss: 4.9490 - MSE_Epochs: 4.9490 - val_loss: 4.8311 - val_MSE_Epochs: 4.8311 - 4s/epoch - 4ms/step\n",
      "Epoch 9/20\n",
      "1207/1207 - 4s - loss: 4.6629 - MSE_Epochs: 4.6629 - val_loss: 4.4905 - val_MSE_Epochs: 4.4905 - 4s/epoch - 4ms/step\n",
      "Epoch 10/20\n",
      "1207/1207 - 4s - loss: 4.4789 - MSE_Epochs: 4.4789 - val_loss: 4.3098 - val_MSE_Epochs: 4.3098 - 4s/epoch - 4ms/step\n",
      "Epoch 11/20\n",
      "1207/1207 - 4s - loss: 4.3094 - MSE_Epochs: 4.3094 - val_loss: 4.1969 - val_MSE_Epochs: 4.1969 - 4s/epoch - 4ms/step\n",
      "Epoch 12/20\n",
      "1207/1207 - 4s - loss: 4.1767 - MSE_Epochs: 4.1767 - val_loss: 4.1622 - val_MSE_Epochs: 4.1622 - 4s/epoch - 4ms/step\n",
      "Epoch 13/20\n",
      "1207/1207 - 4s - loss: 4.0098 - MSE_Epochs: 4.0098 - val_loss: 4.0346 - val_MSE_Epochs: 4.0346 - 4s/epoch - 4ms/step\n",
      "Epoch 14/20\n",
      "1207/1207 - 4s - loss: 3.9408 - MSE_Epochs: 3.9408 - val_loss: 3.8438 - val_MSE_Epochs: 3.8438 - 4s/epoch - 4ms/step\n",
      "Epoch 15/20\n",
      "1207/1207 - 4s - loss: 3.8403 - MSE_Epochs: 3.8403 - val_loss: 4.2779 - val_MSE_Epochs: 4.2779 - 4s/epoch - 4ms/step\n",
      "Epoch 16/20\n",
      "1207/1207 - 4s - loss: 3.7484 - MSE_Epochs: 3.7484 - val_loss: 3.6903 - val_MSE_Epochs: 3.6903 - 4s/epoch - 4ms/step\n",
      "Epoch 17/20\n",
      "1207/1207 - 4s - loss: 3.6941 - MSE_Epochs: 3.6941 - val_loss: 3.7211 - val_MSE_Epochs: 3.7211 - 4s/epoch - 4ms/step\n",
      "Epoch 18/20\n",
      "1207/1207 - 4s - loss: 3.6399 - MSE_Epochs: 3.6399 - val_loss: 3.9580 - val_MSE_Epochs: 3.9580 - 4s/epoch - 4ms/step\n",
      "Epoch 19/20\n",
      "1207/1207 - 5s - loss: 3.5365 - MSE_Epochs: 3.5365 - val_loss: 3.6561 - val_MSE_Epochs: 3.6561 - 5s/epoch - 4ms/step\n",
      "Epoch 20/20\n",
      "1207/1207 - 5s - loss: 3.5082 - MSE_Epochs: 3.5082 - val_loss: 3.4666 - val_MSE_Epochs: 3.4666 - 5s/epoch - 4ms/step\n",
      "Epoch 1/20\n"
     ]
    },
    {
     "name": "stderr",
     "output_type": "stream",
     "text": [
      "2022-11-29 02:54:06.913915: I tensorflow/core/grappler/optimizers/custom_graph_optimizer_registry.cc:113] Plugin optimizer for device_type GPU is enabled.\n",
      "2022-11-29 02:54:10.419299: I tensorflow/core/grappler/optimizers/custom_graph_optimizer_registry.cc:113] Plugin optimizer for device_type GPU is enabled.\n"
     ]
    },
    {
     "name": "stdout",
     "output_type": "stream",
     "text": [
      "1207/1207 - 5s - loss: 301.6843 - MSE_Epochs: 301.6843 - val_loss: 22.8367 - val_MSE_Epochs: 22.8367 - 5s/epoch - 4ms/step\n",
      "Epoch 2/20\n",
      "1207/1207 - 4s - loss: 16.3973 - MSE_Epochs: 16.3973 - val_loss: 11.7325 - val_MSE_Epochs: 11.7325 - 4s/epoch - 4ms/step\n",
      "Epoch 3/20\n",
      "1207/1207 - 4s - loss: 9.6801 - MSE_Epochs: 9.6801 - val_loss: 8.2128 - val_MSE_Epochs: 8.2128 - 4s/epoch - 4ms/step\n",
      "Epoch 4/20\n",
      "1207/1207 - 4s - loss: 7.6135 - MSE_Epochs: 7.6135 - val_loss: 6.8609 - val_MSE_Epochs: 6.8609 - 4s/epoch - 4ms/step\n",
      "Epoch 5/20\n",
      "1207/1207 - 5s - loss: 6.5976 - MSE_Epochs: 6.5976 - val_loss: 6.4202 - val_MSE_Epochs: 6.4202 - 5s/epoch - 4ms/step\n",
      "Epoch 6/20\n",
      "1207/1207 - 4s - loss: 5.8404 - MSE_Epochs: 5.8404 - val_loss: 5.6778 - val_MSE_Epochs: 5.6778 - 4s/epoch - 4ms/step\n",
      "Epoch 7/20\n",
      "1207/1207 - 4s - loss: 5.3119 - MSE_Epochs: 5.3119 - val_loss: 4.9659 - val_MSE_Epochs: 4.9659 - 4s/epoch - 4ms/step\n",
      "Epoch 8/20\n",
      "1207/1207 - 4s - loss: 4.9871 - MSE_Epochs: 4.9871 - val_loss: 5.3590 - val_MSE_Epochs: 5.3590 - 4s/epoch - 4ms/step\n",
      "Epoch 9/20\n",
      "1207/1207 - 4s - loss: 4.7016 - MSE_Epochs: 4.7016 - val_loss: 4.5402 - val_MSE_Epochs: 4.5402 - 4s/epoch - 4ms/step\n",
      "Epoch 10/20\n",
      "1207/1207 - 4s - loss: 4.4756 - MSE_Epochs: 4.4756 - val_loss: 4.2309 - val_MSE_Epochs: 4.2309 - 4s/epoch - 4ms/step\n",
      "Epoch 11/20\n",
      "1207/1207 - 4s - loss: 4.3040 - MSE_Epochs: 4.3040 - val_loss: 4.1153 - val_MSE_Epochs: 4.1153 - 4s/epoch - 4ms/step\n",
      "Epoch 12/20\n",
      "1207/1207 - 4s - loss: 4.1961 - MSE_Epochs: 4.1961 - val_loss: 4.2144 - val_MSE_Epochs: 4.2144 - 4s/epoch - 4ms/step\n",
      "Epoch 13/20\n",
      "1207/1207 - 4s - loss: 4.0348 - MSE_Epochs: 4.0348 - val_loss: 3.9223 - val_MSE_Epochs: 3.9223 - 4s/epoch - 4ms/step\n",
      "Epoch 14/20\n",
      "1207/1207 - 4s - loss: 3.9356 - MSE_Epochs: 3.9356 - val_loss: 3.7821 - val_MSE_Epochs: 3.7821 - 4s/epoch - 4ms/step\n",
      "Epoch 15/20\n",
      "1207/1207 - 4s - loss: 3.8447 - MSE_Epochs: 3.8447 - val_loss: 3.6454 - val_MSE_Epochs: 3.6454 - 4s/epoch - 4ms/step\n",
      "Epoch 16/20\n",
      "1207/1207 - 4s - loss: 3.7806 - MSE_Epochs: 3.7806 - val_loss: 3.5830 - val_MSE_Epochs: 3.5830 - 4s/epoch - 4ms/step\n",
      "Epoch 17/20\n",
      "1207/1207 - 4s - loss: 3.6849 - MSE_Epochs: 3.6849 - val_loss: 3.6663 - val_MSE_Epochs: 3.6663 - 4s/epoch - 4ms/step\n",
      "Epoch 18/20\n",
      "1207/1207 - 4s - loss: 3.6121 - MSE_Epochs: 3.6121 - val_loss: 3.7117 - val_MSE_Epochs: 3.7117 - 4s/epoch - 4ms/step\n",
      "Epoch 19/20\n",
      "1207/1207 - 4s - loss: 3.5837 - MSE_Epochs: 3.5837 - val_loss: 3.4268 - val_MSE_Epochs: 3.4268 - 4s/epoch - 4ms/step\n",
      "Epoch 20/20\n",
      "1207/1207 - 4s - loss: 3.5250 - MSE_Epochs: 3.5250 - val_loss: 3.6414 - val_MSE_Epochs: 3.6414 - 4s/epoch - 4ms/step\n",
      "--- Starting trial: run-LEARNING_RATE 0.005\n",
      "{'learning_rate': 0.005}\n",
      "Epoch 1/20\n"
     ]
    },
    {
     "name": "stderr",
     "output_type": "stream",
     "text": [
      "2022-11-29 02:55:35.495493: I tensorflow/core/grappler/optimizers/custom_graph_optimizer_registry.cc:113] Plugin optimizer for device_type GPU is enabled.\n",
      "2022-11-29 02:55:38.905170: I tensorflow/core/grappler/optimizers/custom_graph_optimizer_registry.cc:113] Plugin optimizer for device_type GPU is enabled.\n"
     ]
    },
    {
     "name": "stdout",
     "output_type": "stream",
     "text": [
      "1207/1207 - 5s - loss: 71.6100 - MSE_Epochs: 71.6100 - val_loss: 8.1378 - val_MSE_Epochs: 8.1378 - 5s/epoch - 4ms/step\n",
      "Epoch 2/20\n",
      "1207/1207 - 5s - loss: 6.9144 - MSE_Epochs: 6.9144 - val_loss: 6.2521 - val_MSE_Epochs: 6.2521 - 5s/epoch - 4ms/step\n",
      "Epoch 3/20\n",
      "1207/1207 - 5s - loss: 5.6391 - MSE_Epochs: 5.6391 - val_loss: 5.3759 - val_MSE_Epochs: 5.3759 - 5s/epoch - 4ms/step\n",
      "Epoch 4/20\n",
      "1207/1207 - 5s - loss: 5.2943 - MSE_Epochs: 5.2943 - val_loss: 4.8816 - val_MSE_Epochs: 4.8816 - 5s/epoch - 4ms/step\n",
      "Epoch 5/20\n",
      "1207/1207 - 4s - loss: 4.7703 - MSE_Epochs: 4.7703 - val_loss: 4.3794 - val_MSE_Epochs: 4.3794 - 4s/epoch - 4ms/step\n",
      "Epoch 6/20\n",
      "1207/1207 - 4s - loss: 4.5046 - MSE_Epochs: 4.5046 - val_loss: 4.2641 - val_MSE_Epochs: 4.2641 - 4s/epoch - 4ms/step\n",
      "Epoch 7/20\n",
      "1207/1207 - 4s - loss: 4.3941 - MSE_Epochs: 4.3941 - val_loss: 3.9925 - val_MSE_Epochs: 3.9925 - 4s/epoch - 4ms/step\n",
      "Epoch 8/20\n",
      "1207/1207 - 4s - loss: 4.0925 - MSE_Epochs: 4.0925 - val_loss: 3.7984 - val_MSE_Epochs: 3.7984 - 4s/epoch - 4ms/step\n",
      "Epoch 9/20\n",
      "1207/1207 - 4s - loss: 4.0079 - MSE_Epochs: 4.0079 - val_loss: 3.8063 - val_MSE_Epochs: 3.8063 - 4s/epoch - 4ms/step\n",
      "Epoch 10/20\n",
      "1207/1207 - 4s - loss: 3.7493 - MSE_Epochs: 3.7493 - val_loss: 3.8566 - val_MSE_Epochs: 3.8566 - 4s/epoch - 4ms/step\n",
      "Epoch 11/20\n",
      "1207/1207 - 4s - loss: 3.9036 - MSE_Epochs: 3.9036 - val_loss: 4.4105 - val_MSE_Epochs: 4.4105 - 4s/epoch - 4ms/step\n",
      "Epoch 12/20\n",
      "1207/1207 - 4s - loss: 3.7323 - MSE_Epochs: 3.7323 - val_loss: 3.5057 - val_MSE_Epochs: 3.5057 - 4s/epoch - 4ms/step\n",
      "Epoch 13/20\n",
      "1207/1207 - 4s - loss: 3.7835 - MSE_Epochs: 3.7835 - val_loss: 5.6391 - val_MSE_Epochs: 5.6391 - 4s/epoch - 4ms/step\n",
      "Epoch 14/20\n",
      "1207/1207 - 4s - loss: 3.6880 - MSE_Epochs: 3.6880 - val_loss: 3.4214 - val_MSE_Epochs: 3.4214 - 4s/epoch - 4ms/step\n",
      "Epoch 15/20\n",
      "1207/1207 - 4s - loss: 3.7033 - MSE_Epochs: 3.7033 - val_loss: 3.3413 - val_MSE_Epochs: 3.3413 - 4s/epoch - 4ms/step\n",
      "Epoch 16/20\n",
      "1207/1207 - 4s - loss: 3.7219 - MSE_Epochs: 3.7219 - val_loss: 3.8981 - val_MSE_Epochs: 3.8981 - 4s/epoch - 4ms/step\n",
      "Epoch 17/20\n",
      "1207/1207 - 4s - loss: 3.6274 - MSE_Epochs: 3.6274 - val_loss: 3.4993 - val_MSE_Epochs: 3.4993 - 4s/epoch - 4ms/step\n",
      "Epoch 18/20\n",
      "1207/1207 - 4s - loss: 3.5491 - MSE_Epochs: 3.5491 - val_loss: 3.3110 - val_MSE_Epochs: 3.3110 - 4s/epoch - 4ms/step\n",
      "Epoch 19/20\n",
      "1207/1207 - 4s - loss: 3.6253 - MSE_Epochs: 3.6253 - val_loss: 3.5629 - val_MSE_Epochs: 3.5629 - 4s/epoch - 4ms/step\n",
      "Epoch 20/20\n",
      "1207/1207 - 4s - loss: 3.5905 - MSE_Epochs: 3.5905 - val_loss: 3.4144 - val_MSE_Epochs: 3.4144 - 4s/epoch - 4ms/step\n",
      "Epoch 1/20\n"
     ]
    },
    {
     "name": "stderr",
     "output_type": "stream",
     "text": [
      "2022-11-29 02:57:04.356138: I tensorflow/core/grappler/optimizers/custom_graph_optimizer_registry.cc:113] Plugin optimizer for device_type GPU is enabled.\n",
      "2022-11-29 02:57:07.776636: I tensorflow/core/grappler/optimizers/custom_graph_optimizer_registry.cc:113] Plugin optimizer for device_type GPU is enabled.\n"
     ]
    },
    {
     "name": "stdout",
     "output_type": "stream",
     "text": [
      "1207/1207 - 5s - loss: 71.9217 - MSE_Epochs: 71.9217 - val_loss: 8.0327 - val_MSE_Epochs: 8.0327 - 5s/epoch - 4ms/step\n",
      "Epoch 2/20\n",
      "1207/1207 - 4s - loss: 7.0006 - MSE_Epochs: 7.0006 - val_loss: 6.4270 - val_MSE_Epochs: 6.4270 - 4s/epoch - 4ms/step\n",
      "Epoch 3/20\n",
      "1207/1207 - 4s - loss: 5.7663 - MSE_Epochs: 5.7663 - val_loss: 6.2200 - val_MSE_Epochs: 6.2200 - 4s/epoch - 4ms/step\n",
      "Epoch 4/20\n",
      "1207/1207 - 4s - loss: 5.2504 - MSE_Epochs: 5.2504 - val_loss: 5.0079 - val_MSE_Epochs: 5.0079 - 4s/epoch - 4ms/step\n",
      "Epoch 5/20\n",
      "1207/1207 - 4s - loss: 4.9293 - MSE_Epochs: 4.9293 - val_loss: 4.3671 - val_MSE_Epochs: 4.3671 - 4s/epoch - 4ms/step\n",
      "Epoch 6/20\n",
      "1207/1207 - 4s - loss: 4.6423 - MSE_Epochs: 4.6423 - val_loss: 4.6663 - val_MSE_Epochs: 4.6663 - 4s/epoch - 4ms/step\n",
      "Epoch 7/20\n",
      "1207/1207 - 4s - loss: 4.2984 - MSE_Epochs: 4.2984 - val_loss: 3.9290 - val_MSE_Epochs: 3.9290 - 4s/epoch - 4ms/step\n",
      "Epoch 8/20\n",
      "1207/1207 - 4s - loss: 4.2508 - MSE_Epochs: 4.2508 - val_loss: 3.8093 - val_MSE_Epochs: 3.8093 - 4s/epoch - 4ms/step\n",
      "Epoch 9/20\n",
      "1207/1207 - 4s - loss: 4.0774 - MSE_Epochs: 4.0774 - val_loss: 3.5976 - val_MSE_Epochs: 3.5976 - 4s/epoch - 4ms/step\n",
      "Epoch 10/20\n",
      "1207/1207 - 4s - loss: 3.8463 - MSE_Epochs: 3.8463 - val_loss: 3.4755 - val_MSE_Epochs: 3.4755 - 4s/epoch - 4ms/step\n",
      "Epoch 11/20\n",
      "1207/1207 - 4s - loss: 3.8276 - MSE_Epochs: 3.8276 - val_loss: 3.9811 - val_MSE_Epochs: 3.9811 - 4s/epoch - 4ms/step\n",
      "Epoch 12/20\n",
      "1207/1207 - 4s - loss: 3.8244 - MSE_Epochs: 3.8244 - val_loss: 3.6888 - val_MSE_Epochs: 3.6888 - 4s/epoch - 4ms/step\n",
      "Epoch 13/20\n",
      "1207/1207 - 4s - loss: 3.6838 - MSE_Epochs: 3.6838 - val_loss: 7.4383 - val_MSE_Epochs: 7.4383 - 4s/epoch - 4ms/step\n",
      "Epoch 14/20\n",
      "1207/1207 - 4s - loss: 3.7599 - MSE_Epochs: 3.7599 - val_loss: 4.1813 - val_MSE_Epochs: 4.1813 - 4s/epoch - 4ms/step\n",
      "Epoch 15/20\n",
      "1207/1207 - 4s - loss: 3.6154 - MSE_Epochs: 3.6154 - val_loss: 3.4105 - val_MSE_Epochs: 3.4105 - 4s/epoch - 4ms/step\n",
      "Epoch 16/20\n",
      "1207/1207 - 4s - loss: 3.7429 - MSE_Epochs: 3.7429 - val_loss: 3.2568 - val_MSE_Epochs: 3.2568 - 4s/epoch - 4ms/step\n",
      "Epoch 17/20\n",
      "1207/1207 - 4s - loss: 3.6384 - MSE_Epochs: 3.6384 - val_loss: 3.4223 - val_MSE_Epochs: 3.4223 - 4s/epoch - 4ms/step\n",
      "Epoch 18/20\n",
      "1207/1207 - 4s - loss: 3.6192 - MSE_Epochs: 3.6192 - val_loss: 3.5736 - val_MSE_Epochs: 3.5736 - 4s/epoch - 4ms/step\n",
      "Epoch 19/20\n",
      "1207/1207 - 4s - loss: 3.5446 - MSE_Epochs: 3.5446 - val_loss: 3.2333 - val_MSE_Epochs: 3.2333 - 4s/epoch - 4ms/step\n",
      "Epoch 20/20\n",
      "1207/1207 - 4s - loss: 3.6265 - MSE_Epochs: 3.6265 - val_loss: 4.0737 - val_MSE_Epochs: 4.0737 - 4s/epoch - 4ms/step\n",
      "Epoch 1/20\n"
     ]
    },
    {
     "name": "stderr",
     "output_type": "stream",
     "text": [
      "2022-11-29 02:58:32.718401: I tensorflow/core/grappler/optimizers/custom_graph_optimizer_registry.cc:113] Plugin optimizer for device_type GPU is enabled.\n",
      "2022-11-29 02:58:36.077124: I tensorflow/core/grappler/optimizers/custom_graph_optimizer_registry.cc:113] Plugin optimizer for device_type GPU is enabled.\n"
     ]
    },
    {
     "name": "stdout",
     "output_type": "stream",
     "text": [
      "1207/1207 - 5s - loss: 71.7587 - MSE_Epochs: 71.7587 - val_loss: 8.0072 - val_MSE_Epochs: 8.0072 - 5s/epoch - 4ms/step\n",
      "Epoch 2/20\n",
      "1207/1207 - 4s - loss: 7.0036 - MSE_Epochs: 7.0036 - val_loss: 5.9017 - val_MSE_Epochs: 5.9017 - 4s/epoch - 4ms/step\n",
      "Epoch 3/20\n",
      "1207/1207 - 4s - loss: 5.8984 - MSE_Epochs: 5.8984 - val_loss: 5.0655 - val_MSE_Epochs: 5.0655 - 4s/epoch - 4ms/step\n",
      "Epoch 4/20\n",
      "1207/1207 - 4s - loss: 5.3133 - MSE_Epochs: 5.3133 - val_loss: 4.5268 - val_MSE_Epochs: 4.5268 - 4s/epoch - 4ms/step\n",
      "Epoch 5/20\n",
      "1207/1207 - 4s - loss: 4.9444 - MSE_Epochs: 4.9444 - val_loss: 4.2691 - val_MSE_Epochs: 4.2691 - 4s/epoch - 4ms/step\n",
      "Epoch 6/20\n",
      "1207/1207 - 4s - loss: 4.7256 - MSE_Epochs: 4.7256 - val_loss: 3.9558 - val_MSE_Epochs: 3.9558 - 4s/epoch - 4ms/step\n",
      "Epoch 7/20\n",
      "1207/1207 - 4s - loss: 4.4024 - MSE_Epochs: 4.4024 - val_loss: 3.9073 - val_MSE_Epochs: 3.9073 - 4s/epoch - 4ms/step\n",
      "Epoch 8/20\n",
      "1207/1207 - 5s - loss: 4.1453 - MSE_Epochs: 4.1453 - val_loss: 5.1942 - val_MSE_Epochs: 5.1942 - 5s/epoch - 4ms/step\n",
      "Epoch 9/20\n",
      "1207/1207 - 4s - loss: 4.1180 - MSE_Epochs: 4.1180 - val_loss: 4.8282 - val_MSE_Epochs: 4.8282 - 4s/epoch - 4ms/step\n",
      "Epoch 10/20\n",
      "1207/1207 - 4s - loss: 3.8497 - MSE_Epochs: 3.8497 - val_loss: 4.7491 - val_MSE_Epochs: 4.7491 - 4s/epoch - 4ms/step\n",
      "Epoch 11/20\n",
      "1207/1207 - 4s - loss: 3.9314 - MSE_Epochs: 3.9314 - val_loss: 3.3620 - val_MSE_Epochs: 3.3620 - 4s/epoch - 4ms/step\n",
      "Epoch 12/20\n",
      "1207/1207 - 4s - loss: 3.8674 - MSE_Epochs: 3.8674 - val_loss: 3.2567 - val_MSE_Epochs: 3.2567 - 4s/epoch - 4ms/step\n",
      "Epoch 13/20\n",
      "1207/1207 - 4s - loss: 3.8001 - MSE_Epochs: 3.8001 - val_loss: 4.0400 - val_MSE_Epochs: 4.0400 - 4s/epoch - 4ms/step\n",
      "Epoch 14/20\n",
      "1207/1207 - 4s - loss: 3.7225 - MSE_Epochs: 3.7225 - val_loss: 3.2816 - val_MSE_Epochs: 3.2816 - 4s/epoch - 4ms/step\n",
      "Epoch 15/20\n",
      "1207/1207 - 4s - loss: 3.6522 - MSE_Epochs: 3.6522 - val_loss: 3.2126 - val_MSE_Epochs: 3.2126 - 4s/epoch - 4ms/step\n",
      "Epoch 16/20\n",
      "1207/1207 - 4s - loss: 3.6073 - MSE_Epochs: 3.6073 - val_loss: 4.3576 - val_MSE_Epochs: 4.3576 - 4s/epoch - 4ms/step\n",
      "Epoch 17/20\n",
      "1207/1207 - 4s - loss: 3.7853 - MSE_Epochs: 3.7853 - val_loss: 4.0839 - val_MSE_Epochs: 4.0839 - 4s/epoch - 4ms/step\n",
      "Epoch 18/20\n",
      "1207/1207 - 4s - loss: 3.7771 - MSE_Epochs: 3.7771 - val_loss: 3.6177 - val_MSE_Epochs: 3.6177 - 4s/epoch - 4ms/step\n",
      "Epoch 19/20\n",
      "1207/1207 - 4s - loss: 3.5339 - MSE_Epochs: 3.5339 - val_loss: 3.3783 - val_MSE_Epochs: 3.3783 - 4s/epoch - 4ms/step\n",
      "Epoch 20/20\n",
      "1207/1207 - 4s - loss: 3.5768 - MSE_Epochs: 3.5768 - val_loss: 3.7618 - val_MSE_Epochs: 3.7618 - 4s/epoch - 4ms/step\n",
      "--- Starting trial: run-LEARNING_RATE 0.01\n",
      "{'learning_rate': 0.01}\n",
      "Epoch 1/20\n"
     ]
    },
    {
     "name": "stderr",
     "output_type": "stream",
     "text": [
      "2022-11-29 03:00:01.593936: I tensorflow/core/grappler/optimizers/custom_graph_optimizer_registry.cc:113] Plugin optimizer for device_type GPU is enabled.\n",
      "2022-11-29 03:00:05.014988: I tensorflow/core/grappler/optimizers/custom_graph_optimizer_registry.cc:113] Plugin optimizer for device_type GPU is enabled.\n"
     ]
    },
    {
     "name": "stdout",
     "output_type": "stream",
     "text": [
      "1207/1207 - 5s - loss: 49.2082 - MSE_Epochs: 49.2082 - val_loss: 7.3922 - val_MSE_Epochs: 7.3922 - 5s/epoch - 4ms/step\n",
      "Epoch 2/20\n",
      "1207/1207 - 4s - loss: 6.6799 - MSE_Epochs: 6.6799 - val_loss: 5.8637 - val_MSE_Epochs: 5.8637 - 4s/epoch - 4ms/step\n",
      "Epoch 3/20\n",
      "1207/1207 - 5s - loss: 5.9559 - MSE_Epochs: 5.9559 - val_loss: 5.4390 - val_MSE_Epochs: 5.4390 - 5s/epoch - 4ms/step\n",
      "Epoch 4/20\n",
      "1207/1207 - 4s - loss: 5.7558 - MSE_Epochs: 5.7558 - val_loss: 5.1738 - val_MSE_Epochs: 5.1738 - 4s/epoch - 4ms/step\n",
      "Epoch 5/20\n",
      "1207/1207 - 4s - loss: 5.2774 - MSE_Epochs: 5.2774 - val_loss: 4.5765 - val_MSE_Epochs: 4.5765 - 4s/epoch - 4ms/step\n",
      "Epoch 6/20\n",
      "1207/1207 - 4s - loss: 5.2630 - MSE_Epochs: 5.2630 - val_loss: 5.6832 - val_MSE_Epochs: 5.6832 - 4s/epoch - 4ms/step\n",
      "Epoch 7/20\n",
      "1207/1207 - 4s - loss: 4.9166 - MSE_Epochs: 4.9166 - val_loss: 5.7555 - val_MSE_Epochs: 5.7555 - 4s/epoch - 4ms/step\n",
      "Epoch 8/20\n",
      "1207/1207 - 4s - loss: 5.0656 - MSE_Epochs: 5.0656 - val_loss: 3.9799 - val_MSE_Epochs: 3.9799 - 4s/epoch - 4ms/step\n",
      "Epoch 9/20\n",
      "1207/1207 - 4s - loss: 4.9266 - MSE_Epochs: 4.9266 - val_loss: 4.2914 - val_MSE_Epochs: 4.2914 - 4s/epoch - 4ms/step\n",
      "Epoch 10/20\n",
      "1207/1207 - 4s - loss: 4.8532 - MSE_Epochs: 4.8532 - val_loss: 3.9702 - val_MSE_Epochs: 3.9702 - 4s/epoch - 4ms/step\n",
      "Epoch 11/20\n",
      "1207/1207 - 4s - loss: 4.7642 - MSE_Epochs: 4.7642 - val_loss: 6.3085 - val_MSE_Epochs: 6.3085 - 4s/epoch - 4ms/step\n",
      "Epoch 12/20\n",
      "1207/1207 - 4s - loss: 4.5363 - MSE_Epochs: 4.5363 - val_loss: 5.3867 - val_MSE_Epochs: 5.3867 - 4s/epoch - 4ms/step\n",
      "Epoch 13/20\n",
      "1207/1207 - 4s - loss: 4.6225 - MSE_Epochs: 4.6225 - val_loss: 4.6189 - val_MSE_Epochs: 4.6189 - 4s/epoch - 4ms/step\n",
      "Epoch 14/20\n",
      "1207/1207 - 4s - loss: 4.6829 - MSE_Epochs: 4.6829 - val_loss: 5.6628 - val_MSE_Epochs: 5.6628 - 4s/epoch - 4ms/step\n",
      "Epoch 15/20\n",
      "1207/1207 - 4s - loss: 4.8606 - MSE_Epochs: 4.8606 - val_loss: 5.1551 - val_MSE_Epochs: 5.1551 - 4s/epoch - 4ms/step\n",
      "Epoch 16/20\n",
      "1207/1207 - 4s - loss: 4.6970 - MSE_Epochs: 4.6970 - val_loss: 4.6818 - val_MSE_Epochs: 4.6818 - 4s/epoch - 4ms/step\n",
      "Epoch 17/20\n",
      "1207/1207 - 4s - loss: 4.5289 - MSE_Epochs: 4.5289 - val_loss: 6.6168 - val_MSE_Epochs: 6.6168 - 4s/epoch - 4ms/step\n",
      "Epoch 18/20\n",
      "1207/1207 - 4s - loss: 4.5612 - MSE_Epochs: 4.5612 - val_loss: 3.9836 - val_MSE_Epochs: 3.9836 - 4s/epoch - 4ms/step\n",
      "Epoch 19/20\n",
      "1207/1207 - 4s - loss: 4.6044 - MSE_Epochs: 4.6044 - val_loss: 4.5841 - val_MSE_Epochs: 4.5841 - 4s/epoch - 4ms/step\n",
      "Epoch 20/20\n",
      "1207/1207 - 4s - loss: 4.7069 - MSE_Epochs: 4.7069 - val_loss: 3.6260 - val_MSE_Epochs: 3.6260 - 4s/epoch - 4ms/step\n",
      "Epoch 1/20\n"
     ]
    },
    {
     "name": "stderr",
     "output_type": "stream",
     "text": [
      "2022-11-29 03:01:30.610293: I tensorflow/core/grappler/optimizers/custom_graph_optimizer_registry.cc:113] Plugin optimizer for device_type GPU is enabled.\n",
      "2022-11-29 03:01:34.558801: I tensorflow/core/grappler/optimizers/custom_graph_optimizer_registry.cc:113] Plugin optimizer for device_type GPU is enabled.\n"
     ]
    },
    {
     "name": "stdout",
     "output_type": "stream",
     "text": [
      "1207/1207 - 5s - loss: 49.4555 - MSE_Epochs: 49.4555 - val_loss: 7.2394 - val_MSE_Epochs: 7.2394 - 5s/epoch - 4ms/step\n",
      "Epoch 2/20\n",
      "1207/1207 - 4s - loss: 6.5906 - MSE_Epochs: 6.5906 - val_loss: 5.6384 - val_MSE_Epochs: 5.6384 - 4s/epoch - 4ms/step\n",
      "Epoch 3/20\n",
      "1207/1207 - 4s - loss: 6.1308 - MSE_Epochs: 6.1308 - val_loss: 5.0724 - val_MSE_Epochs: 5.0724 - 4s/epoch - 4ms/step\n",
      "Epoch 4/20\n",
      "1207/1207 - 4s - loss: 5.8186 - MSE_Epochs: 5.8186 - val_loss: 4.6050 - val_MSE_Epochs: 4.6050 - 4s/epoch - 4ms/step\n",
      "Epoch 5/20\n",
      "1207/1207 - 4s - loss: 5.3421 - MSE_Epochs: 5.3421 - val_loss: 4.3460 - val_MSE_Epochs: 4.3460 - 4s/epoch - 4ms/step\n",
      "Epoch 6/20\n",
      "1207/1207 - 4s - loss: 5.2836 - MSE_Epochs: 5.2836 - val_loss: 6.3473 - val_MSE_Epochs: 6.3473 - 4s/epoch - 4ms/step\n",
      "Epoch 7/20\n",
      "1207/1207 - 4s - loss: 4.9718 - MSE_Epochs: 4.9718 - val_loss: 4.0528 - val_MSE_Epochs: 4.0528 - 4s/epoch - 4ms/step\n",
      "Epoch 8/20\n",
      "1207/1207 - 4s - loss: 4.8022 - MSE_Epochs: 4.8022 - val_loss: 3.8721 - val_MSE_Epochs: 3.8721 - 4s/epoch - 4ms/step\n",
      "Epoch 9/20\n",
      "1207/1207 - 4s - loss: 4.6474 - MSE_Epochs: 4.6474 - val_loss: 6.0271 - val_MSE_Epochs: 6.0271 - 4s/epoch - 4ms/step\n",
      "Epoch 10/20\n",
      "1207/1207 - 4s - loss: 4.8904 - MSE_Epochs: 4.8904 - val_loss: 4.6967 - val_MSE_Epochs: 4.6967 - 4s/epoch - 4ms/step\n",
      "Epoch 11/20\n",
      "1207/1207 - 4s - loss: 4.6748 - MSE_Epochs: 4.6748 - val_loss: 4.0582 - val_MSE_Epochs: 4.0582 - 4s/epoch - 4ms/step\n",
      "Epoch 12/20\n",
      "1207/1207 - 4s - loss: 4.8045 - MSE_Epochs: 4.8045 - val_loss: 4.5893 - val_MSE_Epochs: 4.5893 - 4s/epoch - 4ms/step\n",
      "Epoch 13/20\n",
      "1207/1207 - 4s - loss: 4.7966 - MSE_Epochs: 4.7966 - val_loss: 4.3959 - val_MSE_Epochs: 4.3959 - 4s/epoch - 4ms/step\n",
      "Epoch 14/20\n",
      "1207/1207 - 4s - loss: 4.8183 - MSE_Epochs: 4.8183 - val_loss: 5.7519 - val_MSE_Epochs: 5.7519 - 4s/epoch - 4ms/step\n",
      "Epoch 15/20\n",
      "1207/1207 - 4s - loss: 4.5441 - MSE_Epochs: 4.5441 - val_loss: 4.8465 - val_MSE_Epochs: 4.8465 - 4s/epoch - 4ms/step\n",
      "Epoch 16/20\n",
      "1207/1207 - 4s - loss: 4.8054 - MSE_Epochs: 4.8054 - val_loss: 3.9142 - val_MSE_Epochs: 3.9142 - 4s/epoch - 4ms/step\n",
      "Epoch 17/20\n",
      "1207/1207 - 4s - loss: 4.7434 - MSE_Epochs: 4.7434 - val_loss: 7.3093 - val_MSE_Epochs: 7.3093 - 4s/epoch - 4ms/step\n",
      "Epoch 18/20\n",
      "1207/1207 - 4s - loss: 4.6863 - MSE_Epochs: 4.6863 - val_loss: 3.8613 - val_MSE_Epochs: 3.8613 - 4s/epoch - 4ms/step\n",
      "Epoch 19/20\n",
      "1207/1207 - 5s - loss: 4.5244 - MSE_Epochs: 4.5244 - val_loss: 3.7741 - val_MSE_Epochs: 3.7741 - 5s/epoch - 4ms/step\n",
      "Epoch 20/20\n",
      "1207/1207 - 4s - loss: 4.5977 - MSE_Epochs: 4.5977 - val_loss: 4.0349 - val_MSE_Epochs: 4.0349 - 4s/epoch - 4ms/step\n",
      "Epoch 1/20\n"
     ]
    },
    {
     "name": "stderr",
     "output_type": "stream",
     "text": [
      "2022-11-29 03:02:59.847901: I tensorflow/core/grappler/optimizers/custom_graph_optimizer_registry.cc:113] Plugin optimizer for device_type GPU is enabled.\n",
      "2022-11-29 03:03:03.249286: I tensorflow/core/grappler/optimizers/custom_graph_optimizer_registry.cc:113] Plugin optimizer for device_type GPU is enabled.\n"
     ]
    },
    {
     "name": "stdout",
     "output_type": "stream",
     "text": [
      "1207/1207 - 5s - loss: 50.5194 - MSE_Epochs: 50.5194 - val_loss: 7.0844 - val_MSE_Epochs: 7.0844 - 5s/epoch - 4ms/step\n",
      "Epoch 2/20\n",
      "1207/1207 - 5s - loss: 6.7836 - MSE_Epochs: 6.7836 - val_loss: 6.1948 - val_MSE_Epochs: 6.1948 - 5s/epoch - 4ms/step\n",
      "Epoch 3/20\n",
      "1207/1207 - 4s - loss: 6.1827 - MSE_Epochs: 6.1827 - val_loss: 7.4158 - val_MSE_Epochs: 7.4158 - 4s/epoch - 4ms/step\n",
      "Epoch 4/20\n",
      "1207/1207 - 4s - loss: 5.8796 - MSE_Epochs: 5.8796 - val_loss: 7.2750 - val_MSE_Epochs: 7.2750 - 4s/epoch - 4ms/step\n",
      "Epoch 5/20\n",
      "1207/1207 - 4s - loss: 5.3266 - MSE_Epochs: 5.3266 - val_loss: 4.5280 - val_MSE_Epochs: 4.5280 - 4s/epoch - 4ms/step\n",
      "Epoch 6/20\n",
      "1207/1207 - 4s - loss: 5.3853 - MSE_Epochs: 5.3853 - val_loss: 4.1072 - val_MSE_Epochs: 4.1072 - 4s/epoch - 4ms/step\n",
      "Epoch 7/20\n",
      "1207/1207 - 4s - loss: 5.2189 - MSE_Epochs: 5.2189 - val_loss: 3.9806 - val_MSE_Epochs: 3.9806 - 4s/epoch - 4ms/step\n",
      "Epoch 8/20\n",
      "1207/1207 - 4s - loss: 4.8665 - MSE_Epochs: 4.8665 - val_loss: 4.0244 - val_MSE_Epochs: 4.0244 - 4s/epoch - 4ms/step\n",
      "Epoch 9/20\n",
      "1207/1207 - 4s - loss: 4.9317 - MSE_Epochs: 4.9317 - val_loss: 4.0088 - val_MSE_Epochs: 4.0088 - 4s/epoch - 4ms/step\n",
      "Epoch 10/20\n",
      "1207/1207 - 4s - loss: 5.0142 - MSE_Epochs: 5.0142 - val_loss: 4.1257 - val_MSE_Epochs: 4.1257 - 4s/epoch - 4ms/step\n",
      "Epoch 11/20\n",
      "1207/1207 - 4s - loss: 4.9247 - MSE_Epochs: 4.9247 - val_loss: 5.0490 - val_MSE_Epochs: 5.0490 - 4s/epoch - 4ms/step\n",
      "Epoch 12/20\n",
      "1207/1207 - 5s - loss: 4.9596 - MSE_Epochs: 4.9596 - val_loss: 3.8338 - val_MSE_Epochs: 3.8338 - 5s/epoch - 4ms/step\n",
      "Epoch 13/20\n",
      "1207/1207 - 4s - loss: 4.8367 - MSE_Epochs: 4.8367 - val_loss: 3.6014 - val_MSE_Epochs: 3.6014 - 4s/epoch - 4ms/step\n",
      "Epoch 14/20\n",
      "1207/1207 - 4s - loss: 4.8508 - MSE_Epochs: 4.8508 - val_loss: 5.5356 - val_MSE_Epochs: 5.5356 - 4s/epoch - 4ms/step\n",
      "Epoch 15/20\n",
      "1207/1207 - 4s - loss: 4.9321 - MSE_Epochs: 4.9321 - val_loss: 3.5717 - val_MSE_Epochs: 3.5717 - 4s/epoch - 4ms/step\n",
      "Epoch 16/20\n",
      "1207/1207 - 4s - loss: 4.6435 - MSE_Epochs: 4.6435 - val_loss: 4.0826 - val_MSE_Epochs: 4.0826 - 4s/epoch - 4ms/step\n",
      "Epoch 17/20\n",
      "1207/1207 - 4s - loss: 4.8665 - MSE_Epochs: 4.8665 - val_loss: 5.1106 - val_MSE_Epochs: 5.1106 - 4s/epoch - 4ms/step\n",
      "Epoch 18/20\n",
      "1207/1207 - 4s - loss: 4.7660 - MSE_Epochs: 4.7660 - val_loss: 4.2264 - val_MSE_Epochs: 4.2264 - 4s/epoch - 4ms/step\n",
      "Epoch 19/20\n",
      "1207/1207 - 4s - loss: 4.7585 - MSE_Epochs: 4.7585 - val_loss: 5.3869 - val_MSE_Epochs: 5.3869 - 4s/epoch - 4ms/step\n",
      "Epoch 20/20\n",
      "1207/1207 - 5s - loss: 4.6449 - MSE_Epochs: 4.6449 - val_loss: 3.7933 - val_MSE_Epochs: 3.7933 - 5s/epoch - 4ms/step\n",
      "--- Starting trial: run-LEARNING_RATE 0.1\n",
      "{'learning_rate': 0.1}\n",
      "Epoch 1/20\n"
     ]
    },
    {
     "name": "stderr",
     "output_type": "stream",
     "text": [
      "2022-11-29 03:04:28.938955: I tensorflow/core/grappler/optimizers/custom_graph_optimizer_registry.cc:113] Plugin optimizer for device_type GPU is enabled.\n",
      "2022-11-29 03:04:32.354079: I tensorflow/core/grappler/optimizers/custom_graph_optimizer_registry.cc:113] Plugin optimizer for device_type GPU is enabled.\n"
     ]
    },
    {
     "name": "stdout",
     "output_type": "stream",
     "text": [
      "1207/1207 - 5s - loss: 109.1263 - MSE_Epochs: 109.1263 - val_loss: 210.7771 - val_MSE_Epochs: 210.7771 - 5s/epoch - 4ms/step\n",
      "Epoch 2/20\n",
      "1207/1207 - 4s - loss: 148.9168 - MSE_Epochs: 148.9168 - val_loss: 53.8502 - val_MSE_Epochs: 53.8502 - 4s/epoch - 4ms/step\n",
      "Epoch 3/20\n",
      "1207/1207 - 4s - loss: 82.8776 - MSE_Epochs: 82.8776 - val_loss: 54.5977 - val_MSE_Epochs: 54.5977 - 4s/epoch - 4ms/step\n",
      "Epoch 4/20\n",
      "1207/1207 - 4s - loss: 110.5459 - MSE_Epochs: 110.5459 - val_loss: 71.4522 - val_MSE_Epochs: 71.4522 - 4s/epoch - 4ms/step\n",
      "Epoch 5/20\n",
      "1207/1207 - 4s - loss: 118.3130 - MSE_Epochs: 118.3130 - val_loss: 162.7916 - val_MSE_Epochs: 162.7916 - 4s/epoch - 4ms/step\n",
      "Epoch 6/20\n",
      "1207/1207 - 5s - loss: 103.6031 - MSE_Epochs: 103.6031 - val_loss: 105.2660 - val_MSE_Epochs: 105.2660 - 5s/epoch - 4ms/step\n",
      "Epoch 7/20\n",
      "1207/1207 - 5s - loss: 113.0077 - MSE_Epochs: 113.0077 - val_loss: 55.2855 - val_MSE_Epochs: 55.2855 - 5s/epoch - 4ms/step\n",
      "Epoch 8/20\n",
      "1207/1207 - 4s - loss: 110.8471 - MSE_Epochs: 110.8471 - val_loss: 91.9338 - val_MSE_Epochs: 91.9338 - 4s/epoch - 4ms/step\n",
      "Epoch 9/20\n",
      "1207/1207 - 5s - loss: 105.1868 - MSE_Epochs: 105.1868 - val_loss: 90.1552 - val_MSE_Epochs: 90.1552 - 5s/epoch - 4ms/step\n",
      "Epoch 10/20\n",
      "1207/1207 - 4s - loss: 109.0115 - MSE_Epochs: 109.0115 - val_loss: 80.3548 - val_MSE_Epochs: 80.3548 - 4s/epoch - 4ms/step\n",
      "Epoch 11/20\n",
      "1207/1207 - 5s - loss: 118.5233 - MSE_Epochs: 118.5233 - val_loss: 79.5205 - val_MSE_Epochs: 79.5205 - 5s/epoch - 4ms/step\n",
      "Epoch 12/20\n",
      "1207/1207 - 4s - loss: 105.7714 - MSE_Epochs: 105.7714 - val_loss: 135.5435 - val_MSE_Epochs: 135.5435 - 4s/epoch - 4ms/step\n",
      "Epoch 13/20\n",
      "1207/1207 - 4s - loss: 109.5285 - MSE_Epochs: 109.5285 - val_loss: 96.5427 - val_MSE_Epochs: 96.5427 - 4s/epoch - 4ms/step\n",
      "Epoch 14/20\n",
      "1207/1207 - 4s - loss: 126.9919 - MSE_Epochs: 126.9919 - val_loss: 207.1241 - val_MSE_Epochs: 207.1241 - 4s/epoch - 4ms/step\n",
      "Epoch 15/20\n",
      "1207/1207 - 4s - loss: 104.3483 - MSE_Epochs: 104.3483 - val_loss: 66.8903 - val_MSE_Epochs: 66.8903 - 4s/epoch - 4ms/step\n",
      "Epoch 16/20\n",
      "1207/1207 - 4s - loss: 112.2167 - MSE_Epochs: 112.2167 - val_loss: 83.3811 - val_MSE_Epochs: 83.3811 - 4s/epoch - 4ms/step\n",
      "Epoch 17/20\n",
      "1207/1207 - 5s - loss: 107.7472 - MSE_Epochs: 107.7472 - val_loss: 101.7124 - val_MSE_Epochs: 101.7124 - 5s/epoch - 4ms/step\n",
      "Epoch 18/20\n",
      "1207/1207 - 4s - loss: 112.2309 - MSE_Epochs: 112.2309 - val_loss: 79.6174 - val_MSE_Epochs: 79.6174 - 4s/epoch - 4ms/step\n",
      "Epoch 19/20\n",
      "1207/1207 - 4s - loss: 103.1145 - MSE_Epochs: 103.1145 - val_loss: 78.5560 - val_MSE_Epochs: 78.5560 - 4s/epoch - 4ms/step\n",
      "Epoch 20/20\n",
      "1207/1207 - 5s - loss: 110.8585 - MSE_Epochs: 110.8585 - val_loss: 760.2525 - val_MSE_Epochs: 760.2525 - 5s/epoch - 4ms/step\n",
      "Epoch 1/20\n"
     ]
    },
    {
     "name": "stderr",
     "output_type": "stream",
     "text": [
      "2022-11-29 03:05:58.519929: I tensorflow/core/grappler/optimizers/custom_graph_optimizer_registry.cc:113] Plugin optimizer for device_type GPU is enabled.\n",
      "2022-11-29 03:06:01.896817: I tensorflow/core/grappler/optimizers/custom_graph_optimizer_registry.cc:113] Plugin optimizer for device_type GPU is enabled.\n"
     ]
    },
    {
     "name": "stdout",
     "output_type": "stream",
     "text": [
      "1207/1207 - 5s - loss: 119.0438 - MSE_Epochs: 119.0438 - val_loss: 114.3902 - val_MSE_Epochs: 114.3902 - 5s/epoch - 4ms/step\n",
      "Epoch 2/20\n",
      "1207/1207 - 4s - loss: 140.7776 - MSE_Epochs: 140.7776 - val_loss: 61.5736 - val_MSE_Epochs: 61.5736 - 4s/epoch - 4ms/step\n",
      "Epoch 3/20\n",
      "1207/1207 - 4s - loss: 96.8588 - MSE_Epochs: 96.8588 - val_loss: 91.8092 - val_MSE_Epochs: 91.8092 - 4s/epoch - 4ms/step\n",
      "Epoch 4/20\n",
      "1207/1207 - 4s - loss: 106.2336 - MSE_Epochs: 106.2336 - val_loss: 128.7503 - val_MSE_Epochs: 128.7503 - 4s/epoch - 4ms/step\n",
      "Epoch 5/20\n",
      "1207/1207 - 4s - loss: 109.4490 - MSE_Epochs: 109.4490 - val_loss: 66.4996 - val_MSE_Epochs: 66.4996 - 4s/epoch - 4ms/step\n",
      "Epoch 6/20\n",
      "1207/1207 - 4s - loss: 126.7754 - MSE_Epochs: 126.7754 - val_loss: 78.8256 - val_MSE_Epochs: 78.8256 - 4s/epoch - 4ms/step\n",
      "Epoch 7/20\n",
      "1207/1207 - 4s - loss: 107.5203 - MSE_Epochs: 107.5203 - val_loss: 53.9505 - val_MSE_Epochs: 53.9505 - 4s/epoch - 4ms/step\n",
      "Epoch 8/20\n",
      "1207/1207 - 4s - loss: 113.5381 - MSE_Epochs: 113.5381 - val_loss: 63.2502 - val_MSE_Epochs: 63.2502 - 4s/epoch - 4ms/step\n",
      "Epoch 9/20\n",
      "1207/1207 - 4s - loss: 110.0764 - MSE_Epochs: 110.0764 - val_loss: 58.4564 - val_MSE_Epochs: 58.4564 - 4s/epoch - 4ms/step\n",
      "Epoch 10/20\n",
      "1207/1207 - 4s - loss: 129.0312 - MSE_Epochs: 129.0312 - val_loss: 109.7303 - val_MSE_Epochs: 109.7303 - 4s/epoch - 4ms/step\n",
      "Epoch 11/20\n",
      "1207/1207 - 4s - loss: 114.9523 - MSE_Epochs: 114.9523 - val_loss: 58.3394 - val_MSE_Epochs: 58.3394 - 4s/epoch - 4ms/step\n",
      "Epoch 12/20\n",
      "1207/1207 - 4s - loss: 116.8858 - MSE_Epochs: 116.8858 - val_loss: 57.1026 - val_MSE_Epochs: 57.1026 - 4s/epoch - 4ms/step\n",
      "Epoch 13/20\n",
      "1207/1207 - 4s - loss: 119.1796 - MSE_Epochs: 119.1796 - val_loss: 61.5268 - val_MSE_Epochs: 61.5268 - 4s/epoch - 4ms/step\n",
      "Epoch 14/20\n",
      "1207/1207 - 4s - loss: 115.6699 - MSE_Epochs: 115.6699 - val_loss: 53.2414 - val_MSE_Epochs: 53.2414 - 4s/epoch - 4ms/step\n",
      "Epoch 15/20\n",
      "1207/1207 - 4s - loss: 111.9123 - MSE_Epochs: 111.9123 - val_loss: 64.5654 - val_MSE_Epochs: 64.5654 - 4s/epoch - 4ms/step\n",
      "Epoch 16/20\n",
      "1207/1207 - 5s - loss: 111.7162 - MSE_Epochs: 111.7162 - val_loss: 205.6788 - val_MSE_Epochs: 205.6788 - 5s/epoch - 4ms/step\n",
      "Epoch 17/20\n",
      "1207/1207 - 4s - loss: 117.3296 - MSE_Epochs: 117.3296 - val_loss: 148.2130 - val_MSE_Epochs: 148.2130 - 4s/epoch - 4ms/step\n",
      "Epoch 18/20\n",
      "1207/1207 - 4s - loss: 118.2229 - MSE_Epochs: 118.2229 - val_loss: 55.1759 - val_MSE_Epochs: 55.1759 - 4s/epoch - 4ms/step\n",
      "Epoch 19/20\n",
      "1207/1207 - 4s - loss: 114.1982 - MSE_Epochs: 114.1982 - val_loss: 48.4872 - val_MSE_Epochs: 48.4872 - 4s/epoch - 4ms/step\n",
      "Epoch 20/20\n",
      "1207/1207 - 4s - loss: 115.2897 - MSE_Epochs: 115.2897 - val_loss: 169.9555 - val_MSE_Epochs: 169.9555 - 4s/epoch - 4ms/step\n",
      "Epoch 1/20\n"
     ]
    },
    {
     "name": "stderr",
     "output_type": "stream",
     "text": [
      "2022-11-29 03:07:27.159873: I tensorflow/core/grappler/optimizers/custom_graph_optimizer_registry.cc:113] Plugin optimizer for device_type GPU is enabled.\n",
      "2022-11-29 03:07:30.543990: I tensorflow/core/grappler/optimizers/custom_graph_optimizer_registry.cc:113] Plugin optimizer for device_type GPU is enabled.\n"
     ]
    },
    {
     "name": "stdout",
     "output_type": "stream",
     "text": [
      "1207/1207 - 5s - loss: 119.4956 - MSE_Epochs: 119.4956 - val_loss: 265.0672 - val_MSE_Epochs: 265.0672 - 5s/epoch - 4ms/step\n",
      "Epoch 2/20\n",
      "1207/1207 - 4s - loss: 180.4942 - MSE_Epochs: 180.4942 - val_loss: 32.9948 - val_MSE_Epochs: 32.9948 - 4s/epoch - 4ms/step\n",
      "Epoch 3/20\n",
      "1207/1207 - 4s - loss: 104.1910 - MSE_Epochs: 104.1910 - val_loss: 56.2804 - val_MSE_Epochs: 56.2804 - 4s/epoch - 4ms/step\n",
      "Epoch 4/20\n",
      "1207/1207 - 4s - loss: 108.5898 - MSE_Epochs: 108.5898 - val_loss: 55.6074 - val_MSE_Epochs: 55.6074 - 4s/epoch - 4ms/step\n",
      "Epoch 5/20\n",
      "1207/1207 - 4s - loss: 145.0056 - MSE_Epochs: 145.0056 - val_loss: 99.1517 - val_MSE_Epochs: 99.1517 - 4s/epoch - 4ms/step\n",
      "Epoch 6/20\n",
      "1207/1207 - 4s - loss: 132.1889 - MSE_Epochs: 132.1889 - val_loss: 71.4790 - val_MSE_Epochs: 71.4790 - 4s/epoch - 4ms/step\n",
      "Epoch 7/20\n",
      "1207/1207 - 4s - loss: 146.1517 - MSE_Epochs: 146.1517 - val_loss: 63.7451 - val_MSE_Epochs: 63.7451 - 4s/epoch - 4ms/step\n",
      "Epoch 8/20\n",
      "1207/1207 - 4s - loss: 117.9649 - MSE_Epochs: 117.9649 - val_loss: 49.5534 - val_MSE_Epochs: 49.5534 - 4s/epoch - 4ms/step\n",
      "Epoch 9/20\n",
      "1207/1207 - 4s - loss: 138.9339 - MSE_Epochs: 138.9339 - val_loss: 74.1266 - val_MSE_Epochs: 74.1266 - 4s/epoch - 4ms/step\n",
      "Epoch 10/20\n",
      "1207/1207 - 4s - loss: 133.0697 - MSE_Epochs: 133.0697 - val_loss: 121.9445 - val_MSE_Epochs: 121.9445 - 4s/epoch - 4ms/step\n",
      "Epoch 11/20\n",
      "1207/1207 - 4s - loss: 130.8567 - MSE_Epochs: 130.8567 - val_loss: 72.2700 - val_MSE_Epochs: 72.2700 - 4s/epoch - 4ms/step\n",
      "Epoch 12/20\n",
      "1207/1207 - 4s - loss: 140.3672 - MSE_Epochs: 140.3672 - val_loss: 149.1589 - val_MSE_Epochs: 149.1589 - 4s/epoch - 4ms/step\n",
      "Epoch 13/20\n",
      "1207/1207 - 4s - loss: 123.8050 - MSE_Epochs: 123.8050 - val_loss: 57.0680 - val_MSE_Epochs: 57.0680 - 4s/epoch - 4ms/step\n",
      "Epoch 14/20\n",
      "1207/1207 - 4s - loss: 131.6539 - MSE_Epochs: 131.6539 - val_loss: 86.3129 - val_MSE_Epochs: 86.3129 - 4s/epoch - 4ms/step\n",
      "Epoch 15/20\n",
      "1207/1207 - 5s - loss: 135.7868 - MSE_Epochs: 135.7868 - val_loss: 95.4773 - val_MSE_Epochs: 95.4773 - 5s/epoch - 4ms/step\n",
      "Epoch 16/20\n",
      "1207/1207 - 4s - loss: 122.4006 - MSE_Epochs: 122.4006 - val_loss: 70.5837 - val_MSE_Epochs: 70.5837 - 4s/epoch - 4ms/step\n",
      "Epoch 17/20\n",
      "1207/1207 - 5s - loss: 126.9184 - MSE_Epochs: 126.9184 - val_loss: 74.5270 - val_MSE_Epochs: 74.5270 - 5s/epoch - 4ms/step\n",
      "Epoch 18/20\n",
      "1207/1207 - 4s - loss: 126.3391 - MSE_Epochs: 126.3391 - val_loss: 62.4476 - val_MSE_Epochs: 62.4476 - 4s/epoch - 4ms/step\n",
      "Epoch 19/20\n",
      "1207/1207 - 4s - loss: 140.5156 - MSE_Epochs: 140.5156 - val_loss: 317.5140 - val_MSE_Epochs: 317.5140 - 4s/epoch - 4ms/step\n",
      "Epoch 20/20\n",
      "1207/1207 - 4s - loss: 132.7428 - MSE_Epochs: 132.7428 - val_loss: 106.9044 - val_MSE_Epochs: 106.9044 - 4s/epoch - 4ms/step\n"
     ]
    }
   ],
   "source": [
    "# Nested loops for hyperparameter tuning, iterating over all the hyperparameters and combinations\n",
    "for hp_lr in HP_LEARNING_RATE.domain.values:\n",
    "    hparams = {\n",
    "        HP_LEARNING_RATE: hp_lr,\n",
    "    }\n",
    "    run_name = f\"run-LEARNING_RATE {(hparams[HP_LEARNING_RATE])}\"\n",
    "    print('--- Starting trial: %s' % run_name)\n",
    "    print({h.name: hparams[h] for h in hparams})\n",
    "\n",
    "    run_dir = 'logs/lr_model/' + run_name\n",
    "        \n",
    "    # The model is trained with each of the k folds in the dataset and mse is averaged over the k runs.\n",
    "    mse = 0\n",
    "    for i in range(k):\n",
    "        mse += train_test_model(hparams, run_dir, x_train_shuffled, y_train_shuffled, i, k)\n",
    "    mse = mse / k\n",
    "\n",
    "    with tf.summary.create_file_writer(run_dir).as_default():\n",
    "        hp.hparams(hparams)  # record the values used in this trial\n",
    "        tf.summary.scalar(\"MSE\", mse, step=1)\n"
   ]
  },
  {
   "cell_type": "markdown",
   "id": "2f8c7cc8",
   "metadata": {},
   "source": [
    "Repeat the previous process with a deep neural network, first defining the layers, then with hyperparameter tuning."
   ]
  },
  {
   "cell_type": "code",
   "execution_count": 43,
   "id": "dc1b3b3a",
   "metadata": {},
   "outputs": [
    {
     "name": "stdout",
     "output_type": "stream",
     "text": [
      "Model: \"sequential_13\"\n",
      "_________________________________________________________________\n",
      " Layer (type)                Output Shape              Param #   \n",
      "=================================================================\n",
      " dense_13 (Dense)            (57921, 20)               6260      \n",
      "                                                                 \n",
      " dense_14 (Dense)            (57921, 20)               420       \n",
      "                                                                 \n",
      " dense_15 (Dense)            (57921, 20)               420       \n",
      "                                                                 \n",
      " dense_16 (Dense)            (57921, 20)               420       \n",
      "                                                                 \n",
      " dense_17 (Dense)            (57921, 1)                21        \n",
      "                                                                 \n",
      "=================================================================\n",
      "Total params: 7,541\n",
      "Trainable params: 7,541\n",
      "Non-trainable params: 0\n",
      "_________________________________________________________________\n"
     ]
    }
   ],
   "source": [
    "# Defining the model with 5 hidden layers and the output layer for 5 classes\n",
    "\n",
    "deep_model = keras.Sequential( [keras.layers.Dense(20,activation='relu'),\n",
    "                                keras.layers.Dense(20,activation='relu'),\n",
    "                                keras.layers.Dense(20,activation='relu'),\n",
    "                                keras.layers.Dense(20,activation='relu') ,\n",
    "                                keras.layers.Dense(1)] ) \n",
    "\n",
    "\n",
    "y_pred = deep_model(x_train)\n",
    "deep_model.summary()\n"
   ]
  },
  {
   "cell_type": "code",
   "execution_count": 44,
   "id": "a5ed39eb",
   "metadata": {},
   "outputs": [],
   "source": [
    "# Compile the model\n",
    "deep_model.compile(optimizer = 'adam',\n",
    "    loss=tf.keras.losses.MeanSquaredError(), \n",
    "    metrics=[tf.keras.metrics.MeanSquaredError()])"
   ]
  },
  {
   "cell_type": "code",
   "execution_count": 45,
   "id": "6379f195",
   "metadata": {
    "scrolled": false
   },
   "outputs": [
    {
     "name": "stdout",
     "output_type": "stream",
     "text": [
      "Epoch 1/10\n"
     ]
    },
    {
     "name": "stderr",
     "output_type": "stream",
     "text": [
      "2022-11-29 03:08:56.203110: I tensorflow/core/grappler/optimizers/custom_graph_optimizer_registry.cc:113] Plugin optimizer for device_type GPU is enabled.\n",
      "2022-11-29 03:09:04.435413: I tensorflow/core/grappler/optimizers/custom_graph_optimizer_registry.cc:113] Plugin optimizer for device_type GPU is enabled.\n"
     ]
    },
    {
     "name": "stdout",
     "output_type": "stream",
     "text": [
      "1811/1811 - 10s - loss: 10.2444 - mean_squared_error: 10.2444 - val_loss: 4.9854 - val_mean_squared_error: 4.9854 - 10s/epoch - 5ms/step\n",
      "Epoch 2/10\n",
      "1811/1811 - 10s - loss: 4.1522 - mean_squared_error: 4.1522 - val_loss: 3.1724 - val_mean_squared_error: 3.1724 - 10s/epoch - 5ms/step\n",
      "Epoch 3/10\n",
      "1811/1811 - 10s - loss: 3.3287 - mean_squared_error: 3.3287 - val_loss: 5.5709 - val_mean_squared_error: 5.5709 - 10s/epoch - 5ms/step\n",
      "Epoch 4/10\n",
      "1811/1811 - 10s - loss: 2.9455 - mean_squared_error: 2.9455 - val_loss: 2.6054 - val_mean_squared_error: 2.6054 - 10s/epoch - 5ms/step\n",
      "Epoch 5/10\n",
      "1811/1811 - 10s - loss: 2.6960 - mean_squared_error: 2.6960 - val_loss: 3.4817 - val_mean_squared_error: 3.4817 - 10s/epoch - 5ms/step\n",
      "Epoch 6/10\n",
      "1811/1811 - 9s - loss: 2.4683 - mean_squared_error: 2.4683 - val_loss: 3.1159 - val_mean_squared_error: 3.1159 - 9s/epoch - 5ms/step\n",
      "Epoch 7/10\n",
      "1811/1811 - 9s - loss: 2.4530 - mean_squared_error: 2.4530 - val_loss: 5.0823 - val_mean_squared_error: 5.0823 - 9s/epoch - 5ms/step\n",
      "Epoch 8/10\n",
      "1811/1811 - 9s - loss: 2.2526 - mean_squared_error: 2.2526 - val_loss: 1.9127 - val_mean_squared_error: 1.9127 - 9s/epoch - 5ms/step\n",
      "Epoch 9/10\n",
      "1811/1811 - 9s - loss: 2.2390 - mean_squared_error: 2.2390 - val_loss: 4.1671 - val_mean_squared_error: 4.1671 - 9s/epoch - 5ms/step\n",
      "Epoch 10/10\n",
      "1811/1811 - 9s - loss: 2.1181 - mean_squared_error: 2.1181 - val_loss: 8.3801 - val_mean_squared_error: 8.3801 - 9s/epoch - 5ms/step\n"
     ]
    },
    {
     "data": {
      "text/plain": [
       "<keras.callbacks.History at 0x34c3d5c90>"
      ]
     },
     "execution_count": 45,
     "metadata": {},
     "output_type": "execute_result"
    }
   ],
   "source": [
    "deep_model.fit(x_train,y_train, epochs = 10,validation_data=(x_validate,y_validate),verbose = 2)"
   ]
  },
  {
   "cell_type": "code",
   "execution_count": 46,
   "id": "faa69d1f",
   "metadata": {},
   "outputs": [],
   "source": [
    "HP_WIDTH = hp.HParam('NN_width', hp.Discrete([20, 30, 40])) # the width of the layers\n",
    "HP_DEPTH = hp.HParam('NN_depth', hp.Discrete([4,6])) # Number of layers/depth\n",
    "\n",
    "# Creating the logs\n",
    "with tf.summary.create_file_writer('logs/deep_model').as_default():\n",
    "    hp.hparams_config(\n",
    "        hparams=[HP_WIDTH, HP_DEPTH],\n",
    "        metrics=[hp.Metric('MSE')],\n",
    "    )"
   ]
  },
  {
   "cell_type": "code",
   "execution_count": 47,
   "id": "8d09a704",
   "metadata": {},
   "outputs": [],
   "source": [
    "# Defining the model training function for hyperparameter tuning\n",
    "def train_test_deep_model(hparams,logdir, x, y, i, k):\n",
    "    model = keras.Sequential()\n",
    "    for _ in range(hparams[HP_DEPTH]): #Create the model\n",
    "        model.add(keras.layers.Dense(hparams[HP_WIDTH],activation='relu'))\n",
    "    model.add(keras.layers.Dense(1))\n",
    "    model.compile(\n",
    "        optimizer='adam',\n",
    "        loss = tf.keras.losses.MeanSquaredError(),\n",
    "        metrics=[tf.keras.metrics.MeanSquaredError(name = 'MSE_Epochs')])\n",
    "    \n",
    "  # This section is for splitting the data sets into k folds. May be better to do this outside this function\n",
    "    x_train = tf.split(x, k)\n",
    "    y_train = tf.split(y, k)\n",
    "    val_x = x_train.pop(i)\n",
    "    val_y = y_train.pop(i)\n",
    "    x_train = tf.concat([x_train[0], x_train[1]], 0)  \n",
    "    y_train = tf.concat([y_train[0], y_train[1]], 0)  \n",
    "\n",
    "  # Store the output of the model training\n",
    "    history = model.fit(x_train, y_train, epochs=20, verbose = 2,\n",
    "    callbacks=[tf.keras.callbacks.TensorBoard(log_dir=logdir, histogram_freq=1)],\n",
    "    validation_data = (val_x, val_y))\n",
    "\n",
    "    mse = np.min(history.history[\"val_MSE_Epochs\"]) # Returns the lowest Mean Squared Error obtained in training\n",
    "    return mse\n"
   ]
  },
  {
   "cell_type": "code",
   "execution_count": 48,
   "id": "af2a3c4d",
   "metadata": {},
   "outputs": [
    {
     "name": "stdout",
     "output_type": "stream",
     "text": [
      "--- Starting trial: run-WIDTH 20-DEPTH 4\n",
      "{'NN_width': 20, 'NN_depth': 4}\n",
      "Epoch 1/20\n"
     ]
    },
    {
     "name": "stderr",
     "output_type": "stream",
     "text": [
      "2022-11-29 03:10:31.979523: I tensorflow/core/grappler/optimizers/custom_graph_optimizer_registry.cc:113] Plugin optimizer for device_type GPU is enabled.\n",
      "2022-11-29 03:10:37.461504: I tensorflow/core/grappler/optimizers/custom_graph_optimizer_registry.cc:113] Plugin optimizer for device_type GPU is enabled.\n"
     ]
    },
    {
     "name": "stdout",
     "output_type": "stream",
     "text": [
      "1207/1207 - 7s - loss: 12.9467 - MSE_Epochs: 12.9467 - val_loss: 4.8585 - val_MSE_Epochs: 4.8585 - 7s/epoch - 6ms/step\n",
      "Epoch 2/20\n",
      "1207/1207 - 7s - loss: 4.7236 - MSE_Epochs: 4.7236 - val_loss: 4.1093 - val_MSE_Epochs: 4.1093 - 7s/epoch - 6ms/step\n",
      "Epoch 3/20\n",
      "1207/1207 - 7s - loss: 3.8723 - MSE_Epochs: 3.8723 - val_loss: 3.3208 - val_MSE_Epochs: 3.3208 - 7s/epoch - 6ms/step\n",
      "Epoch 4/20\n",
      "1207/1207 - 7s - loss: 3.3843 - MSE_Epochs: 3.3843 - val_loss: 3.1018 - val_MSE_Epochs: 3.1018 - 7s/epoch - 6ms/step\n",
      "Epoch 5/20\n",
      "1207/1207 - 7s - loss: 3.1735 - MSE_Epochs: 3.1735 - val_loss: 2.8898 - val_MSE_Epochs: 2.8898 - 7s/epoch - 6ms/step\n",
      "Epoch 6/20\n",
      "1207/1207 - 7s - loss: 2.9097 - MSE_Epochs: 2.9097 - val_loss: 2.4666 - val_MSE_Epochs: 2.4666 - 7s/epoch - 6ms/step\n",
      "Epoch 7/20\n",
      "1207/1207 - 7s - loss: 2.6611 - MSE_Epochs: 2.6611 - val_loss: 3.6435 - val_MSE_Epochs: 3.6435 - 7s/epoch - 6ms/step\n",
      "Epoch 8/20\n",
      "1207/1207 - 7s - loss: 2.5522 - MSE_Epochs: 2.5522 - val_loss: 2.2760 - val_MSE_Epochs: 2.2760 - 7s/epoch - 6ms/step\n",
      "Epoch 9/20\n",
      "1207/1207 - 7s - loss: 2.4374 - MSE_Epochs: 2.4374 - val_loss: 2.3503 - val_MSE_Epochs: 2.3503 - 7s/epoch - 6ms/step\n",
      "Epoch 10/20\n",
      "1207/1207 - 7s - loss: 2.3974 - MSE_Epochs: 2.3974 - val_loss: 1.9551 - val_MSE_Epochs: 1.9551 - 7s/epoch - 6ms/step\n",
      "Epoch 11/20\n",
      "1207/1207 - 7s - loss: 2.3191 - MSE_Epochs: 2.3191 - val_loss: 2.1883 - val_MSE_Epochs: 2.1883 - 7s/epoch - 6ms/step\n",
      "Epoch 12/20\n",
      "1207/1207 - 7s - loss: 2.1943 - MSE_Epochs: 2.1943 - val_loss: 1.8576 - val_MSE_Epochs: 1.8576 - 7s/epoch - 6ms/step\n",
      "Epoch 13/20\n",
      "1207/1207 - 8s - loss: 2.1267 - MSE_Epochs: 2.1267 - val_loss: 2.6564 - val_MSE_Epochs: 2.6564 - 8s/epoch - 7ms/step\n",
      "Epoch 14/20\n",
      "1207/1207 - 7s - loss: 2.1399 - MSE_Epochs: 2.1399 - val_loss: 1.7949 - val_MSE_Epochs: 1.7949 - 7s/epoch - 6ms/step\n",
      "Epoch 15/20\n",
      "1207/1207 - 7s - loss: 2.0487 - MSE_Epochs: 2.0487 - val_loss: 2.1472 - val_MSE_Epochs: 2.1472 - 7s/epoch - 6ms/step\n",
      "Epoch 16/20\n",
      "1207/1207 - 8s - loss: 2.0798 - MSE_Epochs: 2.0798 - val_loss: 1.8305 - val_MSE_Epochs: 1.8305 - 8s/epoch - 6ms/step\n",
      "Epoch 17/20\n",
      "1207/1207 - 8s - loss: 2.0573 - MSE_Epochs: 2.0573 - val_loss: 2.0872 - val_MSE_Epochs: 2.0872 - 8s/epoch - 7ms/step\n",
      "Epoch 18/20\n",
      "1207/1207 - 7s - loss: 2.0027 - MSE_Epochs: 2.0027 - val_loss: 1.7067 - val_MSE_Epochs: 1.7067 - 7s/epoch - 6ms/step\n",
      "Epoch 19/20\n",
      "1207/1207 - 7s - loss: 1.9754 - MSE_Epochs: 1.9754 - val_loss: 2.5080 - val_MSE_Epochs: 2.5080 - 7s/epoch - 6ms/step\n",
      "Epoch 20/20\n",
      "1207/1207 - 8s - loss: 2.0020 - MSE_Epochs: 2.0020 - val_loss: 1.9953 - val_MSE_Epochs: 1.9953 - 8s/epoch - 6ms/step\n",
      "Epoch 1/20\n"
     ]
    },
    {
     "name": "stderr",
     "output_type": "stream",
     "text": [
      "2022-11-29 03:12:56.223163: I tensorflow/core/grappler/optimizers/custom_graph_optimizer_registry.cc:113] Plugin optimizer for device_type GPU is enabled.\n",
      "2022-11-29 03:13:02.543070: I tensorflow/core/grappler/optimizers/custom_graph_optimizer_registry.cc:113] Plugin optimizer for device_type GPU is enabled.\n"
     ]
    },
    {
     "name": "stdout",
     "output_type": "stream",
     "text": [
      "1207/1207 - 8s - loss: 14.4634 - MSE_Epochs: 14.4634 - val_loss: 5.0749 - val_MSE_Epochs: 5.0749 - 8s/epoch - 7ms/step\n",
      "Epoch 2/20\n",
      "1207/1207 - 7s - loss: 4.7711 - MSE_Epochs: 4.7711 - val_loss: 3.7670 - val_MSE_Epochs: 3.7670 - 7s/epoch - 6ms/step\n",
      "Epoch 3/20\n",
      "1207/1207 - 8s - loss: 4.0102 - MSE_Epochs: 4.0102 - val_loss: 3.1580 - val_MSE_Epochs: 3.1580 - 8s/epoch - 6ms/step\n",
      "Epoch 4/20\n",
      "1207/1207 - 7s - loss: 3.4676 - MSE_Epochs: 3.4676 - val_loss: 3.0048 - val_MSE_Epochs: 3.0048 - 7s/epoch - 6ms/step\n",
      "Epoch 5/20\n",
      "1207/1207 - 7s - loss: 3.0553 - MSE_Epochs: 3.0553 - val_loss: 4.0193 - val_MSE_Epochs: 4.0193 - 7s/epoch - 6ms/step\n",
      "Epoch 6/20\n",
      "1207/1207 - 7s - loss: 2.9926 - MSE_Epochs: 2.9926 - val_loss: 6.5605 - val_MSE_Epochs: 6.5605 - 7s/epoch - 6ms/step\n",
      "Epoch 7/20\n",
      "1207/1207 - 8s - loss: 2.6903 - MSE_Epochs: 2.6903 - val_loss: 2.3708 - val_MSE_Epochs: 2.3708 - 8s/epoch - 7ms/step\n",
      "Epoch 8/20\n",
      "1207/1207 - 7s - loss: 2.5334 - MSE_Epochs: 2.5334 - val_loss: 2.4158 - val_MSE_Epochs: 2.4158 - 7s/epoch - 6ms/step\n",
      "Epoch 9/20\n",
      "1207/1207 - 7s - loss: 2.3712 - MSE_Epochs: 2.3712 - val_loss: 1.9537 - val_MSE_Epochs: 1.9537 - 7s/epoch - 6ms/step\n",
      "Epoch 10/20\n",
      "1207/1207 - 7s - loss: 2.1605 - MSE_Epochs: 2.1605 - val_loss: 3.6377 - val_MSE_Epochs: 3.6377 - 7s/epoch - 6ms/step\n",
      "Epoch 11/20\n",
      "1207/1207 - 7s - loss: 2.1230 - MSE_Epochs: 2.1230 - val_loss: 2.0610 - val_MSE_Epochs: 2.0610 - 7s/epoch - 6ms/step\n",
      "Epoch 12/20\n",
      "1207/1207 - 7s - loss: 2.0089 - MSE_Epochs: 2.0089 - val_loss: 1.7852 - val_MSE_Epochs: 1.7852 - 7s/epoch - 6ms/step\n",
      "Epoch 13/20\n",
      "1207/1207 - 7s - loss: 2.0012 - MSE_Epochs: 2.0012 - val_loss: 1.6040 - val_MSE_Epochs: 1.6040 - 7s/epoch - 6ms/step\n",
      "Epoch 14/20\n",
      "1207/1207 - 7s - loss: 1.8969 - MSE_Epochs: 1.8969 - val_loss: 1.8412 - val_MSE_Epochs: 1.8412 - 7s/epoch - 6ms/step\n",
      "Epoch 15/20\n",
      "1207/1207 - 7s - loss: 1.8876 - MSE_Epochs: 1.8876 - val_loss: 1.8493 - val_MSE_Epochs: 1.8493 - 7s/epoch - 6ms/step\n",
      "Epoch 16/20\n",
      "1207/1207 - 7s - loss: 1.8106 - MSE_Epochs: 1.8106 - val_loss: 1.9533 - val_MSE_Epochs: 1.9533 - 7s/epoch - 6ms/step\n",
      "Epoch 17/20\n",
      "1207/1207 - 7s - loss: 1.8316 - MSE_Epochs: 1.8316 - val_loss: 1.6115 - val_MSE_Epochs: 1.6115 - 7s/epoch - 6ms/step\n",
      "Epoch 18/20\n",
      "1207/1207 - 7s - loss: 1.8039 - MSE_Epochs: 1.8039 - val_loss: 1.9206 - val_MSE_Epochs: 1.9206 - 7s/epoch - 6ms/step\n",
      "Epoch 19/20\n",
      "1207/1207 - 7s - loss: 1.7306 - MSE_Epochs: 1.7306 - val_loss: 1.5484 - val_MSE_Epochs: 1.5484 - 7s/epoch - 6ms/step\n",
      "Epoch 20/20\n",
      "1207/1207 - 7s - loss: 1.6896 - MSE_Epochs: 1.6896 - val_loss: 1.7336 - val_MSE_Epochs: 1.7336 - 7s/epoch - 6ms/step\n",
      "Epoch 1/20\n"
     ]
    },
    {
     "name": "stderr",
     "output_type": "stream",
     "text": [
      "2022-11-29 03:15:23.204662: I tensorflow/core/grappler/optimizers/custom_graph_optimizer_registry.cc:113] Plugin optimizer for device_type GPU is enabled.\n",
      "2022-11-29 03:15:28.842032: I tensorflow/core/grappler/optimizers/custom_graph_optimizer_registry.cc:113] Plugin optimizer for device_type GPU is enabled.\n"
     ]
    },
    {
     "name": "stdout",
     "output_type": "stream",
     "text": [
      "1207/1207 - 8s - loss: 12.3812 - MSE_Epochs: 12.3812 - val_loss: 4.6733 - val_MSE_Epochs: 4.6733 - 8s/epoch - 7ms/step\n",
      "Epoch 2/20\n",
      "1207/1207 - 7s - loss: 4.5126 - MSE_Epochs: 4.5126 - val_loss: 6.0892 - val_MSE_Epochs: 6.0892 - 7s/epoch - 6ms/step\n",
      "Epoch 3/20\n",
      "1207/1207 - 7s - loss: 3.8402 - MSE_Epochs: 3.8402 - val_loss: 3.0245 - val_MSE_Epochs: 3.0245 - 7s/epoch - 6ms/step\n",
      "Epoch 4/20\n",
      "1207/1207 - 7s - loss: 3.4108 - MSE_Epochs: 3.4108 - val_loss: 2.6809 - val_MSE_Epochs: 2.6809 - 7s/epoch - 6ms/step\n",
      "Epoch 5/20\n",
      "1207/1207 - 7s - loss: 3.0259 - MSE_Epochs: 3.0259 - val_loss: 2.6562 - val_MSE_Epochs: 2.6562 - 7s/epoch - 6ms/step\n",
      "Epoch 6/20\n",
      "1207/1207 - 7s - loss: 2.7784 - MSE_Epochs: 2.7784 - val_loss: 3.3816 - val_MSE_Epochs: 3.3816 - 7s/epoch - 6ms/step\n",
      "Epoch 7/20\n",
      "1207/1207 - 7s - loss: 2.6741 - MSE_Epochs: 2.6741 - val_loss: 2.3671 - val_MSE_Epochs: 2.3671 - 7s/epoch - 6ms/step\n",
      "Epoch 8/20\n",
      "1207/1207 - 7s - loss: 2.6375 - MSE_Epochs: 2.6375 - val_loss: 2.2164 - val_MSE_Epochs: 2.2164 - 7s/epoch - 6ms/step\n",
      "Epoch 9/20\n",
      "1207/1207 - 7s - loss: 2.3243 - MSE_Epochs: 2.3243 - val_loss: 2.0890 - val_MSE_Epochs: 2.0890 - 7s/epoch - 6ms/step\n",
      "Epoch 10/20\n",
      "1207/1207 - 7s - loss: 2.3873 - MSE_Epochs: 2.3873 - val_loss: 1.9741 - val_MSE_Epochs: 1.9741 - 7s/epoch - 6ms/step\n",
      "Epoch 11/20\n",
      "1207/1207 - 7s - loss: 2.2560 - MSE_Epochs: 2.2560 - val_loss: 2.0356 - val_MSE_Epochs: 2.0356 - 7s/epoch - 6ms/step\n",
      "Epoch 12/20\n",
      "1207/1207 - 7s - loss: 2.2514 - MSE_Epochs: 2.2514 - val_loss: 1.9972 - val_MSE_Epochs: 1.9972 - 7s/epoch - 6ms/step\n",
      "Epoch 13/20\n",
      "1207/1207 - 7s - loss: 2.1462 - MSE_Epochs: 2.1462 - val_loss: 2.0130 - val_MSE_Epochs: 2.0130 - 7s/epoch - 6ms/step\n",
      "Epoch 14/20\n",
      "1207/1207 - 8s - loss: 2.1800 - MSE_Epochs: 2.1800 - val_loss: 1.9288 - val_MSE_Epochs: 1.9288 - 8s/epoch - 6ms/step\n",
      "Epoch 15/20\n",
      "1207/1207 - 7s - loss: 2.1349 - MSE_Epochs: 2.1349 - val_loss: 1.9029 - val_MSE_Epochs: 1.9029 - 7s/epoch - 6ms/step\n",
      "Epoch 16/20\n",
      "1207/1207 - 7s - loss: 2.1712 - MSE_Epochs: 2.1712 - val_loss: 2.1035 - val_MSE_Epochs: 2.1035 - 7s/epoch - 6ms/step\n",
      "Epoch 17/20\n",
      "1207/1207 - 7s - loss: 2.0715 - MSE_Epochs: 2.0715 - val_loss: 2.2126 - val_MSE_Epochs: 2.2126 - 7s/epoch - 6ms/step\n",
      "Epoch 18/20\n",
      "1207/1207 - 8s - loss: 2.0975 - MSE_Epochs: 2.0975 - val_loss: 1.8241 - val_MSE_Epochs: 1.8241 - 8s/epoch - 6ms/step\n",
      "Epoch 19/20\n",
      "1207/1207 - 7s - loss: 1.9960 - MSE_Epochs: 1.9960 - val_loss: 1.9206 - val_MSE_Epochs: 1.9206 - 7s/epoch - 6ms/step\n",
      "Epoch 20/20\n",
      "1207/1207 - 7s - loss: 1.9652 - MSE_Epochs: 1.9652 - val_loss: 1.7492 - val_MSE_Epochs: 1.7492 - 7s/epoch - 6ms/step\n",
      "--- Starting trial: run-WIDTH 20-DEPTH 6\n",
      "{'NN_width': 20, 'NN_depth': 6}\n",
      "Epoch 1/20\n"
     ]
    },
    {
     "name": "stderr",
     "output_type": "stream",
     "text": [
      "2022-11-29 03:17:47.340791: I tensorflow/core/grappler/optimizers/custom_graph_optimizer_registry.cc:113] Plugin optimizer for device_type GPU is enabled.\n",
      "2022-11-29 03:17:54.089462: I tensorflow/core/grappler/optimizers/custom_graph_optimizer_registry.cc:113] Plugin optimizer for device_type GPU is enabled.\n"
     ]
    },
    {
     "name": "stdout",
     "output_type": "stream",
     "text": [
      "1207/1207 - 9s - loss: 26.5769 - MSE_Epochs: 26.5769 - val_loss: 6.4837 - val_MSE_Epochs: 6.4837 - 9s/epoch - 7ms/step\n",
      "Epoch 2/20\n",
      "1207/1207 - 8s - loss: 5.5609 - MSE_Epochs: 5.5609 - val_loss: 6.0226 - val_MSE_Epochs: 6.0226 - 8s/epoch - 7ms/step\n",
      "Epoch 3/20\n",
      "1207/1207 - 8s - loss: 4.2734 - MSE_Epochs: 4.2734 - val_loss: 4.3369 - val_MSE_Epochs: 4.3369 - 8s/epoch - 7ms/step\n",
      "Epoch 4/20\n",
      "1207/1207 - 8s - loss: 3.7590 - MSE_Epochs: 3.7590 - val_loss: 4.1729 - val_MSE_Epochs: 4.1729 - 8s/epoch - 7ms/step\n",
      "Epoch 5/20\n",
      "1207/1207 - 8s - loss: 3.3533 - MSE_Epochs: 3.3533 - val_loss: 3.2176 - val_MSE_Epochs: 3.2176 - 8s/epoch - 7ms/step\n",
      "Epoch 6/20\n",
      "1207/1207 - 8s - loss: 3.0122 - MSE_Epochs: 3.0122 - val_loss: 2.5461 - val_MSE_Epochs: 2.5461 - 8s/epoch - 7ms/step\n",
      "Epoch 7/20\n",
      "1207/1207 - 8s - loss: 2.8403 - MSE_Epochs: 2.8403 - val_loss: 3.0721 - val_MSE_Epochs: 3.0721 - 8s/epoch - 7ms/step\n",
      "Epoch 8/20\n",
      "1207/1207 - 9s - loss: 2.7750 - MSE_Epochs: 2.7750 - val_loss: 4.6546 - val_MSE_Epochs: 4.6546 - 9s/epoch - 7ms/step\n",
      "Epoch 9/20\n",
      "1207/1207 - 11s - loss: 2.5087 - MSE_Epochs: 2.5087 - val_loss: 2.1347 - val_MSE_Epochs: 2.1347 - 11s/epoch - 9ms/step\n",
      "Epoch 10/20\n",
      "1207/1207 - 11s - loss: 2.5281 - MSE_Epochs: 2.5281 - val_loss: 3.0818 - val_MSE_Epochs: 3.0818 - 11s/epoch - 9ms/step\n",
      "Epoch 11/20\n",
      "1207/1207 - 11s - loss: 2.4042 - MSE_Epochs: 2.4042 - val_loss: 3.2503 - val_MSE_Epochs: 3.2503 - 11s/epoch - 9ms/step\n",
      "Epoch 12/20\n",
      "1207/1207 - 11s - loss: 2.4211 - MSE_Epochs: 2.4211 - val_loss: 3.0759 - val_MSE_Epochs: 3.0759 - 11s/epoch - 9ms/step\n",
      "Epoch 13/20\n",
      "1207/1207 - 11s - loss: 2.3105 - MSE_Epochs: 2.3105 - val_loss: 2.2097 - val_MSE_Epochs: 2.2097 - 11s/epoch - 9ms/step\n",
      "Epoch 14/20\n",
      "1207/1207 - 11s - loss: 2.2662 - MSE_Epochs: 2.2662 - val_loss: 3.4954 - val_MSE_Epochs: 3.4954 - 11s/epoch - 9ms/step\n",
      "Epoch 15/20\n",
      "1207/1207 - 11s - loss: 2.2113 - MSE_Epochs: 2.2113 - val_loss: 2.1973 - val_MSE_Epochs: 2.1973 - 11s/epoch - 9ms/step\n",
      "Epoch 16/20\n",
      "1207/1207 - 11s - loss: 2.0978 - MSE_Epochs: 2.0978 - val_loss: 2.0319 - val_MSE_Epochs: 2.0319 - 11s/epoch - 9ms/step\n",
      "Epoch 17/20\n",
      "1207/1207 - 11s - loss: 2.2289 - MSE_Epochs: 2.2289 - val_loss: 1.8510 - val_MSE_Epochs: 1.8510 - 11s/epoch - 9ms/step\n",
      "Epoch 18/20\n",
      "1207/1207 - 11s - loss: 2.0273 - MSE_Epochs: 2.0273 - val_loss: 2.3110 - val_MSE_Epochs: 2.3110 - 11s/epoch - 9ms/step\n",
      "Epoch 19/20\n",
      "1207/1207 - 11s - loss: 2.0813 - MSE_Epochs: 2.0813 - val_loss: 1.7257 - val_MSE_Epochs: 1.7257 - 11s/epoch - 9ms/step\n",
      "Epoch 20/20\n",
      "1207/1207 - 11s - loss: 2.0604 - MSE_Epochs: 2.0604 - val_loss: 3.3191 - val_MSE_Epochs: 3.3191 - 11s/epoch - 9ms/step\n",
      "Epoch 1/20\n"
     ]
    },
    {
     "name": "stderr",
     "output_type": "stream",
     "text": [
      "2022-11-29 03:21:09.630534: I tensorflow/core/grappler/optimizers/custom_graph_optimizer_registry.cc:113] Plugin optimizer for device_type GPU is enabled.\n",
      "2022-11-29 03:21:19.212509: I tensorflow/core/grappler/optimizers/custom_graph_optimizer_registry.cc:113] Plugin optimizer for device_type GPU is enabled.\n"
     ]
    },
    {
     "name": "stdout",
     "output_type": "stream",
     "text": [
      "1207/1207 - 12s - loss: 27.2765 - MSE_Epochs: 27.2765 - val_loss: 8.9149 - val_MSE_Epochs: 8.9149 - 12s/epoch - 10ms/step\n",
      "Epoch 2/20\n",
      "1207/1207 - 12s - loss: 5.5813 - MSE_Epochs: 5.5813 - val_loss: 4.5633 - val_MSE_Epochs: 4.5633 - 12s/epoch - 10ms/step\n",
      "Epoch 3/20\n",
      "1207/1207 - 12s - loss: 4.2121 - MSE_Epochs: 4.2121 - val_loss: 4.1304 - val_MSE_Epochs: 4.1304 - 12s/epoch - 10ms/step\n",
      "Epoch 4/20\n",
      "1207/1207 - 11s - loss: 3.8643 - MSE_Epochs: 3.8643 - val_loss: 3.5478 - val_MSE_Epochs: 3.5478 - 11s/epoch - 9ms/step\n",
      "Epoch 5/20\n",
      "1207/1207 - 11s - loss: 3.3628 - MSE_Epochs: 3.3628 - val_loss: 2.8410 - val_MSE_Epochs: 2.8410 - 11s/epoch - 9ms/step\n",
      "Epoch 6/20\n",
      "1207/1207 - 11s - loss: 3.1036 - MSE_Epochs: 3.1036 - val_loss: 2.6360 - val_MSE_Epochs: 2.6360 - 11s/epoch - 9ms/step\n",
      "Epoch 7/20\n",
      "1207/1207 - 11s - loss: 2.7709 - MSE_Epochs: 2.7709 - val_loss: 3.4466 - val_MSE_Epochs: 3.4466 - 11s/epoch - 9ms/step\n",
      "Epoch 8/20\n",
      "1207/1207 - 11s - loss: 2.7546 - MSE_Epochs: 2.7546 - val_loss: 2.4420 - val_MSE_Epochs: 2.4420 - 11s/epoch - 9ms/step\n",
      "Epoch 9/20\n",
      "1207/1207 - 11s - loss: 2.6034 - MSE_Epochs: 2.6034 - val_loss: 2.6471 - val_MSE_Epochs: 2.6471 - 11s/epoch - 9ms/step\n",
      "Epoch 10/20\n",
      "1207/1207 - 11s - loss: 2.4842 - MSE_Epochs: 2.4842 - val_loss: 1.9893 - val_MSE_Epochs: 1.9893 - 11s/epoch - 9ms/step\n",
      "Epoch 11/20\n",
      "1207/1207 - 11s - loss: 2.3637 - MSE_Epochs: 2.3637 - val_loss: 2.7592 - val_MSE_Epochs: 2.7592 - 11s/epoch - 9ms/step\n",
      "Epoch 12/20\n",
      "1207/1207 - 11s - loss: 2.3163 - MSE_Epochs: 2.3163 - val_loss: 2.1310 - val_MSE_Epochs: 2.1310 - 11s/epoch - 9ms/step\n",
      "Epoch 13/20\n",
      "1207/1207 - 11s - loss: 2.2806 - MSE_Epochs: 2.2806 - val_loss: 2.2683 - val_MSE_Epochs: 2.2683 - 11s/epoch - 9ms/step\n",
      "Epoch 14/20\n",
      "1207/1207 - 11s - loss: 2.2398 - MSE_Epochs: 2.2398 - val_loss: 1.8531 - val_MSE_Epochs: 1.8531 - 11s/epoch - 9ms/step\n",
      "Epoch 15/20\n",
      "1207/1207 - 11s - loss: 2.2320 - MSE_Epochs: 2.2320 - val_loss: 1.7916 - val_MSE_Epochs: 1.7916 - 11s/epoch - 9ms/step\n",
      "Epoch 16/20\n",
      "1207/1207 - 11s - loss: 2.1690 - MSE_Epochs: 2.1690 - val_loss: 1.9980 - val_MSE_Epochs: 1.9980 - 11s/epoch - 9ms/step\n",
      "Epoch 17/20\n",
      "1207/1207 - 11s - loss: 2.1049 - MSE_Epochs: 2.1049 - val_loss: 3.8281 - val_MSE_Epochs: 3.8281 - 11s/epoch - 9ms/step\n",
      "Epoch 18/20\n",
      "1207/1207 - 11s - loss: 2.1624 - MSE_Epochs: 2.1624 - val_loss: 1.8640 - val_MSE_Epochs: 1.8640 - 11s/epoch - 9ms/step\n",
      "Epoch 19/20\n",
      "1207/1207 - 11s - loss: 2.0398 - MSE_Epochs: 2.0398 - val_loss: 1.8957 - val_MSE_Epochs: 1.8957 - 11s/epoch - 9ms/step\n",
      "Epoch 20/20\n",
      "1207/1207 - 12s - loss: 2.0385 - MSE_Epochs: 2.0385 - val_loss: 2.7379 - val_MSE_Epochs: 2.7379 - 12s/epoch - 10ms/step\n",
      "Epoch 1/20\n"
     ]
    },
    {
     "name": "stderr",
     "output_type": "stream",
     "text": [
      "2022-11-29 03:24:58.544178: I tensorflow/core/grappler/optimizers/custom_graph_optimizer_registry.cc:113] Plugin optimizer for device_type GPU is enabled.\n",
      "2022-11-29 03:25:08.096836: I tensorflow/core/grappler/optimizers/custom_graph_optimizer_registry.cc:113] Plugin optimizer for device_type GPU is enabled.\n"
     ]
    },
    {
     "name": "stdout",
     "output_type": "stream",
     "text": [
      "1207/1207 - 12s - loss: 26.8231 - MSE_Epochs: 26.8231 - val_loss: 9.3245 - val_MSE_Epochs: 9.3245 - 12s/epoch - 10ms/step\n",
      "Epoch 2/20\n",
      "1207/1207 - 11s - loss: 5.7053 - MSE_Epochs: 5.7053 - val_loss: 5.2396 - val_MSE_Epochs: 5.2396 - 11s/epoch - 9ms/step\n",
      "Epoch 3/20\n",
      "1207/1207 - 11s - loss: 4.4525 - MSE_Epochs: 4.4525 - val_loss: 3.6376 - val_MSE_Epochs: 3.6376 - 11s/epoch - 9ms/step\n",
      "Epoch 4/20\n",
      "1207/1207 - 11s - loss: 3.7745 - MSE_Epochs: 3.7745 - val_loss: 2.9051 - val_MSE_Epochs: 2.9051 - 11s/epoch - 9ms/step\n",
      "Epoch 5/20\n",
      "1207/1207 - 11s - loss: 3.2750 - MSE_Epochs: 3.2750 - val_loss: 2.8032 - val_MSE_Epochs: 2.8032 - 11s/epoch - 9ms/step\n",
      "Epoch 6/20\n",
      "1207/1207 - 11s - loss: 3.0082 - MSE_Epochs: 3.0082 - val_loss: 2.6262 - val_MSE_Epochs: 2.6262 - 11s/epoch - 9ms/step\n",
      "Epoch 7/20\n",
      "1207/1207 - 11s - loss: 2.8162 - MSE_Epochs: 2.8162 - val_loss: 2.3854 - val_MSE_Epochs: 2.3854 - 11s/epoch - 9ms/step\n",
      "Epoch 8/20\n",
      "1207/1207 - 11s - loss: 2.6564 - MSE_Epochs: 2.6564 - val_loss: 2.2305 - val_MSE_Epochs: 2.2305 - 11s/epoch - 9ms/step\n",
      "Epoch 9/20\n",
      "1207/1207 - 11s - loss: 2.5413 - MSE_Epochs: 2.5413 - val_loss: 3.3607 - val_MSE_Epochs: 3.3607 - 11s/epoch - 9ms/step\n",
      "Epoch 10/20\n",
      "1207/1207 - 11s - loss: 2.4625 - MSE_Epochs: 2.4625 - val_loss: 1.9886 - val_MSE_Epochs: 1.9886 - 11s/epoch - 9ms/step\n",
      "Epoch 11/20\n",
      "1207/1207 - 11s - loss: 2.4205 - MSE_Epochs: 2.4205 - val_loss: 2.0541 - val_MSE_Epochs: 2.0541 - 11s/epoch - 9ms/step\n",
      "Epoch 12/20\n",
      "1207/1207 - 11s - loss: 2.3646 - MSE_Epochs: 2.3646 - val_loss: 1.8924 - val_MSE_Epochs: 1.8924 - 11s/epoch - 9ms/step\n",
      "Epoch 13/20\n",
      "1207/1207 - 11s - loss: 2.2670 - MSE_Epochs: 2.2670 - val_loss: 2.2445 - val_MSE_Epochs: 2.2445 - 11s/epoch - 9ms/step\n",
      "Epoch 14/20\n",
      "1207/1207 - 11s - loss: 2.3239 - MSE_Epochs: 2.3239 - val_loss: 2.6102 - val_MSE_Epochs: 2.6102 - 11s/epoch - 9ms/step\n",
      "Epoch 15/20\n",
      "1207/1207 - 11s - loss: 2.1102 - MSE_Epochs: 2.1102 - val_loss: 1.7415 - val_MSE_Epochs: 1.7415 - 11s/epoch - 9ms/step\n",
      "Epoch 16/20\n",
      "1207/1207 - 12s - loss: 2.1818 - MSE_Epochs: 2.1818 - val_loss: 2.4742 - val_MSE_Epochs: 2.4742 - 12s/epoch - 10ms/step\n",
      "Epoch 17/20\n",
      "1207/1207 - 11s - loss: 2.1278 - MSE_Epochs: 2.1278 - val_loss: 1.7111 - val_MSE_Epochs: 1.7111 - 11s/epoch - 9ms/step\n",
      "Epoch 18/20\n",
      "1207/1207 - 11s - loss: 2.1508 - MSE_Epochs: 2.1508 - val_loss: 1.8728 - val_MSE_Epochs: 1.8728 - 11s/epoch - 9ms/step\n",
      "Epoch 19/20\n",
      "1207/1207 - 11s - loss: 2.0465 - MSE_Epochs: 2.0465 - val_loss: 1.7853 - val_MSE_Epochs: 1.7853 - 11s/epoch - 9ms/step\n",
      "Epoch 20/20\n",
      "1207/1207 - 11s - loss: 1.9761 - MSE_Epochs: 1.9761 - val_loss: 1.6666 - val_MSE_Epochs: 1.6666 - 11s/epoch - 9ms/step\n",
      "--- Starting trial: run-WIDTH 30-DEPTH 4\n",
      "{'NN_width': 30, 'NN_depth': 4}\n",
      "Epoch 1/20\n"
     ]
    },
    {
     "name": "stderr",
     "output_type": "stream",
     "text": [
      "2022-11-29 03:28:45.745410: I tensorflow/core/grappler/optimizers/custom_graph_optimizer_registry.cc:113] Plugin optimizer for device_type GPU is enabled.\n",
      "2022-11-29 03:28:53.757696: I tensorflow/core/grappler/optimizers/custom_graph_optimizer_registry.cc:113] Plugin optimizer for device_type GPU is enabled.\n"
     ]
    },
    {
     "name": "stdout",
     "output_type": "stream",
     "text": [
      "1207/1207 - 11s - loss: 41.0211 - MSE_Epochs: 41.0211 - val_loss: 7.1514 - val_MSE_Epochs: 7.1514 - 11s/epoch - 9ms/step\n",
      "Epoch 2/20\n",
      "1207/1207 - 10s - loss: 5.9131 - MSE_Epochs: 5.9131 - val_loss: 4.5085 - val_MSE_Epochs: 4.5085 - 10s/epoch - 8ms/step\n",
      "Epoch 3/20\n",
      "1207/1207 - 10s - loss: 4.4339 - MSE_Epochs: 4.4339 - val_loss: 5.5603 - val_MSE_Epochs: 5.5603 - 10s/epoch - 8ms/step\n",
      "Epoch 4/20\n",
      "1207/1207 - 10s - loss: 3.9147 - MSE_Epochs: 3.9147 - val_loss: 4.2545 - val_MSE_Epochs: 4.2545 - 10s/epoch - 8ms/step\n",
      "Epoch 5/20\n",
      "1207/1207 - 10s - loss: 3.5505 - MSE_Epochs: 3.5505 - val_loss: 3.3325 - val_MSE_Epochs: 3.3325 - 10s/epoch - 8ms/step\n",
      "Epoch 6/20\n",
      "1207/1207 - 10s - loss: 3.0725 - MSE_Epochs: 3.0725 - val_loss: 2.9486 - val_MSE_Epochs: 2.9486 - 10s/epoch - 8ms/step\n",
      "Epoch 7/20\n",
      "1207/1207 - 10s - loss: 2.9465 - MSE_Epochs: 2.9465 - val_loss: 3.5638 - val_MSE_Epochs: 3.5638 - 10s/epoch - 8ms/step\n",
      "Epoch 8/20\n",
      "1207/1207 - 10s - loss: 2.7798 - MSE_Epochs: 2.7798 - val_loss: 3.3505 - val_MSE_Epochs: 3.3505 - 10s/epoch - 8ms/step\n",
      "Epoch 9/20\n",
      "1207/1207 - 10s - loss: 2.5614 - MSE_Epochs: 2.5614 - val_loss: 2.4760 - val_MSE_Epochs: 2.4760 - 10s/epoch - 8ms/step\n",
      "Epoch 10/20\n",
      "1207/1207 - 10s - loss: 2.5715 - MSE_Epochs: 2.5715 - val_loss: 2.2572 - val_MSE_Epochs: 2.2572 - 10s/epoch - 8ms/step\n",
      "Epoch 11/20\n",
      "1207/1207 - 10s - loss: 2.4600 - MSE_Epochs: 2.4600 - val_loss: 2.1490 - val_MSE_Epochs: 2.1490 - 10s/epoch - 8ms/step\n",
      "Epoch 12/20\n",
      "1207/1207 - 10s - loss: 2.2761 - MSE_Epochs: 2.2761 - val_loss: 2.5121 - val_MSE_Epochs: 2.5121 - 10s/epoch - 8ms/step\n",
      "Epoch 13/20\n",
      "1207/1207 - 10s - loss: 2.2326 - MSE_Epochs: 2.2326 - val_loss: 1.9934 - val_MSE_Epochs: 1.9934 - 10s/epoch - 8ms/step\n",
      "Epoch 14/20\n",
      "1207/1207 - 10s - loss: 2.2543 - MSE_Epochs: 2.2543 - val_loss: 1.9091 - val_MSE_Epochs: 1.9091 - 10s/epoch - 8ms/step\n",
      "Epoch 15/20\n",
      "1207/1207 - 10s - loss: 2.2114 - MSE_Epochs: 2.2114 - val_loss: 2.8897 - val_MSE_Epochs: 2.8897 - 10s/epoch - 8ms/step\n",
      "Epoch 16/20\n",
      "1207/1207 - 10s - loss: 2.1174 - MSE_Epochs: 2.1174 - val_loss: 2.0777 - val_MSE_Epochs: 2.0777 - 10s/epoch - 8ms/step\n",
      "Epoch 17/20\n",
      "1207/1207 - 10s - loss: 2.0625 - MSE_Epochs: 2.0625 - val_loss: 2.3792 - val_MSE_Epochs: 2.3792 - 10s/epoch - 8ms/step\n",
      "Epoch 18/20\n",
      "1207/1207 - 10s - loss: 2.0598 - MSE_Epochs: 2.0598 - val_loss: 1.7831 - val_MSE_Epochs: 1.7831 - 10s/epoch - 8ms/step\n",
      "Epoch 19/20\n",
      "1207/1207 - 10s - loss: 2.0539 - MSE_Epochs: 2.0539 - val_loss: 1.8004 - val_MSE_Epochs: 1.8004 - 10s/epoch - 8ms/step\n",
      "Epoch 20/20\n",
      "1207/1207 - 10s - loss: 2.0878 - MSE_Epochs: 2.0878 - val_loss: 1.8934 - val_MSE_Epochs: 1.8934 - 10s/epoch - 8ms/step\n",
      "Epoch 1/20\n"
     ]
    },
    {
     "name": "stderr",
     "output_type": "stream",
     "text": [
      "2022-11-29 03:31:59.881970: I tensorflow/core/grappler/optimizers/custom_graph_optimizer_registry.cc:113] Plugin optimizer for device_type GPU is enabled.\n",
      "2022-11-29 03:32:08.279682: I tensorflow/core/grappler/optimizers/custom_graph_optimizer_registry.cc:113] Plugin optimizer for device_type GPU is enabled.\n"
     ]
    },
    {
     "name": "stdout",
     "output_type": "stream",
     "text": [
      "1207/1207 - 11s - loss: 40.7958 - MSE_Epochs: 40.7958 - val_loss: 8.8097 - val_MSE_Epochs: 8.8097 - 11s/epoch - 9ms/step\n",
      "Epoch 2/20\n",
      "1207/1207 - 10s - loss: 5.4438 - MSE_Epochs: 5.4438 - val_loss: 4.3952 - val_MSE_Epochs: 4.3952 - 10s/epoch - 8ms/step\n",
      "Epoch 3/20\n",
      "1207/1207 - 10s - loss: 4.3827 - MSE_Epochs: 4.3827 - val_loss: 3.5730 - val_MSE_Epochs: 3.5730 - 10s/epoch - 8ms/step\n",
      "Epoch 4/20\n",
      "1207/1207 - 10s - loss: 3.8283 - MSE_Epochs: 3.8283 - val_loss: 3.0808 - val_MSE_Epochs: 3.0808 - 10s/epoch - 8ms/step\n",
      "Epoch 5/20\n",
      "1207/1207 - 10s - loss: 3.3872 - MSE_Epochs: 3.3872 - val_loss: 3.2831 - val_MSE_Epochs: 3.2831 - 10s/epoch - 8ms/step\n",
      "Epoch 6/20\n",
      "1207/1207 - 10s - loss: 3.0488 - MSE_Epochs: 3.0488 - val_loss: 2.8659 - val_MSE_Epochs: 2.8659 - 10s/epoch - 8ms/step\n",
      "Epoch 7/20\n",
      "1207/1207 - 10s - loss: 2.9559 - MSE_Epochs: 2.9559 - val_loss: 3.2336 - val_MSE_Epochs: 3.2336 - 10s/epoch - 8ms/step\n",
      "Epoch 8/20\n",
      "1207/1207 - 10s - loss: 2.7559 - MSE_Epochs: 2.7559 - val_loss: 3.1856 - val_MSE_Epochs: 3.1856 - 10s/epoch - 8ms/step\n",
      "Epoch 9/20\n",
      "1207/1207 - 10s - loss: 2.5841 - MSE_Epochs: 2.5841 - val_loss: 2.5178 - val_MSE_Epochs: 2.5178 - 10s/epoch - 8ms/step\n",
      "Epoch 10/20\n",
      "1207/1207 - 9s - loss: 2.4324 - MSE_Epochs: 2.4324 - val_loss: 2.2148 - val_MSE_Epochs: 2.2148 - 9s/epoch - 8ms/step\n",
      "Epoch 11/20\n",
      "1207/1207 - 10s - loss: 2.3505 - MSE_Epochs: 2.3505 - val_loss: 3.5277 - val_MSE_Epochs: 3.5277 - 10s/epoch - 8ms/step\n",
      "Epoch 12/20\n",
      "1207/1207 - 10s - loss: 2.3489 - MSE_Epochs: 2.3489 - val_loss: 2.4750 - val_MSE_Epochs: 2.4750 - 10s/epoch - 8ms/step\n",
      "Epoch 13/20\n",
      "1207/1207 - 9s - loss: 2.3374 - MSE_Epochs: 2.3374 - val_loss: 2.2347 - val_MSE_Epochs: 2.2347 - 9s/epoch - 8ms/step\n",
      "Epoch 14/20\n",
      "1207/1207 - 10s - loss: 2.2503 - MSE_Epochs: 2.2503 - val_loss: 3.0987 - val_MSE_Epochs: 3.0987 - 10s/epoch - 8ms/step\n",
      "Epoch 15/20\n",
      "1207/1207 - 9s - loss: 2.1209 - MSE_Epochs: 2.1209 - val_loss: 2.0498 - val_MSE_Epochs: 2.0498 - 9s/epoch - 8ms/step\n",
      "Epoch 16/20\n",
      "1207/1207 - 10s - loss: 2.1191 - MSE_Epochs: 2.1191 - val_loss: 2.0774 - val_MSE_Epochs: 2.0774 - 10s/epoch - 8ms/step\n",
      "Epoch 17/20\n",
      "1207/1207 - 10s - loss: 2.0651 - MSE_Epochs: 2.0651 - val_loss: 1.9892 - val_MSE_Epochs: 1.9892 - 10s/epoch - 8ms/step\n",
      "Epoch 18/20\n",
      "1207/1207 - 10s - loss: 1.9963 - MSE_Epochs: 1.9963 - val_loss: 2.0436 - val_MSE_Epochs: 2.0436 - 10s/epoch - 8ms/step\n",
      "Epoch 19/20\n",
      "1207/1207 - 9s - loss: 1.9499 - MSE_Epochs: 1.9499 - val_loss: 2.1549 - val_MSE_Epochs: 2.1549 - 9s/epoch - 8ms/step\n",
      "Epoch 20/20\n",
      "1207/1207 - 10s - loss: 1.9486 - MSE_Epochs: 1.9486 - val_loss: 1.9707 - val_MSE_Epochs: 1.9707 - 10s/epoch - 8ms/step\n",
      "Epoch 1/20\n"
     ]
    },
    {
     "name": "stderr",
     "output_type": "stream",
     "text": [
      "2022-11-29 03:35:12.203961: I tensorflow/core/grappler/optimizers/custom_graph_optimizer_registry.cc:113] Plugin optimizer for device_type GPU is enabled.\n",
      "2022-11-29 03:35:20.126501: I tensorflow/core/grappler/optimizers/custom_graph_optimizer_registry.cc:113] Plugin optimizer for device_type GPU is enabled.\n"
     ]
    },
    {
     "name": "stdout",
     "output_type": "stream",
     "text": [
      "1207/1207 - 10s - loss: 43.3421 - MSE_Epochs: 43.3421 - val_loss: 7.7313 - val_MSE_Epochs: 7.7313 - 10s/epoch - 9ms/step\n",
      "Epoch 2/20\n",
      "1207/1207 - 10s - loss: 6.1333 - MSE_Epochs: 6.1333 - val_loss: 4.4758 - val_MSE_Epochs: 4.4758 - 10s/epoch - 8ms/step\n",
      "Epoch 3/20\n",
      "1207/1207 - 10s - loss: 4.6316 - MSE_Epochs: 4.6316 - val_loss: 4.2248 - val_MSE_Epochs: 4.2248 - 10s/epoch - 8ms/step\n",
      "Epoch 4/20\n",
      "1207/1207 - 10s - loss: 4.0579 - MSE_Epochs: 4.0579 - val_loss: 3.1140 - val_MSE_Epochs: 3.1140 - 10s/epoch - 8ms/step\n",
      "Epoch 5/20\n",
      "1207/1207 - 10s - loss: 3.6537 - MSE_Epochs: 3.6537 - val_loss: 3.9001 - val_MSE_Epochs: 3.9001 - 10s/epoch - 8ms/step\n",
      "Epoch 6/20\n",
      "1207/1207 - 10s - loss: 3.2174 - MSE_Epochs: 3.2174 - val_loss: 3.4514 - val_MSE_Epochs: 3.4514 - 10s/epoch - 8ms/step\n",
      "Epoch 7/20\n",
      "1207/1207 - 10s - loss: 2.9991 - MSE_Epochs: 2.9991 - val_loss: 4.3883 - val_MSE_Epochs: 4.3883 - 10s/epoch - 8ms/step\n",
      "Epoch 8/20\n",
      "1207/1207 - 10s - loss: 2.8032 - MSE_Epochs: 2.8032 - val_loss: 2.1995 - val_MSE_Epochs: 2.1995 - 10s/epoch - 8ms/step\n",
      "Epoch 9/20\n",
      "1207/1207 - 10s - loss: 2.6951 - MSE_Epochs: 2.6951 - val_loss: 2.5334 - val_MSE_Epochs: 2.5334 - 10s/epoch - 8ms/step\n",
      "Epoch 10/20\n",
      "1207/1207 - 10s - loss: 2.5567 - MSE_Epochs: 2.5567 - val_loss: 2.4750 - val_MSE_Epochs: 2.4750 - 10s/epoch - 8ms/step\n",
      "Epoch 11/20\n",
      "1207/1207 - 10s - loss: 2.4415 - MSE_Epochs: 2.4415 - val_loss: 2.2506 - val_MSE_Epochs: 2.2506 - 10s/epoch - 8ms/step\n",
      "Epoch 12/20\n",
      "1207/1207 - 10s - loss: 2.3741 - MSE_Epochs: 2.3741 - val_loss: 2.3684 - val_MSE_Epochs: 2.3684 - 10s/epoch - 8ms/step\n",
      "Epoch 13/20\n",
      "1207/1207 - 10s - loss: 2.3019 - MSE_Epochs: 2.3019 - val_loss: 1.8164 - val_MSE_Epochs: 1.8164 - 10s/epoch - 8ms/step\n",
      "Epoch 14/20\n",
      "1207/1207 - 10s - loss: 2.2615 - MSE_Epochs: 2.2615 - val_loss: 2.0554 - val_MSE_Epochs: 2.0554 - 10s/epoch - 8ms/step\n",
      "Epoch 15/20\n",
      "1207/1207 - 10s - loss: 2.2287 - MSE_Epochs: 2.2287 - val_loss: 1.9937 - val_MSE_Epochs: 1.9937 - 10s/epoch - 8ms/step\n",
      "Epoch 16/20\n",
      "1207/1207 - 10s - loss: 2.1065 - MSE_Epochs: 2.1065 - val_loss: 1.8037 - val_MSE_Epochs: 1.8037 - 10s/epoch - 8ms/step\n",
      "Epoch 17/20\n",
      "1207/1207 - 10s - loss: 2.1050 - MSE_Epochs: 2.1050 - val_loss: 1.9430 - val_MSE_Epochs: 1.9430 - 10s/epoch - 8ms/step\n",
      "Epoch 18/20\n",
      "1207/1207 - 10s - loss: 2.0415 - MSE_Epochs: 2.0415 - val_loss: 2.9901 - val_MSE_Epochs: 2.9901 - 10s/epoch - 8ms/step\n",
      "Epoch 19/20\n",
      "1207/1207 - 10s - loss: 2.0404 - MSE_Epochs: 2.0404 - val_loss: 1.9527 - val_MSE_Epochs: 1.9527 - 10s/epoch - 8ms/step\n",
      "Epoch 20/20\n",
      "1207/1207 - 10s - loss: 2.0078 - MSE_Epochs: 2.0078 - val_loss: 1.7268 - val_MSE_Epochs: 1.7268 - 10s/epoch - 8ms/step\n",
      "--- Starting trial: run-WIDTH 30-DEPTH 6\n",
      "{'NN_width': 30, 'NN_depth': 6}\n",
      "Epoch 1/20\n"
     ]
    },
    {
     "name": "stderr",
     "output_type": "stream",
     "text": [
      "2022-11-29 03:38:26.005980: I tensorflow/core/grappler/optimizers/custom_graph_optimizer_registry.cc:113] Plugin optimizer for device_type GPU is enabled.\n",
      "2022-11-29 03:38:35.640448: I tensorflow/core/grappler/optimizers/custom_graph_optimizer_registry.cc:113] Plugin optimizer for device_type GPU is enabled.\n"
     ]
    },
    {
     "name": "stdout",
     "output_type": "stream",
     "text": [
      "1207/1207 - 12s - loss: 37.2664 - MSE_Epochs: 37.2664 - val_loss: 6.8015 - val_MSE_Epochs: 6.8015 - 12s/epoch - 10ms/step\n",
      "Epoch 2/20\n",
      "1207/1207 - 11s - loss: 5.2241 - MSE_Epochs: 5.2241 - val_loss: 4.3358 - val_MSE_Epochs: 4.3358 - 11s/epoch - 9ms/step\n",
      "Epoch 3/20\n",
      "1207/1207 - 11s - loss: 4.1986 - MSE_Epochs: 4.1986 - val_loss: 3.5553 - val_MSE_Epochs: 3.5553 - 11s/epoch - 9ms/step\n",
      "Epoch 4/20\n",
      "1207/1207 - 12s - loss: 3.6636 - MSE_Epochs: 3.6636 - val_loss: 3.8857 - val_MSE_Epochs: 3.8857 - 12s/epoch - 10ms/step\n",
      "Epoch 5/20\n",
      "1207/1207 - 12s - loss: 3.2831 - MSE_Epochs: 3.2831 - val_loss: 3.4167 - val_MSE_Epochs: 3.4167 - 12s/epoch - 10ms/step\n",
      "Epoch 6/20\n",
      "1207/1207 - 13s - loss: 3.1458 - MSE_Epochs: 3.1458 - val_loss: 2.8109 - val_MSE_Epochs: 2.8109 - 13s/epoch - 10ms/step\n",
      "Epoch 7/20\n",
      "1207/1207 - 12s - loss: 2.8338 - MSE_Epochs: 2.8338 - val_loss: 2.3604 - val_MSE_Epochs: 2.3604 - 12s/epoch - 10ms/step\n",
      "Epoch 8/20\n",
      "1207/1207 - 12s - loss: 2.6632 - MSE_Epochs: 2.6632 - val_loss: 3.3652 - val_MSE_Epochs: 3.3652 - 12s/epoch - 10ms/step\n",
      "Epoch 9/20\n",
      "1207/1207 - 12s - loss: 2.6049 - MSE_Epochs: 2.6049 - val_loss: 2.7638 - val_MSE_Epochs: 2.7638 - 12s/epoch - 10ms/step\n",
      "Epoch 10/20\n",
      "1207/1207 - 12s - loss: 2.3952 - MSE_Epochs: 2.3952 - val_loss: 4.6433 - val_MSE_Epochs: 4.6433 - 12s/epoch - 10ms/step\n",
      "Epoch 11/20\n",
      "1207/1207 - 12s - loss: 2.3540 - MSE_Epochs: 2.3540 - val_loss: 2.1871 - val_MSE_Epochs: 2.1871 - 12s/epoch - 10ms/step\n",
      "Epoch 12/20\n",
      "1207/1207 - 12s - loss: 2.3038 - MSE_Epochs: 2.3038 - val_loss: 2.2464 - val_MSE_Epochs: 2.2464 - 12s/epoch - 10ms/step\n",
      "Epoch 13/20\n",
      "1207/1207 - 12s - loss: 2.2054 - MSE_Epochs: 2.2054 - val_loss: 2.8398 - val_MSE_Epochs: 2.8398 - 12s/epoch - 10ms/step\n",
      "Epoch 14/20\n",
      "1207/1207 - 12s - loss: 2.1418 - MSE_Epochs: 2.1418 - val_loss: 1.8928 - val_MSE_Epochs: 1.8928 - 12s/epoch - 10ms/step\n",
      "Epoch 15/20\n",
      "1207/1207 - 9s - loss: 2.0870 - MSE_Epochs: 2.0870 - val_loss: 1.8790 - val_MSE_Epochs: 1.8790 - 9s/epoch - 7ms/step\n",
      "Epoch 16/20\n",
      "1207/1207 - 9s - loss: 2.0537 - MSE_Epochs: 2.0537 - val_loss: 1.8493 - val_MSE_Epochs: 1.8493 - 9s/epoch - 7ms/step\n",
      "Epoch 17/20\n",
      "1207/1207 - 9s - loss: 2.0674 - MSE_Epochs: 2.0674 - val_loss: 2.0301 - val_MSE_Epochs: 2.0301 - 9s/epoch - 7ms/step\n",
      "Epoch 18/20\n",
      "1207/1207 - 9s - loss: 1.9713 - MSE_Epochs: 1.9713 - val_loss: 2.1292 - val_MSE_Epochs: 2.1292 - 9s/epoch - 7ms/step\n",
      "Epoch 19/20\n",
      "1207/1207 - 9s - loss: 1.9341 - MSE_Epochs: 1.9341 - val_loss: 1.8042 - val_MSE_Epochs: 1.8042 - 9s/epoch - 7ms/step\n",
      "Epoch 20/20\n",
      "1207/1207 - 9s - loss: 1.9081 - MSE_Epochs: 1.9081 - val_loss: 3.2429 - val_MSE_Epochs: 3.2429 - 9s/epoch - 7ms/step\n",
      "Epoch 1/20\n"
     ]
    },
    {
     "name": "stderr",
     "output_type": "stream",
     "text": [
      "2022-11-29 03:42:05.446929: I tensorflow/core/grappler/optimizers/custom_graph_optimizer_registry.cc:113] Plugin optimizer for device_type GPU is enabled.\n",
      "2022-11-29 03:42:12.743783: I tensorflow/core/grappler/optimizers/custom_graph_optimizer_registry.cc:113] Plugin optimizer for device_type GPU is enabled.\n"
     ]
    },
    {
     "name": "stdout",
     "output_type": "stream",
     "text": [
      "1207/1207 - 9s - loss: 37.9360 - MSE_Epochs: 37.9360 - val_loss: 6.0936 - val_MSE_Epochs: 6.0936 - 9s/epoch - 8ms/step\n",
      "Epoch 2/20\n",
      "1207/1207 - 9s - loss: 5.5298 - MSE_Epochs: 5.5298 - val_loss: 5.6272 - val_MSE_Epochs: 5.6272 - 9s/epoch - 8ms/step\n",
      "Epoch 3/20\n",
      "1207/1207 - 9s - loss: 4.3751 - MSE_Epochs: 4.3751 - val_loss: 5.3448 - val_MSE_Epochs: 5.3448 - 9s/epoch - 7ms/step\n",
      "Epoch 4/20\n",
      "1207/1207 - 9s - loss: 3.7579 - MSE_Epochs: 3.7579 - val_loss: 3.1227 - val_MSE_Epochs: 3.1227 - 9s/epoch - 7ms/step\n",
      "Epoch 5/20\n",
      "1207/1207 - 9s - loss: 3.4509 - MSE_Epochs: 3.4509 - val_loss: 4.1559 - val_MSE_Epochs: 4.1559 - 9s/epoch - 7ms/step\n",
      "Epoch 6/20\n",
      "1207/1207 - 9s - loss: 3.0661 - MSE_Epochs: 3.0661 - val_loss: 2.4682 - val_MSE_Epochs: 2.4682 - 9s/epoch - 7ms/step\n",
      "Epoch 7/20\n",
      "1207/1207 - 9s - loss: 2.9373 - MSE_Epochs: 2.9373 - val_loss: 2.4675 - val_MSE_Epochs: 2.4675 - 9s/epoch - 7ms/step\n",
      "Epoch 8/20\n",
      "1207/1207 - 9s - loss: 2.7200 - MSE_Epochs: 2.7200 - val_loss: 2.5336 - val_MSE_Epochs: 2.5336 - 9s/epoch - 8ms/step\n",
      "Epoch 9/20\n",
      "1207/1207 - 9s - loss: 2.6045 - MSE_Epochs: 2.6045 - val_loss: 3.1954 - val_MSE_Epochs: 3.1954 - 9s/epoch - 7ms/step\n",
      "Epoch 10/20\n",
      "1207/1207 - 9s - loss: 2.4946 - MSE_Epochs: 2.4946 - val_loss: 4.7073 - val_MSE_Epochs: 4.7073 - 9s/epoch - 7ms/step\n",
      "Epoch 11/20\n",
      "1207/1207 - 9s - loss: 2.3364 - MSE_Epochs: 2.3364 - val_loss: 3.0816 - val_MSE_Epochs: 3.0816 - 9s/epoch - 7ms/step\n",
      "Epoch 12/20\n",
      "1207/1207 - 9s - loss: 2.3641 - MSE_Epochs: 2.3641 - val_loss: 2.5324 - val_MSE_Epochs: 2.5324 - 9s/epoch - 7ms/step\n",
      "Epoch 13/20\n",
      "1207/1207 - 9s - loss: 2.2610 - MSE_Epochs: 2.2610 - val_loss: 1.9306 - val_MSE_Epochs: 1.9306 - 9s/epoch - 7ms/step\n",
      "Epoch 14/20\n",
      "1207/1207 - 9s - loss: 2.1477 - MSE_Epochs: 2.1477 - val_loss: 2.0515 - val_MSE_Epochs: 2.0515 - 9s/epoch - 7ms/step\n",
      "Epoch 15/20\n",
      "1207/1207 - 9s - loss: 2.1559 - MSE_Epochs: 2.1559 - val_loss: 2.3454 - val_MSE_Epochs: 2.3454 - 9s/epoch - 7ms/step\n",
      "Epoch 16/20\n",
      "1207/1207 - 9s - loss: 2.0644 - MSE_Epochs: 2.0644 - val_loss: 2.3517 - val_MSE_Epochs: 2.3517 - 9s/epoch - 7ms/step\n",
      "Epoch 17/20\n",
      "1207/1207 - 9s - loss: 2.0237 - MSE_Epochs: 2.0237 - val_loss: 3.0512 - val_MSE_Epochs: 3.0512 - 9s/epoch - 7ms/step\n",
      "Epoch 18/20\n",
      "1207/1207 - 9s - loss: 2.0125 - MSE_Epochs: 2.0125 - val_loss: 2.7099 - val_MSE_Epochs: 2.7099 - 9s/epoch - 7ms/step\n",
      "Epoch 19/20\n",
      "1207/1207 - 9s - loss: 1.9809 - MSE_Epochs: 1.9809 - val_loss: 2.0484 - val_MSE_Epochs: 2.0484 - 9s/epoch - 7ms/step\n",
      "Epoch 20/20\n",
      "1207/1207 - 9s - loss: 2.0178 - MSE_Epochs: 2.0178 - val_loss: 3.0292 - val_MSE_Epochs: 3.0292 - 9s/epoch - 7ms/step\n",
      "Epoch 1/20\n"
     ]
    },
    {
     "name": "stderr",
     "output_type": "stream",
     "text": [
      "2022-11-29 03:45:01.750031: I tensorflow/core/grappler/optimizers/custom_graph_optimizer_registry.cc:113] Plugin optimizer for device_type GPU is enabled.\n",
      "2022-11-29 03:45:08.908946: I tensorflow/core/grappler/optimizers/custom_graph_optimizer_registry.cc:113] Plugin optimizer for device_type GPU is enabled.\n"
     ]
    },
    {
     "name": "stdout",
     "output_type": "stream",
     "text": [
      "1207/1207 - 9s - loss: 38.8752 - MSE_Epochs: 38.8752 - val_loss: 5.6978 - val_MSE_Epochs: 5.6978 - 9s/epoch - 8ms/step\n",
      "Epoch 2/20\n",
      "1207/1207 - 9s - loss: 5.4170 - MSE_Epochs: 5.4170 - val_loss: 3.9593 - val_MSE_Epochs: 3.9593 - 9s/epoch - 7ms/step\n",
      "Epoch 3/20\n",
      "1207/1207 - 9s - loss: 4.4030 - MSE_Epochs: 4.4030 - val_loss: 3.3747 - val_MSE_Epochs: 3.3747 - 9s/epoch - 7ms/step\n",
      "Epoch 4/20\n",
      "1207/1207 - 9s - loss: 3.8705 - MSE_Epochs: 3.8705 - val_loss: 3.4864 - val_MSE_Epochs: 3.4864 - 9s/epoch - 7ms/step\n",
      "Epoch 5/20\n",
      "1207/1207 - 9s - loss: 3.4865 - MSE_Epochs: 3.4865 - val_loss: 3.1824 - val_MSE_Epochs: 3.1824 - 9s/epoch - 7ms/step\n",
      "Epoch 6/20\n",
      "1207/1207 - 9s - loss: 3.0447 - MSE_Epochs: 3.0447 - val_loss: 3.9446 - val_MSE_Epochs: 3.9446 - 9s/epoch - 7ms/step\n",
      "Epoch 7/20\n",
      "1207/1207 - 9s - loss: 2.8847 - MSE_Epochs: 2.8847 - val_loss: 5.8410 - val_MSE_Epochs: 5.8410 - 9s/epoch - 7ms/step\n",
      "Epoch 8/20\n",
      "1207/1207 - 9s - loss: 2.6883 - MSE_Epochs: 2.6883 - val_loss: 2.2468 - val_MSE_Epochs: 2.2468 - 9s/epoch - 7ms/step\n",
      "Epoch 9/20\n",
      "1207/1207 - 9s - loss: 2.6697 - MSE_Epochs: 2.6697 - val_loss: 3.8712 - val_MSE_Epochs: 3.8712 - 9s/epoch - 7ms/step\n",
      "Epoch 10/20\n",
      "1207/1207 - 9s - loss: 2.3964 - MSE_Epochs: 2.3964 - val_loss: 2.0659 - val_MSE_Epochs: 2.0659 - 9s/epoch - 7ms/step\n",
      "Epoch 11/20\n",
      "1207/1207 - 9s - loss: 2.3706 - MSE_Epochs: 2.3706 - val_loss: 1.8654 - val_MSE_Epochs: 1.8654 - 9s/epoch - 7ms/step\n",
      "Epoch 12/20\n",
      "1207/1207 - 9s - loss: 2.3509 - MSE_Epochs: 2.3509 - val_loss: 1.7931 - val_MSE_Epochs: 1.7931 - 9s/epoch - 7ms/step\n",
      "Epoch 13/20\n",
      "1207/1207 - 9s - loss: 2.1563 - MSE_Epochs: 2.1563 - val_loss: 2.3902 - val_MSE_Epochs: 2.3902 - 9s/epoch - 7ms/step\n",
      "Epoch 14/20\n",
      "1207/1207 - 8s - loss: 2.1635 - MSE_Epochs: 2.1635 - val_loss: 2.4535 - val_MSE_Epochs: 2.4535 - 8s/epoch - 7ms/step\n",
      "Epoch 15/20\n",
      "1207/1207 - 9s - loss: 2.0703 - MSE_Epochs: 2.0703 - val_loss: 1.8900 - val_MSE_Epochs: 1.8900 - 9s/epoch - 7ms/step\n",
      "Epoch 16/20\n",
      "1207/1207 - 8s - loss: 2.0807 - MSE_Epochs: 2.0807 - val_loss: 1.9560 - val_MSE_Epochs: 1.9560 - 8s/epoch - 7ms/step\n",
      "Epoch 17/20\n",
      "1207/1207 - 8s - loss: 1.9834 - MSE_Epochs: 1.9834 - val_loss: 2.5984 - val_MSE_Epochs: 2.5984 - 8s/epoch - 7ms/step\n",
      "Epoch 18/20\n",
      "1207/1207 - 9s - loss: 2.0507 - MSE_Epochs: 2.0507 - val_loss: 1.6107 - val_MSE_Epochs: 1.6107 - 9s/epoch - 7ms/step\n",
      "Epoch 19/20\n",
      "1207/1207 - 9s - loss: 1.9834 - MSE_Epochs: 1.9834 - val_loss: 1.7484 - val_MSE_Epochs: 1.7484 - 9s/epoch - 8ms/step\n",
      "Epoch 20/20\n",
      "1207/1207 - 9s - loss: 1.9053 - MSE_Epochs: 1.9053 - val_loss: 2.4187 - val_MSE_Epochs: 2.4187 - 9s/epoch - 7ms/step\n",
      "--- Starting trial: run-WIDTH 40-DEPTH 4\n",
      "{'NN_width': 40, 'NN_depth': 4}\n",
      "Epoch 1/20\n"
     ]
    },
    {
     "name": "stderr",
     "output_type": "stream",
     "text": [
      "2022-11-29 03:47:57.323366: I tensorflow/core/grappler/optimizers/custom_graph_optimizer_registry.cc:113] Plugin optimizer for device_type GPU is enabled.\n",
      "2022-11-29 03:48:03.713036: I tensorflow/core/grappler/optimizers/custom_graph_optimizer_registry.cc:113] Plugin optimizer for device_type GPU is enabled.\n"
     ]
    },
    {
     "name": "stdout",
     "output_type": "stream",
     "text": [
      "1207/1207 - 8s - loss: 29.9003 - MSE_Epochs: 29.9003 - val_loss: 5.7720 - val_MSE_Epochs: 5.7720 - 8s/epoch - 7ms/step\n",
      "Epoch 2/20\n",
      "1207/1207 - 8s - loss: 5.2722 - MSE_Epochs: 5.2722 - val_loss: 5.2955 - val_MSE_Epochs: 5.2955 - 8s/epoch - 7ms/step\n",
      "Epoch 3/20\n",
      "1207/1207 - 8s - loss: 4.2081 - MSE_Epochs: 4.2081 - val_loss: 4.1632 - val_MSE_Epochs: 4.1632 - 8s/epoch - 7ms/step\n",
      "Epoch 4/20\n",
      "1207/1207 - 8s - loss: 3.8105 - MSE_Epochs: 3.8105 - val_loss: 3.4159 - val_MSE_Epochs: 3.4159 - 8s/epoch - 7ms/step\n",
      "Epoch 5/20\n",
      "1207/1207 - 8s - loss: 3.4985 - MSE_Epochs: 3.4985 - val_loss: 3.5387 - val_MSE_Epochs: 3.5387 - 8s/epoch - 7ms/step\n",
      "Epoch 6/20\n",
      "1207/1207 - 8s - loss: 3.0965 - MSE_Epochs: 3.0965 - val_loss: 3.1282 - val_MSE_Epochs: 3.1282 - 8s/epoch - 6ms/step\n",
      "Epoch 7/20\n",
      "1207/1207 - 8s - loss: 3.1422 - MSE_Epochs: 3.1422 - val_loss: 3.0859 - val_MSE_Epochs: 3.0859 - 8s/epoch - 6ms/step\n",
      "Epoch 8/20\n",
      "1207/1207 - 8s - loss: 2.7834 - MSE_Epochs: 2.7834 - val_loss: 2.8449 - val_MSE_Epochs: 2.8449 - 8s/epoch - 6ms/step\n",
      "Epoch 9/20\n",
      "1207/1207 - 8s - loss: 2.7145 - MSE_Epochs: 2.7145 - val_loss: 2.1951 - val_MSE_Epochs: 2.1951 - 8s/epoch - 6ms/step\n",
      "Epoch 10/20\n",
      "1207/1207 - 7s - loss: 2.5066 - MSE_Epochs: 2.5066 - val_loss: 2.3054 - val_MSE_Epochs: 2.3054 - 7s/epoch - 6ms/step\n",
      "Epoch 11/20\n",
      "1207/1207 - 7s - loss: 2.4721 - MSE_Epochs: 2.4721 - val_loss: 2.5663 - val_MSE_Epochs: 2.5663 - 7s/epoch - 6ms/step\n",
      "Epoch 12/20\n",
      "1207/1207 - 8s - loss: 2.3677 - MSE_Epochs: 2.3677 - val_loss: 2.0458 - val_MSE_Epochs: 2.0458 - 8s/epoch - 6ms/step\n",
      "Epoch 13/20\n",
      "1207/1207 - 8s - loss: 2.3755 - MSE_Epochs: 2.3755 - val_loss: 2.4484 - val_MSE_Epochs: 2.4484 - 8s/epoch - 6ms/step\n",
      "Epoch 14/20\n",
      "1207/1207 - 8s - loss: 2.1912 - MSE_Epochs: 2.1912 - val_loss: 2.8782 - val_MSE_Epochs: 2.8782 - 8s/epoch - 6ms/step\n",
      "Epoch 15/20\n",
      "1207/1207 - 8s - loss: 2.1296 - MSE_Epochs: 2.1296 - val_loss: 1.8051 - val_MSE_Epochs: 1.8051 - 8s/epoch - 6ms/step\n",
      "Epoch 16/20\n",
      "1207/1207 - 8s - loss: 2.0845 - MSE_Epochs: 2.0845 - val_loss: 2.4240 - val_MSE_Epochs: 2.4240 - 8s/epoch - 6ms/step\n",
      "Epoch 17/20\n",
      "1207/1207 - 8s - loss: 2.2265 - MSE_Epochs: 2.2265 - val_loss: 1.8307 - val_MSE_Epochs: 1.8307 - 8s/epoch - 6ms/step\n",
      "Epoch 18/20\n",
      "1207/1207 - 8s - loss: 2.0408 - MSE_Epochs: 2.0408 - val_loss: 2.5398 - val_MSE_Epochs: 2.5398 - 8s/epoch - 6ms/step\n",
      "Epoch 19/20\n",
      "1207/1207 - 8s - loss: 2.0359 - MSE_Epochs: 2.0359 - val_loss: 2.3955 - val_MSE_Epochs: 2.3955 - 8s/epoch - 7ms/step\n",
      "Epoch 20/20\n",
      "1207/1207 - 8s - loss: 2.0074 - MSE_Epochs: 2.0074 - val_loss: 2.5692 - val_MSE_Epochs: 2.5692 - 8s/epoch - 6ms/step\n",
      "Epoch 1/20\n"
     ]
    },
    {
     "name": "stderr",
     "output_type": "stream",
     "text": [
      "2022-11-29 03:50:33.119864: I tensorflow/core/grappler/optimizers/custom_graph_optimizer_registry.cc:113] Plugin optimizer for device_type GPU is enabled.\n",
      "2022-11-29 03:50:39.608900: I tensorflow/core/grappler/optimizers/custom_graph_optimizer_registry.cc:113] Plugin optimizer for device_type GPU is enabled.\n"
     ]
    },
    {
     "name": "stdout",
     "output_type": "stream",
     "text": [
      "1207/1207 - 8s - loss: 29.5247 - MSE_Epochs: 29.5247 - val_loss: 5.3448 - val_MSE_Epochs: 5.3448 - 8s/epoch - 7ms/step\n",
      "Epoch 2/20\n",
      "1207/1207 - 8s - loss: 4.9106 - MSE_Epochs: 4.9106 - val_loss: 4.3311 - val_MSE_Epochs: 4.3311 - 8s/epoch - 7ms/step\n",
      "Epoch 3/20\n",
      "1207/1207 - 8s - loss: 4.1146 - MSE_Epochs: 4.1146 - val_loss: 3.3161 - val_MSE_Epochs: 3.3161 - 8s/epoch - 7ms/step\n",
      "Epoch 4/20\n",
      "1207/1207 - 8s - loss: 3.4613 - MSE_Epochs: 3.4613 - val_loss: 6.3960 - val_MSE_Epochs: 6.3960 - 8s/epoch - 7ms/step\n",
      "Epoch 5/20\n",
      "1207/1207 - 8s - loss: 3.3231 - MSE_Epochs: 3.3231 - val_loss: 2.5933 - val_MSE_Epochs: 2.5933 - 8s/epoch - 6ms/step\n",
      "Epoch 6/20\n",
      "1207/1207 - 8s - loss: 2.9912 - MSE_Epochs: 2.9912 - val_loss: 3.0825 - val_MSE_Epochs: 3.0825 - 8s/epoch - 6ms/step\n",
      "Epoch 7/20\n",
      "1207/1207 - 8s - loss: 2.8280 - MSE_Epochs: 2.8280 - val_loss: 2.2777 - val_MSE_Epochs: 2.2777 - 8s/epoch - 7ms/step\n",
      "Epoch 8/20\n",
      "1207/1207 - 8s - loss: 2.6839 - MSE_Epochs: 2.6839 - val_loss: 4.0779 - val_MSE_Epochs: 4.0779 - 8s/epoch - 6ms/step\n",
      "Epoch 9/20\n",
      "1207/1207 - 8s - loss: 2.5296 - MSE_Epochs: 2.5296 - val_loss: 3.0496 - val_MSE_Epochs: 3.0496 - 8s/epoch - 6ms/step\n",
      "Epoch 10/20\n",
      "1207/1207 - 8s - loss: 2.3772 - MSE_Epochs: 2.3772 - val_loss: 5.1486 - val_MSE_Epochs: 5.1486 - 8s/epoch - 6ms/step\n",
      "Epoch 11/20\n",
      "1207/1207 - 8s - loss: 2.3398 - MSE_Epochs: 2.3398 - val_loss: 2.3322 - val_MSE_Epochs: 2.3322 - 8s/epoch - 6ms/step\n",
      "Epoch 12/20\n",
      "1207/1207 - 8s - loss: 2.2902 - MSE_Epochs: 2.2902 - val_loss: 1.9876 - val_MSE_Epochs: 1.9876 - 8s/epoch - 6ms/step\n",
      "Epoch 13/20\n",
      "1207/1207 - 7s - loss: 2.2412 - MSE_Epochs: 2.2412 - val_loss: 3.2493 - val_MSE_Epochs: 3.2493 - 7s/epoch - 6ms/step\n",
      "Epoch 14/20\n",
      "1207/1207 - 8s - loss: 2.1699 - MSE_Epochs: 2.1699 - val_loss: 1.9523 - val_MSE_Epochs: 1.9523 - 8s/epoch - 6ms/step\n",
      "Epoch 15/20\n",
      "1207/1207 - 7s - loss: 2.1549 - MSE_Epochs: 2.1549 - val_loss: 1.8775 - val_MSE_Epochs: 1.8775 - 7s/epoch - 6ms/step\n",
      "Epoch 16/20\n",
      "1207/1207 - 8s - loss: 2.0632 - MSE_Epochs: 2.0632 - val_loss: 2.2776 - val_MSE_Epochs: 2.2776 - 8s/epoch - 6ms/step\n",
      "Epoch 17/20\n",
      "1207/1207 - 8s - loss: 2.1733 - MSE_Epochs: 2.1733 - val_loss: 2.1185 - val_MSE_Epochs: 2.1185 - 8s/epoch - 6ms/step\n",
      "Epoch 18/20\n",
      "1207/1207 - 8s - loss: 1.9659 - MSE_Epochs: 1.9659 - val_loss: 2.1916 - val_MSE_Epochs: 2.1916 - 8s/epoch - 6ms/step\n",
      "Epoch 19/20\n",
      "1207/1207 - 8s - loss: 2.0024 - MSE_Epochs: 2.0024 - val_loss: 1.8520 - val_MSE_Epochs: 1.8520 - 8s/epoch - 7ms/step\n",
      "Epoch 20/20\n",
      "1207/1207 - 8s - loss: 1.9574 - MSE_Epochs: 1.9574 - val_loss: 3.4201 - val_MSE_Epochs: 3.4201 - 8s/epoch - 7ms/step\n",
      "Epoch 1/20\n"
     ]
    },
    {
     "name": "stderr",
     "output_type": "stream",
     "text": [
      "2022-11-29 03:53:09.716814: I tensorflow/core/grappler/optimizers/custom_graph_optimizer_registry.cc:113] Plugin optimizer for device_type GPU is enabled.\n",
      "2022-11-29 03:53:16.157444: I tensorflow/core/grappler/optimizers/custom_graph_optimizer_registry.cc:113] Plugin optimizer for device_type GPU is enabled.\n"
     ]
    },
    {
     "name": "stdout",
     "output_type": "stream",
     "text": [
      "1207/1207 - 9s - loss: 27.9869 - MSE_Epochs: 27.9869 - val_loss: 6.2148 - val_MSE_Epochs: 6.2148 - 9s/epoch - 7ms/step\n",
      "Epoch 2/20\n",
      "1207/1207 - 8s - loss: 4.7873 - MSE_Epochs: 4.7873 - val_loss: 3.6151 - val_MSE_Epochs: 3.6151 - 8s/epoch - 7ms/step\n",
      "Epoch 3/20\n",
      "1207/1207 - 8s - loss: 4.0526 - MSE_Epochs: 4.0526 - val_loss: 3.1102 - val_MSE_Epochs: 3.1102 - 8s/epoch - 6ms/step\n",
      "Epoch 4/20\n",
      "1207/1207 - 8s - loss: 3.3742 - MSE_Epochs: 3.3742 - val_loss: 2.7341 - val_MSE_Epochs: 2.7341 - 8s/epoch - 7ms/step\n",
      "Epoch 5/20\n",
      "1207/1207 - 8s - loss: 3.3199 - MSE_Epochs: 3.3199 - val_loss: 2.5288 - val_MSE_Epochs: 2.5288 - 8s/epoch - 6ms/step\n",
      "Epoch 6/20\n",
      "1207/1207 - 8s - loss: 2.9920 - MSE_Epochs: 2.9920 - val_loss: 3.6143 - val_MSE_Epochs: 3.6143 - 8s/epoch - 7ms/step\n",
      "Epoch 7/20\n",
      "1207/1207 - 8s - loss: 2.7622 - MSE_Epochs: 2.7622 - val_loss: 2.1940 - val_MSE_Epochs: 2.1940 - 8s/epoch - 7ms/step\n",
      "Epoch 8/20\n",
      "1207/1207 - 8s - loss: 2.6758 - MSE_Epochs: 2.6758 - val_loss: 2.3658 - val_MSE_Epochs: 2.3658 - 8s/epoch - 7ms/step\n",
      "Epoch 9/20\n",
      "1207/1207 - 8s - loss: 2.6155 - MSE_Epochs: 2.6155 - val_loss: 2.9916 - val_MSE_Epochs: 2.9916 - 8s/epoch - 7ms/step\n",
      "Epoch 10/20\n",
      "1207/1207 - 8s - loss: 2.3878 - MSE_Epochs: 2.3878 - val_loss: 2.0157 - val_MSE_Epochs: 2.0157 - 8s/epoch - 7ms/step\n",
      "Epoch 11/20\n",
      "1207/1207 - 8s - loss: 2.4212 - MSE_Epochs: 2.4212 - val_loss: 2.1059 - val_MSE_Epochs: 2.1059 - 8s/epoch - 6ms/step\n",
      "Epoch 12/20\n",
      "1207/1207 - 7s - loss: 2.2993 - MSE_Epochs: 2.2993 - val_loss: 2.3316 - val_MSE_Epochs: 2.3316 - 7s/epoch - 6ms/step\n",
      "Epoch 13/20\n",
      "1207/1207 - 7s - loss: 2.2869 - MSE_Epochs: 2.2869 - val_loss: 1.8829 - val_MSE_Epochs: 1.8829 - 7s/epoch - 6ms/step\n",
      "Epoch 14/20\n",
      "1207/1207 - 8s - loss: 2.1969 - MSE_Epochs: 2.1969 - val_loss: 3.1663 - val_MSE_Epochs: 3.1663 - 8s/epoch - 7ms/step\n",
      "Epoch 15/20\n",
      "1207/1207 - 8s - loss: 2.1608 - MSE_Epochs: 2.1608 - val_loss: 2.1278 - val_MSE_Epochs: 2.1278 - 8s/epoch - 7ms/step\n",
      "Epoch 16/20\n",
      "1207/1207 - 8s - loss: 2.0866 - MSE_Epochs: 2.0866 - val_loss: 1.7931 - val_MSE_Epochs: 1.7931 - 8s/epoch - 7ms/step\n",
      "Epoch 17/20\n",
      "1207/1207 - 8s - loss: 2.0951 - MSE_Epochs: 2.0951 - val_loss: 1.6906 - val_MSE_Epochs: 1.6906 - 8s/epoch - 7ms/step\n",
      "Epoch 18/20\n",
      "1207/1207 - 8s - loss: 1.9608 - MSE_Epochs: 1.9608 - val_loss: 3.5498 - val_MSE_Epochs: 3.5498 - 8s/epoch - 7ms/step\n",
      "Epoch 19/20\n",
      "1207/1207 - 8s - loss: 2.0226 - MSE_Epochs: 2.0226 - val_loss: 1.7715 - val_MSE_Epochs: 1.7715 - 8s/epoch - 7ms/step\n",
      "Epoch 20/20\n",
      "1207/1207 - 8s - loss: 1.8517 - MSE_Epochs: 1.8517 - val_loss: 1.5598 - val_MSE_Epochs: 1.5598 - 8s/epoch - 7ms/step\n",
      "--- Starting trial: run-WIDTH 40-DEPTH 6\n",
      "{'NN_width': 40, 'NN_depth': 6}\n",
      "Epoch 1/20\n"
     ]
    },
    {
     "name": "stderr",
     "output_type": "stream",
     "text": [
      "2022-11-29 03:55:46.968881: I tensorflow/core/grappler/optimizers/custom_graph_optimizer_registry.cc:113] Plugin optimizer for device_type GPU is enabled.\n",
      "2022-11-29 03:55:54.141276: I tensorflow/core/grappler/optimizers/custom_graph_optimizer_registry.cc:113] Plugin optimizer for device_type GPU is enabled.\n"
     ]
    },
    {
     "name": "stdout",
     "output_type": "stream",
     "text": [
      "1207/1207 - 9s - loss: 51.1017 - MSE_Epochs: 51.1017 - val_loss: 5.3216 - val_MSE_Epochs: 5.3216 - 9s/epoch - 8ms/step\n",
      "Epoch 2/20\n",
      "1207/1207 - 9s - loss: 5.2345 - MSE_Epochs: 5.2345 - val_loss: 4.0642 - val_MSE_Epochs: 4.0642 - 9s/epoch - 8ms/step\n",
      "Epoch 3/20\n",
      "1207/1207 - 9s - loss: 4.3608 - MSE_Epochs: 4.3608 - val_loss: 8.0813 - val_MSE_Epochs: 8.0813 - 9s/epoch - 8ms/step\n",
      "Epoch 4/20\n",
      "1207/1207 - 8s - loss: 3.6439 - MSE_Epochs: 3.6439 - val_loss: 3.1118 - val_MSE_Epochs: 3.1118 - 8s/epoch - 7ms/step\n",
      "Epoch 5/20\n",
      "1207/1207 - 8s - loss: 3.4511 - MSE_Epochs: 3.4511 - val_loss: 2.9420 - val_MSE_Epochs: 2.9420 - 8s/epoch - 7ms/step\n",
      "Epoch 6/20\n",
      "1207/1207 - 8s - loss: 3.0741 - MSE_Epochs: 3.0741 - val_loss: 2.7417 - val_MSE_Epochs: 2.7417 - 8s/epoch - 7ms/step\n",
      "Epoch 7/20\n",
      "1207/1207 - 8s - loss: 2.9360 - MSE_Epochs: 2.9360 - val_loss: 2.3735 - val_MSE_Epochs: 2.3735 - 8s/epoch - 7ms/step\n",
      "Epoch 8/20\n",
      "1207/1207 - 8s - loss: 2.8418 - MSE_Epochs: 2.8418 - val_loss: 2.8635 - val_MSE_Epochs: 2.8635 - 8s/epoch - 7ms/step\n",
      "Epoch 9/20\n",
      "1207/1207 - 8s - loss: 2.6198 - MSE_Epochs: 2.6198 - val_loss: 2.3931 - val_MSE_Epochs: 2.3931 - 8s/epoch - 7ms/step\n",
      "Epoch 10/20\n",
      "1207/1207 - 8s - loss: 2.5648 - MSE_Epochs: 2.5648 - val_loss: 2.9962 - val_MSE_Epochs: 2.9962 - 8s/epoch - 7ms/step\n",
      "Epoch 11/20\n",
      "1207/1207 - 8s - loss: 2.4727 - MSE_Epochs: 2.4727 - val_loss: 2.2086 - val_MSE_Epochs: 2.2086 - 8s/epoch - 7ms/step\n",
      "Epoch 12/20\n",
      "1207/1207 - 8s - loss: 2.3880 - MSE_Epochs: 2.3880 - val_loss: 2.3401 - val_MSE_Epochs: 2.3401 - 8s/epoch - 7ms/step\n",
      "Epoch 13/20\n",
      "1207/1207 - 8s - loss: 2.2858 - MSE_Epochs: 2.2858 - val_loss: 4.1484 - val_MSE_Epochs: 4.1484 - 8s/epoch - 7ms/step\n",
      "Epoch 14/20\n",
      "1207/1207 - 8s - loss: 2.2172 - MSE_Epochs: 2.2172 - val_loss: 3.2807 - val_MSE_Epochs: 3.2807 - 8s/epoch - 7ms/step\n",
      "Epoch 15/20\n",
      "1207/1207 - 8s - loss: 2.1698 - MSE_Epochs: 2.1698 - val_loss: 3.9576 - val_MSE_Epochs: 3.9576 - 8s/epoch - 7ms/step\n",
      "Epoch 16/20\n",
      "1207/1207 - 8s - loss: 2.1963 - MSE_Epochs: 2.1963 - val_loss: 3.1974 - val_MSE_Epochs: 3.1974 - 8s/epoch - 7ms/step\n",
      "Epoch 17/20\n",
      "1207/1207 - 8s - loss: 2.0543 - MSE_Epochs: 2.0543 - val_loss: 1.8139 - val_MSE_Epochs: 1.8139 - 8s/epoch - 7ms/step\n",
      "Epoch 18/20\n",
      "1207/1207 - 8s - loss: 1.9958 - MSE_Epochs: 1.9958 - val_loss: 5.0313 - val_MSE_Epochs: 5.0313 - 8s/epoch - 7ms/step\n",
      "Epoch 19/20\n",
      "1207/1207 - 8s - loss: 2.0478 - MSE_Epochs: 2.0478 - val_loss: 1.9681 - val_MSE_Epochs: 1.9681 - 8s/epoch - 7ms/step\n",
      "Epoch 20/20\n",
      "1207/1207 - 8s - loss: 1.9627 - MSE_Epochs: 1.9627 - val_loss: 1.7656 - val_MSE_Epochs: 1.7656 - 8s/epoch - 7ms/step\n",
      "Epoch 1/20\n"
     ]
    },
    {
     "name": "stderr",
     "output_type": "stream",
     "text": [
      "2022-11-29 03:58:31.695945: I tensorflow/core/grappler/optimizers/custom_graph_optimizer_registry.cc:113] Plugin optimizer for device_type GPU is enabled.\n",
      "2022-11-29 03:58:38.333542: I tensorflow/core/grappler/optimizers/custom_graph_optimizer_registry.cc:113] Plugin optimizer for device_type GPU is enabled.\n"
     ]
    },
    {
     "name": "stdout",
     "output_type": "stream",
     "text": [
      "1207/1207 - 9s - loss: 52.0145 - MSE_Epochs: 52.0145 - val_loss: 5.2110 - val_MSE_Epochs: 5.2110 - 9s/epoch - 7ms/step\n",
      "Epoch 2/20\n",
      "1207/1207 - 8s - loss: 5.1188 - MSE_Epochs: 5.1188 - val_loss: 4.1879 - val_MSE_Epochs: 4.1879 - 8s/epoch - 7ms/step\n",
      "Epoch 3/20\n",
      "1207/1207 - 8s - loss: 4.4302 - MSE_Epochs: 4.4302 - val_loss: 3.3693 - val_MSE_Epochs: 3.3693 - 8s/epoch - 7ms/step\n",
      "Epoch 4/20\n",
      "1207/1207 - 8s - loss: 3.6977 - MSE_Epochs: 3.6977 - val_loss: 3.3546 - val_MSE_Epochs: 3.3546 - 8s/epoch - 7ms/step\n",
      "Epoch 5/20\n",
      "1207/1207 - 8s - loss: 3.3764 - MSE_Epochs: 3.3764 - val_loss: 2.9161 - val_MSE_Epochs: 2.9161 - 8s/epoch - 7ms/step\n",
      "Epoch 6/20\n",
      "1207/1207 - 8s - loss: 3.1428 - MSE_Epochs: 3.1428 - val_loss: 2.4946 - val_MSE_Epochs: 2.4946 - 8s/epoch - 7ms/step\n",
      "Epoch 7/20\n",
      "1207/1207 - 8s - loss: 2.9440 - MSE_Epochs: 2.9440 - val_loss: 2.6206 - val_MSE_Epochs: 2.6206 - 8s/epoch - 7ms/step\n",
      "Epoch 8/20\n",
      "1207/1207 - 8s - loss: 2.7357 - MSE_Epochs: 2.7357 - val_loss: 2.2378 - val_MSE_Epochs: 2.2378 - 8s/epoch - 7ms/step\n",
      "Epoch 9/20\n",
      "1207/1207 - 8s - loss: 2.6973 - MSE_Epochs: 2.6973 - val_loss: 4.7170 - val_MSE_Epochs: 4.7170 - 8s/epoch - 7ms/step\n",
      "Epoch 10/20\n",
      "1207/1207 - 8s - loss: 2.4562 - MSE_Epochs: 2.4562 - val_loss: 2.1077 - val_MSE_Epochs: 2.1077 - 8s/epoch - 7ms/step\n",
      "Epoch 11/20\n",
      "1207/1207 - 8s - loss: 2.3960 - MSE_Epochs: 2.3960 - val_loss: 2.0653 - val_MSE_Epochs: 2.0653 - 8s/epoch - 7ms/step\n",
      "Epoch 12/20\n",
      "1207/1207 - 8s - loss: 2.3132 - MSE_Epochs: 2.3132 - val_loss: 2.4055 - val_MSE_Epochs: 2.4055 - 8s/epoch - 7ms/step\n",
      "Epoch 13/20\n",
      "1207/1207 - 8s - loss: 2.3029 - MSE_Epochs: 2.3029 - val_loss: 1.9425 - val_MSE_Epochs: 1.9425 - 8s/epoch - 7ms/step\n",
      "Epoch 14/20\n",
      "1207/1207 - 8s - loss: 2.2499 - MSE_Epochs: 2.2499 - val_loss: 2.2140 - val_MSE_Epochs: 2.2140 - 8s/epoch - 7ms/step\n",
      "Epoch 15/20\n",
      "1207/1207 - 8s - loss: 2.1230 - MSE_Epochs: 2.1230 - val_loss: 2.3746 - val_MSE_Epochs: 2.3746 - 8s/epoch - 7ms/step\n",
      "Epoch 16/20\n",
      "1207/1207 - 8s - loss: 2.1434 - MSE_Epochs: 2.1434 - val_loss: 2.4546 - val_MSE_Epochs: 2.4546 - 8s/epoch - 7ms/step\n",
      "Epoch 17/20\n",
      "1207/1207 - 8s - loss: 1.9822 - MSE_Epochs: 1.9822 - val_loss: 1.7902 - val_MSE_Epochs: 1.7902 - 8s/epoch - 7ms/step\n",
      "Epoch 18/20\n",
      "1207/1207 - 8s - loss: 2.0234 - MSE_Epochs: 2.0234 - val_loss: 2.0073 - val_MSE_Epochs: 2.0073 - 8s/epoch - 7ms/step\n",
      "Epoch 19/20\n",
      "1207/1207 - 8s - loss: 1.9786 - MSE_Epochs: 1.9786 - val_loss: 2.1347 - val_MSE_Epochs: 2.1347 - 8s/epoch - 7ms/step\n",
      "Epoch 20/20\n",
      "1207/1207 - 8s - loss: 2.0198 - MSE_Epochs: 2.0198 - val_loss: 1.8655 - val_MSE_Epochs: 1.8655 - 8s/epoch - 7ms/step\n",
      "Epoch 1/20\n"
     ]
    },
    {
     "name": "stderr",
     "output_type": "stream",
     "text": [
      "2022-11-29 04:01:12.099224: I tensorflow/core/grappler/optimizers/custom_graph_optimizer_registry.cc:113] Plugin optimizer for device_type GPU is enabled.\n",
      "2022-11-29 04:01:18.706622: I tensorflow/core/grappler/optimizers/custom_graph_optimizer_registry.cc:113] Plugin optimizer for device_type GPU is enabled.\n"
     ]
    },
    {
     "name": "stdout",
     "output_type": "stream",
     "text": [
      "1207/1207 - 9s - loss: 52.6451 - MSE_Epochs: 52.6451 - val_loss: 6.0981 - val_MSE_Epochs: 6.0981 - 9s/epoch - 7ms/step\n",
      "Epoch 2/20\n",
      "1207/1207 - 8s - loss: 5.4765 - MSE_Epochs: 5.4765 - val_loss: 6.8068 - val_MSE_Epochs: 6.8068 - 8s/epoch - 7ms/step\n",
      "Epoch 3/20\n",
      "1207/1207 - 8s - loss: 4.2998 - MSE_Epochs: 4.2998 - val_loss: 3.2838 - val_MSE_Epochs: 3.2838 - 8s/epoch - 7ms/step\n",
      "Epoch 4/20\n",
      "1207/1207 - 8s - loss: 3.8066 - MSE_Epochs: 3.8066 - val_loss: 4.1883 - val_MSE_Epochs: 4.1883 - 8s/epoch - 7ms/step\n",
      "Epoch 5/20\n",
      "1207/1207 - 8s - loss: 3.4593 - MSE_Epochs: 3.4593 - val_loss: 5.6484 - val_MSE_Epochs: 5.6484 - 8s/epoch - 7ms/step\n",
      "Epoch 6/20\n",
      "1207/1207 - 8s - loss: 3.1908 - MSE_Epochs: 3.1908 - val_loss: 2.3829 - val_MSE_Epochs: 2.3829 - 8s/epoch - 7ms/step\n",
      "Epoch 7/20\n",
      "1207/1207 - 8s - loss: 2.9282 - MSE_Epochs: 2.9282 - val_loss: 2.3309 - val_MSE_Epochs: 2.3309 - 8s/epoch - 7ms/step\n",
      "Epoch 8/20\n",
      "1207/1207 - 8s - loss: 2.7863 - MSE_Epochs: 2.7863 - val_loss: 2.1871 - val_MSE_Epochs: 2.1871 - 8s/epoch - 7ms/step\n",
      "Epoch 9/20\n",
      "1207/1207 - 8s - loss: 2.6757 - MSE_Epochs: 2.6757 - val_loss: 2.3943 - val_MSE_Epochs: 2.3943 - 8s/epoch - 7ms/step\n",
      "Epoch 10/20\n",
      "1207/1207 - 8s - loss: 2.5416 - MSE_Epochs: 2.5416 - val_loss: 4.2615 - val_MSE_Epochs: 4.2615 - 8s/epoch - 7ms/step\n",
      "Epoch 11/20\n",
      "1207/1207 - 8s - loss: 2.3279 - MSE_Epochs: 2.3279 - val_loss: 1.8612 - val_MSE_Epochs: 1.8612 - 8s/epoch - 7ms/step\n",
      "Epoch 12/20\n",
      "1207/1207 - 8s - loss: 2.3246 - MSE_Epochs: 2.3246 - val_loss: 1.7949 - val_MSE_Epochs: 1.7949 - 8s/epoch - 7ms/step\n",
      "Epoch 13/20\n",
      "1207/1207 - 8s - loss: 2.3187 - MSE_Epochs: 2.3187 - val_loss: 2.1213 - val_MSE_Epochs: 2.1213 - 8s/epoch - 7ms/step\n",
      "Epoch 14/20\n",
      "1207/1207 - 8s - loss: 2.3145 - MSE_Epochs: 2.3145 - val_loss: 2.3582 - val_MSE_Epochs: 2.3582 - 8s/epoch - 7ms/step\n",
      "Epoch 15/20\n",
      "1207/1207 - 8s - loss: 2.1547 - MSE_Epochs: 2.1547 - val_loss: 2.0303 - val_MSE_Epochs: 2.0303 - 8s/epoch - 7ms/step\n",
      "Epoch 16/20\n",
      "1207/1207 - 8s - loss: 2.1527 - MSE_Epochs: 2.1527 - val_loss: 1.6490 - val_MSE_Epochs: 1.6490 - 8s/epoch - 7ms/step\n",
      "Epoch 17/20\n",
      "1207/1207 - 8s - loss: 2.1144 - MSE_Epochs: 2.1144 - val_loss: 2.0165 - val_MSE_Epochs: 2.0165 - 8s/epoch - 7ms/step\n",
      "Epoch 18/20\n",
      "1207/1207 - 8s - loss: 2.0493 - MSE_Epochs: 2.0493 - val_loss: 1.6720 - val_MSE_Epochs: 1.6720 - 8s/epoch - 7ms/step\n",
      "Epoch 19/20\n",
      "1207/1207 - 8s - loss: 2.0693 - MSE_Epochs: 2.0693 - val_loss: 4.4111 - val_MSE_Epochs: 4.4111 - 8s/epoch - 7ms/step\n",
      "Epoch 20/20\n",
      "1207/1207 - 8s - loss: 2.0450 - MSE_Epochs: 2.0450 - val_loss: 1.8432 - val_MSE_Epochs: 1.8432 - 8s/epoch - 7ms/step\n"
     ]
    }
   ],
   "source": [
    "# Nested loops for hyperparameter tuning, iterating over all the hyperparameters and combinations\n",
    "for hp_width in HP_WIDTH.domain.values:\n",
    "    for hp_depth in (HP_DEPTH.domain.values):\n",
    "        hparams = {\n",
    "            HP_WIDTH: hp_width,\n",
    "            HP_DEPTH: hp_depth,\n",
    "        }\n",
    "        run_name = f\"run-WIDTH {int(hparams[HP_WIDTH])}-DEPTH {hparams[HP_DEPTH]}\"\n",
    "        print('--- Starting trial: %s' % run_name)\n",
    "        print({h.name: hparams[h] for h in hparams})\n",
    "\n",
    "        run_dir = 'logs/deep_model/' + run_name\n",
    "        \n",
    "        # The model is trained with each of the k folds in the dataset and accuracy is averaged over the k runs.\n",
    "        mse = 0\n",
    "        for i in range(k):\n",
    "            mse += train_test_deep_model(hparams, run_dir, x_train_shuffled, y_train_shuffled, i, k)\n",
    "        mse = mse / k\n",
    "\n",
    "        with tf.summary.create_file_writer(run_dir).as_default():\n",
    "            hp.hparams(hparams)  # record the values used in this trial\n",
    "            tf.summary.scalar(\"MSE\", mse, step=1)\n",
    "\n",
    "    "
   ]
  },
  {
   "cell_type": "code",
   "execution_count": null,
   "id": "3b4af572",
   "metadata": {},
   "outputs": [],
   "source": []
  }
 ],
 "metadata": {
  "kernelspec": {
   "display_name": "Python 3 (ipykernel)",
   "language": "python",
   "name": "python3"
  },
  "language_info": {
   "codemirror_mode": {
    "name": "ipython",
    "version": 3
   },
   "file_extension": ".py",
   "mimetype": "text/x-python",
   "name": "python",
   "nbconvert_exporter": "python",
   "pygments_lexer": "ipython3",
   "version": "3.10.6"
  }
 },
 "nbformat": 4,
 "nbformat_minor": 5
}
