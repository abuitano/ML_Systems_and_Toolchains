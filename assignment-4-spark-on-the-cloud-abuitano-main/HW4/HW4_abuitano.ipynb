{
 "cells": [
  {
   "cell_type": "markdown",
   "id": "c791d09f",
   "metadata": {},
   "source": [
    "## Question 1"
   ]
  },
  {
   "cell_type": "code",
   "execution_count": 1,
   "id": "ebafc3a0",
   "metadata": {},
   "outputs": [
    {
     "name": "stdout",
     "output_type": "stream",
     "text": [
      "APP Name :PySparkShell\n",
      "Master :yarn\n"
     ]
    }
   ],
   "source": [
    "# if you installed Spark on windows, \n",
    "# you may need findspark and need to initialize it prior to being able to use pyspark\n",
    "# Also, you may need to initialize SparkContext yourself.\n",
    "# Uncomment the following lines if you are using Windows!\n",
    "#import findspark\n",
    "#findspark.init()\n",
    "#findspark.find()\n",
    "\n",
    "import pyspark\n",
    "from pyspark import SparkContext, SparkConf, SQLContext\n",
    "from pyspark.sql import SparkSession\n",
    "\n",
    "from pyspark.sql import SparkSession\n",
    "\n",
    "spark = SparkSession.builder \\\n",
    "    .master(\"local[*]\") \\\n",
    "    .appName(\"GenericAppName\") \\\n",
    "    .getOrCreate()\n",
    "\n",
    "#Access SparkContext from your SparkSession\n",
    "print(\"APP Name :\"+ spark.sparkContext.appName);\n",
    "print(\"Master :\"+ spark.sparkContext.master);"
   ]
  },
  {
   "cell_type": "code",
   "execution_count": 3,
   "id": "06b13e60",
   "metadata": {},
   "outputs": [
    {
     "name": "stderr",
     "output_type": "stream",
     "text": [
      "                                                                                \r"
     ]
    }
   ],
   "source": [
    "from pyspark import SparkFiles\n",
    "\n",
    "col_names = [\"duration\",\"protocol_type\",\"service\",\"flag\",\"src_bytes\",\n",
    "    \"dst_bytes\",\"land\",\"wrong_fragment\",\"urgent\",\"hot\",\"num_failed_logins\",\n",
    "    \"logged_in\",\"num_compromised\",\"root_shell\",\"su_attempted\",\"num_root\",\n",
    "    \"num_file_creations\",\"num_shells\",\"num_access_files\",\"num_outbound_cmds\",\n",
    "    \"is_host_login\",\"is_guest_login\",\"count\",\"srv_count\",\"serror_rate\",\n",
    "    \"srv_serror_rate\",\"rerror_rate\",\"srv_rerror_rate\",\"same_srv_rate\",\n",
    "    \"diff_srv_rate\",\"srv_diff_host_rate\",\"dst_host_count\",\"dst_host_srv_count\",\n",
    "    \"dst_host_same_srv_rate\",\"dst_host_diff_srv_rate\",\"dst_host_same_src_port_rate\",\n",
    "    \"dst_host_srv_diff_host_rate\",\"dst_host_serror_rate\",\"dst_host_srv_serror_rate\",\n",
    "    \"dst_host_rerror_rate\",\"dst_host_srv_rerror_rate\",\"classes\",\"difficulty_level\"]\n",
    "\n",
    "#print (col_names.tolist())\n",
    "\n",
    "# data_url = \"gs://dataproc-staging-us-east1-358350887320-z748jysx/KDDTrain+.txt\"\n",
    "# spark.sparkContext.addFile(data_url)\n",
    "df = spark.read.csv(\"gs://dataproc-staging-us-east1-358350887320-z748jysx/KDDTrain+.txt\",header=False, inferSchema= True).toDF(*col_names)\n",
    "# If you want to read file on the filesystem, use spark.read.csv(fileLocation, header=False, inferSchema=True)"
   ]
  },
  {
   "cell_type": "code",
   "execution_count": 4,
   "id": "10b0b2b9",
   "metadata": {
    "scrolled": true
   },
   "outputs": [
    {
     "name": "stdout",
     "output_type": "stream",
     "text": [
      "root\n",
      " |-- duration: integer (nullable = true)\n",
      " |-- protocol_type: string (nullable = true)\n",
      " |-- service: string (nullable = true)\n",
      " |-- flag: string (nullable = true)\n",
      " |-- src_bytes: integer (nullable = true)\n",
      " |-- dst_bytes: integer (nullable = true)\n",
      " |-- land: integer (nullable = true)\n",
      " |-- wrong_fragment: integer (nullable = true)\n",
      " |-- urgent: integer (nullable = true)\n",
      " |-- hot: integer (nullable = true)\n",
      " |-- num_failed_logins: integer (nullable = true)\n",
      " |-- logged_in: integer (nullable = true)\n",
      " |-- num_compromised: integer (nullable = true)\n",
      " |-- root_shell: integer (nullable = true)\n",
      " |-- su_attempted: integer (nullable = true)\n",
      " |-- num_root: integer (nullable = true)\n",
      " |-- num_file_creations: integer (nullable = true)\n",
      " |-- num_shells: integer (nullable = true)\n",
      " |-- num_access_files: integer (nullable = true)\n",
      " |-- num_outbound_cmds: integer (nullable = true)\n",
      " |-- is_host_login: integer (nullable = true)\n",
      " |-- is_guest_login: integer (nullable = true)\n",
      " |-- count: integer (nullable = true)\n",
      " |-- srv_count: integer (nullable = true)\n",
      " |-- serror_rate: double (nullable = true)\n",
      " |-- srv_serror_rate: double (nullable = true)\n",
      " |-- rerror_rate: double (nullable = true)\n",
      " |-- srv_rerror_rate: double (nullable = true)\n",
      " |-- same_srv_rate: double (nullable = true)\n",
      " |-- diff_srv_rate: double (nullable = true)\n",
      " |-- srv_diff_host_rate: double (nullable = true)\n",
      " |-- dst_host_count: integer (nullable = true)\n",
      " |-- dst_host_srv_count: integer (nullable = true)\n",
      " |-- dst_host_same_srv_rate: double (nullable = true)\n",
      " |-- dst_host_diff_srv_rate: double (nullable = true)\n",
      " |-- dst_host_same_src_port_rate: double (nullable = true)\n",
      " |-- dst_host_srv_diff_host_rate: double (nullable = true)\n",
      " |-- dst_host_serror_rate: double (nullable = true)\n",
      " |-- dst_host_srv_serror_rate: double (nullable = true)\n",
      " |-- dst_host_rerror_rate: double (nullable = true)\n",
      " |-- dst_host_srv_rerror_rate: double (nullable = true)\n",
      " |-- classes: string (nullable = true)\n",
      " |-- difficulty_level: integer (nullable = true)\n",
      "\n"
     ]
    }
   ],
   "source": [
    "df.printSchema()"
   ]
  },
  {
   "cell_type": "code",
   "execution_count": 5,
   "id": "57e4d226",
   "metadata": {},
   "outputs": [
    {
     "name": "stdout",
     "output_type": "stream",
     "text": [
      "['duration', 'protocol_type', 'service', 'flag', 'src_bytes', 'dst_bytes', 'land', 'wrong_fragment', 'urgent', 'hot', 'num_failed_logins', 'logged_in', 'num_compromised', 'root_shell', 'su_attempted', 'num_root', 'num_file_creations', 'num_shells', 'num_access_files', 'num_outbound_cmds', 'is_host_login', 'is_guest_login', 'count', 'srv_count', 'serror_rate', 'srv_serror_rate', 'rerror_rate', 'srv_rerror_rate', 'same_srv_rate', 'diff_srv_rate', 'srv_diff_host_rate', 'dst_host_count', 'dst_host_srv_count', 'dst_host_same_srv_rate', 'dst_host_diff_srv_rate', 'dst_host_same_src_port_rate', 'dst_host_srv_diff_host_rate', 'dst_host_serror_rate', 'dst_host_srv_serror_rate', 'dst_host_rerror_rate', 'dst_host_srv_rerror_rate', 'classes', 'difficulty_level']\n"
     ]
    }
   ],
   "source": [
    "print(df.columns)"
   ]
  },
  {
   "cell_type": "code",
   "execution_count": 6,
   "id": "775fa73f",
   "metadata": {},
   "outputs": [
    {
     "name": "stderr",
     "output_type": "stream",
     "text": [
      "[Stage 2:===========================================================(2 + 0) / 2]\r"
     ]
    },
    {
     "name": "stdout",
     "output_type": "stream",
     "text": [
      "125973\n"
     ]
    },
    {
     "name": "stderr",
     "output_type": "stream",
     "text": [
      "                                                                                \r"
     ]
    }
   ],
   "source": [
    "print(df.count())"
   ]
  },
  {
   "cell_type": "code",
   "execution_count": 7,
   "id": "654a1ba8",
   "metadata": {},
   "outputs": [
    {
     "name": "stderr",
     "output_type": "stream",
     "text": [
      "22/10/03 00:19:50 WARN org.apache.spark.sql.catalyst.util.package: Truncated the string representation of a plan since it was too large. This behavior can be adjusted by setting 'spark.sql.debug.maxToStringFields'.\n"
     ]
    },
    {
     "name": "stdout",
     "output_type": "stream",
     "text": [
      "-RECORD 0-------------------------------\n",
      " duration                    | 0        \n",
      " protocol_type               | tcp      \n",
      " service                     | ftp_data \n",
      " flag                        | SF       \n",
      " src_bytes                   | 491      \n",
      " dst_bytes                   | 0        \n",
      " land                        | 0        \n",
      " wrong_fragment              | 0        \n",
      " urgent                      | 0        \n",
      " hot                         | 0        \n",
      " num_failed_logins           | 0        \n",
      " logged_in                   | 0        \n",
      " num_compromised             | 0        \n",
      " root_shell                  | 0        \n",
      " su_attempted                | 0        \n",
      " num_root                    | 0        \n",
      " num_file_creations          | 0        \n",
      " num_shells                  | 0        \n",
      " num_access_files            | 0        \n",
      " num_outbound_cmds           | 0        \n",
      " is_host_login               | 0        \n",
      " is_guest_login              | 0        \n",
      " count                       | 2        \n",
      " srv_count                   | 2        \n",
      " serror_rate                 | 0.0      \n",
      " srv_serror_rate             | 0.0      \n",
      " rerror_rate                 | 0.0      \n",
      " srv_rerror_rate             | 0.0      \n",
      " same_srv_rate               | 1.0      \n",
      " diff_srv_rate               | 0.0      \n",
      " srv_diff_host_rate          | 0.0      \n",
      " dst_host_count              | 150      \n",
      " dst_host_srv_count          | 25       \n",
      " dst_host_same_srv_rate      | 0.17     \n",
      " dst_host_diff_srv_rate      | 0.03     \n",
      " dst_host_same_src_port_rate | 0.17     \n",
      " dst_host_srv_diff_host_rate | 0.0      \n",
      " dst_host_serror_rate        | 0.0      \n",
      " dst_host_srv_serror_rate    | 0.0      \n",
      " dst_host_rerror_rate        | 0.05     \n",
      " dst_host_srv_rerror_rate    | 0.0      \n",
      " classes                     | normal   \n",
      " difficulty_level            | 20       \n",
      "only showing top 1 row\n",
      "\n"
     ]
    }
   ],
   "source": [
    "df.show(1, vertical=True)"
   ]
  },
  {
   "cell_type": "code",
   "execution_count": 8,
   "id": "fd26ceb0",
   "metadata": {},
   "outputs": [
    {
     "name": "stdout",
     "output_type": "stream",
     "text": [
      "+--------+-------------+--------+-------+----------------+\n",
      "|duration|protocol_type| service|classes|difficulty_level|\n",
      "+--------+-------------+--------+-------+----------------+\n",
      "|       0|          tcp|ftp_data| normal|              20|\n",
      "|       0|          udp|   other| normal|              15|\n",
      "|       0|          tcp| private|neptune|              19|\n",
      "|       0|          tcp|    http| normal|              21|\n",
      "|       0|          tcp|    http| normal|              21|\n",
      "+--------+-------------+--------+-------+----------------+\n",
      "only showing top 5 rows\n",
      "\n"
     ]
    }
   ],
   "source": [
    "small_df = df.select(\"duration\",\"protocol_type\",\"service\",\"classes\",\"difficulty_level\")\n",
    "small_df.show(5)"
   ]
  },
  {
   "cell_type": "markdown",
   "id": "769efbd4",
   "metadata": {},
   "source": [
    "## Question 2"
   ]
  },
  {
   "cell_type": "code",
   "execution_count": 9,
   "id": "2697bca5",
   "metadata": {},
   "outputs": [],
   "source": [
    "selected_columns = [column for column in df.columns if column.startswith(\"dst\")]\n",
    "df2 = df.select(selected_columns)"
   ]
  },
  {
   "cell_type": "code",
   "execution_count": 10,
   "id": "98aff961",
   "metadata": {},
   "outputs": [
    {
     "name": "stdout",
     "output_type": "stream",
     "text": [
      "['dst_bytes', 'dst_host_count', 'dst_host_srv_count', 'dst_host_same_srv_rate', 'dst_host_diff_srv_rate', 'dst_host_same_src_port_rate', 'dst_host_srv_diff_host_rate', 'dst_host_serror_rate', 'dst_host_srv_serror_rate', 'dst_host_rerror_rate', 'dst_host_srv_rerror_rate']\n"
     ]
    }
   ],
   "source": [
    "print(df2.columns)"
   ]
  },
  {
   "cell_type": "markdown",
   "id": "67dcabc9",
   "metadata": {},
   "source": [
    "## Question 3"
   ]
  },
  {
   "cell_type": "code",
   "execution_count": 11,
   "id": "13264b25",
   "metadata": {},
   "outputs": [
    {
     "name": "stderr",
     "output_type": "stream",
     "text": [
      "[Stage 7:>                                                          (0 + 2) / 2]\r"
     ]
    },
    {
     "name": "stdout",
     "output_type": "stream",
     "text": [
      "+-------------+------+\n",
      "|protocol_type| count|\n",
      "+-------------+------+\n",
      "|          tcp|102689|\n",
      "|          udp| 14993|\n",
      "|         icmp|  8291|\n",
      "+-------------+------+\n",
      "\n"
     ]
    },
    {
     "name": "stderr",
     "output_type": "stream",
     "text": [
      "                                                                                \r"
     ]
    }
   ],
   "source": [
    "# Count of protocol_type for all users:\n",
    "df.groupBy('protocol_type').count().show()"
   ]
  },
  {
   "cell_type": "code",
   "execution_count": 20,
   "id": "11401cdb",
   "metadata": {},
   "outputs": [
    {
     "name": "stdout",
     "output_type": "stream",
     "text": [
      "+-------------+-----+\n",
      "|protocol_type|count|\n",
      "+-------------+-----+\n",
      "|          tcp|49852|\n",
      "+-------------+-----+\n",
      "\n"
     ]
    },
    {
     "name": "stderr",
     "output_type": "stream",
     "text": [
      "                                                                                \r"
     ]
    }
   ],
   "source": [
    "# Count of protocol_type for logged in users:\n",
    "\n",
    "\n",
    "df.where(df.logged_in == 1).groupBy('protocol_type').count().show()"
   ]
  },
  {
   "cell_type": "code",
   "execution_count": 21,
   "id": "765a9ba6",
   "metadata": {},
   "outputs": [
    {
     "name": "stdout",
     "output_type": "stream",
     "text": [
      "+-------------+-----+\n",
      "|protocol_type|count|\n",
      "+-------------+-----+\n",
      "|          tcp|52837|\n",
      "|          udp|14993|\n",
      "|         icmp| 8291|\n",
      "+-------------+-----+\n",
      "\n"
     ]
    }
   ],
   "source": [
    "# Count of protocol_type for non-logged in users:\n",
    "\n",
    "\n",
    "df.where(df.logged_in == 0).groupBy('protocol_type').count().show()"
   ]
  },
  {
   "cell_type": "markdown",
   "id": "c853b2fd",
   "metadata": {},
   "source": [
    "## Question 4"
   ]
  },
  {
   "cell_type": "code",
   "execution_count": 34,
   "id": "ef36fd69",
   "metadata": {},
   "outputs": [],
   "source": [
    "from pyspark.sql.functions import lit\n",
    "\n",
    "df3 = df.where(df.is_host_login == 1).withColumn('protocol_type', lit('tcp'))"
   ]
  },
  {
   "cell_type": "code",
   "execution_count": 35,
   "id": "5deee3f4",
   "metadata": {
    "scrolled": true
   },
   "outputs": [
    {
     "name": "stdout",
     "output_type": "stream",
     "text": [
      "-RECORD 0-----------------------------\n",
      " duration                    | 49     \n",
      " protocol_type               | tcp    \n",
      " service                     | telnet \n",
      " flag                        | SF     \n",
      " src_bytes                   | 187    \n",
      " dst_bytes                   | 7751   \n",
      " land                        | 0      \n",
      " wrong_fragment              | 0      \n",
      " urgent                      | 0      \n",
      " hot                         | 1      \n",
      " num_failed_logins           | 0      \n",
      " logged_in                   | 1      \n",
      " num_compromised             | 10     \n",
      " root_shell                  | 0      \n",
      " su_attempted                | 0      \n",
      " num_root                    | 10     \n",
      " num_file_creations          | 0      \n",
      " num_shells                  | 0      \n",
      " num_access_files            | 0      \n",
      " num_outbound_cmds           | 0      \n",
      " is_host_login               | 1      \n",
      " is_guest_login              | 0      \n",
      " count                       | 1      \n",
      " srv_count                   | 1      \n",
      " serror_rate                 | 0.0    \n",
      " srv_serror_rate             | 0.0    \n",
      " rerror_rate                 | 0.0    \n",
      " srv_rerror_rate             | 0.0    \n",
      " same_srv_rate               | 1.0    \n",
      " diff_srv_rate               | 0.0    \n",
      " srv_diff_host_rate          | 0.0    \n",
      " dst_host_count              | 255    \n",
      " dst_host_srv_count          | 18     \n",
      " dst_host_same_srv_rate      | 0.07   \n",
      " dst_host_diff_srv_rate      | 0.58   \n",
      " dst_host_same_src_port_rate | 0.0    \n",
      " dst_host_srv_diff_host_rate | 0.0    \n",
      " dst_host_serror_rate        | 0.58   \n",
      " dst_host_srv_serror_rate    | 0.17   \n",
      " dst_host_rerror_rate        | 0.0    \n",
      " dst_host_srv_rerror_rate    | 0.06   \n",
      " classes                     | normal \n",
      " difficulty_level            | 17     \n",
      "\n"
     ]
    }
   ],
   "source": [
    "df3.show(vertical=True)"
   ]
  },
  {
   "cell_type": "markdown",
   "id": "15685779",
   "metadata": {},
   "source": [
    "## Question 5"
   ]
  },
  {
   "cell_type": "code",
   "execution_count": 116,
   "id": "42c901f0",
   "metadata": {},
   "outputs": [
    {
     "name": "stdout",
     "output_type": "stream",
     "text": [
      "The most frequent attack is:\n",
      "+-------+-----+\n",
      "|classes|count|\n",
      "+-------+-----+\n",
      "|neptune|41214|\n",
      "+-------+-----+\n",
      "\n"
     ]
    }
   ],
   "source": [
    "import pyspark.sql.functions as F\n",
    "from pyspark.sql.functions import count, col\n",
    "\n",
    "# Group by class and count the occurence of each type of attack\n",
    "attacks = df.select('classes').where(df.classes != 'normal').groupBy('classes').agg(count('*').alias(\"count\"))\n",
    "\n",
    "# Find the maximum of the previous count (highest frequency)\n",
    "max_attacks = attacks.agg(F.max('count'))\n",
    "print(\"The most frequent attack is:\")\n",
    "\n",
    "# Join find the most frequent attack by joining the attack counts where the count is equal to the obtained maximum.\n",
    "attacks.join(max_attacks, col('count') == col('max(count)')).select('classes','count').show()\n"
   ]
  },
  {
   "cell_type": "markdown",
   "id": "e5e4d3c8",
   "metadata": {},
   "source": [
    "## Question 6"
   ]
  },
  {
   "cell_type": "code",
   "execution_count": 117,
   "id": "9269fecc",
   "metadata": {},
   "outputs": [],
   "source": [
    "df4 = df.withColumnRenamed('flag', 'indicator')"
   ]
  },
  {
   "cell_type": "code",
   "execution_count": 118,
   "id": "9b3eb93f",
   "metadata": {
    "scrolled": true
   },
   "outputs": [
    {
     "data": {
      "text/plain": [
       "['duration',\n",
       " 'protocol_type',\n",
       " 'service',\n",
       " 'indicator',\n",
       " 'src_bytes',\n",
       " 'dst_bytes',\n",
       " 'land',\n",
       " 'wrong_fragment',\n",
       " 'urgent',\n",
       " 'hot',\n",
       " 'num_failed_logins',\n",
       " 'logged_in',\n",
       " 'num_compromised',\n",
       " 'root_shell',\n",
       " 'su_attempted',\n",
       " 'num_root',\n",
       " 'num_file_creations',\n",
       " 'num_shells',\n",
       " 'num_access_files',\n",
       " 'num_outbound_cmds',\n",
       " 'is_host_login',\n",
       " 'is_guest_login',\n",
       " 'count',\n",
       " 'srv_count',\n",
       " 'serror_rate',\n",
       " 'srv_serror_rate',\n",
       " 'rerror_rate',\n",
       " 'srv_rerror_rate',\n",
       " 'same_srv_rate',\n",
       " 'diff_srv_rate',\n",
       " 'srv_diff_host_rate',\n",
       " 'dst_host_count',\n",
       " 'dst_host_srv_count',\n",
       " 'dst_host_same_srv_rate',\n",
       " 'dst_host_diff_srv_rate',\n",
       " 'dst_host_same_src_port_rate',\n",
       " 'dst_host_srv_diff_host_rate',\n",
       " 'dst_host_serror_rate',\n",
       " 'dst_host_srv_serror_rate',\n",
       " 'dst_host_rerror_rate',\n",
       " 'dst_host_srv_rerror_rate',\n",
       " 'classes',\n",
       " 'difficulty_level']"
      ]
     },
     "execution_count": 118,
     "metadata": {},
     "output_type": "execute_result"
    }
   ],
   "source": [
    "df4.columns"
   ]
  }
 ],
 "metadata": {
  "kernelspec": {
   "display_name": "Python 3 (ipykernel)",
   "language": "python",
   "name": "python3"
  },
  "language_info": {
   "codemirror_mode": {
    "name": "ipython",
    "version": 3
   },
   "file_extension": ".py",
   "mimetype": "text/x-python",
   "name": "python",
   "nbconvert_exporter": "python",
   "pygments_lexer": "ipython3",
   "version": "3.10.6"
  }
 },
 "nbformat": 4,
 "nbformat_minor": 5
}
