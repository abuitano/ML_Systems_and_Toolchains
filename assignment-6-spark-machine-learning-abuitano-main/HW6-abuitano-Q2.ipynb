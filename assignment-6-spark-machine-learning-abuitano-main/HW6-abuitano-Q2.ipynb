{
 "cells": [
  {
   "cell_type": "code",
   "execution_count": 58,
   "id": "ba203aee",
   "metadata": {},
   "outputs": [],
   "source": [
    "import pyspark\n",
    "from pyspark.sql import SparkSession, SQLContext\n",
    "from pyspark.ml import Pipeline,Transformer\n",
    "from pyspark.ml.feature import Imputer,StandardScaler,StringIndexer,OneHotEncoder, VectorAssembler\n",
    "from pyspark.ml.classification import LogisticRegression\n",
    "from pyspark.ml.tuning import ParamGridBuilder, CrossValidator\n",
    "from pyspark.ml.evaluation import BinaryClassificationEvaluator, MulticlassClassificationEvaluator\n",
    "\n",
    "from pyspark.sql.functions import *\n",
    "from pyspark.sql.types import *\n",
    "import numpy as np\n",
    "\n",
    "col_names = [\"duration\",\"protocol_type\",\"service\",\"flag\",\"src_bytes\",\n",
    "\"dst_bytes\",\"land\",\"wrong_fragment\",\"urgent\",\"hot\",\"num_failed_logins\",\n",
    "\"logged_in\",\"num_compromised\",\"root_shell\",\"su_attempted\",\"num_root\",\n",
    "\"num_file_creations\",\"num_shells\",\"num_access_files\",\"num_outbound_cmds\",\n",
    "\"is_host_login\",\"is_guest_login\",\"count\",\"srv_count\",\"serror_rate\",\n",
    "\"srv_serror_rate\",\"rerror_rate\",\"srv_rerror_rate\",\"same_srv_rate\",\n",
    "\"diff_srv_rate\",\"srv_diff_host_rate\",\"dst_host_count\",\"dst_host_srv_count\",\n",
    "\"dst_host_same_srv_rate\",\"dst_host_diff_srv_rate\",\"dst_host_same_src_port_rate\",\n",
    "\"dst_host_srv_diff_host_rate\",\"dst_host_serror_rate\",\"dst_host_srv_serror_rate\",\n",
    "\"dst_host_rerror_rate\",\"dst_host_srv_rerror_rate\",\"class\",\"difficulty\"]\n",
    "\n",
    "nominal_cols = ['protocol_type','service','flag']\n",
    "binary_cols = ['land', 'logged_in', 'root_shell', 'su_attempted', 'is_host_login',\n",
    "'is_guest_login']\n",
    "continuous_cols = ['duration' ,'src_bytes', 'dst_bytes', 'wrong_fragment' ,'urgent', 'hot',\n",
    "'num_failed_logins', 'num_compromised', 'num_root' ,'num_file_creations',\n",
    "'num_shells', 'num_access_files', 'num_outbound_cmds', 'count' ,'srv_count',\n",
    "'serror_rate', 'srv_serror_rate' ,'rerror_rate' ,'srv_rerror_rate',\n",
    "'same_srv_rate', 'diff_srv_rate', 'srv_diff_host_rate' ,'dst_host_count',\n",
    "'dst_host_srv_count' ,'dst_host_same_srv_rate' ,'dst_host_diff_srv_rate',\n",
    "'dst_host_same_src_port_rate' ,'dst_host_srv_diff_host_rate',\n",
    "'dst_host_serror_rate' ,'dst_host_srv_serror_rate', 'dst_host_rerror_rate',\n",
    "'dst_host_srv_rerror_rate']\n",
    "\n",
    "class OutcomeCreater(Transformer): # this defines a transformer that creates the outcome column\n",
    "    \n",
    "    def __init__(self):\n",
    "        super().__init__()\n",
    "\n",
    "    def _transform(self, dataset):\n",
    "        dos = ['apache2', 'back', 'land', 'neptune', \n",
    "               'mailbomb', 'pod', 'processtable', 'smurf', 'teardrop', 'udpstorm', 'worm']\n",
    "        probe = ['ipsweep', 'mscan', 'nmap', 'portsweep', 'saint', 'satan']\n",
    "        u2r = ['buffer_overflow', 'loadmodule', 'perl', 'ps', 'rootkit', 'sqlattack', 'xterm']\n",
    "        r2l = ['ftp_write', 'guess_passwd', 'httptunnel', 'imap', 'multihop', 'named', \n",
    "               'phf', 'sendmail', 'snmpgetattack', 'spy', 'snmpguess', 'warezclient', \n",
    "               'warezmaster', 'xlock', 'xsnoop']\n",
    "        label_to_binary = udf(lambda name: 0.0 if name == 'normal' else \n",
    "                              (1.0 if name in dos else \n",
    "                               (2.0 if name in probe else \n",
    "                                (3.0 if name in u2r else 4.0))))\n",
    "        output_df = dataset.withColumn('outcome', label_to_binary(col('class'))).drop(\"class\")  \n",
    "        output_df = output_df.withColumn('outcome', col('outcome').cast(DoubleType()))\n",
    "        output_df = output_df.drop('difficulty')\n",
    "        return output_df\n",
    "\n",
    "class FeatureTypeCaster(Transformer): # this transformer will cast the columns as appropriate types  \n",
    "    def __init__(self):\n",
    "        super().__init__()\n",
    "\n",
    "    def _transform(self, dataset):\n",
    "        output_df = dataset\n",
    "        for col_name in binary_cols + continuous_cols:\n",
    "            output_df = output_df.withColumn(col_name,col(col_name).cast(DoubleType()))\n",
    "\n",
    "        return output_df\n",
    "class ColumnDropper(Transformer): # this transformer drops unnecessary columns\n",
    "    def __init__(self, columns_to_drop = None):\n",
    "        super().__init__()\n",
    "        self.columns_to_drop=columns_to_drop\n",
    "    def _transform(self, dataset):\n",
    "        output_df = dataset\n",
    "        for col_name in self.columns_to_drop:\n",
    "            output_df = output_df.drop(col_name)\n",
    "        return output_df\n",
    "\n",
    "def get_preprocess_pipeline():\n",
    "    # Stage where columns are casted as appropriate types\n",
    "    stage_typecaster = FeatureTypeCaster()\n",
    "\n",
    "    # Stage where nominal columns are transformed to index columns using StringIndexer\n",
    "    nominal_id_cols = [x+\"_index\" for x in nominal_cols]\n",
    "    nominal_onehot_cols = [x+\"_encoded\" for x in nominal_cols]\n",
    "    stage_nominal_indexer = StringIndexer(inputCols = nominal_cols, outputCols = nominal_id_cols )\n",
    "\n",
    "    # Stage where the index columns are further transformed using OneHotEncoder\n",
    "    stage_nominal_onehot_encoder = OneHotEncoder(inputCols=nominal_id_cols, outputCols=nominal_onehot_cols)\n",
    "\n",
    "    # Stage where all relevant features are assembled into a vector (and dropping a few)\n",
    "    feature_cols = continuous_cols+binary_cols+nominal_onehot_cols\n",
    "    corelated_cols_to_remove = [\"dst_host_serror_rate\",\"srv_serror_rate\",\"dst_host_srv_serror_rate\",\n",
    "                     \"srv_rerror_rate\",\"dst_host_rerror_rate\",\"dst_host_srv_rerror_rate\"]\n",
    "    for col_name in corelated_cols_to_remove:\n",
    "        feature_cols.remove(col_name)\n",
    "    stage_vector_assembler = VectorAssembler(inputCols=feature_cols, outputCol=\"vectorized_features\")\n",
    "\n",
    "    # Stage where we scale the columns\n",
    "    stage_scaler = StandardScaler(inputCol= 'vectorized_features', outputCol= 'features')\n",
    "    \n",
    "\n",
    "    # Stage for creating the outcome column representing whether there is attack \n",
    "    stage_outcome = OutcomeCreater()\n",
    "\n",
    "    # Removing all unnecessary columbs, only keeping the 'features' and 'outcome' columns\n",
    "    stage_column_dropper = ColumnDropper(columns_to_drop = nominal_cols+nominal_id_cols+\n",
    "        nominal_onehot_cols+ binary_cols + continuous_cols + ['vectorized_features'])\n",
    "    \n",
    "\n",
    "    # Connect the columns into a pipeline\n",
    "    pipeline = Pipeline(stages=[stage_typecaster,stage_nominal_indexer,stage_nominal_onehot_encoder,\n",
    "        stage_vector_assembler,stage_scaler,stage_outcome,stage_column_dropper])\n",
    "    \n",
    "    return pipeline "
   ]
  },
  {
   "cell_type": "code",
   "execution_count": 59,
   "id": "ca16b4b7",
   "metadata": {},
   "outputs": [
    {
     "name": "stderr",
     "output_type": "stream",
     "text": [
      "\r",
      "[Stage 12146:===========>                                           (1 + 4) / 5]\r",
      "\r",
      "                                                                                \r"
     ]
    }
   ],
   "source": [
    "spark = SparkSession.builder \\\n",
    "    .master(\"local[*]\") \\\n",
    "    .appName(\"GenericAppName\") \\\n",
    "    .getOrCreate()\n",
    "\n",
    "nslkdd_raw = spark.read.csv('../NSL-KDD/KDDTrain+.txt',header=False).toDF(*col_names)\n",
    "nslkdd_test_raw = spark.read.csv('../NSL-KDD/KDDTest+.txt',header=False).toDF(*col_names)\n",
    "\n",
    "preprocess_pipeline = get_preprocess_pipeline()\n",
    "preprocess_pipeline_model = preprocess_pipeline.fit(nslkdd_raw)\n",
    "\n",
    "nslkdd_df = preprocess_pipeline_model.transform(nslkdd_raw)\n",
    "nslkdd_df_test = preprocess_pipeline_model.transform(nslkdd_test_raw)\n"
   ]
  },
  {
   "cell_type": "code",
   "execution_count": 60,
   "id": "7e18e676",
   "metadata": {},
   "outputs": [
    {
     "name": "stdout",
     "output_type": "stream",
     "text": [
      "root\n",
      " |-- features: vector (nullable = true)\n",
      " |-- outcome: double (nullable = true)\n",
      "\n"
     ]
    }
   ],
   "source": [
    "nslkdd_df.printSchema()"
   ]
  },
  {
   "cell_type": "code",
   "execution_count": 61,
   "id": "f6115860",
   "metadata": {},
   "outputs": [
    {
     "name": "stdout",
     "output_type": "stream",
     "text": [
      "+-------+-----+\n",
      "|outcome|count|\n",
      "+-------+-----+\n",
      "|    0.0|67343|\n",
      "|    1.0|45927|\n",
      "|    4.0|  995|\n",
      "|    3.0|   52|\n",
      "|    2.0|11656|\n",
      "+-------+-----+\n",
      "\n"
     ]
    }
   ],
   "source": [
    "nslkdd_df.groupBy('outcome').count().show()"
   ]
  },
  {
   "cell_type": "markdown",
   "id": "62515df8",
   "metadata": {},
   "source": [
    "# Using Random Forest model"
   ]
  },
  {
   "cell_type": "code",
   "execution_count": 62,
   "id": "f7d06093",
   "metadata": {},
   "outputs": [
    {
     "name": "stderr",
     "output_type": "stream",
     "text": [
      "                                                                                \r"
     ]
    }
   ],
   "source": [
    "from pyspark.ml.classification import RandomForestClassifier\n",
    "\n",
    "rf = RandomForestClassifier(featuresCol = 'features', labelCol = 'outcome')\n",
    "rf_model = rf.fit(nslkdd_df)\n",
    "\n"
   ]
  },
  {
   "cell_type": "code",
   "execution_count": 63,
   "id": "c553dbe1",
   "metadata": {},
   "outputs": [
    {
     "name": "stderr",
     "output_type": "stream",
     "text": [
      "                                                                                \r"
     ]
    },
    {
     "name": "stdout",
     "output_type": "stream",
     "text": [
      "Train accuracy = 96.46%, test accuracy = 71.72%\n"
     ]
    }
   ],
   "source": [
    "evaluator = MulticlassClassificationEvaluator(\n",
    "    labelCol=\"outcome\", predictionCol=\"prediction\", metricName=\"accuracy\")\n",
    "\n",
    "\n",
    "rf_prediction_train = rf_model.transform(nslkdd_df)\n",
    "rf_prediction_test = rf_model.transform(nslkdd_df_test)\n",
    "\n",
    "rf_accuracy_train = evaluator.evaluate(rf_prediction_train)\n",
    "rf_accuracy_test = evaluator.evaluate(rf_prediction_test)\n",
    "\n",
    "\n",
    "print(f\"Train accuracy = {np.round(rf_accuracy_train*100,2)}%, test accuracy = {np.round(rf_accuracy_test*100,2)}%\")"
   ]
  },
  {
   "cell_type": "code",
   "execution_count": 64,
   "id": "bf65dfb6",
   "metadata": {},
   "outputs": [],
   "source": [
    "import matplotlib.pyplot as plt\n",
    "import numpy as np\n",
    "from sklearn.metrics import confusion_matrix\n",
    "\n",
    "import itertools\n",
    "def plot_confusion_matrix(cm, classes,\n",
    "                          normalize=False,\n",
    "                          title='Confusion matrix',\n",
    "                          cmap=plt.cm.Blues):\n",
    "    \"\"\"\n",
    "    This function prints and plots the confusion matrix.\n",
    "    Normalization can be applied by setting `normalize=True`.\n",
    "    \"\"\"\n",
    "    if normalize:\n",
    "        cm = cm.astype('float') / cm.sum(axis=1)[:, np.newaxis]\n",
    "        print(\"Normalized confusion matrix\")\n",
    "    else:\n",
    "        print('Confusion matrix, without normalization')\n",
    "\n",
    "    print(cm)\n",
    "\n",
    "    plt.imshow(cm, interpolation='nearest', cmap=cmap)\n",
    "    plt.title(title)\n",
    "    plt.colorbar()\n",
    "    tick_marks = np.arange(len(classes))\n",
    "    plt.xticks(tick_marks, classes, rotation=45)\n",
    "    plt.yticks(tick_marks, classes)\n",
    "\n",
    "    fmt = '.2f' if normalize else 'd'\n",
    "    thresh = cm.max() / 2.\n",
    "    for i, j in itertools.product(range(cm.shape[0]), range(cm.shape[1])):\n",
    "        plt.text(j, i, format(cm[i, j], fmt),\n",
    "                 horizontalalignment=\"center\",\n",
    "                 color=\"white\" if cm[i, j] > thresh else \"black\")\n",
    "\n",
    "    plt.tight_layout()\n",
    "    plt.ylabel('True label')\n",
    "    plt.xlabel('Predicted label')"
   ]
  },
  {
   "cell_type": "code",
   "execution_count": 65,
   "id": "f4b2fc41",
   "metadata": {},
   "outputs": [
    {
     "name": "stdout",
     "output_type": "stream",
     "text": [
      "Confusion matrix, without normalization\n",
      "[[9516    3  192    0    0]\n",
      " [2199 5256    5    0    0]\n",
      " [ 673  351 1397    0    0]\n",
      " [  67    0    0    0    0]\n",
      " [2839    0   46    0    0]]\n"
     ]
    },
    {
     "data": {
      "image/png": "[encoded data removed]",
      "text/plain": [
       "<Figure size 640x480 with 2 Axes>"
      ]
     },
     "metadata": {},
     "output_type": "display_data"
    }
   ],
   "source": [
    "class_names=[0.0,1.0, 2.0, 3.0, 4.0]\n",
    "class_names_str=[\"negative (normal)\",\"positive (DoS)\", \"positive (Probe)\", \"positive (U2R)\", \"positive (R2L)\"]\n",
    "\n",
    "outcome_true = rf_prediction_test.select(\"outcome\")\n",
    "outcome_true = outcome_true.toPandas()\n",
    "\n",
    "pred = rf_prediction_test.select(\"prediction\")\n",
    "pred = pred.toPandas()\n",
    "\n",
    "cnf_matrix = confusion_matrix(outcome_true, pred,labels=class_names)\n",
    "#cnf_matrix\n",
    "plt.figure()\n",
    "plot_confusion_matrix(cnf_matrix, classes=class_names_str,\n",
    "                      title='Confusion matrix')\n",
    "plt.show()"
   ]
  },
  {
   "cell_type": "markdown",
   "id": "ebdda624",
   "metadata": {},
   "source": [
    "# Using Random Naive Bayes"
   ]
  },
  {
   "cell_type": "code",
   "execution_count": 66,
   "id": "1da84e27",
   "metadata": {},
   "outputs": [
    {
     "name": "stderr",
     "output_type": "stream",
     "text": [
      "                                                                                \r"
     ]
    }
   ],
   "source": [
    "from pyspark.ml.classification import NaiveBayes\n",
    "\n",
    "nb = NaiveBayes(featuresCol = 'features', labelCol = 'outcome', modelType = \"gaussian\" )\n",
    "nb_model = nb.fit(nslkdd_df)\n",
    "\n"
   ]
  },
  {
   "cell_type": "code",
   "execution_count": 67,
   "id": "36f91eab",
   "metadata": {},
   "outputs": [
    {
     "name": "stderr",
     "output_type": "stream",
     "text": [
      "                                                                                \r"
     ]
    },
    {
     "name": "stdout",
     "output_type": "stream",
     "text": [
      "Train accuracy = 61.48%, test accuracy = 39.2%\n"
     ]
    }
   ],
   "source": [
    "nb_prediction_train = nb_model.transform(nslkdd_df)\n",
    "nb_prediction_test = nb_model.transform(nslkdd_df_test)\n",
    "\n",
    "nb_accuracy_train = evaluator.evaluate(nb_prediction_train)\n",
    "nb_accuracy_test = evaluator.evaluate(nb_prediction_test)\n",
    "\n",
    "\n",
    "print(f\"Train accuracy = {np.round(nb_accuracy_train*100,2)}%, test accuracy = {np.round(nb_accuracy_test*100,2)}%\")\n"
   ]
  },
  {
   "cell_type": "code",
   "execution_count": 68,
   "id": "cfd1a993",
   "metadata": {},
   "outputs": [
    {
     "name": "stdout",
     "output_type": "stream",
     "text": [
      "Confusion matrix, without normalization\n",
      "[[5345   57   10  328 3971]\n",
      " [3751 2470    0   59 1180]\n",
      " [1570  277  103  138  333]\n",
      " [   5    0    0   58    4]\n",
      " [1393    3    6  622  861]]\n"
     ]
    },
    {
     "data": {
      "image/png": "[encoded data removed]",
      "text/plain": [
       "<Figure size 640x480 with 2 Axes>"
      ]
     },
     "metadata": {},
     "output_type": "display_data"
    }
   ],
   "source": [
    "outcome_true = nb_prediction_test.select(\"outcome\")\n",
    "outcome_true = outcome_true.toPandas()\n",
    "\n",
    "pred = nb_prediction_test.select(\"prediction\")\n",
    "pred = pred.toPandas()\n",
    "\n",
    "cnf_matrix = confusion_matrix(outcome_true, pred,labels=class_names)\n",
    "#cnf_matrix\n",
    "plt.figure()\n",
    "plot_confusion_matrix(cnf_matrix, classes=class_names_str,\n",
    "                      title='Confusion matrix')\n",
    "plt.show()"
   ]
  },
  {
   "cell_type": "markdown",
   "id": "c97b8c03",
   "metadata": {},
   "source": [
    "# Cross validation"
   ]
  },
  {
   "cell_type": "code",
   "execution_count": 57,
   "id": "e8393cd5",
   "metadata": {},
   "outputs": [
    {
     "name": "stderr",
     "output_type": "stream",
     "text": [
      "                                                                                \r"
     ]
    },
    {
     "name": "stdout",
     "output_type": "stream",
     "text": [
      "22/10/23 23:02:04 WARN DAGScheduler: Broadcasting large task binary with size 1035.1 KiB\n"
     ]
    },
    {
     "name": "stderr",
     "output_type": "stream",
     "text": [
      "\r",
      "[Stage 9536:===========>                                            (1 + 4) / 5]\r",
      "\r",
      "                                                                                \r"
     ]
    },
    {
     "name": "stdout",
     "output_type": "stream",
     "text": [
      "22/10/23 23:02:05 WARN DAGScheduler: Broadcasting large task binary with size 1382.9 KiB\n"
     ]
    },
    {
     "name": "stderr",
     "output_type": "stream",
     "text": [
      "                                                                                \r"
     ]
    },
    {
     "name": "stdout",
     "output_type": "stream",
     "text": [
      "22/10/23 23:02:06 WARN DAGScheduler: Broadcasting large task binary with size 1773.9 KiB\n"
     ]
    },
    {
     "name": "stderr",
     "output_type": "stream",
     "text": [
      "                                                                                \r"
     ]
    },
    {
     "name": "stdout",
     "output_type": "stream",
     "text": [
      "22/10/23 23:02:07 WARN DAGScheduler: Broadcasting large task binary with size 1225.7 KiB\n",
      "22/10/23 23:02:10 WARN DAGScheduler: Broadcasting large task binary with size 1073.1 KiB\n",
      "22/10/23 23:02:14 WARN DAGScheduler: Broadcasting large task binary with size 1164.2 KiB\n",
      "22/10/23 23:02:14 WARN DAGScheduler: Broadcasting large task binary with size 1361.6 KiB\n",
      "22/10/23 23:02:15 WARN DAGScheduler: Broadcasting large task binary with size 1551.3 KiB\n",
      "22/10/23 23:02:15 WARN DAGScheduler: Broadcasting large task binary with size 1725.3 KiB\n",
      "22/10/23 23:02:16 WARN DAGScheduler: Broadcasting large task binary with size 1883.5 KiB\n",
      "22/10/23 23:02:16 WARN DAGScheduler: Broadcasting large task binary with size 1152.1 KiB\n"
     ]
    },
    {
     "name": "stderr",
     "output_type": "stream",
     "text": [
      "                                                                                \r"
     ]
    },
    {
     "name": "stdout",
     "output_type": "stream",
     "text": [
      "22/10/23 23:02:21 WARN DAGScheduler: Broadcasting large task binary with size 1035.1 KiB\n"
     ]
    },
    {
     "name": "stderr",
     "output_type": "stream",
     "text": [
      "\r",
      "[Stage 9643:===========>                                            (1 + 4) / 5]\r",
      "\r",
      "                                                                                \r"
     ]
    },
    {
     "name": "stdout",
     "output_type": "stream",
     "text": [
      "22/10/23 23:02:22 WARN DAGScheduler: Broadcasting large task binary with size 1382.9 KiB\n"
     ]
    },
    {
     "name": "stderr",
     "output_type": "stream",
     "text": [
      "                                                                                \r"
     ]
    },
    {
     "name": "stdout",
     "output_type": "stream",
     "text": [
      "22/10/23 23:02:23 WARN DAGScheduler: Broadcasting large task binary with size 1773.9 KiB\n"
     ]
    },
    {
     "name": "stderr",
     "output_type": "stream",
     "text": [
      "                                                                                \r"
     ]
    },
    {
     "name": "stdout",
     "output_type": "stream",
     "text": [
      "22/10/23 23:02:24 WARN DAGScheduler: Broadcasting large task binary with size 2.1 MiB\n"
     ]
    },
    {
     "name": "stderr",
     "output_type": "stream",
     "text": [
      "                                                                                \r"
     ]
    },
    {
     "name": "stdout",
     "output_type": "stream",
     "text": [
      "22/10/23 23:02:25 WARN DAGScheduler: Broadcasting large task binary with size 2.5 MiB\n"
     ]
    },
    {
     "name": "stderr",
     "output_type": "stream",
     "text": [
      "                                                                                \r"
     ]
    },
    {
     "name": "stdout",
     "output_type": "stream",
     "text": [
      "22/10/23 23:02:26 WARN DAGScheduler: Broadcasting large task binary with size 2.9 MiB\n"
     ]
    },
    {
     "name": "stderr",
     "output_type": "stream",
     "text": [
      "                                                                                \r"
     ]
    },
    {
     "name": "stdout",
     "output_type": "stream",
     "text": [
      "22/10/23 23:02:27 WARN DAGScheduler: Broadcasting large task binary with size 3.2 MiB\n"
     ]
    },
    {
     "name": "stderr",
     "output_type": "stream",
     "text": [
      "                                                                                \r"
     ]
    },
    {
     "name": "stdout",
     "output_type": "stream",
     "text": [
      "22/10/23 23:02:28 WARN DAGScheduler: Broadcasting large task binary with size 3.5 MiB\n"
     ]
    },
    {
     "name": "stderr",
     "output_type": "stream",
     "text": [
      "                                                                                \r"
     ]
    },
    {
     "name": "stdout",
     "output_type": "stream",
     "text": [
      "22/10/23 23:02:29 WARN DAGScheduler: Broadcasting large task binary with size 2.1 MiB\n",
      "22/10/23 23:02:33 WARN DAGScheduler: Broadcasting large task binary with size 1073.1 KiB\n",
      "22/10/23 23:02:33 WARN DAGScheduler: Broadcasting large task binary with size 1146.4 KiB\n",
      "22/10/23 23:02:33 WARN DAGScheduler: Broadcasting large task binary with size 1205.8 KiB\n",
      "22/10/23 23:02:33 WARN DAGScheduler: Broadcasting large task binary with size 1247.8 KiB\n",
      "22/10/23 23:02:34 WARN DAGScheduler: Broadcasting large task binary with size 1280.1 KiB\n",
      "22/10/23 23:02:34 WARN DAGScheduler: Broadcasting large task binary with size 1302.2 KiB\n",
      "22/10/23 23:02:34 WARN DAGScheduler: Broadcasting large task binary with size 1206.8 KiB\n",
      "22/10/23 23:02:34 WARN DAGScheduler: Broadcasting large task binary with size 1218.3 KiB\n",
      "22/10/23 23:02:34 WARN DAGScheduler: Broadcasting large task binary with size 1226.1 KiB\n",
      "22/10/23 23:02:34 WARN DAGScheduler: Broadcasting large task binary with size 1141.2 KiB\n",
      "22/10/23 23:02:38 WARN DAGScheduler: Broadcasting large task binary with size 1164.2 KiB\n",
      "22/10/23 23:02:39 WARN DAGScheduler: Broadcasting large task binary with size 1361.6 KiB\n",
      "22/10/23 23:02:39 WARN DAGScheduler: Broadcasting large task binary with size 1551.3 KiB\n",
      "22/10/23 23:02:40 WARN DAGScheduler: Broadcasting large task binary with size 1725.3 KiB\n",
      "22/10/23 23:02:40 WARN DAGScheduler: Broadcasting large task binary with size 1883.5 KiB\n",
      "22/10/23 23:02:41 WARN DAGScheduler: Broadcasting large task binary with size 2015.3 KiB\n",
      "22/10/23 23:02:41 WARN DAGScheduler: Broadcasting large task binary with size 2.1 MiB\n",
      "22/10/23 23:02:41 WARN DAGScheduler: Broadcasting large task binary with size 2.2 MiB\n",
      "22/10/23 23:02:42 WARN DAGScheduler: Broadcasting large task binary with size 2.2 MiB\n",
      "22/10/23 23:02:42 WARN DAGScheduler: Broadcasting large task binary with size 2.3 MiB\n",
      "22/10/23 23:02:43 WARN DAGScheduler: Broadcasting large task binary with size 2.2 MiB\n",
      "22/10/23 23:02:43 WARN DAGScheduler: Broadcasting large task binary with size 2.2 MiB\n",
      "22/10/23 23:02:43 WARN DAGScheduler: Broadcasting large task binary with size 1738.4 KiB\n",
      "22/10/23 23:02:44 WARN DAGScheduler: Broadcasting large task binary with size 1647.8 KiB\n",
      "22/10/23 23:02:44 WARN DAGScheduler: Broadcasting large task binary with size 1333.8 KiB\n",
      "22/10/23 23:02:44 WARN DAGScheduler: Broadcasting large task binary with size 1398.1 KiB\n"
     ]
    },
    {
     "name": "stderr",
     "output_type": "stream",
     "text": [
      "                                                                                \r"
     ]
    },
    {
     "name": "stdout",
     "output_type": "stream",
     "text": [
      "22/10/23 23:02:49 WARN DAGScheduler: Broadcasting large task binary with size 1035.0 KiB\n"
     ]
    },
    {
     "name": "stderr",
     "output_type": "stream",
     "text": [
      "\r",
      "[Stage 9800:===========>                                            (1 + 4) / 5]\r",
      "\r",
      "                                                                                \r"
     ]
    },
    {
     "name": "stdout",
     "output_type": "stream",
     "text": [
      "22/10/23 23:02:49 WARN DAGScheduler: Broadcasting large task binary with size 1382.9 KiB\n"
     ]
    },
    {
     "name": "stderr",
     "output_type": "stream",
     "text": [
      "                                                                                \r"
     ]
    },
    {
     "name": "stdout",
     "output_type": "stream",
     "text": [
      "22/10/23 23:02:50 WARN DAGScheduler: Broadcasting large task binary with size 1773.9 KiB\n"
     ]
    },
    {
     "name": "stderr",
     "output_type": "stream",
     "text": [
      "\r",
      "[Stage 9804:===========>                                            (1 + 4) / 5]\r",
      "\r",
      "                                                                                \r"
     ]
    },
    {
     "name": "stdout",
     "output_type": "stream",
     "text": [
      "22/10/23 23:02:51 WARN DAGScheduler: Broadcasting large task binary with size 2.1 MiB\n"
     ]
    },
    {
     "name": "stderr",
     "output_type": "stream",
     "text": [
      "                                                                                \r"
     ]
    },
    {
     "name": "stdout",
     "output_type": "stream",
     "text": [
      "22/10/23 23:02:52 WARN DAGScheduler: Broadcasting large task binary with size 2.5 MiB\n"
     ]
    },
    {
     "name": "stderr",
     "output_type": "stream",
     "text": [
      "\r",
      "[Stage 9808:===========>                                            (1 + 4) / 5]\r",
      "\r",
      "                                                                                \r"
     ]
    },
    {
     "name": "stdout",
     "output_type": "stream",
     "text": [
      "22/10/23 23:02:53 WARN DAGScheduler: Broadcasting large task binary with size 2.9 MiB\n"
     ]
    },
    {
     "name": "stderr",
     "output_type": "stream",
     "text": [
      "                                                                                \r"
     ]
    },
    {
     "name": "stdout",
     "output_type": "stream",
     "text": [
      "22/10/23 23:02:54 WARN DAGScheduler: Broadcasting large task binary with size 3.2 MiB\n"
     ]
    },
    {
     "name": "stderr",
     "output_type": "stream",
     "text": [
      "                                                                                \r"
     ]
    },
    {
     "name": "stdout",
     "output_type": "stream",
     "text": [
      "22/10/23 23:02:55 WARN DAGScheduler: Broadcasting large task binary with size 3.5 MiB\n"
     ]
    },
    {
     "name": "stderr",
     "output_type": "stream",
     "text": [
      "                                                                                \r"
     ]
    },
    {
     "name": "stdout",
     "output_type": "stream",
     "text": [
      "22/10/23 23:02:56 WARN DAGScheduler: Broadcasting large task binary with size 3.8 MiB\n"
     ]
    },
    {
     "name": "stderr",
     "output_type": "stream",
     "text": [
      "                                                                                \r"
     ]
    },
    {
     "name": "stdout",
     "output_type": "stream",
     "text": [
      "22/10/23 23:02:57 WARN DAGScheduler: Broadcasting large task binary with size 4.0 MiB\n"
     ]
    },
    {
     "name": "stderr",
     "output_type": "stream",
     "text": [
      "                                                                                \r"
     ]
    },
    {
     "name": "stdout",
     "output_type": "stream",
     "text": [
      "22/10/23 23:02:58 WARN DAGScheduler: Broadcasting large task binary with size 4.2 MiB\n"
     ]
    },
    {
     "name": "stderr",
     "output_type": "stream",
     "text": [
      "                                                                                \r"
     ]
    },
    {
     "name": "stdout",
     "output_type": "stream",
     "text": [
      "22/10/23 23:02:59 WARN DAGScheduler: Broadcasting large task binary with size 4.3 MiB\n"
     ]
    },
    {
     "name": "stderr",
     "output_type": "stream",
     "text": [
      "                                                                                \r"
     ]
    },
    {
     "name": "stdout",
     "output_type": "stream",
     "text": [
      "22/10/23 23:03:00 WARN DAGScheduler: Broadcasting large task binary with size 4.3 MiB\n"
     ]
    },
    {
     "name": "stderr",
     "output_type": "stream",
     "text": [
      "                                                                                \r"
     ]
    },
    {
     "name": "stdout",
     "output_type": "stream",
     "text": [
      "22/10/23 23:03:01 WARN DAGScheduler: Broadcasting large task binary with size 4.4 MiB\n"
     ]
    },
    {
     "name": "stderr",
     "output_type": "stream",
     "text": [
      "                                                                                \r"
     ]
    },
    {
     "name": "stdout",
     "output_type": "stream",
     "text": [
      "22/10/23 23:03:02 WARN DAGScheduler: Broadcasting large task binary with size 4.2 MiB\n"
     ]
    },
    {
     "name": "stderr",
     "output_type": "stream",
     "text": [
      "\r",
      "[Stage 9828:===========>                                            (1 + 4) / 5]\r",
      "\r",
      "                                                                                \r"
     ]
    },
    {
     "name": "stdout",
     "output_type": "stream",
     "text": [
      "22/10/23 23:03:03 WARN DAGScheduler: Broadcasting large task binary with size 4.1 MiB\n"
     ]
    },
    {
     "name": "stderr",
     "output_type": "stream",
     "text": [
      "\r",
      "[Stage 9830:===========>                                            (1 + 4) / 5]\r",
      "\r",
      "                                                                                \r"
     ]
    },
    {
     "name": "stdout",
     "output_type": "stream",
     "text": [
      "22/10/23 23:03:04 WARN DAGScheduler: Broadcasting large task binary with size 3.5 MiB\n",
      "22/10/23 23:03:04 WARN DAGScheduler: Broadcasting large task binary with size 2.5 MiB\n",
      "22/10/23 23:03:05 WARN DAGScheduler: Broadcasting large task binary with size 2.5 MiB\n"
     ]
    },
    {
     "name": "stderr",
     "output_type": "stream",
     "text": [
      "                                                                                \r"
     ]
    },
    {
     "name": "stdout",
     "output_type": "stream",
     "text": [
      "22/10/23 23:03:17 WARN DAGScheduler: Broadcasting large task binary with size 1043.4 KiB\n"
     ]
    },
    {
     "name": "stderr",
     "output_type": "stream",
     "text": [
      "\r",
      "[Stage 9917:===========>                                            (1 + 4) / 5]\r",
      "\r",
      "                                                                                \r"
     ]
    },
    {
     "name": "stdout",
     "output_type": "stream",
     "text": [
      "22/10/23 23:03:17 WARN DAGScheduler: Broadcasting large task binary with size 1398.2 KiB\n"
     ]
    },
    {
     "name": "stderr",
     "output_type": "stream",
     "text": [
      "                                                                                \r"
     ]
    },
    {
     "name": "stdout",
     "output_type": "stream",
     "text": [
      "22/10/23 23:03:18 WARN DAGScheduler: Broadcasting large task binary with size 1788.0 KiB\n"
     ]
    },
    {
     "name": "stderr",
     "output_type": "stream",
     "text": [
      "\r",
      "[Stage 9921:===========>                                            (1 + 4) / 5]\r",
      "\r",
      "                                                                                \r"
     ]
    },
    {
     "name": "stdout",
     "output_type": "stream",
     "text": [
      "22/10/23 23:03:19 WARN DAGScheduler: Broadcasting large task binary with size 1214.3 KiB\n",
      "22/10/23 23:03:22 WARN DAGScheduler: Broadcasting large task binary with size 1025.7 KiB\n",
      "22/10/23 23:03:26 WARN DAGScheduler: Broadcasting large task binary with size 1187.3 KiB\n",
      "22/10/23 23:03:27 WARN DAGScheduler: Broadcasting large task binary with size 1395.8 KiB\n",
      "22/10/23 23:03:27 WARN DAGScheduler: Broadcasting large task binary with size 1588.2 KiB\n",
      "22/10/23 23:03:28 WARN DAGScheduler: Broadcasting large task binary with size 1756.7 KiB\n",
      "22/10/23 23:03:28 WARN DAGScheduler: Broadcasting large task binary with size 1901.3 KiB\n",
      "22/10/23 23:03:29 WARN DAGScheduler: Broadcasting large task binary with size 1148.0 KiB\n"
     ]
    },
    {
     "name": "stderr",
     "output_type": "stream",
     "text": [
      "                                                                                \r"
     ]
    },
    {
     "name": "stdout",
     "output_type": "stream",
     "text": [
      "22/10/23 23:03:33 WARN DAGScheduler: Broadcasting large task binary with size 1043.4 KiB\n"
     ]
    },
    {
     "name": "stderr",
     "output_type": "stream",
     "text": [
      "                                                                                \r"
     ]
    },
    {
     "name": "stdout",
     "output_type": "stream",
     "text": [
      "22/10/23 23:03:34 WARN DAGScheduler: Broadcasting large task binary with size 1398.2 KiB\n"
     ]
    },
    {
     "name": "stderr",
     "output_type": "stream",
     "text": [
      "\r",
      "[Stage 10026:===========>                                           (1 + 4) / 5]\r",
      "\r",
      "                                                                                \r"
     ]
    },
    {
     "name": "stdout",
     "output_type": "stream",
     "text": [
      "22/10/23 23:03:35 WARN DAGScheduler: Broadcasting large task binary with size 1788.1 KiB\n"
     ]
    },
    {
     "name": "stderr",
     "output_type": "stream",
     "text": [
      "                                                                                \r"
     ]
    },
    {
     "name": "stdout",
     "output_type": "stream",
     "text": [
      "22/10/23 23:03:36 WARN DAGScheduler: Broadcasting large task binary with size 2.1 MiB\n"
     ]
    },
    {
     "name": "stderr",
     "output_type": "stream",
     "text": [
      "                                                                                \r"
     ]
    },
    {
     "name": "stdout",
     "output_type": "stream",
     "text": [
      "22/10/23 23:03:37 WARN DAGScheduler: Broadcasting large task binary with size 2.5 MiB\n"
     ]
    },
    {
     "name": "stderr",
     "output_type": "stream",
     "text": [
      "                                                                                \r"
     ]
    },
    {
     "name": "stdout",
     "output_type": "stream",
     "text": [
      "22/10/23 23:03:38 WARN DAGScheduler: Broadcasting large task binary with size 2.9 MiB\n"
     ]
    },
    {
     "name": "stderr",
     "output_type": "stream",
     "text": [
      "                                                                                \r"
     ]
    },
    {
     "name": "stdout",
     "output_type": "stream",
     "text": [
      "22/10/23 23:03:39 WARN DAGScheduler: Broadcasting large task binary with size 3.2 MiB\n"
     ]
    },
    {
     "name": "stderr",
     "output_type": "stream",
     "text": [
      "                                                                                \r"
     ]
    },
    {
     "name": "stdout",
     "output_type": "stream",
     "text": [
      "22/10/23 23:03:40 WARN DAGScheduler: Broadcasting large task binary with size 3.5 MiB\n"
     ]
    },
    {
     "name": "stderr",
     "output_type": "stream",
     "text": [
      "                                                                                \r"
     ]
    },
    {
     "name": "stdout",
     "output_type": "stream",
     "text": [
      "22/10/23 23:03:41 WARN DAGScheduler: Broadcasting large task binary with size 2.1 MiB\n",
      "22/10/23 23:03:44 WARN DAGScheduler: Broadcasting large task binary with size 1025.7 KiB\n",
      "22/10/23 23:03:44 WARN DAGScheduler: Broadcasting large task binary with size 1087.6 KiB\n",
      "22/10/23 23:03:44 WARN DAGScheduler: Broadcasting large task binary with size 1137.4 KiB\n",
      "22/10/23 23:03:45 WARN DAGScheduler: Broadcasting large task binary with size 1173.7 KiB\n",
      "22/10/23 23:03:45 WARN DAGScheduler: Broadcasting large task binary with size 1109.6 KiB\n",
      "22/10/23 23:03:45 WARN DAGScheduler: Broadcasting large task binary with size 1127.6 KiB\n",
      "22/10/23 23:03:45 WARN DAGScheduler: Broadcasting large task binary with size 1029.7 KiB\n",
      "22/10/23 23:03:45 WARN DAGScheduler: Broadcasting large task binary with size 1040.5 KiB\n",
      "22/10/23 23:03:49 WARN DAGScheduler: Broadcasting large task binary with size 1187.3 KiB\n",
      "22/10/23 23:03:50 WARN DAGScheduler: Broadcasting large task binary with size 1395.8 KiB\n",
      "22/10/23 23:03:50 WARN DAGScheduler: Broadcasting large task binary with size 1588.2 KiB\n",
      "22/10/23 23:03:51 WARN DAGScheduler: Broadcasting large task binary with size 1756.7 KiB\n",
      "22/10/23 23:03:51 WARN DAGScheduler: Broadcasting large task binary with size 1901.3 KiB\n",
      "22/10/23 23:03:52 WARN DAGScheduler: Broadcasting large task binary with size 2025.6 KiB\n",
      "22/10/23 23:03:52 WARN DAGScheduler: Broadcasting large task binary with size 2.1 MiB\n",
      "22/10/23 23:03:52 WARN DAGScheduler: Broadcasting large task binary with size 2.1 MiB\n",
      "22/10/23 23:03:53 WARN DAGScheduler: Broadcasting large task binary with size 2.1 MiB\n",
      "22/10/23 23:03:53 WARN DAGScheduler: Broadcasting large task binary with size 2.2 MiB\n",
      "22/10/23 23:03:54 WARN DAGScheduler: Broadcasting large task binary with size 2.1 MiB\n",
      "22/10/23 23:03:54 WARN DAGScheduler: Broadcasting large task binary with size 2.0 MiB\n",
      "22/10/23 23:03:54 WARN DAGScheduler: Broadcasting large task binary with size 1817.1 KiB\n",
      "22/10/23 23:03:55 WARN DAGScheduler: Broadcasting large task binary with size 1705.5 KiB\n",
      "22/10/23 23:03:55 WARN DAGScheduler: Broadcasting large task binary with size 1374.2 KiB\n",
      "22/10/23 23:03:55 WARN DAGScheduler: Broadcasting large task binary with size 1367.5 KiB\n"
     ]
    },
    {
     "name": "stderr",
     "output_type": "stream",
     "text": [
      "                                                                                \r"
     ]
    },
    {
     "name": "stdout",
     "output_type": "stream",
     "text": [
      "22/10/23 23:04:00 WARN DAGScheduler: Broadcasting large task binary with size 1043.4 KiB\n"
     ]
    },
    {
     "name": "stderr",
     "output_type": "stream",
     "text": [
      "                                                                                \r"
     ]
    },
    {
     "name": "stdout",
     "output_type": "stream",
     "text": [
      "22/10/23 23:04:00 WARN DAGScheduler: Broadcasting large task binary with size 1398.2 KiB\n",
      "22/10/23 23:04:01 WARN DAGScheduler: Broadcasting large task binary with size 1788.1 KiB\n"
     ]
    },
    {
     "name": "stderr",
     "output_type": "stream",
     "text": [
      "                                                                                \r"
     ]
    },
    {
     "name": "stdout",
     "output_type": "stream",
     "text": [
      "22/10/23 23:04:02 WARN DAGScheduler: Broadcasting large task binary with size 2.1 MiB\n"
     ]
    },
    {
     "name": "stderr",
     "output_type": "stream",
     "text": [
      "\r",
      "[Stage 10187:===========>                                           (1 + 4) / 5]\r",
      "\r",
      "                                                                                \r"
     ]
    },
    {
     "name": "stdout",
     "output_type": "stream",
     "text": [
      "22/10/23 23:04:03 WARN DAGScheduler: Broadcasting large task binary with size 2.5 MiB\n"
     ]
    },
    {
     "name": "stderr",
     "output_type": "stream",
     "text": [
      "\r",
      "[Stage 10189:===========>                                           (1 + 4) / 5]\r",
      "\r",
      "                                                                                \r"
     ]
    },
    {
     "name": "stdout",
     "output_type": "stream",
     "text": [
      "22/10/23 23:04:04 WARN DAGScheduler: Broadcasting large task binary with size 2.9 MiB\n"
     ]
    },
    {
     "name": "stderr",
     "output_type": "stream",
     "text": [
      "                                                                                \r"
     ]
    },
    {
     "name": "stdout",
     "output_type": "stream",
     "text": [
      "22/10/23 23:04:05 WARN DAGScheduler: Broadcasting large task binary with size 3.2 MiB\n"
     ]
    },
    {
     "name": "stderr",
     "output_type": "stream",
     "text": [
      "                                                                                \r"
     ]
    },
    {
     "name": "stdout",
     "output_type": "stream",
     "text": [
      "22/10/23 23:04:06 WARN DAGScheduler: Broadcasting large task binary with size 3.5 MiB\n"
     ]
    },
    {
     "name": "stderr",
     "output_type": "stream",
     "text": [
      "                                                                                \r"
     ]
    },
    {
     "name": "stdout",
     "output_type": "stream",
     "text": [
      "22/10/23 23:04:07 WARN DAGScheduler: Broadcasting large task binary with size 3.8 MiB\n"
     ]
    },
    {
     "name": "stderr",
     "output_type": "stream",
     "text": [
      "                                                                                \r"
     ]
    },
    {
     "name": "stdout",
     "output_type": "stream",
     "text": [
      "22/10/23 23:04:08 WARN DAGScheduler: Broadcasting large task binary with size 4.0 MiB\n"
     ]
    },
    {
     "name": "stderr",
     "output_type": "stream",
     "text": [
      "                                                                                \r"
     ]
    },
    {
     "name": "stdout",
     "output_type": "stream",
     "text": [
      "22/10/23 23:04:09 WARN DAGScheduler: Broadcasting large task binary with size 4.1 MiB\n"
     ]
    },
    {
     "name": "stderr",
     "output_type": "stream",
     "text": [
      "                                                                                \r"
     ]
    },
    {
     "name": "stdout",
     "output_type": "stream",
     "text": [
      "22/10/23 23:04:10 WARN DAGScheduler: Broadcasting large task binary with size 4.2 MiB\n"
     ]
    },
    {
     "name": "stderr",
     "output_type": "stream",
     "text": [
      "                                                                                \r"
     ]
    },
    {
     "name": "stdout",
     "output_type": "stream",
     "text": [
      "22/10/23 23:04:11 WARN DAGScheduler: Broadcasting large task binary with size 4.1 MiB\n"
     ]
    },
    {
     "name": "stderr",
     "output_type": "stream",
     "text": [
      "\r",
      "[Stage 10205:===========>                                           (1 + 4) / 5]\r",
      "\r",
      "                                                                                \r"
     ]
    },
    {
     "name": "stdout",
     "output_type": "stream",
     "text": [
      "22/10/23 23:04:12 WARN DAGScheduler: Broadcasting large task binary with size 4.0 MiB\n"
     ]
    },
    {
     "name": "stderr",
     "output_type": "stream",
     "text": [
      "\r",
      "[Stage 10207:===========>                                           (1 + 4) / 5]\r",
      "\r",
      "                                                                                \r"
     ]
    },
    {
     "name": "stdout",
     "output_type": "stream",
     "text": [
      "22/10/23 23:04:13 WARN DAGScheduler: Broadcasting large task binary with size 3.6 MiB\n"
     ]
    },
    {
     "name": "stderr",
     "output_type": "stream",
     "text": [
      "\r",
      "[Stage 10209:=================================>                     (3 + 2) / 5]\r",
      "\r",
      "                                                                                \r"
     ]
    },
    {
     "name": "stdout",
     "output_type": "stream",
     "text": [
      "22/10/23 23:04:13 WARN DAGScheduler: Broadcasting large task binary with size 3.4 MiB\n",
      "22/10/23 23:04:14 WARN DAGScheduler: Broadcasting large task binary with size 2.8 MiB\n",
      "22/10/23 23:04:14 WARN DAGScheduler: Broadcasting large task binary with size 2.5 MiB\n",
      "22/10/23 23:04:15 WARN DAGScheduler: Broadcasting large task binary with size 2.5 MiB\n"
     ]
    },
    {
     "name": "stderr",
     "output_type": "stream",
     "text": [
      "                                                                                \r"
     ]
    },
    {
     "name": "stdout",
     "output_type": "stream",
     "text": [
      "22/10/23 23:04:27 WARN DAGScheduler: Broadcasting large task binary with size 1036.8 KiB\n"
     ]
    },
    {
     "name": "stderr",
     "output_type": "stream",
     "text": [
      "                                                                                \r"
     ]
    },
    {
     "name": "stdout",
     "output_type": "stream",
     "text": [
      "22/10/23 23:04:28 WARN DAGScheduler: Broadcasting large task binary with size 1392.8 KiB\n"
     ]
    },
    {
     "name": "stderr",
     "output_type": "stream",
     "text": [
      "                                                                                \r"
     ]
    },
    {
     "name": "stdout",
     "output_type": "stream",
     "text": [
      "22/10/23 23:04:29 WARN DAGScheduler: Broadcasting large task binary with size 1788.4 KiB\n"
     ]
    },
    {
     "name": "stderr",
     "output_type": "stream",
     "text": [
      "                                                                                \r"
     ]
    },
    {
     "name": "stdout",
     "output_type": "stream",
     "text": [
      "22/10/23 23:04:30 WARN DAGScheduler: Broadcasting large task binary with size 1228.8 KiB\n",
      "22/10/23 23:04:33 WARN DAGScheduler: Broadcasting large task binary with size 1044.9 KiB\n",
      "22/10/23 23:04:37 WARN DAGScheduler: Broadcasting large task binary with size 1152.9 KiB\n",
      "22/10/23 23:04:37 WARN DAGScheduler: Broadcasting large task binary with size 1361.8 KiB\n",
      "22/10/23 23:04:38 WARN DAGScheduler: Broadcasting large task binary with size 1561.1 KiB\n",
      "22/10/23 23:04:38 WARN DAGScheduler: Broadcasting large task binary with size 1737.4 KiB\n",
      "22/10/23 23:04:39 WARN DAGScheduler: Broadcasting large task binary with size 1889.4 KiB\n",
      "22/10/23 23:04:39 WARN DAGScheduler: Broadcasting large task binary with size 1168.0 KiB\n"
     ]
    },
    {
     "name": "stderr",
     "output_type": "stream",
     "text": [
      "                                                                                \r"
     ]
    },
    {
     "name": "stdout",
     "output_type": "stream",
     "text": [
      "22/10/23 23:04:44 WARN DAGScheduler: Broadcasting large task binary with size 1036.8 KiB\n",
      "22/10/23 23:04:44 WARN DAGScheduler: Broadcasting large task binary with size 1392.8 KiB\n"
     ]
    },
    {
     "name": "stderr",
     "output_type": "stream",
     "text": [
      "                                                                                \r"
     ]
    },
    {
     "name": "stdout",
     "output_type": "stream",
     "text": [
      "22/10/23 23:04:46 WARN DAGScheduler: Broadcasting large task binary with size 1788.4 KiB\n"
     ]
    },
    {
     "name": "stderr",
     "output_type": "stream",
     "text": [
      "                                                                                \r"
     ]
    },
    {
     "name": "stdout",
     "output_type": "stream",
     "text": [
      "22/10/23 23:04:47 WARN DAGScheduler: Broadcasting large task binary with size 2.2 MiB\n"
     ]
    },
    {
     "name": "stderr",
     "output_type": "stream",
     "text": [
      "                                                                                \r"
     ]
    },
    {
     "name": "stdout",
     "output_type": "stream",
     "text": [
      "22/10/23 23:04:48 WARN DAGScheduler: Broadcasting large task binary with size 2.6 MiB\n"
     ]
    },
    {
     "name": "stderr",
     "output_type": "stream",
     "text": [
      "                                                                                \r"
     ]
    },
    {
     "name": "stdout",
     "output_type": "stream",
     "text": [
      "22/10/23 23:04:49 WARN DAGScheduler: Broadcasting large task binary with size 2.9 MiB\n"
     ]
    },
    {
     "name": "stderr",
     "output_type": "stream",
     "text": [
      "                                                                                \r"
     ]
    },
    {
     "name": "stdout",
     "output_type": "stream",
     "text": [
      "22/10/23 23:04:50 WARN DAGScheduler: Broadcasting large task binary with size 3.3 MiB\n"
     ]
    },
    {
     "name": "stderr",
     "output_type": "stream",
     "text": [
      "                                                                                \r"
     ]
    },
    {
     "name": "stdout",
     "output_type": "stream",
     "text": [
      "22/10/23 23:04:51 WARN DAGScheduler: Broadcasting large task binary with size 3.6 MiB\n"
     ]
    },
    {
     "name": "stderr",
     "output_type": "stream",
     "text": [
      "                                                                                \r"
     ]
    },
    {
     "name": "stdout",
     "output_type": "stream",
     "text": [
      "22/10/23 23:04:52 WARN DAGScheduler: Broadcasting large task binary with size 2.1 MiB\n",
      "22/10/23 23:04:56 WARN DAGScheduler: Broadcasting large task binary with size 1044.9 KiB\n",
      "22/10/23 23:04:56 WARN DAGScheduler: Broadcasting large task binary with size 1103.9 KiB\n",
      "22/10/23 23:04:56 WARN DAGScheduler: Broadcasting large task binary with size 1149.6 KiB\n",
      "22/10/23 23:04:56 WARN DAGScheduler: Broadcasting large task binary with size 1185.7 KiB\n",
      "22/10/23 23:04:56 WARN DAGScheduler: Broadcasting large task binary with size 1211.5 KiB\n",
      "22/10/23 23:04:57 WARN DAGScheduler: Broadcasting large task binary with size 1230.7 KiB\n",
      "22/10/23 23:04:57 WARN DAGScheduler: Broadcasting large task binary with size 1246.7 KiB\n",
      "22/10/23 23:04:57 WARN DAGScheduler: Broadcasting large task binary with size 1260.0 KiB\n",
      "22/10/23 23:04:57 WARN DAGScheduler: Broadcasting large task binary with size 1175.3 KiB\n",
      "22/10/23 23:04:57 WARN DAGScheduler: Broadcasting large task binary with size 1082.5 KiB\n",
      "22/10/23 23:05:01 WARN DAGScheduler: Broadcasting large task binary with size 1152.9 KiB\n",
      "22/10/23 23:05:02 WARN DAGScheduler: Broadcasting large task binary with size 1361.8 KiB\n",
      "22/10/23 23:05:02 WARN DAGScheduler: Broadcasting large task binary with size 1561.1 KiB\n",
      "22/10/23 23:05:03 WARN DAGScheduler: Broadcasting large task binary with size 1737.4 KiB\n",
      "22/10/23 23:05:03 WARN DAGScheduler: Broadcasting large task binary with size 1889.4 KiB\n",
      "22/10/23 23:05:04 WARN DAGScheduler: Broadcasting large task binary with size 2019.5 KiB\n",
      "22/10/23 23:05:04 WARN DAGScheduler: Broadcasting large task binary with size 2.1 MiB\n",
      "22/10/23 23:05:04 WARN DAGScheduler: Broadcasting large task binary with size 2.1 MiB\n",
      "22/10/23 23:05:05 WARN DAGScheduler: Broadcasting large task binary with size 2.2 MiB\n",
      "22/10/23 23:05:05 WARN DAGScheduler: Broadcasting large task binary with size 2.2 MiB\n",
      "22/10/23 23:05:05 WARN DAGScheduler: Broadcasting large task binary with size 2.0 MiB\n",
      "22/10/23 23:05:06 WARN DAGScheduler: Broadcasting large task binary with size 1739.5 KiB\n",
      "22/10/23 23:05:06 WARN DAGScheduler: Broadcasting large task binary with size 1403.1 KiB\n",
      "22/10/23 23:05:06 WARN DAGScheduler: Broadcasting large task binary with size 1186.6 KiB\n",
      "22/10/23 23:05:07 WARN DAGScheduler: Broadcasting large task binary with size 1402.1 KiB\n"
     ]
    },
    {
     "name": "stderr",
     "output_type": "stream",
     "text": [
      "\r",
      "[Stage 10560:===========>                                           (1 + 4) / 5]\r",
      "\r",
      "                                                                                \r"
     ]
    },
    {
     "name": "stdout",
     "output_type": "stream",
     "text": [
      "22/10/23 23:05:11 WARN DAGScheduler: Broadcasting large task binary with size 1036.8 KiB\n"
     ]
    },
    {
     "name": "stderr",
     "output_type": "stream",
     "text": [
      "\r",
      "[Stage 10562:============================================>          (4 + 1) / 5]\r",
      "\r",
      "                                                                                \r"
     ]
    },
    {
     "name": "stdout",
     "output_type": "stream",
     "text": [
      "22/10/23 23:05:12 WARN DAGScheduler: Broadcasting large task binary with size 1392.8 KiB\n"
     ]
    },
    {
     "name": "stderr",
     "output_type": "stream",
     "text": [
      "\r",
      "[Stage 10564:===========>                                           (1 + 4) / 5]\r",
      "\r",
      "                                                                                \r"
     ]
    },
    {
     "name": "stdout",
     "output_type": "stream",
     "text": [
      "22/10/23 23:05:13 WARN DAGScheduler: Broadcasting large task binary with size 1788.4 KiB\n"
     ]
    },
    {
     "name": "stderr",
     "output_type": "stream",
     "text": [
      "                                                                                \r"
     ]
    },
    {
     "name": "stdout",
     "output_type": "stream",
     "text": [
      "22/10/23 23:05:14 WARN DAGScheduler: Broadcasting large task binary with size 2.2 MiB\n"
     ]
    },
    {
     "name": "stderr",
     "output_type": "stream",
     "text": [
      "\r",
      "[Stage 10568:===========>                                           (1 + 4) / 5]\r",
      "\r",
      "                                                                                \r"
     ]
    },
    {
     "name": "stdout",
     "output_type": "stream",
     "text": [
      "22/10/23 23:05:15 WARN DAGScheduler: Broadcasting large task binary with size 2.6 MiB\n"
     ]
    },
    {
     "name": "stderr",
     "output_type": "stream",
     "text": [
      "                                                                                \r"
     ]
    },
    {
     "name": "stdout",
     "output_type": "stream",
     "text": [
      "22/10/23 23:05:16 WARN DAGScheduler: Broadcasting large task binary with size 2.9 MiB\n"
     ]
    },
    {
     "name": "stderr",
     "output_type": "stream",
     "text": [
      "                                                                                \r"
     ]
    },
    {
     "name": "stdout",
     "output_type": "stream",
     "text": [
      "22/10/23 23:05:17 WARN DAGScheduler: Broadcasting large task binary with size 3.3 MiB\n"
     ]
    },
    {
     "name": "stderr",
     "output_type": "stream",
     "text": [
      "                                                                                \r"
     ]
    },
    {
     "name": "stdout",
     "output_type": "stream",
     "text": [
      "22/10/23 23:05:18 WARN DAGScheduler: Broadcasting large task binary with size 3.6 MiB\n"
     ]
    },
    {
     "name": "stderr",
     "output_type": "stream",
     "text": [
      "                                                                                \r"
     ]
    },
    {
     "name": "stdout",
     "output_type": "stream",
     "text": [
      "22/10/23 23:05:19 WARN DAGScheduler: Broadcasting large task binary with size 3.8 MiB\n"
     ]
    },
    {
     "name": "stderr",
     "output_type": "stream",
     "text": [
      "                                                                                \r"
     ]
    },
    {
     "name": "stdout",
     "output_type": "stream",
     "text": [
      "22/10/23 23:05:20 WARN DAGScheduler: Broadcasting large task binary with size 4.0 MiB\n"
     ]
    },
    {
     "name": "stderr",
     "output_type": "stream",
     "text": [
      "                                                                                \r"
     ]
    },
    {
     "name": "stdout",
     "output_type": "stream",
     "text": [
      "22/10/23 23:05:21 WARN DAGScheduler: Broadcasting large task binary with size 4.1 MiB\n"
     ]
    },
    {
     "name": "stderr",
     "output_type": "stream",
     "text": [
      "                                                                                \r"
     ]
    },
    {
     "name": "stdout",
     "output_type": "stream",
     "text": [
      "22/10/23 23:05:22 WARN DAGScheduler: Broadcasting large task binary with size 4.3 MiB\n"
     ]
    },
    {
     "name": "stderr",
     "output_type": "stream",
     "text": [
      "                                                                                \r"
     ]
    },
    {
     "name": "stdout",
     "output_type": "stream",
     "text": [
      "22/10/23 23:05:23 WARN DAGScheduler: Broadcasting large task binary with size 4.4 MiB\n"
     ]
    },
    {
     "name": "stderr",
     "output_type": "stream",
     "text": [
      "\r",
      "[Stage 10586:===========>                                           (1 + 4) / 5]\r",
      "\r",
      "                                                                                \r"
     ]
    },
    {
     "name": "stdout",
     "output_type": "stream",
     "text": [
      "22/10/23 23:05:24 WARN DAGScheduler: Broadcasting large task binary with size 4.2 MiB\n"
     ]
    },
    {
     "name": "stderr",
     "output_type": "stream",
     "text": [
      "                                                                                \r"
     ]
    },
    {
     "name": "stdout",
     "output_type": "stream",
     "text": [
      "22/10/23 23:05:25 WARN DAGScheduler: Broadcasting large task binary with size 3.7 MiB\n"
     ]
    },
    {
     "name": "stderr",
     "output_type": "stream",
     "text": [
      "\r",
      "[Stage 10590:===========>                                           (1 + 4) / 5]\r",
      "\r",
      "                                                                                \r"
     ]
    },
    {
     "name": "stdout",
     "output_type": "stream",
     "text": [
      "22/10/23 23:05:26 WARN DAGScheduler: Broadcasting large task binary with size 3.3 MiB\n",
      "22/10/23 23:05:26 WARN DAGScheduler: Broadcasting large task binary with size 2.9 MiB\n",
      "22/10/23 23:05:27 WARN DAGScheduler: Broadcasting large task binary with size 2.5 MiB\n",
      "22/10/23 23:05:27 WARN DAGScheduler: Broadcasting large task binary with size 2.6 MiB\n"
     ]
    },
    {
     "name": "stderr",
     "output_type": "stream",
     "text": [
      "                                                                                \r"
     ]
    },
    {
     "name": "stdout",
     "output_type": "stream",
     "text": [
      "22/10/23 23:05:40 WARN DAGScheduler: Broadcasting large task binary with size 1018.0 KiB\n"
     ]
    },
    {
     "name": "stderr",
     "output_type": "stream",
     "text": [
      "                                                                                \r"
     ]
    },
    {
     "name": "stdout",
     "output_type": "stream",
     "text": [
      "22/10/23 23:05:40 WARN DAGScheduler: Broadcasting large task binary with size 1360.6 KiB\n"
     ]
    },
    {
     "name": "stderr",
     "output_type": "stream",
     "text": [
      "                                                                                \r"
     ]
    },
    {
     "name": "stdout",
     "output_type": "stream",
     "text": [
      "22/10/23 23:05:41 WARN DAGScheduler: Broadcasting large task binary with size 1738.7 KiB\n"
     ]
    },
    {
     "name": "stderr",
     "output_type": "stream",
     "text": [
      "                                                                                \r"
     ]
    },
    {
     "name": "stdout",
     "output_type": "stream",
     "text": [
      "22/10/23 23:05:43 WARN DAGScheduler: Broadcasting large task binary with size 1189.3 KiB\n",
      "22/10/23 23:05:46 WARN DAGScheduler: Broadcasting large task binary with size 1054.4 KiB\n",
      "22/10/23 23:05:49 WARN DAGScheduler: Broadcasting large task binary with size 1148.4 KiB\n",
      "22/10/23 23:05:50 WARN DAGScheduler: Broadcasting large task binary with size 1348.1 KiB\n",
      "22/10/23 23:05:50 WARN DAGScheduler: Broadcasting large task binary with size 1538.5 KiB\n",
      "22/10/23 23:05:51 WARN DAGScheduler: Broadcasting large task binary with size 1714.8 KiB\n",
      "22/10/23 23:05:51 WARN DAGScheduler: Broadcasting large task binary with size 1863.6 KiB\n",
      "22/10/23 23:05:52 WARN DAGScheduler: Broadcasting large task binary with size 1129.2 KiB\n"
     ]
    },
    {
     "name": "stderr",
     "output_type": "stream",
     "text": [
      "\r",
      "[Stage 10782:===========>                                           (1 + 4) / 5]\r",
      "\r",
      "                                                                                \r"
     ]
    },
    {
     "name": "stdout",
     "output_type": "stream",
     "text": [
      "22/10/23 23:05:56 WARN DAGScheduler: Broadcasting large task binary with size 1018.0 KiB\n"
     ]
    },
    {
     "name": "stderr",
     "output_type": "stream",
     "text": [
      "                                                                                \r"
     ]
    },
    {
     "name": "stdout",
     "output_type": "stream",
     "text": [
      "22/10/23 23:05:57 WARN DAGScheduler: Broadcasting large task binary with size 1360.6 KiB\n"
     ]
    },
    {
     "name": "stderr",
     "output_type": "stream",
     "text": [
      "                                                                                \r"
     ]
    },
    {
     "name": "stdout",
     "output_type": "stream",
     "text": [
      "22/10/23 23:05:58 WARN DAGScheduler: Broadcasting large task binary with size 1738.7 KiB\n"
     ]
    },
    {
     "name": "stderr",
     "output_type": "stream",
     "text": [
      "\r",
      "[Stage 10790:===========>                                           (1 + 4) / 5]\r",
      "\r",
      "                                                                                \r"
     ]
    },
    {
     "name": "stdout",
     "output_type": "stream",
     "text": [
      "22/10/23 23:05:59 WARN DAGScheduler: Broadcasting large task binary with size 2.1 MiB\n"
     ]
    },
    {
     "name": "stderr",
     "output_type": "stream",
     "text": [
      "                                                                                \r"
     ]
    },
    {
     "name": "stdout",
     "output_type": "stream",
     "text": [
      "22/10/23 23:06:00 WARN DAGScheduler: Broadcasting large task binary with size 2.5 MiB\n"
     ]
    },
    {
     "name": "stderr",
     "output_type": "stream",
     "text": [
      "\r",
      "[Stage 10794:===========>                                           (1 + 4) / 5]\r",
      "\r",
      "                                                                                \r"
     ]
    },
    {
     "name": "stdout",
     "output_type": "stream",
     "text": [
      "22/10/23 23:06:00 WARN DAGScheduler: Broadcasting large task binary with size 2.8 MiB\n"
     ]
    },
    {
     "name": "stderr",
     "output_type": "stream",
     "text": [
      "\r",
      "[Stage 10796:===========>                                           (1 + 4) / 5]\r",
      "\r",
      "                                                                                \r"
     ]
    },
    {
     "name": "stdout",
     "output_type": "stream",
     "text": [
      "22/10/23 23:06:01 WARN DAGScheduler: Broadcasting large task binary with size 3.1 MiB\n"
     ]
    },
    {
     "name": "stderr",
     "output_type": "stream",
     "text": [
      "                                                                                \r"
     ]
    },
    {
     "name": "stdout",
     "output_type": "stream",
     "text": [
      "22/10/23 23:06:02 WARN DAGScheduler: Broadcasting large task binary with size 3.4 MiB\n"
     ]
    },
    {
     "name": "stderr",
     "output_type": "stream",
     "text": [
      "                                                                                \r"
     ]
    },
    {
     "name": "stdout",
     "output_type": "stream",
     "text": [
      "22/10/23 23:06:03 WARN DAGScheduler: Broadcasting large task binary with size 2.0 MiB\n",
      "22/10/23 23:06:06 WARN DAGScheduler: Broadcasting large task binary with size 1054.4 KiB\n",
      "22/10/23 23:06:06 WARN DAGScheduler: Broadcasting large task binary with size 1122.9 KiB\n",
      "22/10/23 23:06:07 WARN DAGScheduler: Broadcasting large task binary with size 1177.9 KiB\n",
      "22/10/23 23:06:07 WARN DAGScheduler: Broadcasting large task binary with size 1220.3 KiB\n",
      "22/10/23 23:06:07 WARN DAGScheduler: Broadcasting large task binary with size 1254.5 KiB\n",
      "22/10/23 23:06:07 WARN DAGScheduler: Broadcasting large task binary with size 1281.0 KiB\n",
      "22/10/23 23:06:08 WARN DAGScheduler: Broadcasting large task binary with size 1300.5 KiB\n",
      "22/10/23 23:06:08 WARN DAGScheduler: Broadcasting large task binary with size 1205.3 KiB\n",
      "22/10/23 23:06:08 WARN DAGScheduler: Broadcasting large task binary with size 1096.5 KiB\n",
      "22/10/23 23:06:12 WARN DAGScheduler: Broadcasting large task binary with size 1148.4 KiB\n",
      "22/10/23 23:06:12 WARN DAGScheduler: Broadcasting large task binary with size 1348.1 KiB\n",
      "22/10/23 23:06:13 WARN DAGScheduler: Broadcasting large task binary with size 1538.5 KiB\n",
      "22/10/23 23:06:13 WARN DAGScheduler: Broadcasting large task binary with size 1714.9 KiB\n",
      "22/10/23 23:06:13 WARN DAGScheduler: Broadcasting large task binary with size 1863.6 KiB\n",
      "22/10/23 23:06:14 WARN DAGScheduler: Broadcasting large task binary with size 1992.8 KiB\n",
      "22/10/23 23:06:14 WARN DAGScheduler: Broadcasting large task binary with size 2.1 MiB\n",
      "22/10/23 23:06:14 WARN DAGScheduler: Broadcasting large task binary with size 2.1 MiB\n",
      "22/10/23 23:06:15 WARN DAGScheduler: Broadcasting large task binary with size 2.2 MiB\n",
      "22/10/23 23:06:15 WARN DAGScheduler: Broadcasting large task binary with size 2.3 MiB\n",
      "22/10/23 23:06:16 WARN DAGScheduler: Broadcasting large task binary with size 2.3 MiB\n",
      "22/10/23 23:06:16 WARN DAGScheduler: Broadcasting large task binary with size 2.3 MiB\n",
      "22/10/23 23:06:16 WARN DAGScheduler: Broadcasting large task binary with size 2.1 MiB\n",
      "22/10/23 23:06:17 WARN DAGScheduler: Broadcasting large task binary with size 1911.9 KiB\n",
      "22/10/23 23:06:17 WARN DAGScheduler: Broadcasting large task binary with size 1709.9 KiB\n",
      "22/10/23 23:06:17 WARN DAGScheduler: Broadcasting large task binary with size 1415.8 KiB\n"
     ]
    },
    {
     "name": "stderr",
     "output_type": "stream",
     "text": [
      "\r",
      "[Stage 10941:===========>                                           (1 + 4) / 5]\r",
      "\r",
      "                                                                                \r"
     ]
    },
    {
     "name": "stdout",
     "output_type": "stream",
     "text": [
      "22/10/23 23:06:22 WARN DAGScheduler: Broadcasting large task binary with size 1018.0 KiB\n"
     ]
    },
    {
     "name": "stderr",
     "output_type": "stream",
     "text": [
      "                                                                                \r"
     ]
    },
    {
     "name": "stdout",
     "output_type": "stream",
     "text": [
      "22/10/23 23:06:23 WARN DAGScheduler: Broadcasting large task binary with size 1360.6 KiB\n"
     ]
    },
    {
     "name": "stderr",
     "output_type": "stream",
     "text": [
      "\r",
      "[Stage 10945:===========>                                           (1 + 4) / 5]\r",
      "\r",
      "                                                                                \r"
     ]
    },
    {
     "name": "stdout",
     "output_type": "stream",
     "text": [
      "22/10/23 23:06:24 WARN DAGScheduler: Broadcasting large task binary with size 1738.7 KiB\n"
     ]
    },
    {
     "name": "stderr",
     "output_type": "stream",
     "text": [
      "\r",
      "[Stage 10947:===========>                                           (1 + 4) / 5]\r",
      "\r",
      "                                                                                \r"
     ]
    },
    {
     "name": "stdout",
     "output_type": "stream",
     "text": [
      "22/10/23 23:06:24 WARN DAGScheduler: Broadcasting large task binary with size 2.1 MiB\n"
     ]
    },
    {
     "name": "stderr",
     "output_type": "stream",
     "text": [
      "                                                                                \r"
     ]
    },
    {
     "name": "stdout",
     "output_type": "stream",
     "text": [
      "22/10/23 23:06:25 WARN DAGScheduler: Broadcasting large task binary with size 2.5 MiB\n"
     ]
    },
    {
     "name": "stderr",
     "output_type": "stream",
     "text": [
      "                                                                                \r"
     ]
    },
    {
     "name": "stdout",
     "output_type": "stream",
     "text": [
      "22/10/23 23:06:26 WARN DAGScheduler: Broadcasting large task binary with size 2.8 MiB\n"
     ]
    },
    {
     "name": "stderr",
     "output_type": "stream",
     "text": [
      "                                                                                \r"
     ]
    },
    {
     "name": "stdout",
     "output_type": "stream",
     "text": [
      "22/10/23 23:06:28 WARN DAGScheduler: Broadcasting large task binary with size 3.1 MiB\n"
     ]
    },
    {
     "name": "stderr",
     "output_type": "stream",
     "text": [
      "                                                                                \r"
     ]
    },
    {
     "name": "stdout",
     "output_type": "stream",
     "text": [
      "22/10/23 23:06:29 WARN DAGScheduler: Broadcasting large task binary with size 3.4 MiB\n"
     ]
    },
    {
     "name": "stderr",
     "output_type": "stream",
     "text": [
      "                                                                                \r"
     ]
    },
    {
     "name": "stdout",
     "output_type": "stream",
     "text": [
      "22/10/23 23:06:30 WARN DAGScheduler: Broadcasting large task binary with size 3.6 MiB\n"
     ]
    },
    {
     "name": "stderr",
     "output_type": "stream",
     "text": [
      "                                                                                \r"
     ]
    },
    {
     "name": "stdout",
     "output_type": "stream",
     "text": [
      "22/10/23 23:06:31 WARN DAGScheduler: Broadcasting large task binary with size 3.8 MiB\n"
     ]
    },
    {
     "name": "stderr",
     "output_type": "stream",
     "text": [
      "                                                                                \r"
     ]
    },
    {
     "name": "stdout",
     "output_type": "stream",
     "text": [
      "22/10/23 23:06:32 WARN DAGScheduler: Broadcasting large task binary with size 4.0 MiB\n"
     ]
    },
    {
     "name": "stderr",
     "output_type": "stream",
     "text": [
      "                                                                                \r"
     ]
    },
    {
     "name": "stdout",
     "output_type": "stream",
     "text": [
      "22/10/23 23:06:33 WARN DAGScheduler: Broadcasting large task binary with size 4.1 MiB\n"
     ]
    },
    {
     "name": "stderr",
     "output_type": "stream",
     "text": [
      "                                                                                \r"
     ]
    },
    {
     "name": "stdout",
     "output_type": "stream",
     "text": [
      "22/10/23 23:06:33 WARN DAGScheduler: Broadcasting large task binary with size 4.1 MiB\n"
     ]
    },
    {
     "name": "stderr",
     "output_type": "stream",
     "text": [
      "                                                                                \r"
     ]
    },
    {
     "name": "stdout",
     "output_type": "stream",
     "text": [
      "22/10/23 23:06:35 WARN DAGScheduler: Broadcasting large task binary with size 4.2 MiB\n"
     ]
    },
    {
     "name": "stderr",
     "output_type": "stream",
     "text": [
      "                                                                                \r"
     ]
    },
    {
     "name": "stdout",
     "output_type": "stream",
     "text": [
      "22/10/23 23:06:36 WARN DAGScheduler: Broadcasting large task binary with size 4.0 MiB\n"
     ]
    },
    {
     "name": "stderr",
     "output_type": "stream",
     "text": [
      "                                                                                \r"
     ]
    },
    {
     "name": "stdout",
     "output_type": "stream",
     "text": [
      "22/10/23 23:06:36 WARN DAGScheduler: Broadcasting large task binary with size 4.0 MiB\n"
     ]
    },
    {
     "name": "stderr",
     "output_type": "stream",
     "text": [
      "\r",
      "[Stage 10973:===========>                                           (1 + 4) / 5]\r",
      "\r",
      "                                                                                \r"
     ]
    },
    {
     "name": "stdout",
     "output_type": "stream",
     "text": [
      "22/10/23 23:06:37 WARN DAGScheduler: Broadcasting large task binary with size 3.4 MiB\n",
      "22/10/23 23:06:38 WARN DAGScheduler: Broadcasting large task binary with size 2.8 MiB\n",
      "22/10/23 23:06:38 WARN DAGScheduler: Broadcasting large task binary with size 2.5 MiB\n"
     ]
    },
    {
     "name": "stderr",
     "output_type": "stream",
     "text": [
      "                                                                                \r"
     ]
    },
    {
     "name": "stdout",
     "output_type": "stream",
     "text": [
      "22/10/23 23:06:51 WARN DAGScheduler: Broadcasting large task binary with size 1053.5 KiB\n"
     ]
    },
    {
     "name": "stderr",
     "output_type": "stream",
     "text": [
      "                                                                                \r"
     ]
    },
    {
     "name": "stdout",
     "output_type": "stream",
     "text": [
      "22/10/23 23:06:52 WARN DAGScheduler: Broadcasting large task binary with size 1417.8 KiB\n"
     ]
    },
    {
     "name": "stderr",
     "output_type": "stream",
     "text": [
      "                                                                                \r"
     ]
    },
    {
     "name": "stdout",
     "output_type": "stream",
     "text": [
      "22/10/23 23:06:53 WARN DAGScheduler: Broadcasting large task binary with size 1810.8 KiB\n"
     ]
    },
    {
     "name": "stderr",
     "output_type": "stream",
     "text": [
      "                                                                                \r"
     ]
    },
    {
     "name": "stdout",
     "output_type": "stream",
     "text": [
      "22/10/23 23:06:54 WARN DAGScheduler: Broadcasting large task binary with size 1239.8 KiB\n",
      "22/10/23 23:06:56 WARN DAGScheduler: Broadcasting large task binary with size 1042.2 KiB\n",
      "22/10/23 23:07:00 WARN DAGScheduler: Broadcasting large task binary with size 1137.2 KiB\n",
      "22/10/23 23:07:01 WARN DAGScheduler: Broadcasting large task binary with size 1342.5 KiB\n",
      "22/10/23 23:07:01 WARN DAGScheduler: Broadcasting large task binary with size 1541.2 KiB\n",
      "22/10/23 23:07:02 WARN DAGScheduler: Broadcasting large task binary with size 1712.9 KiB\n",
      "22/10/23 23:07:02 WARN DAGScheduler: Broadcasting large task binary with size 1863.3 KiB\n",
      "22/10/23 23:07:03 WARN DAGScheduler: Broadcasting large task binary with size 1136.2 KiB\n"
     ]
    },
    {
     "name": "stderr",
     "output_type": "stream",
     "text": [
      "                                                                                \r"
     ]
    },
    {
     "name": "stdout",
     "output_type": "stream",
     "text": [
      "22/10/23 23:07:07 WARN DAGScheduler: Broadcasting large task binary with size 1053.5 KiB\n"
     ]
    },
    {
     "name": "stderr",
     "output_type": "stream",
     "text": [
      "\r",
      "[Stage 11167:===========>                                           (1 + 4) / 5]\r",
      "\r",
      "                                                                                \r"
     ]
    },
    {
     "name": "stdout",
     "output_type": "stream",
     "text": [
      "22/10/23 23:07:08 WARN DAGScheduler: Broadcasting large task binary with size 1417.8 KiB\n"
     ]
    },
    {
     "name": "stderr",
     "output_type": "stream",
     "text": [
      "                                                                                \r"
     ]
    },
    {
     "name": "stdout",
     "output_type": "stream",
     "text": [
      "22/10/23 23:07:09 WARN DAGScheduler: Broadcasting large task binary with size 1810.8 KiB\n"
     ]
    },
    {
     "name": "stderr",
     "output_type": "stream",
     "text": [
      "                                                                                \r"
     ]
    },
    {
     "name": "stdout",
     "output_type": "stream",
     "text": [
      "22/10/23 23:07:11 WARN DAGScheduler: Broadcasting large task binary with size 2.2 MiB\n"
     ]
    },
    {
     "name": "stderr",
     "output_type": "stream",
     "text": [
      "                                                                                \r"
     ]
    },
    {
     "name": "stdout",
     "output_type": "stream",
     "text": [
      "22/10/23 23:07:12 WARN DAGScheduler: Broadcasting large task binary with size 2.6 MiB\n"
     ]
    },
    {
     "name": "stderr",
     "output_type": "stream",
     "text": [
      "                                                                                \r"
     ]
    },
    {
     "name": "stdout",
     "output_type": "stream",
     "text": [
      "22/10/23 23:07:13 WARN DAGScheduler: Broadcasting large task binary with size 2.9 MiB\n"
     ]
    },
    {
     "name": "stderr",
     "output_type": "stream",
     "text": [
      "                                                                                \r"
     ]
    },
    {
     "name": "stdout",
     "output_type": "stream",
     "text": [
      "22/10/23 23:07:14 WARN DAGScheduler: Broadcasting large task binary with size 3.2 MiB\n"
     ]
    },
    {
     "name": "stderr",
     "output_type": "stream",
     "text": [
      "                                                                                \r"
     ]
    },
    {
     "name": "stdout",
     "output_type": "stream",
     "text": [
      "22/10/23 23:07:15 WARN DAGScheduler: Broadcasting large task binary with size 3.5 MiB\n"
     ]
    },
    {
     "name": "stderr",
     "output_type": "stream",
     "text": [
      "\r",
      "[Stage 11181:===========>                                           (1 + 4) / 5]\r",
      "\r",
      "                                                                                \r"
     ]
    },
    {
     "name": "stdout",
     "output_type": "stream",
     "text": [
      "22/10/23 23:07:16 WARN DAGScheduler: Broadcasting large task binary with size 2.1 MiB\n",
      "22/10/23 23:07:19 WARN DAGScheduler: Broadcasting large task binary with size 1042.2 KiB\n",
      "22/10/23 23:07:19 WARN DAGScheduler: Broadcasting large task binary with size 1106.8 KiB\n",
      "22/10/23 23:07:19 WARN DAGScheduler: Broadcasting large task binary with size 1157.7 KiB\n",
      "22/10/23 23:07:20 WARN DAGScheduler: Broadcasting large task binary with size 1197.9 KiB\n",
      "22/10/23 23:07:20 WARN DAGScheduler: Broadcasting large task binary with size 1226.5 KiB\n",
      "22/10/23 23:07:20 WARN DAGScheduler: Broadcasting large task binary with size 1248.2 KiB\n",
      "22/10/23 23:07:20 WARN DAGScheduler: Broadcasting large task binary with size 1266.8 KiB\n",
      "22/10/23 23:07:20 WARN DAGScheduler: Broadcasting large task binary with size 1281.8 KiB\n",
      "22/10/23 23:07:20 WARN DAGScheduler: Broadcasting large task binary with size 1199.3 KiB\n",
      "22/10/23 23:07:21 WARN DAGScheduler: Broadcasting large task binary with size 1208.0 KiB\n",
      "22/10/23 23:07:21 WARN DAGScheduler: Broadcasting large task binary with size 1088.0 KiB\n",
      "22/10/23 23:07:25 WARN DAGScheduler: Broadcasting large task binary with size 1137.2 KiB\n",
      "22/10/23 23:07:25 WARN DAGScheduler: Broadcasting large task binary with size 1342.5 KiB\n",
      "22/10/23 23:07:26 WARN DAGScheduler: Broadcasting large task binary with size 1541.2 KiB\n",
      "22/10/23 23:07:26 WARN DAGScheduler: Broadcasting large task binary with size 1712.9 KiB\n",
      "22/10/23 23:07:26 WARN DAGScheduler: Broadcasting large task binary with size 1863.3 KiB\n",
      "22/10/23 23:07:27 WARN DAGScheduler: Broadcasting large task binary with size 1991.0 KiB\n",
      "22/10/23 23:07:27 WARN DAGScheduler: Broadcasting large task binary with size 2.0 MiB\n",
      "22/10/23 23:07:27 WARN DAGScheduler: Broadcasting large task binary with size 2.1 MiB\n",
      "22/10/23 23:07:28 WARN DAGScheduler: Broadcasting large task binary with size 2.1 MiB\n",
      "22/10/23 23:07:28 WARN DAGScheduler: Broadcasting large task binary with size 2.1 MiB\n",
      "22/10/23 23:07:29 WARN DAGScheduler: Broadcasting large task binary with size 2.2 MiB\n",
      "22/10/23 23:07:29 WARN DAGScheduler: Broadcasting large task binary with size 2.2 MiB\n",
      "22/10/23 23:07:30 WARN DAGScheduler: Broadcasting large task binary with size 2.1 MiB\n",
      "22/10/23 23:07:30 WARN DAGScheduler: Broadcasting large task binary with size 1697.5 KiB\n",
      "22/10/23 23:07:30 WARN DAGScheduler: Broadcasting large task binary with size 1244.6 KiB\n",
      "22/10/23 23:07:30 WARN DAGScheduler: Broadcasting large task binary with size 1386.4 KiB\n"
     ]
    },
    {
     "name": "stderr",
     "output_type": "stream",
     "text": [
      "                                                                                \r"
     ]
    },
    {
     "name": "stdout",
     "output_type": "stream",
     "text": [
      "22/10/23 23:07:35 WARN DAGScheduler: Broadcasting large task binary with size 1053.5 KiB\n"
     ]
    },
    {
     "name": "stderr",
     "output_type": "stream",
     "text": [
      "                                                                                \r"
     ]
    },
    {
     "name": "stdout",
     "output_type": "stream",
     "text": [
      "22/10/23 23:07:36 WARN DAGScheduler: Broadcasting large task binary with size 1417.8 KiB\n"
     ]
    },
    {
     "name": "stderr",
     "output_type": "stream",
     "text": [
      "                                                                                \r"
     ]
    },
    {
     "name": "stdout",
     "output_type": "stream",
     "text": [
      "22/10/23 23:07:37 WARN DAGScheduler: Broadcasting large task binary with size 1810.8 KiB\n"
     ]
    },
    {
     "name": "stderr",
     "output_type": "stream",
     "text": [
      "                                                                                \r"
     ]
    },
    {
     "name": "stdout",
     "output_type": "stream",
     "text": [
      "22/10/23 23:07:38 WARN DAGScheduler: Broadcasting large task binary with size 2.2 MiB\n"
     ]
    },
    {
     "name": "stderr",
     "output_type": "stream",
     "text": [
      "                                                                                \r"
     ]
    },
    {
     "name": "stdout",
     "output_type": "stream",
     "text": [
      "22/10/23 23:07:39 WARN DAGScheduler: Broadcasting large task binary with size 2.6 MiB\n"
     ]
    },
    {
     "name": "stderr",
     "output_type": "stream",
     "text": [
      "                                                                                \r"
     ]
    },
    {
     "name": "stdout",
     "output_type": "stream",
     "text": [
      "22/10/23 23:07:40 WARN DAGScheduler: Broadcasting large task binary with size 2.9 MiB\n"
     ]
    },
    {
     "name": "stderr",
     "output_type": "stream",
     "text": [
      "                                                                                \r"
     ]
    },
    {
     "name": "stdout",
     "output_type": "stream",
     "text": [
      "22/10/23 23:07:41 WARN DAGScheduler: Broadcasting large task binary with size 3.2 MiB\n"
     ]
    },
    {
     "name": "stderr",
     "output_type": "stream",
     "text": [
      "                                                                                \r"
     ]
    },
    {
     "name": "stdout",
     "output_type": "stream",
     "text": [
      "22/10/23 23:07:42 WARN DAGScheduler: Broadcasting large task binary with size 3.5 MiB\n"
     ]
    },
    {
     "name": "stderr",
     "output_type": "stream",
     "text": [
      "                                                                                \r"
     ]
    },
    {
     "name": "stdout",
     "output_type": "stream",
     "text": [
      "22/10/23 23:07:43 WARN DAGScheduler: Broadcasting large task binary with size 3.7 MiB\n"
     ]
    },
    {
     "name": "stderr",
     "output_type": "stream",
     "text": [
      "                                                                                \r"
     ]
    },
    {
     "name": "stdout",
     "output_type": "stream",
     "text": [
      "22/10/23 23:07:44 WARN DAGScheduler: Broadcasting large task binary with size 3.9 MiB\n"
     ]
    },
    {
     "name": "stderr",
     "output_type": "stream",
     "text": [
      "                                                                                \r"
     ]
    },
    {
     "name": "stdout",
     "output_type": "stream",
     "text": [
      "22/10/23 23:07:45 WARN DAGScheduler: Broadcasting large task binary with size 4.1 MiB\n"
     ]
    },
    {
     "name": "stderr",
     "output_type": "stream",
     "text": [
      "                                                                                \r"
     ]
    },
    {
     "name": "stdout",
     "output_type": "stream",
     "text": [
      "22/10/23 23:07:46 WARN DAGScheduler: Broadcasting large task binary with size 4.2 MiB\n"
     ]
    },
    {
     "name": "stderr",
     "output_type": "stream",
     "text": [
      "                                                                                \r"
     ]
    },
    {
     "name": "stdout",
     "output_type": "stream",
     "text": [
      "22/10/23 23:07:48 WARN DAGScheduler: Broadcasting large task binary with size 4.3 MiB\n"
     ]
    },
    {
     "name": "stderr",
     "output_type": "stream",
     "text": [
      "                                                                                \r"
     ]
    },
    {
     "name": "stdout",
     "output_type": "stream",
     "text": [
      "22/10/23 23:07:49 WARN DAGScheduler: Broadcasting large task binary with size 4.4 MiB\n"
     ]
    },
    {
     "name": "stderr",
     "output_type": "stream",
     "text": [
      "                                                                                \r"
     ]
    },
    {
     "name": "stdout",
     "output_type": "stream",
     "text": [
      "22/10/23 23:07:50 WARN DAGScheduler: Broadcasting large task binary with size 4.3 MiB\n"
     ]
    },
    {
     "name": "stderr",
     "output_type": "stream",
     "text": [
      "                                                                                \r"
     ]
    },
    {
     "name": "stdout",
     "output_type": "stream",
     "text": [
      "22/10/23 23:07:51 WARN DAGScheduler: Broadcasting large task binary with size 4.2 MiB\n"
     ]
    },
    {
     "name": "stderr",
     "output_type": "stream",
     "text": [
      "                                                                                \r"
     ]
    },
    {
     "name": "stdout",
     "output_type": "stream",
     "text": [
      "22/10/23 23:07:51 WARN DAGScheduler: Broadcasting large task binary with size 3.4 MiB\n"
     ]
    },
    {
     "name": "stderr",
     "output_type": "stream",
     "text": [
      "\r",
      "[Stage 11356:===========>                                           (1 + 4) / 5]\r",
      "\r",
      "                                                                                \r"
     ]
    },
    {
     "name": "stdout",
     "output_type": "stream",
     "text": [
      "22/10/23 23:07:52 WARN DAGScheduler: Broadcasting large task binary with size 2.8 MiB\n",
      "22/10/23 23:07:53 WARN DAGScheduler: Broadcasting large task binary with size 2.6 MiB\n"
     ]
    },
    {
     "name": "stderr",
     "output_type": "stream",
     "text": [
      "                                                                                \r"
     ]
    },
    {
     "name": "stdout",
     "output_type": "stream",
     "text": [
      "22/10/23 23:08:01 WARN DAGScheduler: Broadcasting large task binary with size 1019.7 KiB\n"
     ]
    },
    {
     "name": "stderr",
     "output_type": "stream",
     "text": [
      "                                                                                \r"
     ]
    },
    {
     "name": "stdout",
     "output_type": "stream",
     "text": [
      "22/10/23 23:08:02 WARN DAGScheduler: Broadcasting large task binary with size 1381.3 KiB\n"
     ]
    },
    {
     "name": "stderr",
     "output_type": "stream",
     "text": [
      "                                                                                \r"
     ]
    },
    {
     "name": "stdout",
     "output_type": "stream",
     "text": [
      "22/10/23 23:08:03 WARN DAGScheduler: Broadcasting large task binary with size 1801.3 KiB\n"
     ]
    },
    {
     "name": "stderr",
     "output_type": "stream",
     "text": [
      "                                                                                \r"
     ]
    },
    {
     "name": "stdout",
     "output_type": "stream",
     "text": [
      "22/10/23 23:08:04 WARN DAGScheduler: Broadcasting large task binary with size 2.2 MiB\n"
     ]
    },
    {
     "name": "stderr",
     "output_type": "stream",
     "text": [
      "                                                                                \r"
     ]
    },
    {
     "name": "stdout",
     "output_type": "stream",
     "text": [
      "22/10/23 23:08:05 WARN DAGScheduler: Broadcasting large task binary with size 2.6 MiB\n"
     ]
    },
    {
     "name": "stderr",
     "output_type": "stream",
     "text": [
      "                                                                                \r"
     ]
    },
    {
     "name": "stdout",
     "output_type": "stream",
     "text": [
      "22/10/23 23:08:06 WARN DAGScheduler: Broadcasting large task binary with size 3.0 MiB\n"
     ]
    },
    {
     "name": "stderr",
     "output_type": "stream",
     "text": [
      "                                                                                \r"
     ]
    },
    {
     "name": "stdout",
     "output_type": "stream",
     "text": [
      "22/10/23 23:08:07 WARN DAGScheduler: Broadcasting large task binary with size 3.4 MiB\n"
     ]
    },
    {
     "name": "stderr",
     "output_type": "stream",
     "text": [
      "                                                                                \r"
     ]
    },
    {
     "name": "stdout",
     "output_type": "stream",
     "text": [
      "22/10/23 23:08:08 WARN DAGScheduler: Broadcasting large task binary with size 3.8 MiB\n"
     ]
    },
    {
     "name": "stderr",
     "output_type": "stream",
     "text": [
      "                                                                                \r"
     ]
    },
    {
     "name": "stdout",
     "output_type": "stream",
     "text": [
      "22/10/23 23:08:09 WARN DAGScheduler: Broadcasting large task binary with size 4.1 MiB\n"
     ]
    },
    {
     "name": "stderr",
     "output_type": "stream",
     "text": [
      "                                                                                \r"
     ]
    },
    {
     "name": "stdout",
     "output_type": "stream",
     "text": [
      "22/10/23 23:08:10 WARN DAGScheduler: Broadcasting large task binary with size 4.3 MiB\n"
     ]
    },
    {
     "name": "stderr",
     "output_type": "stream",
     "text": [
      "                                                                                \r"
     ]
    },
    {
     "name": "stdout",
     "output_type": "stream",
     "text": [
      "22/10/23 23:08:12 WARN DAGScheduler: Broadcasting large task binary with size 4.5 MiB\n"
     ]
    },
    {
     "name": "stderr",
     "output_type": "stream",
     "text": [
      "                                                                                \r"
     ]
    },
    {
     "name": "stdout",
     "output_type": "stream",
     "text": [
      "22/10/23 23:08:13 WARN DAGScheduler: Broadcasting large task binary with size 4.7 MiB\n"
     ]
    },
    {
     "name": "stderr",
     "output_type": "stream",
     "text": [
      "                                                                                \r"
     ]
    },
    {
     "name": "stdout",
     "output_type": "stream",
     "text": [
      "22/10/23 23:08:14 WARN DAGScheduler: Broadcasting large task binary with size 4.8 MiB\n"
     ]
    },
    {
     "name": "stderr",
     "output_type": "stream",
     "text": [
      "                                                                                \r"
     ]
    },
    {
     "name": "stdout",
     "output_type": "stream",
     "text": [
      "22/10/23 23:08:15 WARN DAGScheduler: Broadcasting large task binary with size 4.9 MiB\n"
     ]
    },
    {
     "name": "stderr",
     "output_type": "stream",
     "text": [
      "                                                                                \r"
     ]
    },
    {
     "name": "stdout",
     "output_type": "stream",
     "text": [
      "22/10/23 23:08:17 WARN DAGScheduler: Broadcasting large task binary with size 5.0 MiB\n"
     ]
    },
    {
     "name": "stderr",
     "output_type": "stream",
     "text": [
      "                                                                                \r"
     ]
    },
    {
     "name": "stdout",
     "output_type": "stream",
     "text": [
      "22/10/23 23:08:18 WARN DAGScheduler: Broadcasting large task binary with size 4.4 MiB\n"
     ]
    },
    {
     "name": "stderr",
     "output_type": "stream",
     "text": [
      "                                                                                \r"
     ]
    },
    {
     "name": "stdout",
     "output_type": "stream",
     "text": [
      "22/10/23 23:08:19 WARN DAGScheduler: Broadcasting large task binary with size 3.5 MiB\n",
      "22/10/23 23:08:20 WARN DAGScheduler: Broadcasting large task binary with size 3.0 MiB\n",
      "22/10/23 23:08:21 WARN DAGScheduler: Broadcasting large task binary with size 2.8 MiB\n"
     ]
    },
    {
     "name": "stderr",
     "output_type": "stream",
     "text": [
      "\r",
      "[Stage 11419:>                                                      (0 + 1) / 1]\r",
      "\r",
      "                                                                                \r"
     ]
    }
   ],
   "source": [
    "rf_paramGrid = (ParamGridBuilder()\n",
    "             .addGrid(rf.maxDepth, [10, 15, 25])# maximum depth for each tree\n",
    "             .addGrid(rf.numTrees,[10, 20, 40])# number of trees\n",
    "             .build())\n",
    "\n",
    "rf_cv = CrossValidator(estimator=rf, estimatorParamMaps=rf_paramGrid, \n",
    "                    evaluator=evaluator, numFolds=5)\n",
    "\n",
    "rf_cv_model = rf_cv.fit(nslkdd_df)\n",
    "\n",
    "rf_cv_prediction_test = rf_cv_model.transform(nslkdd_df_test)\n",
    "rf_cv_acc = evaluator.evaluate(rf_cv_prediction_test)\n"
   ]
  },
  {
   "cell_type": "code",
   "execution_count": 58,
   "id": "028cf194",
   "metadata": {},
   "outputs": [
    {
     "name": "stdout",
     "output_type": "stream",
     "text": [
      "Before cross-validation and parameter tuning, AUC=71.72%\n",
      "After cross-validation and parameter tuning, AUC=74.51%\n"
     ]
    }
   ],
   "source": [
    "print(f\"Before cross-validation and parameter tuning, AUC={np.round(rf_accuracy_test*100,2)}%\")\n",
    "print(f\"After cross-validation and parameter tuning, AUC={np.round(rf_cv_acc*100,2)}%\")"
   ]
  },
  {
   "cell_type": "code",
   "execution_count": 69,
   "id": "3877985d",
   "metadata": {},
   "outputs": [
    {
     "name": "stderr",
     "output_type": "stream",
     "text": [
      "                                                                                \r"
     ]
    }
   ],
   "source": [
    "nb_paramGrid = (ParamGridBuilder()\n",
    "             .addGrid(nb.thresholds,[[5, 0, 1, 50, 10000],[0.5, 0, 1, 80, 20000],[1, 0.0001, 1, 100, 40000]])# threshold modifier for each label\n",
    "             .addGrid(nb.smoothing,[1, 5, 8])# smoothing parameter\n",
    "             .build())\n",
    "\n",
    "nb_cv = CrossValidator(estimator=nb, estimatorParamMaps=nb_paramGrid, \n",
    "                    evaluator=evaluator, numFolds=5)\n",
    "\n",
    "nb_cv_model = nb_cv.fit(nslkdd_df)\n",
    "\n",
    "nb_cv_prediction_test = nb_cv_model.transform(nslkdd_df_test)\n",
    "nb_cv_acc = evaluator.evaluate(nb_cv_prediction_test)\n"
   ]
  },
  {
   "cell_type": "code",
   "execution_count": 111,
   "id": "d06dd2cc",
   "metadata": {},
   "outputs": [
    {
     "name": "stdout",
     "output_type": "stream",
     "text": [
      "Before cross-validation and parameter tuning, AUC=39.2%\n",
      "After cross-validation and parameter tuning, AUC=40.77%\n"
     ]
    }
   ],
   "source": [
    "print(f\"Before cross-validation and parameter tuning, AUC={np.round(nb_accuracy_test*100,2)}%\")\n",
    "print(f\"After cross-validation and parameter tuning, AUC={np.round(nb_cv_acc*100,2)}%\")"
   ]
  },
  {
   "cell_type": "code",
   "execution_count": 70,
   "id": "fb32b4f4",
   "metadata": {
    "scrolled": true
   },
   "outputs": [
    {
     "name": "stdout",
     "output_type": "stream",
     "text": [
      "Confusion matrix, without normalization\n",
      "[[5603   57   10  327 3714]\n",
      " [3655 2566    0   59 1180]\n",
      " [1570  277  103  138  333]\n",
      " [   5    0    0   58    4]\n",
      " [1393    3    6  622  861]]\n"
     ]
    },
    {
     "data": {
      "image/png": "[encoded data removed]",
      "text/plain": [
       "<Figure size 640x480 with 2 Axes>"
      ]
     },
     "metadata": {},
     "output_type": "display_data"
    }
   ],
   "source": [
    "outcome_true = nb_cv_prediction_test.select(\"outcome\")\n",
    "outcome_true = outcome_true.toPandas()\n",
    "\n",
    "pred = nb_cv_prediction_test.select(\"prediction\")\n",
    "pred = pred.toPandas()\n",
    "\n",
    "cnf_matrix = confusion_matrix(outcome_true, pred,labels=class_names)\n",
    "#cnf_matrix\n",
    "plt.figure()\n",
    "plot_confusion_matrix(cnf_matrix, classes=class_names_str,\n",
    "                      title='Confusion matrix')\n",
    "plt.show()"
   ]
  },
  {
   "cell_type": "markdown",
   "id": "1b76e056",
   "metadata": {},
   "source": [
    "## Testing with Multi Layer Perceptron model"
   ]
  },
  {
   "cell_type": "code",
   "execution_count": 19,
   "id": "3be0eeef",
   "metadata": {},
   "outputs": [
    {
     "name": "stderr",
     "output_type": "stream",
     "text": [
      "                                                                                \r"
     ]
    },
    {
     "name": "stdout",
     "output_type": "stream",
     "text": [
      "22/10/27 10:41:51 WARN InstanceBuilder$NativeBLAS: Failed to load implementation from:dev.ludovic.netlib.blas.JNIBLAS\n",
      "22/10/27 10:41:51 WARN InstanceBuilder$NativeBLAS: Failed to load implementation from:dev.ludovic.netlib.blas.ForeignLinkerBLAS\n",
      "22/10/27 10:41:51 WARN InstanceBuilder$JavaBLAS: Failed to load implementation from:dev.ludovic.netlib.blas.VectorBLAS\n",
      "22/10/27 10:41:51 WARN BLAS: Failed to load implementation from: com.github.fommil.netlib.NativeSystemBLAS\n",
      "22/10/27 10:41:51 WARN BLAS: Failed to load implementation from: com.github.fommil.netlib.NativeRefBLAS\n"
     ]
    }
   ],
   "source": [
    "from pyspark.ml.classification import MultilayerPerceptronClassifier\n",
    "\n",
    "mlp = MultilayerPerceptronClassifier(featuresCol = 'features', labelCol = 'outcome', layers = [113, 5, 5])\n",
    "mlp_model = mlp.fit(nslkdd_df)\n"
   ]
  },
  {
   "cell_type": "code",
   "execution_count": 27,
   "id": "dd86a90d",
   "metadata": {},
   "outputs": [
    {
     "name": "stderr",
     "output_type": "stream",
     "text": [
      "                                                                                \r"
     ]
    },
    {
     "name": "stdout",
     "output_type": "stream",
     "text": [
      "Train accuracy = 98.12%, test accuracy = 72.62%\n"
     ]
    }
   ],
   "source": [
    "mlp_prediction_train = mlp_model.transform(nslkdd_df)\n",
    "mlp_prediction_test = mlp_model.transform(nslkdd_df_test)\n",
    "\n",
    "mlp_accuracy_train = evaluator.evaluate(mlp_prediction_train)\n",
    "mlp_accuracy_test = evaluator.evaluate(mlp_prediction_test)\n",
    "\n",
    "\n",
    "print(f\"Train accuracy = {np.round(mlp_accuracy_train*100,2)}%, test accuracy = {np.round(mlp_accuracy_test*100,2)}%\")\n"
   ]
  },
  {
   "cell_type": "code",
   "execution_count": 29,
   "id": "a356548b",
   "metadata": {},
   "outputs": [
    {
     "name": "stdout",
     "output_type": "stream",
     "text": [
      "Confusion matrix, without normalization\n",
      "[[9038  419  250    0    4]\n",
      " [1761 5622   77    0    0]\n",
      " [ 562  170 1681    0    8]\n",
      " [  56    3    7    0    1]\n",
      " [2838    2   15    0   30]]\n"
     ]
    },
    {
     "data": {
      "image/png": "[encoded data removed]",
      "text/plain": [
       "<Figure size 640x480 with 2 Axes>"
      ]
     },
     "metadata": {},
     "output_type": "display_data"
    }
   ],
   "source": [
    "outcome_true = mlp_prediction_test.select(\"outcome\")\n",
    "outcome_true = outcome_true.toPandas()\n",
    "\n",
    "pred = mlp_prediction_test.select(\"prediction\")\n",
    "pred = pred.toPandas()\n",
    "\n",
    "cnf_matrix = confusion_matrix(outcome_true, pred,labels=class_names)\n",
    "#cnf_matrix\n",
    "plt.figure()\n",
    "plot_confusion_matrix(cnf_matrix, classes=class_names_str,\n",
    "                      title='Confusion matrix')\n",
    "plt.show()"
   ]
  },
  {
   "cell_type": "code",
   "execution_count": 53,
   "id": "51682126",
   "metadata": {},
   "outputs": [
    {
     "name": "stderr",
     "output_type": "stream",
     "text": [
      "                                                                                \r"
     ]
    }
   ],
   "source": [
    "mlp_paramGrid = (ParamGridBuilder()\n",
    "             .addGrid(mlp.layers,[[113, 5, 5],[113, 10, 5],[113, 5, 10, 5], [113, 20, 20, 10, 5]])# layer configuration (only hidden layers are modified).\n",
    "             .addGrid(mlp.maxIter,[10, 30, 50, 100, 200])# number of iterations\n",
    "             .build())\n",
    "\n",
    "mlp_cv = CrossValidator(estimator=mlp, estimatorParamMaps=mlp_paramGrid, \n",
    "                    evaluator=evaluator, numFolds=5)\n",
    "\n",
    "mlp_cv_model = mlp_cv.fit(nslkdd_df)\n",
    "\n",
    "mlp_cv_prediction_test = mlp_cv_model.transform(nslkdd_df_test)\n",
    "mlp_cv_acc = evaluator.evaluate(mlp_cv_prediction_test)\n"
   ]
  },
  {
   "cell_type": "code",
   "execution_count": 55,
   "id": "b4a376c0",
   "metadata": {},
   "outputs": [
    {
     "name": "stdout",
     "output_type": "stream",
     "text": [
      "Before cross-validation and parameter tuning, AUC=72.62%\n",
      "After cross-validation and parameter tuning, AUC=77.93%\n"
     ]
    }
   ],
   "source": [
    "print(f\"Before cross-validation and parameter tuning, AUC={np.round(mlp_accuracy_test*100,2)}%\")\n",
    "print(f\"After cross-validation and parameter tuning, AUC={np.round(mlp_cv_acc*100,2)}%\")"
   ]
  },
  {
   "cell_type": "markdown",
   "id": "8b5b8ae5",
   "metadata": {},
   "source": [
    "### Q2-4\n",
    "\n",
    "I first chose the random forest (rf) and naive Bayes (nb) classifier ml models because, according to [Pyspark Documentation](https://spark.apache.org/docs/3.1.3/api/python/reference/pyspark.ml.html?highlight=classification), these are the only models that support multiclass, besides the decision tree model and multilayer perceptron (mlp). I didn't choose the decision tree since random forest is a more robust model for this. I wasn't sure if mlp was an allowed model, since it's getting into deep learning, but later on I decided to also test it since nb proved to be an inadequate model because of correlation between features.\n",
    "\n",
    "#### Random Forest\n",
    "\n",
    "This model was seen in the spark ML lectures, it had a decent initial test accuracy of 71%, relative to the other models tested. For hyper-parameter tuning, I selected the maximum depth of the trees and the number of trees, these directly affect the accuracy of the model, but can also cause overfitting easily, so the parameter grid had a low value, a higher value and another in between. The result was a 3% increase in accuracy, however the warnings displayed during cross-validation indicate that it uses a lot of memory.\n",
    "\n",
    "#### Naive Bayes\n",
    "\n",
    "This model was also seen in the spark ML lectures, it is a good classifier with support for multiclass, but it assumes that features have minimal correlation. This isn't the case with the NSL-KDD database, we have seen in class that there are features that have a level of correlation with each other. This affected the model and caused it to have very low accuracy, even with the training data it didn't reach 70%. For hyper-parameter tuning, I chose smoothing and the output thresholds to affect which label is selected. I tried various combinations of parameter grid, basing it off the confusion matrix to select thresholds, but the increase in accuracy was very slim, only getting a 1.5% increase in the end.\n",
    "\n",
    "#### Multlayer Perceptron\n",
    "\n",
    "This is a neural network model, it was mentioned in the lectures while introducing tensorflow and pytorch, but we didn't use it in spark during class. I decided to try it since naive Bayes wasn't very adequate to the data. Initial accuracy was good, similar to random forest at 72.6%. For the hyper-parameter tuning I chose the layers and number of iterations, these two parameters greatly affect the output, but they also carry a risk of overfitting, particularly the iterations being too high. For the layers tuning, only hidden layers were changed, and I tested different size of layer and also adding a second hidden layer. As for the iterations, I tried various numbers, going from very low at 10 and a high number at 200 (the evaluation took very long to run (~20 min), so I didn't go any higher in iterations), with a few intermediate numbers. This tuning had the best result, with a ~5%  increase in accuracy. This took the longest to run, but it didn't give me warnings like random forest.\n",
    "\n",
    "Comparing the models, naive Bayes is definitely not well suited for the NSL-KDD dataset, since the features have some correlation between them, and it wasn't able to handle this well. The random forest and mlp models performed much better, but each has its own limitations in memory usage and training time, respectively.\n",
    "In the end, I believe tensorflow and pytorch will perform better for neural networks and deep learning, so for spark ML, random forest might be the preferred model of the ones I tested in this homework."
   ]
  }
 ],
 "metadata": {
  "kernelspec": {
   "display_name": "Python 3 (ipykernel)",
   "language": "python",
   "name": "python3"
  },
  "language_info": {
   "codemirror_mode": {
    "name": "ipython",
    "version": 3
   },
   "file_extension": ".py",
   "mimetype": "text/x-python",
   "name": "python",
   "nbconvert_exporter": "python",
   "pygments_lexer": "ipython3",
   "version": "3.10.6"
  }
 },
 "nbformat": 4,
 "nbformat_minor": 5
}
