{
 "cells": [
  {
   "cell_type": "markdown",
   "id": "092d7424",
   "metadata": {},
   "source": [
    "# Q1"
   ]
  },
  {
   "cell_type": "code",
   "execution_count": 64,
   "id": "5ba52984",
   "metadata": {},
   "outputs": [],
   "source": [
    "import pyspark\n",
    "from pyspark.sql import SparkSession, SQLContext\n",
    "from pyspark.ml import Pipeline,Transformer\n",
    "from pyspark.ml.feature import Imputer,StandardScaler,StringIndexer,OneHotEncoder, VectorAssembler\n",
    "from pyspark.ml.classification import LogisticRegression\n",
    "from pyspark.ml.tuning import ParamGridBuilder, CrossValidator\n",
    "from pyspark.ml.evaluation import BinaryClassificationEvaluator, MulticlassClassificationEvaluator\n",
    "\n",
    "from pyspark.sql.functions import *\n",
    "from pyspark.sql.types import *\n",
    "import numpy as np\n",
    "\n",
    "col_names = [\"duration\",\"protocol_type\",\"service\",\"flag\",\"src_bytes\",\n",
    "\"dst_bytes\",\"land\",\"wrong_fragment\",\"urgent\",\"hot\",\"num_failed_logins\",\n",
    "\"logged_in\",\"num_compromised\",\"root_shell\",\"su_attempted\",\"num_root\",\n",
    "\"num_file_creations\",\"num_shells\",\"num_access_files\",\"num_outbound_cmds\",\n",
    "\"is_host_login\",\"is_guest_login\",\"count\",\"srv_count\",\"serror_rate\",\n",
    "\"srv_serror_rate\",\"rerror_rate\",\"srv_rerror_rate\",\"same_srv_rate\",\n",
    "\"diff_srv_rate\",\"srv_diff_host_rate\",\"dst_host_count\",\"dst_host_srv_count\",\n",
    "\"dst_host_same_srv_rate\",\"dst_host_diff_srv_rate\",\"dst_host_same_src_port_rate\",\n",
    "\"dst_host_srv_diff_host_rate\",\"dst_host_serror_rate\",\"dst_host_srv_serror_rate\",\n",
    "\"dst_host_rerror_rate\",\"dst_host_srv_rerror_rate\",\"class\",\"difficulty\"]\n",
    "\n",
    "nominal_cols = ['protocol_type','service','flag']\n",
    "binary_cols = ['land', 'logged_in', 'root_shell', 'su_attempted', 'is_host_login',\n",
    "'is_guest_login']\n",
    "continuous_cols = ['duration' ,'src_bytes', 'dst_bytes', 'wrong_fragment' ,'urgent', 'hot',\n",
    "'num_failed_logins', 'num_compromised', 'num_root' ,'num_file_creations',\n",
    "'num_shells', 'num_access_files', 'num_outbound_cmds', 'count' ,'srv_count',\n",
    "'serror_rate', 'srv_serror_rate' ,'rerror_rate' ,'srv_rerror_rate',\n",
    "'same_srv_rate', 'diff_srv_rate', 'srv_diff_host_rate' ,'dst_host_count',\n",
    "'dst_host_srv_count' ,'dst_host_same_srv_rate' ,'dst_host_diff_srv_rate',\n",
    "'dst_host_same_src_port_rate' ,'dst_host_srv_diff_host_rate',\n",
    "'dst_host_serror_rate' ,'dst_host_srv_serror_rate', 'dst_host_rerror_rate',\n",
    "'dst_host_srv_rerror_rate']\n",
    "\n",
    "class OutcomeCreater(Transformer): # this defines a transformer that creates the outcome column\n",
    "    \n",
    "    def __init__(self):\n",
    "        super().__init__()\n",
    "\n",
    "    def _transform(self, dataset):\n",
    "        dos = ['apache2', 'back', 'land', 'neptune', \n",
    "               'mailbomb', 'pod', 'processtable', 'smurf', 'teardrop', 'udpstorm', 'worm']\n",
    "        probe = ['ipsweep', 'mscan', 'nmap', 'portsweep', 'saint', 'satan']\n",
    "        u2r = ['buffer_overflow', 'loadmodule', 'perl', 'ps', 'rootkit', 'sqlattack', 'xterm']\n",
    "        r2l = ['ftp_write', 'guess_passwd', 'httptunnel', 'imap', 'multihop', 'named', \n",
    "               'phf', 'sendmail', 'snmpgetattack', 'spy', 'snmpguess', 'warezclient', \n",
    "               'warezmaster', 'xlock', 'xsnoop']\n",
    "        label_to_binary = udf(lambda name: 0.0 if name == 'normal' else \n",
    "                              (1.0 if name in dos else \n",
    "                               (2.0 if name in probe else \n",
    "                                (3.0 if name in u2r else 4.0))))\n",
    "        output_df = dataset.withColumn('outcome', label_to_binary(col('class'))).drop(\"class\")  \n",
    "        output_df = output_df.withColumn('outcome', col('outcome').cast(DoubleType()))\n",
    "        output_df = output_df.drop('difficulty')\n",
    "        return output_df\n",
    "\n",
    "class FeatureTypeCaster(Transformer): # this transformer will cast the columns as appropriate types  \n",
    "    def __init__(self):\n",
    "        super().__init__()\n",
    "\n",
    "    def _transform(self, dataset):\n",
    "        output_df = dataset\n",
    "        for col_name in binary_cols + continuous_cols:\n",
    "            output_df = output_df.withColumn(col_name,col(col_name).cast(DoubleType()))\n",
    "\n",
    "        return output_df\n",
    "class ColumnDropper(Transformer): # this transformer drops unnecessary columns\n",
    "    def __init__(self, columns_to_drop = None):\n",
    "        super().__init__()\n",
    "        self.columns_to_drop=columns_to_drop\n",
    "    def _transform(self, dataset):\n",
    "        output_df = dataset\n",
    "        for col_name in self.columns_to_drop:\n",
    "            output_df = output_df.drop(col_name)\n",
    "        return output_df\n",
    "\n",
    "def get_preprocess_pipeline():\n",
    "    # Stage where columns are casted as appropriate types\n",
    "    stage_typecaster = FeatureTypeCaster()\n",
    "\n",
    "    # Stage where nominal columns are transformed to index columns using StringIndexer\n",
    "    nominal_id_cols = [x+\"_index\" for x in nominal_cols]\n",
    "    nominal_onehot_cols = [x+\"_encoded\" for x in nominal_cols]\n",
    "    stage_nominal_indexer = StringIndexer(inputCols = nominal_cols, outputCols = nominal_id_cols )\n",
    "\n",
    "    # Stage where the index columns are further transformed using OneHotEncoder\n",
    "    stage_nominal_onehot_encoder = OneHotEncoder(inputCols=nominal_id_cols, outputCols=nominal_onehot_cols)\n",
    "\n",
    "    # Stage where all relevant features are assembled into a vector (and dropping a few)\n",
    "    feature_cols = continuous_cols+binary_cols+nominal_onehot_cols\n",
    "    corelated_cols_to_remove = [\"dst_host_serror_rate\",\"srv_serror_rate\",\"dst_host_srv_serror_rate\",\n",
    "                     \"srv_rerror_rate\",\"dst_host_rerror_rate\",\"dst_host_srv_rerror_rate\"]\n",
    "    for col_name in corelated_cols_to_remove:\n",
    "        feature_cols.remove(col_name)\n",
    "    stage_vector_assembler = VectorAssembler(inputCols=feature_cols, outputCol=\"vectorized_features\")\n",
    "\n",
    "    # Stage where we scale the columns\n",
    "    stage_scaler = StandardScaler(inputCol= 'vectorized_features', outputCol= 'features')\n",
    "    \n",
    "\n",
    "    # Stage for creating the outcome column representing whether there is attack \n",
    "    stage_outcome = OutcomeCreater()\n",
    "\n",
    "    # Removing all unnecessary columbs, only keeping the 'features' and 'outcome' columns\n",
    "    stage_column_dropper = ColumnDropper(columns_to_drop = nominal_cols+nominal_id_cols+\n",
    "        nominal_onehot_cols+ binary_cols + continuous_cols + ['vectorized_features'])\n",
    "    \n",
    "\n",
    "    # Connect the columns into a pipeline\n",
    "    pipeline = Pipeline(stages=[stage_typecaster,stage_nominal_indexer,stage_nominal_onehot_encoder,\n",
    "        stage_vector_assembler,stage_scaler,stage_outcome,stage_column_dropper])\n",
    "    \n",
    "    return pipeline "
   ]
  },
  {
   "cell_type": "code",
   "execution_count": 65,
   "id": "92374e57",
   "metadata": {},
   "outputs": [
    {
     "name": "stderr",
     "output_type": "stream",
     "text": [
      "                                                                                \r"
     ]
    }
   ],
   "source": [
    "spark = SparkSession.builder \\\n",
    "    .master(\"local[*]\") \\\n",
    "    .appName(\"GenericAppName\") \\\n",
    "    .getOrCreate()\n",
    "\n",
    "nslkdd_raw = spark.read.csv('../NSL-KDD/KDDTrain+.txt',header=False).toDF(*col_names)\n",
    "nslkdd_test_raw = spark.read.csv('../NSL-KDD/KDDTest+.txt',header=False).toDF(*col_names)\n",
    "\n",
    "preprocess_pipeline = get_preprocess_pipeline()\n",
    "preprocess_pipeline_model = preprocess_pipeline.fit(nslkdd_raw)\n",
    "\n",
    "nslkdd_df = preprocess_pipeline_model.transform(nslkdd_raw)\n",
    "nslkdd_df_test = preprocess_pipeline_model.transform(nslkdd_test_raw)\n"
   ]
  },
  {
   "cell_type": "code",
   "execution_count": 33,
   "id": "e4752817",
   "metadata": {},
   "outputs": [
    {
     "name": "stdout",
     "output_type": "stream",
     "text": [
      "+-------+-----+\n",
      "|outcome|count|\n",
      "+-------+-----+\n",
      "|    0.0|67343|\n",
      "|    1.0|45927|\n",
      "|    4.0|  995|\n",
      "|    3.0|   52|\n",
      "|    2.0|11656|\n",
      "+-------+-----+\n",
      "\n"
     ]
    }
   ],
   "source": [
    "nslkdd_df.groupBy('outcome').count().show()"
   ]
  },
  {
   "cell_type": "code",
   "execution_count": 66,
   "id": "745ef13f",
   "metadata": {},
   "outputs": [
    {
     "name": "stderr",
     "output_type": "stream",
     "text": [
      "                                                                                \r"
     ]
    }
   ],
   "source": [
    "to_array = udf(lambda v: v.toArray().tolist(), ArrayType(FloatType()))\n",
    "\n",
    "# Creating the training, validation and test data sets\n",
    "nslkdd_df_train = nslkdd_df \n",
    "nslkdd_df_validate,nslkdd_df_test = nslkdd_df_test.randomSplit([0.5,0.5])\n",
    "\n",
    "nslkdd_df_train_pandas = nslkdd_df_train.withColumn('features', to_array('features')).toPandas()\n",
    "nslkdd_df_validate_pandas = nslkdd_df_validate.withColumn('features', to_array('features')).toPandas()\n",
    "nslkdd_df_test_pandas = nslkdd_df_test.withColumn('features', to_array('features')).toPandas()"
   ]
  },
  {
   "cell_type": "code",
   "execution_count": 199,
   "id": "9ab05e7b",
   "metadata": {},
   "outputs": [],
   "source": [
    "import tensorflow as tf\n",
    "from tensorflow import keras \n",
    "\n",
    "# Converting the pandas DataFrame to tensors\n",
    "\n",
    "x_train = tf.constant(np.array(nslkdd_df_train_pandas['features'].values.tolist()))\n",
    "y_train = tf.constant(np.array(nslkdd_df_train_pandas['outcome'].values.tolist()))\n",
    "\n",
    "x_validate = tf.constant(np.array(nslkdd_df_validate_pandas['features'].values.tolist()))\n",
    "y_validate = tf.constant(np.array(nslkdd_df_validate_pandas['outcome'].values.tolist()))\n",
    "\n",
    "\n",
    "x_test = tf.constant(np.array(nslkdd_df_test_pandas['features'].values.tolist()))\n",
    "y_test = tf.constant(np.array(nslkdd_df_test_pandas['outcome'].values.tolist()))\n"
   ]
  },
  {
   "cell_type": "code",
   "execution_count": 200,
   "id": "917948b1",
   "metadata": {},
   "outputs": [
    {
     "name": "stdout",
     "output_type": "stream",
     "text": [
      "Model: \"sequential_79\"\n",
      "_________________________________________________________________\n",
      " Layer (type)                Output Shape              Param #   \n",
      "=================================================================\n",
      " dense_461 (Dense)           (125973, 10)              1140      \n",
      "                                                                 \n",
      " dense_462 (Dense)           (125973, 100)             1100      \n",
      "                                                                 \n",
      " dense_463 (Dense)           (125973, 100)             10100     \n",
      "                                                                 \n",
      " dense_464 (Dense)           (125973, 10)              1010      \n",
      "                                                                 \n",
      " dense_465 (Dense)           (125973, 5)               55        \n",
      "                                                                 \n",
      "=================================================================\n",
      "Total params: 13,405\n",
      "Trainable params: 13,405\n",
      "Non-trainable params: 0\n",
      "_________________________________________________________________\n"
     ]
    }
   ],
   "source": [
    "# Defining the model with 5 hidden layers and the output layer for 5 classes\n",
    "\n",
    "model = keras.Sequential( [keras.layers.Dense(10,activation='relu'),\n",
    "                           keras.layers.Dense(100,activation='relu'),\n",
    "                           keras.layers.Dense(100,activation='relu'),\n",
    "                           keras.layers.Dense(10,activation='relu') ,\n",
    "                           keras.layers.Dense(5, activation='softmax')] ) # Added softmax activation, output will be probability\n",
    "\n",
    "\n",
    "y_pred = model(x_train)\n",
    "model.summary()\n",
    "\n"
   ]
  },
  {
   "cell_type": "code",
   "execution_count": 201,
   "id": "cc85c8e8",
   "metadata": {},
   "outputs": [],
   "source": [
    "# Compile the model\n",
    "model.compile(optimizer = 'sgd',\n",
    "    loss=keras.losses.SparseCategoricalCrossentropy(), # Used this loss function due to the format of the output.\n",
    "    metrics=[tf.keras.metrics.SparseCategoricalAccuracy()])\n"
   ]
  },
  {
   "cell_type": "code",
   "execution_count": 202,
   "id": "c707f8b1",
   "metadata": {},
   "outputs": [],
   "source": [
    "import datetime\n",
    "\n",
    "# This is to send the model output to tensorboard for visualization.\n",
    "log_dir = \"logsHW7/Q1/\" + datetime.datetime.now().strftime(\"%Y%m%d-%H%M%S\")\n",
    "tensorboard_callback = tf.keras.callbacks.TensorBoard(log_dir=log_dir, histogram_freq=1)"
   ]
  },
  {
   "cell_type": "code",
   "execution_count": 203,
   "id": "3c2e0d45",
   "metadata": {
    "scrolled": false
   },
   "outputs": [
    {
     "name": "stdout",
     "output_type": "stream",
     "text": [
      "Epoch 1/10\n"
     ]
    },
    {
     "name": "stderr",
     "output_type": "stream",
     "text": [
      "2022-11-10 19:56:51.004165: I tensorflow/core/grappler/optimizers/custom_graph_optimizer_registry.cc:113] Plugin optimizer for device_type GPU is enabled.\n",
      "2022-11-10 19:57:15.818486: I tensorflow/core/grappler/optimizers/custom_graph_optimizer_registry.cc:113] Plugin optimizer for device_type GPU is enabled.\n"
     ]
    },
    {
     "name": "stdout",
     "output_type": "stream",
     "text": [
      "3937/3937 - 27s - loss: 0.1715 - sparse_categorical_accuracy: 0.9545 - val_loss: 1.4537 - val_sparse_categorical_accuracy: 0.7437 - 27s/epoch - 7ms/step\n",
      "Epoch 2/10\n",
      "3937/3937 - 26s - loss: 0.0567 - sparse_categorical_accuracy: 0.9819 - val_loss: 1.9440 - val_sparse_categorical_accuracy: 0.7571 - 26s/epoch - 7ms/step\n",
      "Epoch 3/10\n",
      "3937/3937 - 26s - loss: 0.0405 - sparse_categorical_accuracy: 0.9871 - val_loss: 2.0554 - val_sparse_categorical_accuracy: 0.7566 - 26s/epoch - 7ms/step\n",
      "Epoch 4/10\n",
      "3937/3937 - 27s - loss: 0.0351 - sparse_categorical_accuracy: 0.9887 - val_loss: 2.1886 - val_sparse_categorical_accuracy: 0.7516 - 27s/epoch - 7ms/step\n",
      "Epoch 5/10\n",
      "3937/3937 - 26s - loss: 0.0328 - sparse_categorical_accuracy: 0.9893 - val_loss: 2.1320 - val_sparse_categorical_accuracy: 0.7527 - 26s/epoch - 7ms/step\n",
      "Epoch 6/10\n",
      "3937/3937 - 27s - loss: 0.0313 - sparse_categorical_accuracy: 0.9902 - val_loss: 2.2020 - val_sparse_categorical_accuracy: 0.7507 - 27s/epoch - 7ms/step\n",
      "Epoch 7/10\n",
      "3937/3937 - 26s - loss: 0.0301 - sparse_categorical_accuracy: 0.9901 - val_loss: 2.5138 - val_sparse_categorical_accuracy: 0.7323 - 26s/epoch - 7ms/step\n",
      "Epoch 8/10\n",
      "3937/3937 - 25s - loss: 0.0288 - sparse_categorical_accuracy: 0.9908 - val_loss: 2.4311 - val_sparse_categorical_accuracy: 0.7349 - 25s/epoch - 6ms/step\n",
      "Epoch 9/10\n",
      "3937/3937 - 25s - loss: 0.0282 - sparse_categorical_accuracy: 0.9910 - val_loss: 2.3959 - val_sparse_categorical_accuracy: 0.7545 - 25s/epoch - 6ms/step\n",
      "Epoch 10/10\n",
      "3937/3937 - 25s - loss: 0.0270 - sparse_categorical_accuracy: 0.9915 - val_loss: 2.2141 - val_sparse_categorical_accuracy: 0.7646 - 25s/epoch - 6ms/step\n"
     ]
    },
    {
     "data": {
      "text/plain": [
       "<keras.callbacks.History at 0x2ca11a200>"
      ]
     },
     "execution_count": 203,
     "metadata": {},
     "output_type": "execute_result"
    }
   ],
   "source": [
    "# Fitting the model\n",
    "\n",
    "model.fit(x_train,y_train, epochs = 10,validation_data=(x_validate,y_validate),verbose = 2,\n",
    "          callbacks=[tensorboard_callback])"
   ]
  },
  {
   "cell_type": "code",
   "execution_count": 204,
   "id": "3435e4ed",
   "metadata": {},
   "outputs": [
    {
     "name": "stdout",
     "output_type": "stream",
     "text": [
      "354/354 - 3s - loss: 2.2163 - sparse_categorical_accuracy: 0.7614 - 3s/epoch - 8ms/step\n"
     ]
    },
    {
     "data": {
      "text/plain": [
       "[2.216282367706299, 0.7614410519599915]"
      ]
     },
     "execution_count": 204,
     "metadata": {},
     "output_type": "execute_result"
    }
   ],
   "source": [
    "# Evaluating the model\n",
    "\n",
    "model.evaluate(x_test,y_test, verbose = 2)"
   ]
  },
  {
   "cell_type": "markdown",
   "id": "c0eb7b3d",
   "metadata": {},
   "source": [
    "# Q2"
   ]
  },
  {
   "cell_type": "code",
   "execution_count": 190,
   "id": "2973c069",
   "metadata": {},
   "outputs": [],
   "source": [
    "from tensorboard.plugins.hparams import api as hp\n",
    "\n",
    "# Defining the hyperparameters that will be compared and tuned using tensorboard\n",
    "\n",
    "HP_WIDTH = hp.HParam('NN_width', hp.Discrete([20,30])) # the width of the layers\n",
    "HP_DEPTH = hp.HParam('NN_depth', hp.Discrete([4,6])) # Number of layers/depth\n",
    "HP_OPTIMIZER = hp.HParam('optimizer', hp.Discrete(['adam', 'sgd'])) # Using different optimizers\n",
    "\n",
    "# Creating the logs\n",
    "with tf.summary.create_file_writer('logsHW7/Q2').as_default():\n",
    "  hp.hparams_config(\n",
    "    hparams=[HP_WIDTH, HP_DEPTH, HP_OPTIMIZER],\n",
    "    metrics=[hp.Metric('Accuracy')],\n",
    "  )\n",
    "\n"
   ]
  },
  {
   "cell_type": "code",
   "execution_count": 191,
   "id": "d710069e",
   "metadata": {},
   "outputs": [],
   "source": [
    "# Defining the model training function for hyperparameter tuning\n",
    "def train_test_model(hparams,logdir, x, y, i, k):\n",
    "  model = keras.Sequential()\n",
    "  for _ in range(hparams[HP_DEPTH]): #Create the model\n",
    "    model.add(keras.layers.Dense(hparams[HP_WIDTH],activation='relu'))\n",
    "  model.add(keras.layers.Dense(5, activation = 'softmax'))\n",
    "  model.compile(\n",
    "      optimizer=hparams[HP_OPTIMIZER],\n",
    "      loss = keras.losses.SparseCategoricalCrossentropy(),\n",
    "      metrics=[keras.metrics.SparseCategoricalAccuracy(name = \"Accuracy_epochs\")])\n",
    "    \n",
    "  # This section is for splitting the data sets into k folds. May be better to do this outside this function\n",
    "  x_train = tf.split(x, k)\n",
    "  y_train = tf.split(y, k)\n",
    "  val_x = x_train.pop(i)\n",
    "  val_y = y_train.pop(i)\n",
    "  x_train = tf.concat([x_train[0], x_train[1]], 0)  \n",
    "  y_train = tf.concat([y_train[0], y_train[1]], 0)  \n",
    "\n",
    "  # Store the output of the model training\n",
    "  history = model.fit(x_train, y_train, epochs=5, verbose = 2,\n",
    "  callbacks=[tf.keras.callbacks.TensorBoard(log_dir=logdir, histogram_freq=1)],\n",
    "  validation_data = (val_x, val_y))\n",
    "\n",
    "  accuracy = np.max(history.history[\"val_Accuracy_epochs\"]) # Returns the highest accuracy obtained in training\n",
    "  return accuracy\n"
   ]
  },
  {
   "cell_type": "code",
   "execution_count": 197,
   "id": "2fd7725c",
   "metadata": {},
   "outputs": [
    {
     "name": "stdout",
     "output_type": "stream",
     "text": [
      "tf.Tensor([137220    113], shape=(2,), dtype=int32)\n",
      "tf.Tensor([    3 45740   113], shape=(3,), dtype=int32)\n",
      "tf.Tensor([    3 45740], shape=(2,), dtype=int32)\n"
     ]
    }
   ],
   "source": [
    "# Combine the original training and validation data sets\n",
    "x_train = tf.concat([x_train,x_validate], 0)\n",
    "y_train = tf.concat([y_train,y_validate], 0)\n",
    "\n",
    "# Get randomized indices in order to shuffle data sets\n",
    "indices = tf.range(start=0, limit=tf.shape(x_train)[0], dtype=tf.int32)\n",
    "\n",
    "shuffled_indices = tf.random.shuffle(indices)\n",
    "\n",
    "# Shuffle the data sets with the random indices\n",
    "x_train_shuffled = tf.gather(x_train, shuffled_indices)\n",
    "y_train_shuffled = tf.gather(y_train, shuffled_indices)\n",
    "print(tf.shape(x_train_shuffled))\n",
    "\n",
    "# Number of folds to split the data into\n",
    "k = 3\n",
    "\n",
    "# Splits the data into k folds. These are unused as splitting is done also within the train_test_model function.\n",
    "x_train_split = tf.split(x_train_shuffled, k)\n",
    "y_train_split = tf.split(y_train_shuffled, k)\n",
    "\n",
    "print(tf.shape(x_train_split))\n",
    "print(tf.shape(y_train_split))"
   ]
  },
  {
   "cell_type": "code",
   "execution_count": 198,
   "id": "e9852194",
   "metadata": {},
   "outputs": [
    {
     "name": "stdout",
     "output_type": "stream",
     "text": [
      "--- Starting trial: run-OPTIMIZERadam-WIDTH20-DEPTH4\n",
      "{'NN_width': 20, 'NN_depth': 4, 'optimizer': 'adam'}\n",
      "Epoch 1/5\n"
     ]
    },
    {
     "name": "stderr",
     "output_type": "stream",
     "text": [
      "2022-11-10 08:34:04.073400: I tensorflow/core/grappler/optimizers/custom_graph_optimizer_registry.cc:113] Plugin optimizer for device_type GPU is enabled.\n",
      "2022-11-10 08:34:24.644616: I tensorflow/core/grappler/optimizers/custom_graph_optimizer_registry.cc:113] Plugin optimizer for device_type GPU is enabled.\n"
     ]
    },
    {
     "name": "stdout",
     "output_type": "stream",
     "text": [
      "2859/2859 - 27s - loss: 0.1250 - Accuracy_epochs: 0.9642 - val_loss: 0.0693 - val_Accuracy_epochs: 0.9787 - 27s/epoch - 10ms/step\n",
      "Epoch 2/5\n",
      "2859/2859 - 26s - loss: 0.0564 - Accuracy_epochs: 0.9825 - val_loss: 0.0632 - val_Accuracy_epochs: 0.9818 - 26s/epoch - 9ms/step\n",
      "Epoch 3/5\n",
      "2859/2859 - 26s - loss: 0.0475 - Accuracy_epochs: 0.9850 - val_loss: 0.0497 - val_Accuracy_epochs: 0.9844 - 26s/epoch - 9ms/step\n",
      "Epoch 4/5\n",
      "2859/2859 - 26s - loss: 0.0424 - Accuracy_epochs: 0.9863 - val_loss: 0.0438 - val_Accuracy_epochs: 0.9861 - 26s/epoch - 9ms/step\n",
      "Epoch 5/5\n",
      "2859/2859 - 27s - loss: 0.0386 - Accuracy_epochs: 0.9878 - val_loss: 0.0436 - val_Accuracy_epochs: 0.9858 - 27s/epoch - 10ms/step\n",
      "Epoch 1/5\n"
     ]
    },
    {
     "name": "stderr",
     "output_type": "stream",
     "text": [
      "2022-11-10 08:36:17.122226: I tensorflow/core/grappler/optimizers/custom_graph_optimizer_registry.cc:113] Plugin optimizer for device_type GPU is enabled.\n",
      "2022-11-10 08:36:41.029582: I tensorflow/core/grappler/optimizers/custom_graph_optimizer_registry.cc:113] Plugin optimizer for device_type GPU is enabled.\n"
     ]
    },
    {
     "name": "stdout",
     "output_type": "stream",
     "text": [
      "2859/2859 - 32s - loss: 0.1234 - Accuracy_epochs: 0.9634 - val_loss: 0.0631 - val_Accuracy_epochs: 0.9813 - 32s/epoch - 11ms/step\n",
      "Epoch 2/5\n",
      "2859/2859 - 27s - loss: 0.0574 - Accuracy_epochs: 0.9826 - val_loss: 0.0557 - val_Accuracy_epochs: 0.9831 - 27s/epoch - 9ms/step\n",
      "Epoch 3/5\n",
      "2859/2859 - 26s - loss: 0.0497 - Accuracy_epochs: 0.9847 - val_loss: 0.0476 - val_Accuracy_epochs: 0.9839 - 26s/epoch - 9ms/step\n",
      "Epoch 4/5\n",
      "2859/2859 - 26s - loss: 0.0446 - Accuracy_epochs: 0.9859 - val_loss: 0.0447 - val_Accuracy_epochs: 0.9861 - 26s/epoch - 9ms/step\n",
      "Epoch 5/5\n",
      "2859/2859 - 26s - loss: 0.0409 - Accuracy_epochs: 0.9868 - val_loss: 0.0453 - val_Accuracy_epochs: 0.9857 - 26s/epoch - 9ms/step\n",
      "Epoch 1/5\n"
     ]
    },
    {
     "name": "stderr",
     "output_type": "stream",
     "text": [
      "2022-11-10 08:38:34.809581: I tensorflow/core/grappler/optimizers/custom_graph_optimizer_registry.cc:113] Plugin optimizer for device_type GPU is enabled.\n",
      "2022-11-10 08:38:55.413936: I tensorflow/core/grappler/optimizers/custom_graph_optimizer_registry.cc:113] Plugin optimizer for device_type GPU is enabled.\n"
     ]
    },
    {
     "name": "stdout",
     "output_type": "stream",
     "text": [
      "2859/2859 - 27s - loss: 0.1287 - Accuracy_epochs: 0.9619 - val_loss: 0.0691 - val_Accuracy_epochs: 0.9790 - 27s/epoch - 10ms/step\n",
      "Epoch 2/5\n",
      "2859/2859 - 27s - loss: 0.0592 - Accuracy_epochs: 0.9816 - val_loss: 0.0557 - val_Accuracy_epochs: 0.9848 - 27s/epoch - 9ms/step\n",
      "Epoch 3/5\n",
      "2859/2859 - 27s - loss: 0.0505 - Accuracy_epochs: 0.9843 - val_loss: 0.0512 - val_Accuracy_epochs: 0.9861 - 27s/epoch - 9ms/step\n",
      "Epoch 4/5\n",
      "2859/2859 - 26s - loss: 0.0469 - Accuracy_epochs: 0.9855 - val_loss: 0.0467 - val_Accuracy_epochs: 0.9853 - 26s/epoch - 9ms/step\n",
      "Epoch 5/5\n",
      "2859/2859 - 26s - loss: 0.0415 - Accuracy_epochs: 0.9868 - val_loss: 0.0476 - val_Accuracy_epochs: 0.9869 - 26s/epoch - 9ms/step\n",
      "--- Starting trial: run-OPTIMIZERsgd-WIDTH20-DEPTH4\n",
      "{'NN_width': 20, 'NN_depth': 4, 'optimizer': 'sgd'}\n",
      "Epoch 1/5\n"
     ]
    },
    {
     "name": "stderr",
     "output_type": "stream",
     "text": [
      "2022-11-10 08:40:48.338058: I tensorflow/core/grappler/optimizers/custom_graph_optimizer_registry.cc:113] Plugin optimizer for device_type GPU is enabled.\n",
      "2022-11-10 08:41:05.837191: I tensorflow/core/grappler/optimizers/custom_graph_optimizer_registry.cc:113] Plugin optimizer for device_type GPU is enabled.\n"
     ]
    },
    {
     "name": "stdout",
     "output_type": "stream",
     "text": [
      "2859/2859 - 24s - loss: 0.2337 - Accuracy_epochs: 0.9296 - val_loss: 0.1121 - val_Accuracy_epochs: 0.9635 - 24s/epoch - 8ms/step\n",
      "Epoch 2/5\n",
      "2859/2859 - 23s - loss: 0.0922 - Accuracy_epochs: 0.9721 - val_loss: 0.0814 - val_Accuracy_epochs: 0.9707 - 23s/epoch - 8ms/step\n",
      "Epoch 3/5\n",
      "2859/2859 - 23s - loss: 0.0728 - Accuracy_epochs: 0.9775 - val_loss: 0.0778 - val_Accuracy_epochs: 0.9775 - 23s/epoch - 8ms/step\n",
      "Epoch 4/5\n",
      "2859/2859 - 23s - loss: 0.0642 - Accuracy_epochs: 0.9802 - val_loss: 0.0643 - val_Accuracy_epochs: 0.9798 - 23s/epoch - 8ms/step\n",
      "Epoch 5/5\n",
      "2859/2859 - 23s - loss: 0.0586 - Accuracy_epochs: 0.9817 - val_loss: 0.0625 - val_Accuracy_epochs: 0.9801 - 23s/epoch - 8ms/step\n",
      "Epoch 1/5\n"
     ]
    },
    {
     "name": "stderr",
     "output_type": "stream",
     "text": [
      "2022-11-10 08:42:45.034758: I tensorflow/core/grappler/optimizers/custom_graph_optimizer_registry.cc:113] Plugin optimizer for device_type GPU is enabled.\n",
      "2022-11-10 08:43:02.461112: I tensorflow/core/grappler/optimizers/custom_graph_optimizer_registry.cc:113] Plugin optimizer for device_type GPU is enabled.\n"
     ]
    },
    {
     "name": "stdout",
     "output_type": "stream",
     "text": [
      "2859/2859 - 24s - loss: 0.2345 - Accuracy_epochs: 0.9279 - val_loss: 0.1088 - val_Accuracy_epochs: 0.9659 - 24s/epoch - 8ms/step\n",
      "Epoch 2/5\n",
      "2859/2859 - 23s - loss: 0.0927 - Accuracy_epochs: 0.9719 - val_loss: 0.0801 - val_Accuracy_epochs: 0.9787 - 23s/epoch - 8ms/step\n",
      "Epoch 3/5\n",
      "2859/2859 - 23s - loss: 0.0742 - Accuracy_epochs: 0.9785 - val_loss: 0.0685 - val_Accuracy_epochs: 0.9795 - 23s/epoch - 8ms/step\n",
      "Epoch 4/5\n",
      "2859/2859 - 23s - loss: 0.0649 - Accuracy_epochs: 0.9805 - val_loss: 0.0619 - val_Accuracy_epochs: 0.9819 - 23s/epoch - 8ms/step\n",
      "Epoch 5/5\n",
      "2859/2859 - 24s - loss: 0.0585 - Accuracy_epochs: 0.9820 - val_loss: 0.0609 - val_Accuracy_epochs: 0.9808 - 24s/epoch - 8ms/step\n",
      "Epoch 1/5\n"
     ]
    },
    {
     "name": "stderr",
     "output_type": "stream",
     "text": [
      "2022-11-10 08:44:42.312322: I tensorflow/core/grappler/optimizers/custom_graph_optimizer_registry.cc:113] Plugin optimizer for device_type GPU is enabled.\n",
      "2022-11-10 08:44:59.541791: I tensorflow/core/grappler/optimizers/custom_graph_optimizer_registry.cc:113] Plugin optimizer for device_type GPU is enabled.\n"
     ]
    },
    {
     "name": "stdout",
     "output_type": "stream",
     "text": [
      "2859/2859 - 24s - loss: 0.2341 - Accuracy_epochs: 0.9283 - val_loss: 0.1120 - val_Accuracy_epochs: 0.9639 - 24s/epoch - 8ms/step\n",
      "Epoch 2/5\n",
      "2859/2859 - 23s - loss: 0.0924 - Accuracy_epochs: 0.9710 - val_loss: 0.0847 - val_Accuracy_epochs: 0.9752 - 23s/epoch - 8ms/step\n",
      "Epoch 3/5\n",
      "2859/2859 - 26s - loss: 0.0730 - Accuracy_epochs: 0.9784 - val_loss: 0.0696 - val_Accuracy_epochs: 0.9787 - 26s/epoch - 9ms/step\n",
      "Epoch 4/5\n",
      "2859/2859 - 23s - loss: 0.0636 - Accuracy_epochs: 0.9812 - val_loss: 0.0676 - val_Accuracy_epochs: 0.9827 - 23s/epoch - 8ms/step\n",
      "Epoch 5/5\n",
      "2859/2859 - 23s - loss: 0.0577 - Accuracy_epochs: 0.9821 - val_loss: 0.0579 - val_Accuracy_epochs: 0.9844 - 23s/epoch - 8ms/step\n",
      "--- Starting trial: run-OPTIMIZERadam-WIDTH20-DEPTH6\n",
      "{'NN_width': 20, 'NN_depth': 6, 'optimizer': 'adam'}\n",
      "Epoch 1/5\n"
     ]
    },
    {
     "name": "stderr",
     "output_type": "stream",
     "text": [
      "2022-11-10 08:46:41.785220: I tensorflow/core/grappler/optimizers/custom_graph_optimizer_registry.cc:113] Plugin optimizer for device_type GPU is enabled.\n",
      "2022-11-10 08:47:06.445943: I tensorflow/core/grappler/optimizers/custom_graph_optimizer_registry.cc:113] Plugin optimizer for device_type GPU is enabled.\n"
     ]
    },
    {
     "name": "stdout",
     "output_type": "stream",
     "text": [
      "2859/2859 - 32s - loss: 0.1360 - Accuracy_epochs: 0.9602 - val_loss: 0.0660 - val_Accuracy_epochs: 0.9807 - 32s/epoch - 11ms/step\n",
      "Epoch 2/5\n",
      "2859/2859 - 30s - loss: 0.0603 - Accuracy_epochs: 0.9813 - val_loss: 0.0622 - val_Accuracy_epochs: 0.9794 - 30s/epoch - 10ms/step\n",
      "Epoch 3/5\n",
      "2859/2859 - 30s - loss: 0.0517 - Accuracy_epochs: 0.9836 - val_loss: 0.0536 - val_Accuracy_epochs: 0.9823 - 30s/epoch - 10ms/step\n",
      "Epoch 4/5\n",
      "2859/2859 - 32s - loss: 0.0463 - Accuracy_epochs: 0.9846 - val_loss: 0.0530 - val_Accuracy_epochs: 0.9829 - 32s/epoch - 11ms/step\n",
      "Epoch 5/5\n",
      "2859/2859 - 33s - loss: 0.0430 - Accuracy_epochs: 0.9855 - val_loss: 0.0450 - val_Accuracy_epochs: 0.9860 - 33s/epoch - 11ms/step\n",
      "Epoch 1/5\n"
     ]
    },
    {
     "name": "stderr",
     "output_type": "stream",
     "text": [
      "2022-11-10 08:49:17.803249: I tensorflow/core/grappler/optimizers/custom_graph_optimizer_registry.cc:113] Plugin optimizer for device_type GPU is enabled.\n",
      "2022-11-10 08:49:44.011036: I tensorflow/core/grappler/optimizers/custom_graph_optimizer_registry.cc:113] Plugin optimizer for device_type GPU is enabled.\n"
     ]
    },
    {
     "name": "stdout",
     "output_type": "stream",
     "text": [
      "2859/2859 - 33s - loss: 0.1376 - Accuracy_epochs: 0.9597 - val_loss: 0.0692 - val_Accuracy_epochs: 0.9785 - 33s/epoch - 12ms/step\n",
      "Epoch 2/5\n",
      "2859/2859 - 30s - loss: 0.0611 - Accuracy_epochs: 0.9810 - val_loss: 0.0561 - val_Accuracy_epochs: 0.9832 - 30s/epoch - 10ms/step\n",
      "Epoch 3/5\n",
      "2859/2859 - 31s - loss: 0.0518 - Accuracy_epochs: 0.9841 - val_loss: 0.0554 - val_Accuracy_epochs: 0.9826 - 31s/epoch - 11ms/step\n",
      "Epoch 4/5\n",
      "2859/2859 - 30s - loss: 0.0471 - Accuracy_epochs: 0.9855 - val_loss: 0.0479 - val_Accuracy_epochs: 0.9858 - 30s/epoch - 10ms/step\n",
      "Epoch 5/5\n",
      "2859/2859 - 30s - loss: 0.0431 - Accuracy_epochs: 0.9863 - val_loss: 0.0460 - val_Accuracy_epochs: 0.9852 - 30s/epoch - 10ms/step\n",
      "Epoch 1/5\n"
     ]
    },
    {
     "name": "stderr",
     "output_type": "stream",
     "text": [
      "2022-11-10 08:51:51.271886: I tensorflow/core/grappler/optimizers/custom_graph_optimizer_registry.cc:113] Plugin optimizer for device_type GPU is enabled.\n",
      "2022-11-10 08:52:15.164299: I tensorflow/core/grappler/optimizers/custom_graph_optimizer_registry.cc:113] Plugin optimizer for device_type GPU is enabled.\n"
     ]
    },
    {
     "name": "stdout",
     "output_type": "stream",
     "text": [
      "2859/2859 - 31s - loss: 0.1363 - Accuracy_epochs: 0.9602 - val_loss: 0.0621 - val_Accuracy_epochs: 0.9822 - 31s/epoch - 11ms/step\n",
      "Epoch 2/5\n",
      "2859/2859 - 30s - loss: 0.0598 - Accuracy_epochs: 0.9811 - val_loss: 0.0536 - val_Accuracy_epochs: 0.9833 - 30s/epoch - 10ms/step\n",
      "Epoch 3/5\n",
      "2859/2859 - 30s - loss: 0.0512 - Accuracy_epochs: 0.9831 - val_loss: 0.0524 - val_Accuracy_epochs: 0.9842 - 30s/epoch - 10ms/step\n",
      "Epoch 4/5\n",
      "2859/2859 - 30s - loss: 0.0463 - Accuracy_epochs: 0.9852 - val_loss: 0.0459 - val_Accuracy_epochs: 0.9865 - 30s/epoch - 10ms/step\n",
      "Epoch 5/5\n",
      "2859/2859 - 30s - loss: 0.0438 - Accuracy_epochs: 0.9857 - val_loss: 0.0424 - val_Accuracy_epochs: 0.9867 - 30s/epoch - 10ms/step\n",
      "--- Starting trial: run-OPTIMIZERsgd-WIDTH20-DEPTH6\n",
      "{'NN_width': 20, 'NN_depth': 6, 'optimizer': 'sgd'}\n",
      "Epoch 1/5\n"
     ]
    },
    {
     "name": "stderr",
     "output_type": "stream",
     "text": [
      "2022-11-10 08:54:21.344828: I tensorflow/core/grappler/optimizers/custom_graph_optimizer_registry.cc:113] Plugin optimizer for device_type GPU is enabled.\n",
      "2022-11-10 08:54:41.370119: I tensorflow/core/grappler/optimizers/custom_graph_optimizer_registry.cc:113] Plugin optimizer for device_type GPU is enabled.\n"
     ]
    },
    {
     "name": "stdout",
     "output_type": "stream",
     "text": [
      "2859/2859 - 27s - loss: 0.3017 - Accuracy_epochs: 0.9104 - val_loss: 0.1656 - val_Accuracy_epochs: 0.9509 - 27s/epoch - 9ms/step\n",
      "Epoch 2/5\n",
      "2859/2859 - 26s - loss: 0.1305 - Accuracy_epochs: 0.9602 - val_loss: 0.1213 - val_Accuracy_epochs: 0.9664 - 26s/epoch - 9ms/step\n",
      "Epoch 3/5\n",
      "2859/2859 - 26s - loss: 0.0842 - Accuracy_epochs: 0.9728 - val_loss: 0.0725 - val_Accuracy_epochs: 0.9761 - 26s/epoch - 9ms/step\n",
      "Epoch 4/5\n",
      "2859/2859 - 26s - loss: 0.0674 - Accuracy_epochs: 0.9788 - val_loss: 0.0858 - val_Accuracy_epochs: 0.9703 - 26s/epoch - 9ms/step\n",
      "Epoch 5/5\n",
      "2859/2859 - 26s - loss: 0.0608 - Accuracy_epochs: 0.9805 - val_loss: 0.0619 - val_Accuracy_epochs: 0.9800 - 26s/epoch - 9ms/step\n",
      "Epoch 1/5\n"
     ]
    },
    {
     "name": "stderr",
     "output_type": "stream",
     "text": [
      "2022-11-10 08:56:33.031078: I tensorflow/core/grappler/optimizers/custom_graph_optimizer_registry.cc:113] Plugin optimizer for device_type GPU is enabled.\n",
      "2022-11-10 08:56:53.267035: I tensorflow/core/grappler/optimizers/custom_graph_optimizer_registry.cc:113] Plugin optimizer for device_type GPU is enabled.\n"
     ]
    },
    {
     "name": "stdout",
     "output_type": "stream",
     "text": [
      "2859/2859 - 27s - loss: 0.2996 - Accuracy_epochs: 0.9116 - val_loss: 0.1611 - val_Accuracy_epochs: 0.9543 - 27s/epoch - 9ms/step\n",
      "Epoch 2/5\n",
      "2859/2859 - 26s - loss: 0.1320 - Accuracy_epochs: 0.9613 - val_loss: 0.1106 - val_Accuracy_epochs: 0.9644 - 26s/epoch - 9ms/step\n",
      "Epoch 3/5\n",
      "2859/2859 - 26s - loss: 0.0859 - Accuracy_epochs: 0.9726 - val_loss: 0.0732 - val_Accuracy_epochs: 0.9798 - 26s/epoch - 9ms/step\n",
      "Epoch 4/5\n",
      "2859/2859 - 26s - loss: 0.0652 - Accuracy_epochs: 0.9801 - val_loss: 0.0602 - val_Accuracy_epochs: 0.9820 - 26s/epoch - 9ms/step\n",
      "Epoch 5/5\n",
      "2859/2859 - 26s - loss: 0.0577 - Accuracy_epochs: 0.9820 - val_loss: 0.0547 - val_Accuracy_epochs: 0.9830 - 26s/epoch - 9ms/step\n",
      "Epoch 1/5\n"
     ]
    },
    {
     "name": "stderr",
     "output_type": "stream",
     "text": [
      "2022-11-10 08:58:44.842936: I tensorflow/core/grappler/optimizers/custom_graph_optimizer_registry.cc:113] Plugin optimizer for device_type GPU is enabled.\n",
      "2022-11-10 08:59:04.752915: I tensorflow/core/grappler/optimizers/custom_graph_optimizer_registry.cc:113] Plugin optimizer for device_type GPU is enabled.\n"
     ]
    },
    {
     "name": "stdout",
     "output_type": "stream",
     "text": [
      "2859/2859 - 27s - loss: 0.3079 - Accuracy_epochs: 0.9089 - val_loss: 0.1591 - val_Accuracy_epochs: 0.9548 - 27s/epoch - 9ms/step\n",
      "Epoch 2/5\n",
      "2859/2859 - 26s - loss: 0.1366 - Accuracy_epochs: 0.9594 - val_loss: 0.1117 - val_Accuracy_epochs: 0.9661 - 26s/epoch - 9ms/step\n",
      "Epoch 3/5\n",
      "2859/2859 - 27s - loss: 0.1001 - Accuracy_epochs: 0.9687 - val_loss: 0.0894 - val_Accuracy_epochs: 0.9751 - 27s/epoch - 10ms/step\n",
      "Epoch 4/5\n",
      "2859/2859 - 31s - loss: 0.0729 - Accuracy_epochs: 0.9778 - val_loss: 0.0705 - val_Accuracy_epochs: 0.9813 - 31s/epoch - 11ms/step\n",
      "Epoch 5/5\n",
      "2859/2859 - 26s - loss: 0.0624 - Accuracy_epochs: 0.9807 - val_loss: 0.0565 - val_Accuracy_epochs: 0.9833 - 26s/epoch - 9ms/step\n",
      "--- Starting trial: run-OPTIMIZERadam-WIDTH30-DEPTH4\n",
      "{'NN_width': 30, 'NN_depth': 4, 'optimizer': 'adam'}\n",
      "Epoch 1/5\n"
     ]
    },
    {
     "name": "stderr",
     "output_type": "stream",
     "text": [
      "2022-11-10 09:01:01.842619: I tensorflow/core/grappler/optimizers/custom_graph_optimizer_registry.cc:113] Plugin optimizer for device_type GPU is enabled.\n",
      "2022-11-10 09:01:25.042371: I tensorflow/core/grappler/optimizers/custom_graph_optimizer_registry.cc:113] Plugin optimizer for device_type GPU is enabled.\n"
     ]
    },
    {
     "name": "stdout",
     "output_type": "stream",
     "text": [
      "2859/2859 - 30s - loss: 0.1113 - Accuracy_epochs: 0.9680 - val_loss: 0.0572 - val_Accuracy_epochs: 0.9835 - 30s/epoch - 11ms/step\n",
      "Epoch 2/5\n",
      "2859/2859 - 26s - loss: 0.0544 - Accuracy_epochs: 0.9825 - val_loss: 0.0473 - val_Accuracy_epochs: 0.9846 - 26s/epoch - 9ms/step\n",
      "Epoch 3/5\n",
      "2859/2859 - 26s - loss: 0.0452 - Accuracy_epochs: 0.9853 - val_loss: 0.0468 - val_Accuracy_epochs: 0.9844 - 26s/epoch - 9ms/step\n",
      "Epoch 4/5\n",
      "2859/2859 - 26s - loss: 0.0400 - Accuracy_epochs: 0.9865 - val_loss: 0.0449 - val_Accuracy_epochs: 0.9858 - 26s/epoch - 9ms/step\n",
      "Epoch 5/5\n",
      "2859/2859 - 26s - loss: 0.0370 - Accuracy_epochs: 0.9879 - val_loss: 0.0419 - val_Accuracy_epochs: 0.9874 - 26s/epoch - 9ms/step\n",
      "Epoch 1/5\n"
     ]
    },
    {
     "name": "stderr",
     "output_type": "stream",
     "text": [
      "2022-11-10 09:03:15.306463: I tensorflow/core/grappler/optimizers/custom_graph_optimizer_registry.cc:113] Plugin optimizer for device_type GPU is enabled.\n",
      "2022-11-10 09:03:35.450403: I tensorflow/core/grappler/optimizers/custom_graph_optimizer_registry.cc:113] Plugin optimizer for device_type GPU is enabled.\n"
     ]
    },
    {
     "name": "stdout",
     "output_type": "stream",
     "text": [
      "2859/2859 - 27s - loss: 0.1113 - Accuracy_epochs: 0.9681 - val_loss: 0.0746 - val_Accuracy_epochs: 0.9760 - 27s/epoch - 9ms/step\n",
      "Epoch 2/5\n",
      "2859/2859 - 26s - loss: 0.0539 - Accuracy_epochs: 0.9831 - val_loss: 0.0518 - val_Accuracy_epochs: 0.9845 - 26s/epoch - 9ms/step\n",
      "Epoch 3/5\n",
      "2859/2859 - 28s - loss: 0.0456 - Accuracy_epochs: 0.9852 - val_loss: 0.0442 - val_Accuracy_epochs: 0.9852 - 28s/epoch - 10ms/step\n",
      "Epoch 4/5\n",
      "2859/2859 - 28s - loss: 0.0409 - Accuracy_epochs: 0.9867 - val_loss: 0.0406 - val_Accuracy_epochs: 0.9863 - 28s/epoch - 10ms/step\n",
      "Epoch 5/5\n",
      "2859/2859 - 27s - loss: 0.0378 - Accuracy_epochs: 0.9875 - val_loss: 0.0400 - val_Accuracy_epochs: 0.9869 - 27s/epoch - 9ms/step\n",
      "Epoch 1/5\n"
     ]
    },
    {
     "name": "stderr",
     "output_type": "stream",
     "text": [
      "2022-11-10 09:05:31.844105: I tensorflow/core/grappler/optimizers/custom_graph_optimizer_registry.cc:113] Plugin optimizer for device_type GPU is enabled.\n",
      "2022-11-10 09:05:52.297539: I tensorflow/core/grappler/optimizers/custom_graph_optimizer_registry.cc:113] Plugin optimizer for device_type GPU is enabled.\n"
     ]
    },
    {
     "name": "stdout",
     "output_type": "stream",
     "text": [
      "2859/2859 - 27s - loss: 0.1108 - Accuracy_epochs: 0.9672 - val_loss: 0.0678 - val_Accuracy_epochs: 0.9791 - 27s/epoch - 10ms/step\n",
      "Epoch 2/5\n",
      "2859/2859 - 26s - loss: 0.0543 - Accuracy_epochs: 0.9822 - val_loss: 0.0563 - val_Accuracy_epochs: 0.9838 - 26s/epoch - 9ms/step\n",
      "Epoch 3/5\n",
      "2859/2859 - 32s - loss: 0.0455 - Accuracy_epochs: 0.9850 - val_loss: 0.0475 - val_Accuracy_epochs: 0.9852 - 32s/epoch - 11ms/step\n",
      "Epoch 4/5\n",
      "2859/2859 - 26s - loss: 0.0412 - Accuracy_epochs: 0.9862 - val_loss: 0.0411 - val_Accuracy_epochs: 0.9873 - 26s/epoch - 9ms/step\n",
      "Epoch 5/5\n",
      "2859/2859 - 26s - loss: 0.0368 - Accuracy_epochs: 0.9879 - val_loss: 0.0395 - val_Accuracy_epochs: 0.9882 - 26s/epoch - 9ms/step\n",
      "--- Starting trial: run-OPTIMIZERsgd-WIDTH30-DEPTH4\n",
      "{'NN_width': 30, 'NN_depth': 4, 'optimizer': 'sgd'}\n",
      "Epoch 1/5\n"
     ]
    },
    {
     "name": "stderr",
     "output_type": "stream",
     "text": [
      "2022-11-10 09:07:48.898795: I tensorflow/core/grappler/optimizers/custom_graph_optimizer_registry.cc:113] Plugin optimizer for device_type GPU is enabled.\n",
      "2022-11-10 09:08:07.712410: I tensorflow/core/grappler/optimizers/custom_graph_optimizer_registry.cc:113] Plugin optimizer for device_type GPU is enabled.\n"
     ]
    },
    {
     "name": "stdout",
     "output_type": "stream",
     "text": [
      "2859/2859 - 25s - loss: 0.1965 - Accuracy_epochs: 0.9444 - val_loss: 0.1009 - val_Accuracy_epochs: 0.9681 - 25s/epoch - 9ms/step\n",
      "Epoch 2/5\n",
      "2859/2859 - 23s - loss: 0.0842 - Accuracy_epochs: 0.9741 - val_loss: 0.0760 - val_Accuracy_epochs: 0.9754 - 23s/epoch - 8ms/step\n",
      "Epoch 3/5\n",
      "2859/2859 - 23s - loss: 0.0681 - Accuracy_epochs: 0.9790 - val_loss: 0.0657 - val_Accuracy_epochs: 0.9805 - 23s/epoch - 8ms/step\n",
      "Epoch 4/5\n",
      "2859/2859 - 23s - loss: 0.0597 - Accuracy_epochs: 0.9816 - val_loss: 0.0606 - val_Accuracy_epochs: 0.9795 - 23s/epoch - 8ms/step\n",
      "Epoch 5/5\n",
      "2859/2859 - 23s - loss: 0.0543 - Accuracy_epochs: 0.9828 - val_loss: 0.0584 - val_Accuracy_epochs: 0.9824 - 23s/epoch - 8ms/step\n",
      "Epoch 1/5\n"
     ]
    },
    {
     "name": "stderr",
     "output_type": "stream",
     "text": [
      "2022-11-10 09:09:46.009620: I tensorflow/core/grappler/optimizers/custom_graph_optimizer_registry.cc:113] Plugin optimizer for device_type GPU is enabled.\n",
      "2022-11-10 09:10:03.423913: I tensorflow/core/grappler/optimizers/custom_graph_optimizer_registry.cc:113] Plugin optimizer for device_type GPU is enabled.\n"
     ]
    },
    {
     "name": "stdout",
     "output_type": "stream",
     "text": [
      "2859/2859 - 24s - loss: 0.1970 - Accuracy_epochs: 0.9448 - val_loss: 0.1166 - val_Accuracy_epochs: 0.9652 - 24s/epoch - 8ms/step\n",
      "Epoch 2/5\n",
      "2859/2859 - 23s - loss: 0.0848 - Accuracy_epochs: 0.9739 - val_loss: 0.0806 - val_Accuracy_epochs: 0.9746 - 23s/epoch - 8ms/step\n",
      "Epoch 3/5\n",
      "2859/2859 - 23s - loss: 0.0678 - Accuracy_epochs: 0.9788 - val_loss: 0.0706 - val_Accuracy_epochs: 0.9796 - 23s/epoch - 8ms/step\n",
      "Epoch 4/5\n",
      "2859/2859 - 23s - loss: 0.0609 - Accuracy_epochs: 0.9814 - val_loss: 0.0591 - val_Accuracy_epochs: 0.9826 - 23s/epoch - 8ms/step\n",
      "Epoch 5/5\n",
      "2859/2859 - 23s - loss: 0.0548 - Accuracy_epochs: 0.9831 - val_loss: 0.0536 - val_Accuracy_epochs: 0.9843 - 23s/epoch - 8ms/step\n",
      "Epoch 1/5\n"
     ]
    },
    {
     "name": "stderr",
     "output_type": "stream",
     "text": [
      "2022-11-10 09:11:42.437203: I tensorflow/core/grappler/optimizers/custom_graph_optimizer_registry.cc:113] Plugin optimizer for device_type GPU is enabled.\n",
      "2022-11-10 09:12:00.291979: I tensorflow/core/grappler/optimizers/custom_graph_optimizer_registry.cc:113] Plugin optimizer for device_type GPU is enabled.\n"
     ]
    },
    {
     "name": "stdout",
     "output_type": "stream",
     "text": [
      "2859/2859 - 25s - loss: 0.1961 - Accuracy_epochs: 0.9442 - val_loss: 0.1008 - val_Accuracy_epochs: 0.9712 - 25s/epoch - 9ms/step\n",
      "Epoch 2/5\n",
      "2859/2859 - 23s - loss: 0.0844 - Accuracy_epochs: 0.9740 - val_loss: 0.0727 - val_Accuracy_epochs: 0.9794 - 23s/epoch - 8ms/step\n",
      "Epoch 3/5\n",
      "2859/2859 - 23s - loss: 0.0685 - Accuracy_epochs: 0.9793 - val_loss: 0.0631 - val_Accuracy_epochs: 0.9820 - 23s/epoch - 8ms/step\n",
      "Epoch 4/5\n",
      "2859/2859 - 23s - loss: 0.0604 - Accuracy_epochs: 0.9808 - val_loss: 0.0579 - val_Accuracy_epochs: 0.9824 - 23s/epoch - 8ms/step\n",
      "Epoch 5/5\n",
      "2859/2859 - 23s - loss: 0.0563 - Accuracy_epochs: 0.9822 - val_loss: 0.0614 - val_Accuracy_epochs: 0.9820 - 23s/epoch - 8ms/step\n",
      "--- Starting trial: run-OPTIMIZERadam-WIDTH30-DEPTH6\n",
      "{'NN_width': 30, 'NN_depth': 6, 'optimizer': 'adam'}\n",
      "Epoch 1/5\n"
     ]
    },
    {
     "name": "stderr",
     "output_type": "stream",
     "text": [
      "2022-11-10 09:13:39.911011: I tensorflow/core/grappler/optimizers/custom_graph_optimizer_registry.cc:113] Plugin optimizer for device_type GPU is enabled.\n",
      "2022-11-10 09:14:04.167376: I tensorflow/core/grappler/optimizers/custom_graph_optimizer_registry.cc:113] Plugin optimizer for device_type GPU is enabled.\n"
     ]
    },
    {
     "name": "stdout",
     "output_type": "stream",
     "text": [
      "2859/2859 - 31s - loss: 0.1212 - Accuracy_epochs: 0.9633 - val_loss: 0.0638 - val_Accuracy_epochs: 0.9797 - 31s/epoch - 11ms/step\n",
      "Epoch 2/5\n",
      "2859/2859 - 30s - loss: 0.0575 - Accuracy_epochs: 0.9814 - val_loss: 0.0558 - val_Accuracy_epochs: 0.9817 - 30s/epoch - 10ms/step\n",
      "Epoch 3/5\n",
      "2859/2859 - 31s - loss: 0.0472 - Accuracy_epochs: 0.9845 - val_loss: 0.0446 - val_Accuracy_epochs: 0.9855 - 31s/epoch - 11ms/step\n",
      "Epoch 4/5\n",
      "2859/2859 - 30s - loss: 0.0418 - Accuracy_epochs: 0.9861 - val_loss: 0.0427 - val_Accuracy_epochs: 0.9873 - 30s/epoch - 10ms/step\n",
      "Epoch 5/5\n",
      "2859/2859 - 33s - loss: 0.0391 - Accuracy_epochs: 0.9871 - val_loss: 0.0424 - val_Accuracy_epochs: 0.9860 - 33s/epoch - 12ms/step\n",
      "Epoch 1/5\n"
     ]
    },
    {
     "name": "stderr",
     "output_type": "stream",
     "text": [
      "2022-11-10 09:16:14.657096: I tensorflow/core/grappler/optimizers/custom_graph_optimizer_registry.cc:113] Plugin optimizer for device_type GPU is enabled.\n",
      "2022-11-10 09:16:40.884450: I tensorflow/core/grappler/optimizers/custom_graph_optimizer_registry.cc:113] Plugin optimizer for device_type GPU is enabled.\n"
     ]
    },
    {
     "name": "stdout",
     "output_type": "stream",
     "text": [
      "2859/2859 - 34s - loss: 0.1176 - Accuracy_epochs: 0.9644 - val_loss: 0.0616 - val_Accuracy_epochs: 0.9803 - 34s/epoch - 12ms/step\n",
      "Epoch 2/5\n",
      "2859/2859 - 31s - loss: 0.0547 - Accuracy_epochs: 0.9826 - val_loss: 0.0547 - val_Accuracy_epochs: 0.9826 - 31s/epoch - 11ms/step\n",
      "Epoch 3/5\n",
      "2859/2859 - 30s - loss: 0.0485 - Accuracy_epochs: 0.9845 - val_loss: 0.0460 - val_Accuracy_epochs: 0.9845 - 30s/epoch - 10ms/step\n",
      "Epoch 4/5\n",
      "2859/2859 - 30s - loss: 0.0410 - Accuracy_epochs: 0.9863 - val_loss: 0.0449 - val_Accuracy_epochs: 0.9860 - 30s/epoch - 11ms/step\n",
      "Epoch 5/5\n",
      "2859/2859 - 30s - loss: 0.0382 - Accuracy_epochs: 0.9871 - val_loss: 0.0397 - val_Accuracy_epochs: 0.9870 - 30s/epoch - 11ms/step\n",
      "Epoch 1/5\n"
     ]
    },
    {
     "name": "stderr",
     "output_type": "stream",
     "text": [
      "2022-11-10 09:18:50.339517: I tensorflow/core/grappler/optimizers/custom_graph_optimizer_registry.cc:113] Plugin optimizer for device_type GPU is enabled.\n",
      "2022-11-10 09:19:16.903864: I tensorflow/core/grappler/optimizers/custom_graph_optimizer_registry.cc:113] Plugin optimizer for device_type GPU is enabled.\n"
     ]
    },
    {
     "name": "stdout",
     "output_type": "stream",
     "text": [
      "2859/2859 - 34s - loss: 0.1202 - Accuracy_epochs: 0.9633 - val_loss: 0.0601 - val_Accuracy_epochs: 0.9809 - 34s/epoch - 12ms/step\n",
      "Epoch 2/5\n",
      "2859/2859 - 34s - loss: 0.0559 - Accuracy_epochs: 0.9818 - val_loss: 0.0518 - val_Accuracy_epochs: 0.9840 - 34s/epoch - 12ms/step\n",
      "Epoch 3/5\n",
      "2859/2859 - 31s - loss: 0.0481 - Accuracy_epochs: 0.9841 - val_loss: 0.0462 - val_Accuracy_epochs: 0.9855 - 31s/epoch - 11ms/step\n",
      "Epoch 4/5\n",
      "2859/2859 - 30s - loss: 0.0439 - Accuracy_epochs: 0.9856 - val_loss: 0.0403 - val_Accuracy_epochs: 0.9875 - 30s/epoch - 10ms/step\n",
      "Epoch 5/5\n",
      "2859/2859 - 31s - loss: 0.0389 - Accuracy_epochs: 0.9870 - val_loss: 0.0417 - val_Accuracy_epochs: 0.9875 - 31s/epoch - 11ms/step\n",
      "--- Starting trial: run-OPTIMIZERsgd-WIDTH30-DEPTH6\n",
      "{'NN_width': 30, 'NN_depth': 6, 'optimizer': 'sgd'}\n",
      "Epoch 1/5\n"
     ]
    },
    {
     "name": "stderr",
     "output_type": "stream",
     "text": [
      "2022-11-10 09:21:29.519529: I tensorflow/core/grappler/optimizers/custom_graph_optimizer_registry.cc:113] Plugin optimizer for device_type GPU is enabled.\n",
      "2022-11-10 09:21:49.787796: I tensorflow/core/grappler/optimizers/custom_graph_optimizer_registry.cc:113] Plugin optimizer for device_type GPU is enabled.\n"
     ]
    },
    {
     "name": "stdout",
     "output_type": "stream",
     "text": [
      "2859/2859 - 27s - loss: 0.2281 - Accuracy_epochs: 0.9316 - val_loss: 0.1024 - val_Accuracy_epochs: 0.9673 - 27s/epoch - 10ms/step\n",
      "Epoch 2/5\n",
      "2859/2859 - 27s - loss: 0.0828 - Accuracy_epochs: 0.9746 - val_loss: 0.0740 - val_Accuracy_epochs: 0.9762 - 27s/epoch - 9ms/step\n",
      "Epoch 3/5\n",
      "2859/2859 - 27s - loss: 0.0656 - Accuracy_epochs: 0.9793 - val_loss: 0.0669 - val_Accuracy_epochs: 0.9792 - 27s/epoch - 9ms/step\n",
      "Epoch 4/5\n",
      "2859/2859 - 26s - loss: 0.0572 - Accuracy_epochs: 0.9816 - val_loss: 0.0722 - val_Accuracy_epochs: 0.9761 - 26s/epoch - 9ms/step\n",
      "Epoch 5/5\n",
      "2859/2859 - 27s - loss: 0.0518 - Accuracy_epochs: 0.9830 - val_loss: 0.0559 - val_Accuracy_epochs: 0.9833 - 27s/epoch - 9ms/step\n",
      "Epoch 1/5\n"
     ]
    },
    {
     "name": "stderr",
     "output_type": "stream",
     "text": [
      "2022-11-10 09:23:43.502353: I tensorflow/core/grappler/optimizers/custom_graph_optimizer_registry.cc:113] Plugin optimizer for device_type GPU is enabled.\n",
      "2022-11-10 09:24:03.875568: I tensorflow/core/grappler/optimizers/custom_graph_optimizer_registry.cc:113] Plugin optimizer for device_type GPU is enabled.\n"
     ]
    },
    {
     "name": "stdout",
     "output_type": "stream",
     "text": [
      "2859/2859 - 28s - loss: 0.2226 - Accuracy_epochs: 0.9320 - val_loss: 0.1033 - val_Accuracy_epochs: 0.9669 - 28s/epoch - 10ms/step\n",
      "Epoch 2/5\n",
      "2859/2859 - 27s - loss: 0.0846 - Accuracy_epochs: 0.9742 - val_loss: 0.0810 - val_Accuracy_epochs: 0.9773 - 27s/epoch - 10ms/step\n",
      "Epoch 3/5\n",
      "2859/2859 - 32s - loss: 0.0662 - Accuracy_epochs: 0.9801 - val_loss: 0.0647 - val_Accuracy_epochs: 0.9795 - 32s/epoch - 11ms/step\n",
      "Epoch 4/5\n",
      "2859/2859 - 27s - loss: 0.0579 - Accuracy_epochs: 0.9824 - val_loss: 0.0553 - val_Accuracy_epochs: 0.9821 - 27s/epoch - 10ms/step\n",
      "Epoch 5/5\n",
      "2859/2859 - 30s - loss: 0.0528 - Accuracy_epochs: 0.9836 - val_loss: 0.0582 - val_Accuracy_epochs: 0.9828 - 30s/epoch - 10ms/step\n",
      "Epoch 1/5\n"
     ]
    },
    {
     "name": "stderr",
     "output_type": "stream",
     "text": [
      "2022-11-10 09:26:08.832722: I tensorflow/core/grappler/optimizers/custom_graph_optimizer_registry.cc:113] Plugin optimizer for device_type GPU is enabled.\n",
      "2022-11-10 09:26:31.784704: I tensorflow/core/grappler/optimizers/custom_graph_optimizer_registry.cc:113] Plugin optimizer for device_type GPU is enabled.\n"
     ]
    },
    {
     "name": "stdout",
     "output_type": "stream",
     "text": [
      "2859/2859 - 31s - loss: 0.2270 - Accuracy_epochs: 0.9310 - val_loss: 0.1185 - val_Accuracy_epochs: 0.9645 - 31s/epoch - 11ms/step\n",
      "Epoch 2/5\n",
      "2859/2859 - 28s - loss: 0.0865 - Accuracy_epochs: 0.9730 - val_loss: 0.0827 - val_Accuracy_epochs: 0.9785 - 28s/epoch - 10ms/step\n",
      "Epoch 3/5\n",
      "2859/2859 - 26s - loss: 0.0668 - Accuracy_epochs: 0.9790 - val_loss: 0.0742 - val_Accuracy_epochs: 0.9758 - 26s/epoch - 9ms/step\n",
      "Epoch 4/5\n",
      "2859/2859 - 27s - loss: 0.0601 - Accuracy_epochs: 0.9811 - val_loss: 0.0571 - val_Accuracy_epochs: 0.9843 - 27s/epoch - 9ms/step\n",
      "Epoch 5/5\n",
      "2859/2859 - 27s - loss: 0.0533 - Accuracy_epochs: 0.9834 - val_loss: 0.0637 - val_Accuracy_epochs: 0.9783 - 27s/epoch - 9ms/step\n"
     ]
    }
   ],
   "source": [
    "# Nested loops for hyperparameter tuning, iterating over all the hyperparameters and combinations\n",
    "for hp_width in HP_WIDTH.domain.values:\n",
    "  for hp_depth in (HP_DEPTH.domain.values):\n",
    "    for hp_optimizer in HP_OPTIMIZER.domain.values:\n",
    "        hparams = {\n",
    "            HP_WIDTH: hp_width,\n",
    "            HP_DEPTH: hp_depth,\n",
    "            HP_OPTIMIZER: hp_optimizer,\n",
    "        }\n",
    "        run_name = f\"run-OPTIMIZER{hparams[HP_OPTIMIZER]}-WIDTH{int(hparams[HP_WIDTH])}-DEPTH{hparams[HP_DEPTH]}\"\n",
    "        print('--- Starting trial: %s' % run_name)\n",
    "        print({h.name: hparams[h] for h in hparams})\n",
    "\n",
    "        run_dir = 'logsHW7/Q2/' + run_name\n",
    "        \n",
    "        # The model is trained with each of the k folds in the dataset and accuracy is averaged over the k runs.\n",
    "        accuracy = 0\n",
    "        for i in range(k):\n",
    "            accuracy += train_test_model(hparams, run_dir, x_train_shuffled, y_train_shuffled, i, k)\n",
    "        accuracy = accuracy / k\n",
    "\n",
    "        with tf.summary.create_file_writer(run_dir).as_default():\n",
    "          hp.hparams(hparams)  # record the values used in this trial\n",
    "          tf.summary.scalar(\"Accuracy\", accuracy, step=1)\n",
    "\n",
    "    "
   ]
  },
  {
   "cell_type": "markdown",
   "id": "4f6e9160",
   "metadata": {},
   "source": [
    "After the hyperparameter tuning using Tensorboard, the best performing hyperparameter configuration is width = 30, depth = 4 and optimizer = adam with an accuracy of 98.749%. Overall, adam performed better than sgd, and a width of 30 was better than width of 20. Tensorboard made it quite easy to see the result of every trial and make a decision on the best hyperparameters.\n",
    "\n",
    "It would've been interesting to test larger range of parameters, especially for width and depth, and maybe adding a new hyperparameter to tune, but the current hyperparameter tuning cell already was taking about an hour to run on my computer, so I'll have to test that another time."
   ]
  }
 ],
 "metadata": {
  "kernelspec": {
   "display_name": "Python 3 (ipykernel)",
   "language": "python",
   "name": "python3"
  },
  "language_info": {
   "codemirror_mode": {
    "name": "ipython",
    "version": 3
   },
   "file_extension": ".py",
   "mimetype": "text/x-python",
   "name": "python",
   "nbconvert_exporter": "python",
   "pygments_lexer": "ipython3",
   "version": "3.10.6"
  }
 },
 "nbformat": 4,
 "nbformat_minor": 5
}
